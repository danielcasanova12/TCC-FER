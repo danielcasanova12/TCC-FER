{
 "cells": [
  {
   "cell_type": "code",
   "execution_count": 7,
   "metadata": {},
   "outputs": [],
   "source": [
    "import numpy as np\n",
    "import torch\n",
    "import torchvision\n",
    "from torchvision import datasets, models, transforms\n",
    "from torch.utils.data import DataLoader\n",
    "import torch.optim as optim\n",
    "import time\n",
    "import torch\n",
    "import torch.nn as nn\n",
    "from torch.optim.lr_scheduler import ReduceLROnPlateau\n",
    "from matplotlib import pyplot as plt\n",
    "import os\n",
    "from sklearn.metrics import accuracy_score, precision_score, recall_score, f1_score, confusion_matrix, classification_report\n",
    "import seaborn as sns\n",
    "\n",
    "# Definir transformações e DataLoader\n",
    "class DataLoaderSetup:\n",
    "    def __init__(self, dataset_path, image_size=224, batch_size=32):\n",
    "        self.dataset_path = dataset_path\n",
    "        self.image_size = image_size\n",
    "        self.batch_size = batch_size\n",
    "\n",
    "    def get_transforms(self):\n",
    "        transformacoes_de_imagens = {\n",
    "            'treino': transforms.Compose([\n",
    "                transforms.RandomHorizontalFlip(),\n",
    "                transforms.RandomResizedCrop(self.image_size, scale=(0.8, 1.0)),\n",
    "                transforms.ColorJitter(brightness=0.2, contrast=0.2, saturation=0.2, hue=0.1),\n",
    "                transforms.RandomAffine(degrees=20, translate=(0.1, 0.1), scale=(0.8, 1.2)),\n",
    "                transforms.ToTensor(),\n",
    "                transforms.Normalize([0.485, 0.456, 0.406], [0.229, 0.224, 0.225])\n",
    "            ]),\n",
    "            'validacao': transforms.Compose([\n",
    "                transforms.Resize(self.image_size),\n",
    "                transforms.CenterCrop(self.image_size),\n",
    "                transforms.ToTensor(),\n",
    "                transforms.Normalize([0.485, 0.456, 0.406], [0.229, 0.224, 0.225])\n",
    "            ])\n",
    "        }\n",
    "        return transformacoes_de_imagens\n",
    "\n",
    "    def load_data(self):\n",
    "        transformacoes = self.get_transforms()\n",
    "        pasta_treino = os.path.join(self.dataset_path, 'treino')\n",
    "        pasta_validacao = os.path.join(self.dataset_path, 'validacao')\n",
    "\n",
    "        data = {\n",
    "            'treino': datasets.ImageFolder(root=pasta_treino, transform=transformacoes['treino']),\n",
    "            'validacao': datasets.ImageFolder(root=pasta_validacao, transform=transformacoes['validacao'])\n",
    "        }\n",
    "        return data\n",
    "\n",
    "    def get_data_loaders(self):\n",
    "        data = self.load_data()\n",
    "        data_loader_treino = DataLoader(data['treino'], batch_size=self.batch_size, shuffle=True)\n",
    "        data_loader_validacao = DataLoader(data['validacao'], batch_size=self.batch_size, shuffle=True)\n",
    "        return data_loader_treino, data_loader_validacao, len(data['treino']), len(data['validacao']), len(data['treino'].classes)\n",
    "\n",
    "# Classe para o modelo\n",
    "class CustomResNet50:\n",
    "    def __init__(self, num_classes):\n",
    "        self.model = models.resnet50(pretrained=True)\n",
    "        for param in self.model.parameters():\n",
    "            param.requires_grad = False  # Congelar as camadas\n",
    "        for param in self.model.layer4.parameters():  # Descongelar o bloco \"layer4\"\n",
    "            param.requires_grad = True\n",
    "\n",
    "        num_features = self.model.fc.in_features\n",
    "        self.model.fc = nn.Sequential(\n",
    "            nn.Linear(num_features, 512),\n",
    "            nn.ReLU(),\n",
    "            nn.Dropout(0.5),\n",
    "            nn.Linear(512, num_classes)\n",
    "        )\n",
    "\n",
    "    def get_model(self):\n",
    "        return self.model\n",
    "    \n",
    "    \n",
    "class CustomResNet152:\n",
    "    def __init__(self, num_classes):\n",
    "        self.model = models.resnet152(pretrained=True)  # Usando ResNet-152\n",
    "        \n",
    "        # Congelar todas as camadas\n",
    "        for param in self.model.parameters():\n",
    "            param.requires_grad = False  \n",
    "\n",
    "        # Descongelar as camadas do bloco \"layer4\"\n",
    "        for param in self.model.layer4.parameters():\n",
    "            param.requires_grad = True\n",
    "\n",
    "        # Substituir a camada totalmente conectada (fc)\n",
    "        num_features = self.model.fc.in_features\n",
    "        self.model.fc = nn.Sequential(\n",
    "            nn.Linear(num_features, 512),\n",
    "            nn.ReLU(),\n",
    "            nn.Dropout(0.5),\n",
    "            nn.Linear(512, num_classes)\n",
    "        )\n",
    "\n",
    "    def get_model(self):\n",
    "        return self.model\n",
    "\n",
    "\n",
    "class Trainer:\n",
    "    def __init__(self, model, data_loader_treino, data_loader_validacao, num_imagens_treino, num_imagens_validacao, device, num_classes, patience=5, nameModel='model.pt'):\n",
    "        self.model = model\n",
    "        self.data_loader_treino = data_loader_treino\n",
    "        self.data_loader_validacao = data_loader_validacao\n",
    "        self.num_imagens_treino = num_imagens_treino\n",
    "        self.num_imagens_validacao = num_imagens_validacao\n",
    "        self.device = device\n",
    "        self.funcao_erro = nn.CrossEntropyLoss()\n",
    "        self.otimizador = optim.Adam(self.model.parameters(), lr=0.0001, weight_decay=1e-4)\n",
    "        self.scheduler = ReduceLROnPlateau(self.otimizador, mode='min', factor=0.1, patience=3, verbose=True)\n",
    "        self.patience = patience\n",
    "        self.nameModel = nameModel\n",
    "\n",
    "    def treinar_e_validar(self, epocas):\n",
    "        historico = []\n",
    "        melhor_acuracia = 0.0\n",
    "        early_stop_counter = 0\n",
    "\n",
    "        for epoca in range(epocas):\n",
    "            inicio_epoca = time.time()\n",
    "            print(f\"\\n\\nÉpoca: {epoca + 1}/{epocas}\")\n",
    "            erro_treino, acuracia_treino = self.executar_fase('treino')\n",
    "            erro_validacao, acuracia_validacao, predicoes_validacao, labels_validacao = self.executar_fase('validacao', return_predictions=True)\n",
    "\n",
    "            fim_epoca = time.time()\n",
    "            print(f\"Época {epoca + 1}/{epocas}, Treino: Erro: {erro_treino:.4f}, Acurácia: {acuracia_treino * 100:.2f}%, \"\n",
    "                  f\"Validação: Erro: {erro_validacao:.4f}, Acurácia: {acuracia_validacao * 100:.2f}%, Tempo: {fim_epoca - inicio_epoca:.2f}s\")\n",
    "\n",
    "            historico.append([erro_treino, erro_validacao, acuracia_treino, acuracia_validacao])\n",
    "            self.scheduler.step(erro_validacao)\n",
    "\n",
    "            # Early stopping\n",
    "            if acuracia_validacao > melhor_acuracia:\n",
    "                melhor_acuracia = acuracia_validacao\n",
    "                torch.save(self.model.state_dict(), self.nameModel)\n",
    "                early_stop_counter = 0\n",
    "            else:\n",
    "                early_stop_counter += 1\n",
    "\n",
    "            if early_stop_counter >= self.patience:\n",
    "                print(\"Parando o treinamento devido ao early stopping.\")\n",
    "                break\n",
    "\n",
    "        # Calcular métricas finais\n",
    "        self.calcular_metricas(predicoes_validacao, labels_validacao)\n",
    "        return historico\n",
    "\n",
    "    def executar_fase(self, fase, return_predictions=False):\n",
    "        if fase == 'treino':\n",
    "            self.model.train()\n",
    "            data_loader = self.data_loader_treino\n",
    "            num_imagens = self.num_imagens_treino\n",
    "        else:\n",
    "            self.model.eval()\n",
    "            data_loader = self.data_loader_validacao\n",
    "            num_imagens = self.num_imagens_validacao\n",
    "\n",
    "        erro_total = 0.0\n",
    "        acuracia_total = 0.0\n",
    "        todas_predicoes = []\n",
    "        todas_labels = []\n",
    "\n",
    "        with torch.set_grad_enabled(fase == 'treino'):\n",
    "            for entradas, labels in data_loader:\n",
    "                entradas, labels = entradas.to(self.device), labels.to(self.device)\n",
    "\n",
    "                if fase == 'treino':\n",
    "                    self.otimizador.zero_grad()\n",
    "\n",
    "                saidas = self.model(entradas)\n",
    "                erro = self.funcao_erro(saidas, labels)\n",
    "\n",
    "                if fase == 'treino':\n",
    "                    erro.backward()\n",
    "                    self.otimizador.step()\n",
    "\n",
    "                erro_total += erro.item() * entradas.size(0)\n",
    "                _, predicoes = torch.max(saidas, 1)\n",
    "                acuracia_total += (predicoes == labels).sum().item()\n",
    "\n",
    "                if return_predictions:\n",
    "                    todas_predicoes.extend(predicoes.cpu().numpy())\n",
    "                    todas_labels.extend(labels.cpu().numpy())\n",
    "\n",
    "        erro_medio = erro_total / num_imagens\n",
    "        acuracia_media = acuracia_total / num_imagens\n",
    "\n",
    "        if return_predictions:\n",
    "            return erro_medio, acuracia_media, todas_predicoes, todas_labels\n",
    "        else:\n",
    "            return erro_medio, acuracia_media\n",
    "\n",
    "    def calcular_metricas(self, predicoes, labels):\n",
    "        acuracia = accuracy_score(labels, predicoes)\n",
    "        precisao = precision_score(labels, predicoes, average='weighted')\n",
    "        recall = recall_score(labels, predicoes, average='weighted')\n",
    "        f1 = f1_score(labels, predicoes, average='weighted')\n",
    "\n",
    "        print(\"\\nMétricas de Validação:\")\n",
    "        print(f\"Acurácia: {acuracia:.4f}\")\n",
    "        print(f\"Precisão: {precisao:.4f}\")\n",
    "        print(f\"Recall: {recall:.4f}\")\n",
    "        print(f\"F1-Score: {f1:.4f}\")\n",
    "\n",
    "        print(\"\\nRelatório de Classificação:\")\n",
    "        print(classification_report(labels, predicoes))\n",
    "\n",
    "        self.plotar_matriz_confusao(labels, predicoes)\n",
    "\n",
    "    def plotar_matriz_confusao(self, labels, predicoes):\n",
    "        matriz_confusao = confusion_matrix(labels, predicoes)\n",
    "        plt.figure(figsize=(10, 8))\n",
    "        sns.heatmap(matriz_confusao, annot=True, fmt=\"d\", cmap=\"Blues\", xticklabels=self.data_loader_treino.dataset.classes, yticklabels=self.data_loader_treino.dataset.classes)\n",
    "        plt.ylabel('Classe Verdadeira')\n",
    "        plt.xlabel('Classe Prevista')\n",
    "        plt.title('Matriz de Confusão')\n",
    "        plt.show()\n"
   ]
  },
  {
   "cell_type": "markdown",
   "metadata": {},
   "source": [
    "# Dados puros"
   ]
  },
  {
   "cell_type": "code",
   "execution_count": 8,
   "metadata": {},
   "outputs": [
    {
     "name": "stdout",
     "output_type": "stream",
     "text": [
      "Dispositivo utilizado: cuda:0\n",
      "\n",
      "\n",
      "Época: 1/30\n",
      "Época 1/30, Treino: Erro: 1.3912, Acurácia: 46.74%, Validação: Erro: 1.1958, Acurácia: 53.94%, Tempo: 431.13s\n",
      "\n",
      "\n",
      "Época: 2/30\n",
      "Época 2/30, Treino: Erro: 1.2026, Acurácia: 55.05%, Validação: Erro: 1.1339, Acurácia: 57.79%, Tempo: 425.71s\n",
      "\n",
      "\n",
      "Época: 3/30\n",
      "Época 3/30, Treino: Erro: 1.1408, Acurácia: 57.31%, Validação: Erro: 1.0538, Acurácia: 60.16%, Tempo: 425.92s\n",
      "\n",
      "\n",
      "Época: 4/30\n",
      "Época 4/30, Treino: Erro: 1.0922, Acurácia: 59.20%, Validação: Erro: 1.0417, Acurácia: 60.74%, Tempo: 426.36s\n",
      "\n",
      "\n",
      "Época: 5/30\n",
      "Época 5/30, Treino: Erro: 1.0583, Acurácia: 60.75%, Validação: Erro: 1.0244, Acurácia: 61.60%, Tempo: 426.03s\n",
      "\n",
      "\n",
      "Época: 6/30\n",
      "Época 6/30, Treino: Erro: 1.0329, Acurácia: 61.62%, Validação: Erro: 1.0182, Acurácia: 61.86%, Tempo: 426.11s\n",
      "\n",
      "\n",
      "Época: 7/30\n",
      "Época 7/30, Treino: Erro: 1.0086, Acurácia: 62.50%, Validação: Erro: 0.9937, Acurácia: 64.00%, Tempo: 425.88s\n",
      "\n",
      "\n",
      "Época: 8/30\n",
      "Época 8/30, Treino: Erro: 0.9855, Acurácia: 63.75%, Validação: Erro: 1.0018, Acurácia: 63.33%, Tempo: 427.59s\n",
      "\n",
      "\n",
      "Época: 9/30\n",
      "Época 9/30, Treino: Erro: 0.9690, Acurácia: 63.97%, Validação: Erro: 1.0003, Acurácia: 64.47%, Tempo: 427.84s\n",
      "\n",
      "\n",
      "Época: 10/30\n",
      "Época 10/30, Treino: Erro: 0.9511, Acurácia: 64.66%, Validação: Erro: 1.0558, Acurácia: 62.19%, Tempo: 426.16s\n",
      "\n",
      "\n",
      "Época: 11/30\n",
      "Época 11/30, Treino: Erro: 0.9387, Acurácia: 65.05%, Validação: Erro: 1.0042, Acurácia: 64.14%, Tempo: 425.70s\n",
      "\n",
      "\n",
      "Época: 12/30\n",
      "Época 12/30, Treino: Erro: 0.8689, Acurácia: 68.26%, Validação: Erro: 0.9671, Acurácia: 65.67%, Tempo: 425.93s\n",
      "\n",
      "\n",
      "Época: 13/30\n",
      "Época 13/30, Treino: Erro: 0.8434, Acurácia: 68.49%, Validação: Erro: 0.9519, Acurácia: 66.37%, Tempo: 426.03s\n",
      "\n",
      "\n",
      "Época: 14/30\n",
      "Época 14/30, Treino: Erro: 0.8329, Acurácia: 69.27%, Validação: Erro: 0.9557, Acurácia: 65.95%, Tempo: 426.15s\n",
      "\n",
      "\n",
      "Época: 15/30\n",
      "Época 15/30, Treino: Erro: 0.8218, Acurácia: 69.49%, Validação: Erro: 0.9578, Acurácia: 66.17%, Tempo: 425.76s\n",
      "\n",
      "\n",
      "Época: 16/30\n",
      "Época 16/30, Treino: Erro: 0.8167, Acurácia: 69.58%, Validação: Erro: 0.9690, Acurácia: 65.95%, Tempo: 425.83s\n",
      "\n",
      "\n",
      "Época: 17/30\n",
      "Época 17/30, Treino: Erro: 0.8113, Acurácia: 70.16%, Validação: Erro: 0.9700, Acurácia: 66.43%, Tempo: 427.89s\n",
      "\n",
      "\n",
      "Época: 18/30\n",
      "Época 18/30, Treino: Erro: 0.8016, Acurácia: 70.40%, Validação: Erro: 0.9637, Acurácia: 66.84%, Tempo: 428.31s\n",
      "\n",
      "\n",
      "Época: 19/30\n",
      "Época 19/30, Treino: Erro: 0.7990, Acurácia: 70.72%, Validação: Erro: 0.9612, Acurácia: 66.84%, Tempo: 427.09s\n",
      "\n",
      "\n",
      "Época: 20/30\n",
      "Época 20/30, Treino: Erro: 0.7981, Acurácia: 70.27%, Validação: Erro: 0.9614, Acurácia: 66.95%, Tempo: 426.24s\n",
      "\n",
      "\n",
      "Época: 21/30\n",
      "Época 21/30, Treino: Erro: 0.7943, Acurácia: 70.45%, Validação: Erro: 0.9564, Acurácia: 66.45%, Tempo: 426.32s\n",
      "\n",
      "\n",
      "Época: 22/30\n",
      "Época 22/30, Treino: Erro: 0.7953, Acurácia: 70.46%, Validação: Erro: 0.9686, Acurácia: 66.31%, Tempo: 426.23s\n",
      "\n",
      "\n",
      "Época: 23/30\n",
      "Época 23/30, Treino: Erro: 0.7912, Acurácia: 70.90%, Validação: Erro: 0.9612, Acurácia: 66.87%, Tempo: 426.04s\n",
      "\n",
      "\n",
      "Época: 24/30\n",
      "Época 24/30, Treino: Erro: 0.7929, Acurácia: 70.60%, Validação: Erro: 0.9661, Acurácia: 67.18%, Tempo: 425.25s\n",
      "\n",
      "\n",
      "Época: 25/30\n",
      "Época 25/30, Treino: Erro: 0.7962, Acurácia: 70.61%, Validação: Erro: 0.9637, Acurácia: 66.62%, Tempo: 426.10s\n",
      "\n",
      "\n",
      "Época: 26/30\n",
      "Época 26/30, Treino: Erro: 0.7886, Acurácia: 70.61%, Validação: Erro: 0.9627, Acurácia: 66.37%, Tempo: 427.51s\n",
      "\n",
      "\n",
      "Época: 27/30\n",
      "Época 27/30, Treino: Erro: 0.7954, Acurácia: 70.44%, Validação: Erro: 0.9673, Acurácia: 66.45%, Tempo: 427.96s\n",
      "\n",
      "\n",
      "Época: 28/30\n",
      "Época 28/30, Treino: Erro: 0.7889, Acurácia: 70.68%, Validação: Erro: 0.9686, Acurácia: 66.15%, Tempo: 426.38s\n",
      "\n",
      "\n",
      "Época: 29/30\n",
      "Época 29/30, Treino: Erro: 0.7913, Acurácia: 70.72%, Validação: Erro: 0.9634, Acurácia: 66.62%, Tempo: 425.55s\n",
      "Parando o treinamento devido ao early stopping.\n",
      "\n",
      "Métricas de Validação:\n",
      "Acurácia: 0.6662\n",
      "Precisão: 0.6711\n",
      "Recall: 0.6662\n",
      "F1-Score: 0.6628\n",
      "\n",
      "Relatório de Classificação:\n",
      "              precision    recall  f1-score   support\n",
      "\n",
      "           0       0.55      0.63      0.59       467\n",
      "           1       0.69      0.43      0.53        56\n",
      "           2       0.60      0.38      0.47       496\n",
      "           3       0.86      0.86      0.86       895\n",
      "           4       0.55      0.70      0.61       607\n",
      "           5       0.57      0.57      0.57       653\n",
      "           6       0.81      0.77      0.79       415\n",
      "\n",
      "    accuracy                           0.67      3589\n",
      "   macro avg       0.66      0.62      0.63      3589\n",
      "weighted avg       0.67      0.67      0.66      3589\n",
      "\n"
     ]
    },
    {
     "data": {
      "image/png": "[encoded data removed]",
      "text/plain": [
       "<Figure size 1000x800 with 2 Axes>"
      ]
     },
     "metadata": {},
     "output_type": "display_data"
    }
   ],
   "source": [
    "dataset_path = '../data/Fer-2013/'\n",
    "device = torch.device(\"cuda:0\" if torch.cuda.is_available() else \"cpu\")\n",
    "print(f\"Dispositivo utilizado: {device}\")\n",
    "\n",
    "    # Preparar DataLoaders\n",
    "data_loader_setup = DataLoaderSetup(dataset_path, image_size=224, batch_size=32)\n",
    "data_loader_treino, data_loader_validacao, num_imagens_treino, num_imagens_validacao, num_classes = data_loader_setup.get_data_loaders()\n",
    "\n",
    "    # Carregar o modelo\n",
    "modelo = CustomResNet152(num_classes).get_model().to(device)\n",
    "nameModel = 'novosModels/fer_dados1.pt'\n",
    "patience = 5\n",
    "    # Treinar e validar\n",
    "trainer = Trainer(modelo, data_loader_treino, data_loader_validacao, num_imagens_treino, num_imagens_validacao, device, num_classes, patience,nameModel)\n",
    "historico = trainer.treinar_e_validar(epocas=30)\n"
   ]
  },
  {
   "cell_type": "code",
   "execution_count": null,
   "metadata": {},
   "outputs": [
    {
     "name": "stdout",
     "output_type": "stream",
     "text": [
      "Treinando com hiperparâmetros: {'epochs': 20, 'lr': 0.0001, 'patience': 3, 'weight_decay': 0.0001}\n"
     ]
    },
    {
     "name": "stderr",
     "output_type": "stream",
     "text": [
      "c:\\Users\\Danil\\AppData\\Local\\Programs\\Python\\Python310\\lib\\site-packages\\torchvision\\models\\_utils.py:208: UserWarning: The parameter 'pretrained' is deprecated since 0.13 and may be removed in the future, please use 'weights' instead.\n",
      "  warnings.warn(\n",
      "c:\\Users\\Danil\\AppData\\Local\\Programs\\Python\\Python310\\lib\\site-packages\\torchvision\\models\\_utils.py:223: UserWarning: Arguments other than a weight enum or `None` for 'weights' are deprecated since 0.13 and may be removed in the future. The current behavior is equivalent to passing `weights=ResNet50_Weights.IMAGENET1K_V1`. You can also use `weights=ResNet50_Weights.DEFAULT` to get the most up-to-date weights.\n",
      "  warnings.warn(msg)\n",
      "c:\\Users\\Danil\\AppData\\Local\\Programs\\Python\\Python310\\lib\\site-packages\\torch\\optim\\lr_scheduler.py:60: UserWarning: The verbose parameter is deprecated. Please use get_last_lr() to access the learning rate.\n",
      "  warnings.warn(\n"
     ]
    },
    {
     "name": "stdout",
     "output_type": "stream",
     "text": [
      "\n",
      "Epoch 1/20\n"
     ]
    },
    {
     "name": "stderr",
     "output_type": "stream",
     "text": [
      "                                                                 \r"
     ]
    },
    {
     "name": "stdout",
     "output_type": "stream",
     "text": [
      "Train: Loss: 1.3638, Accuracy: 48.21%\n",
      "Validation: Loss: 1.2064, Accuracy: 54.36%\n",
      "\n",
      "Epoch 2/20\n"
     ]
    },
    {
     "name": "stderr",
     "output_type": "stream",
     "text": [
      "                                                                 \r"
     ]
    },
    {
     "name": "stdout",
     "output_type": "stream",
     "text": [
      "Train: Loss: 1.1840, Accuracy: 55.77%\n",
      "Validation: Loss: 1.0853, Accuracy: 59.52%\n",
      "\n",
      "Epoch 3/20\n"
     ]
    },
    {
     "name": "stderr",
     "output_type": "stream",
     "text": [
      "                                                                 \r"
     ]
    },
    {
     "name": "stdout",
     "output_type": "stream",
     "text": [
      "Train: Loss: 1.1239, Accuracy: 58.09%\n",
      "Validation: Loss: 1.0969, Accuracy: 59.96%\n",
      "\n",
      "Epoch 4/20\n"
     ]
    },
    {
     "name": "stderr",
     "output_type": "stream",
     "text": [
      "                                                                 \r"
     ]
    },
    {
     "name": "stdout",
     "output_type": "stream",
     "text": [
      "Train: Loss: 1.0774, Accuracy: 59.63%\n",
      "Validation: Loss: 1.0426, Accuracy: 61.13%\n",
      "\n",
      "Epoch 5/20\n"
     ]
    },
    {
     "name": "stderr",
     "output_type": "stream",
     "text": [
      "                                                                 \r"
     ]
    },
    {
     "name": "stdout",
     "output_type": "stream",
     "text": [
      "Train: Loss: 1.0433, Accuracy: 61.07%\n",
      "Validation: Loss: 1.0126, Accuracy: 61.83%\n",
      "\n",
      "Epoch 6/20\n"
     ]
    },
    {
     "name": "stderr",
     "output_type": "stream",
     "text": [
      "                                                                 \r"
     ]
    },
    {
     "name": "stdout",
     "output_type": "stream",
     "text": [
      "Train: Loss: 1.0189, Accuracy: 62.08%\n",
      "Validation: Loss: 1.0207, Accuracy: 62.05%\n",
      "\n",
      "Epoch 7/20\n"
     ]
    },
    {
     "name": "stderr",
     "output_type": "stream",
     "text": [
      "                                                                 \r"
     ]
    },
    {
     "name": "stdout",
     "output_type": "stream",
     "text": [
      "Train: Loss: 0.9984, Accuracy: 62.59%\n",
      "Validation: Loss: 0.9821, Accuracy: 62.83%\n",
      "\n",
      "Epoch 8/20\n"
     ]
    },
    {
     "name": "stderr",
     "output_type": "stream",
     "text": [
      "                                                                 \r"
     ]
    },
    {
     "name": "stdout",
     "output_type": "stream",
     "text": [
      "Train: Loss: 0.9653, Accuracy: 64.57%\n",
      "Validation: Loss: 0.9864, Accuracy: 63.44%\n",
      "\n",
      "Epoch 9/20\n"
     ]
    },
    {
     "name": "stderr",
     "output_type": "stream",
     "text": [
      "                                                                 \r"
     ]
    },
    {
     "name": "stdout",
     "output_type": "stream",
     "text": [
      "Train: Loss: 0.9631, Accuracy: 64.17%\n",
      "Validation: Loss: 0.9794, Accuracy: 63.44%\n",
      "\n",
      "Epoch 10/20\n"
     ]
    },
    {
     "name": "stderr",
     "output_type": "stream",
     "text": [
      "                                                                 \r"
     ]
    },
    {
     "name": "stdout",
     "output_type": "stream",
     "text": [
      "Train: Loss: 0.9388, Accuracy: 65.30%\n",
      "Validation: Loss: 1.0271, Accuracy: 63.36%\n",
      "\n",
      "Epoch 11/20\n"
     ]
    },
    {
     "name": "stderr",
     "output_type": "stream",
     "text": [
      "                                                                 \r"
     ]
    },
    {
     "name": "stdout",
     "output_type": "stream",
     "text": [
      "Train: Loss: 0.9251, Accuracy: 65.83%\n",
      "Validation: Loss: 1.0085, Accuracy: 63.47%\n",
      "\n",
      "Epoch 12/20\n"
     ]
    },
    {
     "name": "stderr",
     "output_type": "stream",
     "text": [
      "                                                                 \r"
     ]
    },
    {
     "name": "stdout",
     "output_type": "stream",
     "text": [
      "Train: Loss: 0.9099, Accuracy: 66.44%\n",
      "Validation: Loss: 1.0284, Accuracy: 63.67%\n",
      "\n",
      "Epoch 13/20\n"
     ]
    },
    {
     "name": "stderr",
     "output_type": "stream",
     "text": [
      "                                                                 \r"
     ]
    },
    {
     "name": "stdout",
     "output_type": "stream",
     "text": [
      "Train: Loss: 0.8967, Accuracy: 66.74%\n",
      "Validation: Loss: 0.9845, Accuracy: 63.53%\n",
      "\n",
      "Epoch 14/20\n"
     ]
    },
    {
     "name": "stderr",
     "output_type": "stream",
     "text": [
      "                                                                 \r"
     ]
    },
    {
     "name": "stdout",
     "output_type": "stream",
     "text": [
      "Train: Loss: 0.8240, Accuracy: 69.65%\n",
      "Validation: Loss: 0.9772, Accuracy: 64.84%\n",
      "\n",
      "Epoch 15/20\n"
     ]
    },
    {
     "name": "stderr",
     "output_type": "stream",
     "text": [
      "                                                                 \r"
     ]
    },
    {
     "name": "stdout",
     "output_type": "stream",
     "text": [
      "Train: Loss: 0.8068, Accuracy: 70.19%\n",
      "Validation: Loss: 0.9684, Accuracy: 64.98%\n",
      "\n",
      "Epoch 16/20\n"
     ]
    },
    {
     "name": "stderr",
     "output_type": "stream",
     "text": [
      "                                                                 \r"
     ]
    },
    {
     "name": "stdout",
     "output_type": "stream",
     "text": [
      "Train: Loss: 0.7916, Accuracy: 70.78%\n",
      "Validation: Loss: 0.9692, Accuracy: 65.56%\n",
      "\n",
      "Epoch 17/20\n"
     ]
    },
    {
     "name": "stderr",
     "output_type": "stream",
     "text": [
      "                                                                 \r"
     ]
    },
    {
     "name": "stdout",
     "output_type": "stream",
     "text": [
      "Train: Loss: 0.7782, Accuracy: 71.51%\n",
      "Validation: Loss: 0.9794, Accuracy: 65.90%\n",
      "\n",
      "Epoch 18/20\n"
     ]
    },
    {
     "name": "stderr",
     "output_type": "stream",
     "text": [
      "                                                                 \r"
     ]
    },
    {
     "name": "stdout",
     "output_type": "stream",
     "text": [
      "Train: Loss: 0.7757, Accuracy: 71.31%\n",
      "Validation: Loss: 0.9814, Accuracy: 65.87%\n",
      "\n",
      "Epoch 19/20\n"
     ]
    },
    {
     "name": "stderr",
     "output_type": "stream",
     "text": [
      "                                                                 \r"
     ]
    },
    {
     "name": "stdout",
     "output_type": "stream",
     "text": [
      "Train: Loss: 0.7652, Accuracy: 71.51%\n",
      "Validation: Loss: 0.9876, Accuracy: 65.42%\n",
      "\n",
      "Epoch 20/20\n"
     ]
    },
    {
     "name": "stderr",
     "output_type": "stream",
     "text": [
      "                                                                 \r"
     ]
    },
    {
     "name": "stdout",
     "output_type": "stream",
     "text": [
      "Train: Loss: 0.7524, Accuracy: 72.27%\n",
      "Validation: Loss: 0.9893, Accuracy: 65.59%\n",
      "Early stopping triggered.\n",
      "Novo melhor modelo encontrado com precisão: 0.6590\n",
      "Treinando com hiperparâmetros: {'epochs': 20, 'lr': 0.0001, 'patience': 3, 'weight_decay': 1e-05}\n",
      "\n",
      "Epoch 1/20\n"
     ]
    },
    {
     "name": "stderr",
     "output_type": "stream",
     "text": [
      "                                                                 \r"
     ]
    },
    {
     "name": "stdout",
     "output_type": "stream",
     "text": [
      "Train: Loss: 1.3611, Accuracy: 48.10%\n",
      "Validation: Loss: 1.1565, Accuracy: 56.45%\n",
      "\n",
      "Epoch 2/20\n"
     ]
    },
    {
     "name": "stderr",
     "output_type": "stream",
     "text": [
      "                                                                 \r"
     ]
    },
    {
     "name": "stdout",
     "output_type": "stream",
     "text": [
      "Train: Loss: 1.1796, Accuracy: 55.99%\n",
      "Validation: Loss: 1.0823, Accuracy: 57.76%\n",
      "\n",
      "Epoch 3/20\n"
     ]
    },
    {
     "name": "stderr",
     "output_type": "stream",
     "text": [
      "                                                                 \r"
     ]
    },
    {
     "name": "stdout",
     "output_type": "stream",
     "text": [
      "Train: Loss: 1.1162, Accuracy: 58.22%\n",
      "Validation: Loss: 1.0461, Accuracy: 60.85%\n",
      "\n",
      "Epoch 4/20\n"
     ]
    },
    {
     "name": "stderr",
     "output_type": "stream",
     "text": [
      "                                                                 \r"
     ]
    },
    {
     "name": "stdout",
     "output_type": "stream",
     "text": [
      "Train: Loss: 1.0768, Accuracy: 60.21%\n",
      "Validation: Loss: 1.0437, Accuracy: 61.72%\n",
      "\n",
      "Epoch 5/20\n"
     ]
    },
    {
     "name": "stderr",
     "output_type": "stream",
     "text": [
      "                                                                 \r"
     ]
    },
    {
     "name": "stdout",
     "output_type": "stream",
     "text": [
      "Train: Loss: 1.0416, Accuracy: 61.30%\n",
      "Validation: Loss: 0.9926, Accuracy: 63.53%\n",
      "\n",
      "Epoch 6/20\n"
     ]
    },
    {
     "name": "stderr",
     "output_type": "stream",
     "text": [
      "                                                                 \r"
     ]
    },
    {
     "name": "stdout",
     "output_type": "stream",
     "text": [
      "Train: Loss: 1.0125, Accuracy: 62.56%\n",
      "Validation: Loss: 0.9952, Accuracy: 63.03%\n",
      "\n",
      "Epoch 7/20\n"
     ]
    },
    {
     "name": "stderr",
     "output_type": "stream",
     "text": [
      "                                                                 \r"
     ]
    },
    {
     "name": "stdout",
     "output_type": "stream",
     "text": [
      "Train: Loss: 0.9934, Accuracy: 62.82%\n",
      "Validation: Loss: 1.0821, Accuracy: 60.55%\n",
      "\n",
      "Epoch 8/20\n"
     ]
    },
    {
     "name": "stderr",
     "output_type": "stream",
     "text": [
      "                                                                 \r"
     ]
    },
    {
     "name": "stdout",
     "output_type": "stream",
     "text": [
      "Train: Loss: 0.9658, Accuracy: 64.09%\n",
      "Validation: Loss: 1.0047, Accuracy: 63.19%\n",
      "Early stopping triggered.\n",
      "Treinando com hiperparâmetros: {'epochs': 20, 'lr': 0.0001, 'patience': 5, 'weight_decay': 0.0001}\n",
      "\n",
      "Epoch 1/20\n"
     ]
    },
    {
     "name": "stderr",
     "output_type": "stream",
     "text": [
      "                                                                 \r"
     ]
    },
    {
     "name": "stdout",
     "output_type": "stream",
     "text": [
      "Train: Loss: 1.3595, Accuracy: 48.04%\n",
      "Validation: Loss: 1.4009, Accuracy: 50.40%\n",
      "\n",
      "Epoch 2/20\n"
     ]
    },
    {
     "name": "stderr",
     "output_type": "stream",
     "text": [
      "                                                                 \r"
     ]
    },
    {
     "name": "stdout",
     "output_type": "stream",
     "text": [
      "Train: Loss: 1.1809, Accuracy: 55.79%\n",
      "Validation: Loss: 1.1497, Accuracy: 56.17%\n",
      "\n",
      "Epoch 3/20\n"
     ]
    },
    {
     "name": "stderr",
     "output_type": "stream",
     "text": [
      "                                                                 \r"
     ]
    },
    {
     "name": "stdout",
     "output_type": "stream",
     "text": [
      "Train: Loss: 1.1152, Accuracy: 58.53%\n",
      "Validation: Loss: 1.0622, Accuracy: 58.96%\n",
      "\n",
      "Epoch 4/20\n"
     ]
    },
    {
     "name": "stderr",
     "output_type": "stream",
     "text": [
      "                                                                 \r"
     ]
    },
    {
     "name": "stdout",
     "output_type": "stream",
     "text": [
      "Train: Loss: 1.0757, Accuracy: 59.67%\n",
      "Validation: Loss: 1.0326, Accuracy: 61.97%\n",
      "\n",
      "Epoch 5/20\n"
     ]
    },
    {
     "name": "stderr",
     "output_type": "stream",
     "text": [
      "                                                                 \r"
     ]
    },
    {
     "name": "stdout",
     "output_type": "stream",
     "text": [
      "Train: Loss: 1.0438, Accuracy: 61.17%\n",
      "Validation: Loss: 1.0390, Accuracy: 61.60%\n",
      "\n",
      "Epoch 6/20\n"
     ]
    },
    {
     "name": "stderr",
     "output_type": "stream",
     "text": [
      "                                                                 \r"
     ]
    },
    {
     "name": "stdout",
     "output_type": "stream",
     "text": [
      "Train: Loss: 1.0169, Accuracy: 62.26%\n",
      "Validation: Loss: 0.9747, Accuracy: 63.17%\n",
      "\n",
      "Epoch 7/20\n"
     ]
    },
    {
     "name": "stderr",
     "output_type": "stream",
     "text": [
      "                                                                 \r"
     ]
    },
    {
     "name": "stdout",
     "output_type": "stream",
     "text": [
      "Train: Loss: 0.9865, Accuracy: 63.72%\n",
      "Validation: Loss: 1.0455, Accuracy: 62.30%\n",
      "\n",
      "Epoch 8/20\n"
     ]
    },
    {
     "name": "stderr",
     "output_type": "stream",
     "text": [
      "                                                                 \r"
     ]
    },
    {
     "name": "stdout",
     "output_type": "stream",
     "text": [
      "Train: Loss: 0.9723, Accuracy: 63.81%\n",
      "Validation: Loss: 0.9737, Accuracy: 63.39%\n",
      "\n",
      "Epoch 9/20\n"
     ]
    },
    {
     "name": "stderr",
     "output_type": "stream",
     "text": [
      "                                                                 \r"
     ]
    },
    {
     "name": "stdout",
     "output_type": "stream",
     "text": [
      "Train: Loss: 0.9571, Accuracy: 64.32%\n",
      "Validation: Loss: 1.0299, Accuracy: 63.39%\n",
      "\n",
      "Epoch 10/20\n"
     ]
    },
    {
     "name": "stderr",
     "output_type": "stream",
     "text": [
      "                                                                 \r"
     ]
    },
    {
     "name": "stdout",
     "output_type": "stream",
     "text": [
      "Train: Loss: 0.9333, Accuracy: 65.38%\n",
      "Validation: Loss: 0.9787, Accuracy: 64.86%\n",
      "\n",
      "Epoch 11/20\n"
     ]
    },
    {
     "name": "stderr",
     "output_type": "stream",
     "text": [
      "                                                                 \r"
     ]
    },
    {
     "name": "stdout",
     "output_type": "stream",
     "text": [
      "Train: Loss: 0.9208, Accuracy: 65.93%\n",
      "Validation: Loss: 1.0098, Accuracy: 63.30%\n",
      "\n",
      "Epoch 12/20\n"
     ]
    },
    {
     "name": "stderr",
     "output_type": "stream",
     "text": [
      "                                                                 \r"
     ]
    },
    {
     "name": "stdout",
     "output_type": "stream",
     "text": [
      "Train: Loss: 0.9031, Accuracy: 66.75%\n",
      "Validation: Loss: 0.9957, Accuracy: 64.56%\n",
      "\n",
      "Epoch 13/20\n"
     ]
    },
    {
     "name": "stderr",
     "output_type": "stream",
     "text": [
      "                                                                 \r"
     ]
    },
    {
     "name": "stdout",
     "output_type": "stream",
     "text": [
      "Train: Loss: 0.8364, Accuracy: 68.88%\n",
      "Validation: Loss: 0.9576, Accuracy: 65.42%\n",
      "\n",
      "Epoch 14/20\n"
     ]
    },
    {
     "name": "stderr",
     "output_type": "stream",
     "text": [
      "                                                                 \r"
     ]
    },
    {
     "name": "stdout",
     "output_type": "stream",
     "text": [
      "Train: Loss: 0.8071, Accuracy: 69.99%\n",
      "Validation: Loss: 0.9827, Accuracy: 65.56%\n",
      "\n",
      "Epoch 15/20\n"
     ]
    },
    {
     "name": "stderr",
     "output_type": "stream",
     "text": [
      "                                                                 \r"
     ]
    },
    {
     "name": "stdout",
     "output_type": "stream",
     "text": [
      "Train: Loss: 0.7968, Accuracy: 70.64%\n",
      "Validation: Loss: 0.9829, Accuracy: 65.34%\n",
      "\n",
      "Epoch 16/20\n"
     ]
    },
    {
     "name": "stderr",
     "output_type": "stream",
     "text": [
      "                                                                 \r"
     ]
    },
    {
     "name": "stdout",
     "output_type": "stream",
     "text": [
      "Train: Loss: 0.7885, Accuracy: 71.03%\n",
      "Validation: Loss: 0.9626, Accuracy: 65.84%\n",
      "\n",
      "Epoch 17/20\n"
     ]
    },
    {
     "name": "stderr",
     "output_type": "stream",
     "text": [
      "                                                                 \r"
     ]
    },
    {
     "name": "stdout",
     "output_type": "stream",
     "text": [
      "Train: Loss: 0.7743, Accuracy: 71.56%\n",
      "Validation: Loss: 0.9753, Accuracy: 65.70%\n",
      "\n",
      "Epoch 18/20\n"
     ]
    },
    {
     "name": "stderr",
     "output_type": "stream",
     "text": [
      "                                                                 \r"
     ]
    },
    {
     "name": "stdout",
     "output_type": "stream",
     "text": [
      "Train: Loss: 0.7630, Accuracy: 71.90%\n",
      "Validation: Loss: 0.9740, Accuracy: 66.01%\n",
      "\n",
      "Epoch 19/20\n"
     ]
    },
    {
     "name": "stderr",
     "output_type": "stream",
     "text": [
      "                                                                 \r"
     ]
    },
    {
     "name": "stdout",
     "output_type": "stream",
     "text": [
      "Train: Loss: 0.7634, Accuracy: 71.90%\n",
      "Validation: Loss: 0.9734, Accuracy: 65.56%\n",
      "\n",
      "Epoch 20/20\n"
     ]
    },
    {
     "name": "stderr",
     "output_type": "stream",
     "text": [
      "                                                                 \r"
     ]
    },
    {
     "name": "stdout",
     "output_type": "stream",
     "text": [
      "Train: Loss: 0.7669, Accuracy: 71.56%\n",
      "Validation: Loss: 0.9854, Accuracy: 65.90%\n",
      "Novo melhor modelo encontrado com precisão: 0.6601\n",
      "Treinando com hiperparâmetros: {'epochs': 20, 'lr': 0.0001, 'patience': 5, 'weight_decay': 1e-05}\n",
      "\n",
      "Epoch 1/20\n"
     ]
    },
    {
     "name": "stderr",
     "output_type": "stream",
     "text": [
      "                                                                 \r"
     ]
    },
    {
     "name": "stdout",
     "output_type": "stream",
     "text": [
      "Train: Loss: 1.3551, Accuracy: 48.30%\n",
      "Validation: Loss: 1.1547, Accuracy: 55.67%\n",
      "\n",
      "Epoch 2/20\n"
     ]
    },
    {
     "name": "stderr",
     "output_type": "stream",
     "text": [
      "                                                                 \r"
     ]
    },
    {
     "name": "stdout",
     "output_type": "stream",
     "text": [
      "Train: Loss: 1.1793, Accuracy: 56.14%\n",
      "Validation: Loss: 1.0972, Accuracy: 59.15%\n",
      "\n",
      "Epoch 3/20\n"
     ]
    },
    {
     "name": "stderr",
     "output_type": "stream",
     "text": [
      "                                                                 \r"
     ]
    },
    {
     "name": "stdout",
     "output_type": "stream",
     "text": [
      "Train: Loss: 1.1163, Accuracy: 58.77%\n",
      "Validation: Loss: 1.0461, Accuracy: 60.80%\n",
      "\n",
      "Epoch 4/20\n"
     ]
    },
    {
     "name": "stderr",
     "output_type": "stream",
     "text": [
      "                                                                 \r"
     ]
    },
    {
     "name": "stdout",
     "output_type": "stream",
     "text": [
      "Train: Loss: 1.0736, Accuracy: 60.17%\n",
      "Validation: Loss: 1.0259, Accuracy: 62.27%\n",
      "\n",
      "Epoch 5/20\n"
     ]
    },
    {
     "name": "stderr",
     "output_type": "stream",
     "text": [
      "                                                                 \r"
     ]
    },
    {
     "name": "stdout",
     "output_type": "stream",
     "text": [
      "Train: Loss: 1.0404, Accuracy: 61.70%\n",
      "Validation: Loss: 1.0347, Accuracy: 61.30%\n",
      "\n",
      "Epoch 6/20\n"
     ]
    },
    {
     "name": "stderr",
     "output_type": "stream",
     "text": [
      "                                                                 \r"
     ]
    },
    {
     "name": "stdout",
     "output_type": "stream",
     "text": [
      "Train: Loss: 1.0118, Accuracy: 62.56%\n",
      "Validation: Loss: 1.0186, Accuracy: 61.88%\n",
      "\n",
      "Epoch 7/20\n"
     ]
    },
    {
     "name": "stderr",
     "output_type": "stream",
     "text": [
      "                                                                 \r"
     ]
    },
    {
     "name": "stdout",
     "output_type": "stream",
     "text": [
      "Train: Loss: 0.9829, Accuracy: 63.39%\n",
      "Validation: Loss: 1.0797, Accuracy: 61.97%\n",
      "\n",
      "Epoch 8/20\n"
     ]
    },
    {
     "name": "stderr",
     "output_type": "stream",
     "text": [
      "                                                                 \r"
     ]
    },
    {
     "name": "stdout",
     "output_type": "stream",
     "text": [
      "Train: Loss: 0.9691, Accuracy: 64.12%\n",
      "Validation: Loss: 1.0083, Accuracy: 62.36%\n",
      "\n",
      "Epoch 9/20\n"
     ]
    },
    {
     "name": "stderr",
     "output_type": "stream",
     "text": [
      "                                                                 \r"
     ]
    },
    {
     "name": "stdout",
     "output_type": "stream",
     "text": [
      "Train: Loss: 0.9476, Accuracy: 64.63%\n",
      "Validation: Loss: 1.0282, Accuracy: 63.69%\n",
      "\n",
      "Epoch 10/20\n"
     ]
    },
    {
     "name": "stderr",
     "output_type": "stream",
     "text": [
      "                                                                 \r"
     ]
    },
    {
     "name": "stdout",
     "output_type": "stream",
     "text": [
      "Train: Loss: 0.9278, Accuracy: 65.85%\n",
      "Validation: Loss: 1.0199, Accuracy: 62.75%\n",
      "\n",
      "Epoch 11/20\n"
     ]
    },
    {
     "name": "stderr",
     "output_type": "stream",
     "text": [
      "                                                                 \r"
     ]
    },
    {
     "name": "stdout",
     "output_type": "stream",
     "text": [
      "Train: Loss: 0.9046, Accuracy: 66.23%\n",
      "Validation: Loss: 1.0053, Accuracy: 64.53%\n",
      "\n",
      "Epoch 12/20\n"
     ]
    },
    {
     "name": "stderr",
     "output_type": "stream",
     "text": [
      "                                                                 \r"
     ]
    },
    {
     "name": "stdout",
     "output_type": "stream",
     "text": [
      "Train: Loss: 0.9017, Accuracy: 66.79%\n",
      "Validation: Loss: 0.9733, Accuracy: 65.62%\n",
      "\n",
      "Epoch 13/20\n"
     ]
    },
    {
     "name": "stderr",
     "output_type": "stream",
     "text": [
      "                                                                 \r"
     ]
    },
    {
     "name": "stdout",
     "output_type": "stream",
     "text": [
      "Train: Loss: 0.8819, Accuracy: 67.54%\n",
      "Validation: Loss: 1.0171, Accuracy: 63.08%\n",
      "\n",
      "Epoch 14/20\n"
     ]
    },
    {
     "name": "stderr",
     "output_type": "stream",
     "text": [
      "                                                                 \r"
     ]
    },
    {
     "name": "stdout",
     "output_type": "stream",
     "text": [
      "Train: Loss: 0.8656, Accuracy: 68.09%\n",
      "Validation: Loss: 1.0037, Accuracy: 65.09%\n",
      "\n",
      "Epoch 15/20\n"
     ]
    },
    {
     "name": "stderr",
     "output_type": "stream",
     "text": [
      "                                                                 \r"
     ]
    },
    {
     "name": "stdout",
     "output_type": "stream",
     "text": [
      "Train: Loss: 0.8492, Accuracy: 69.16%\n",
      "Validation: Loss: 1.0018, Accuracy: 64.45%\n",
      "\n",
      "Epoch 16/20\n"
     ]
    },
    {
     "name": "stderr",
     "output_type": "stream",
     "text": [
      "                                                                 \r"
     ]
    },
    {
     "name": "stdout",
     "output_type": "stream",
     "text": [
      "Train: Loss: 0.8368, Accuracy: 69.45%\n",
      "Validation: Loss: 0.9758, Accuracy: 64.50%\n",
      "\n",
      "Epoch 17/20\n"
     ]
    },
    {
     "name": "stderr",
     "output_type": "stream",
     "text": [
      "                                                                 \r"
     ]
    },
    {
     "name": "stdout",
     "output_type": "stream",
     "text": [
      "Train: Loss: 0.7646, Accuracy: 71.94%\n",
      "Validation: Loss: 0.9811, Accuracy: 66.17%\n",
      "\n",
      "Epoch 18/20\n"
     ]
    },
    {
     "name": "stderr",
     "output_type": "stream",
     "text": [
      "                                                                 \r"
     ]
    },
    {
     "name": "stdout",
     "output_type": "stream",
     "text": [
      "Train: Loss: 0.7432, Accuracy: 72.59%\n",
      "Validation: Loss: 0.9753, Accuracy: 66.37%\n",
      "\n",
      "Epoch 19/20\n"
     ]
    },
    {
     "name": "stderr",
     "output_type": "stream",
     "text": [
      "                                                                 \r"
     ]
    },
    {
     "name": "stdout",
     "output_type": "stream",
     "text": [
      "Train: Loss: 0.7259, Accuracy: 73.28%\n",
      "Validation: Loss: 1.0039, Accuracy: 66.20%\n",
      "\n",
      "Epoch 20/20\n"
     ]
    },
    {
     "name": "stderr",
     "output_type": "stream",
     "text": [
      "                                                                 \r"
     ]
    },
    {
     "name": "stdout",
     "output_type": "stream",
     "text": [
      "Train: Loss: 0.7204, Accuracy: 73.40%\n",
      "Validation: Loss: 1.0085, Accuracy: 66.20%\n",
      "Novo melhor modelo encontrado com precisão: 0.6637\n",
      "Treinando com hiperparâmetros: {'epochs': 20, 'lr': 0.001, 'patience': 3, 'weight_decay': 0.0001}\n",
      "\n",
      "Epoch 1/20\n"
     ]
    },
    {
     "name": "stderr",
     "output_type": "stream",
     "text": [
      "                                                                 \r"
     ]
    },
    {
     "name": "stdout",
     "output_type": "stream",
     "text": [
      "Train: Loss: 1.4591, Accuracy: 44.11%\n",
      "Validation: Loss: 1.3794, Accuracy: 47.70%\n",
      "\n",
      "Epoch 2/20\n"
     ]
    },
    {
     "name": "stderr",
     "output_type": "stream",
     "text": [
      "                                                                 \r"
     ]
    },
    {
     "name": "stdout",
     "output_type": "stream",
     "text": [
      "Train: Loss: 1.2984, Accuracy: 50.71%\n",
      "Validation: Loss: 1.2839, Accuracy: 51.18%\n",
      "\n",
      "Epoch 3/20\n"
     ]
    },
    {
     "name": "stderr",
     "output_type": "stream",
     "text": [
      "                                                                 \r"
     ]
    },
    {
     "name": "stdout",
     "output_type": "stream",
     "text": [
      "Train: Loss: 1.2308, Accuracy: 53.88%\n",
      "Validation: Loss: 1.1539, Accuracy: 56.09%\n",
      "\n",
      "Epoch 4/20\n"
     ]
    },
    {
     "name": "stderr",
     "output_type": "stream",
     "text": [
      "                                                                 \r"
     ]
    },
    {
     "name": "stdout",
     "output_type": "stream",
     "text": [
      "Train: Loss: 1.1900, Accuracy: 55.77%\n",
      "Validation: Loss: 1.1506, Accuracy: 56.62%\n",
      "\n",
      "Epoch 5/20\n"
     ]
    },
    {
     "name": "stderr",
     "output_type": "stream",
     "text": [
      "                                                                 \r"
     ]
    },
    {
     "name": "stdout",
     "output_type": "stream",
     "text": [
      "Train: Loss: 1.1635, Accuracy: 56.88%\n",
      "Validation: Loss: 1.0932, Accuracy: 58.34%\n",
      "\n",
      "Epoch 6/20\n"
     ]
    },
    {
     "name": "stderr",
     "output_type": "stream",
     "text": [
      "                                                                 \r"
     ]
    },
    {
     "name": "stdout",
     "output_type": "stream",
     "text": [
      "Train: Loss: 1.1407, Accuracy: 57.72%\n",
      "Validation: Loss: 1.0819, Accuracy: 58.87%\n",
      "\n",
      "Epoch 7/20\n"
     ]
    },
    {
     "name": "stderr",
     "output_type": "stream",
     "text": [
      "                                                                 \r"
     ]
    },
    {
     "name": "stdout",
     "output_type": "stream",
     "text": [
      "Train: Loss: 1.1155, Accuracy: 58.20%\n",
      "Validation: Loss: 1.0617, Accuracy: 60.10%\n",
      "\n",
      "Epoch 8/20\n"
     ]
    },
    {
     "name": "stderr",
     "output_type": "stream",
     "text": [
      "                                                                 \r"
     ]
    },
    {
     "name": "stdout",
     "output_type": "stream",
     "text": [
      "Train: Loss: 1.0950, Accuracy: 59.47%\n",
      "Validation: Loss: 1.1249, Accuracy: 58.43%\n",
      "\n",
      "Epoch 9/20\n"
     ]
    },
    {
     "name": "stderr",
     "output_type": "stream",
     "text": [
      "                                                                 \r"
     ]
    },
    {
     "name": "stdout",
     "output_type": "stream",
     "text": [
      "Train: Loss: 1.0803, Accuracy: 60.03%\n",
      "Validation: Loss: 1.1042, Accuracy: 58.79%\n",
      "\n",
      "Epoch 10/20\n"
     ]
    },
    {
     "name": "stderr",
     "output_type": "stream",
     "text": [
      "                                                                 \r"
     ]
    },
    {
     "name": "stdout",
     "output_type": "stream",
     "text": [
      "Train: Loss: 1.0728, Accuracy: 60.18%\n",
      "Validation: Loss: 1.0472, Accuracy: 61.08%\n",
      "\n",
      "Epoch 11/20\n"
     ]
    },
    {
     "name": "stderr",
     "output_type": "stream",
     "text": [
      "                                                                 \r"
     ]
    },
    {
     "name": "stdout",
     "output_type": "stream",
     "text": [
      "Train: Loss: 1.0581, Accuracy: 60.59%\n",
      "Validation: Loss: 1.0680, Accuracy: 60.27%\n",
      "\n",
      "Epoch 12/20\n"
     ]
    },
    {
     "name": "stderr",
     "output_type": "stream",
     "text": [
      "                                                                 \r"
     ]
    },
    {
     "name": "stdout",
     "output_type": "stream",
     "text": [
      "Train: Loss: 1.0455, Accuracy: 61.27%\n",
      "Validation: Loss: 1.0939, Accuracy: 59.54%\n",
      "\n",
      "Epoch 13/20\n"
     ]
    },
    {
     "name": "stderr",
     "output_type": "stream",
     "text": [
      "                                                                 \r"
     ]
    },
    {
     "name": "stdout",
     "output_type": "stream",
     "text": [
      "Train: Loss: 1.0393, Accuracy: 61.45%\n",
      "Validation: Loss: 1.0518, Accuracy: 60.55%\n",
      "Early stopping triggered.\n",
      "Treinando com hiperparâmetros: {'epochs': 20, 'lr': 0.001, 'patience': 3, 'weight_decay': 1e-05}\n",
      "\n",
      "Epoch 1/20\n"
     ]
    },
    {
     "name": "stderr",
     "output_type": "stream",
     "text": [
      "                                                                 \r"
     ]
    },
    {
     "name": "stdout",
     "output_type": "stream",
     "text": [
      "Train: Loss: 1.4466, Accuracy: 44.48%\n",
      "Validation: Loss: 1.2407, Accuracy: 52.55%\n",
      "\n",
      "Epoch 2/20\n"
     ]
    },
    {
     "name": "stderr",
     "output_type": "stream",
     "text": [
      "                                                                 \r"
     ]
    },
    {
     "name": "stdout",
     "output_type": "stream",
     "text": [
      "Train: Loss: 1.2790, Accuracy: 51.81%\n",
      "Validation: Loss: 1.1703, Accuracy: 55.64%\n",
      "\n",
      "Epoch 3/20\n"
     ]
    },
    {
     "name": "stderr",
     "output_type": "stream",
     "text": [
      "                                                                 \r"
     ]
    },
    {
     "name": "stdout",
     "output_type": "stream",
     "text": [
      "Train: Loss: 1.2199, Accuracy: 54.76%\n",
      "Validation: Loss: 1.1186, Accuracy: 57.62%\n",
      "\n",
      "Epoch 4/20\n"
     ]
    },
    {
     "name": "stderr",
     "output_type": "stream",
     "text": [
      "                                                                 \r"
     ]
    },
    {
     "name": "stdout",
     "output_type": "stream",
     "text": [
      "Train: Loss: 1.1814, Accuracy: 56.26%\n",
      "Validation: Loss: 1.0916, Accuracy: 59.35%\n",
      "\n",
      "Epoch 5/20\n"
     ]
    },
    {
     "name": "stderr",
     "output_type": "stream",
     "text": [
      "                                                                 \r"
     ]
    },
    {
     "name": "stdout",
     "output_type": "stream",
     "text": [
      "Train: Loss: 1.1449, Accuracy: 57.79%\n",
      "Validation: Loss: 1.0817, Accuracy: 59.54%\n",
      "\n",
      "Epoch 6/20\n"
     ]
    },
    {
     "name": "stderr",
     "output_type": "stream",
     "text": [
      "                                                                 \r"
     ]
    },
    {
     "name": "stdout",
     "output_type": "stream",
     "text": [
      "Train: Loss: 1.1179, Accuracy: 58.76%\n",
      "Validation: Loss: 1.0926, Accuracy: 59.24%\n",
      "\n",
      "Epoch 7/20\n"
     ]
    },
    {
     "name": "stderr",
     "output_type": "stream",
     "text": [
      "                                                                 \r"
     ]
    },
    {
     "name": "stdout",
     "output_type": "stream",
     "text": [
      "Train: Loss: 1.0901, Accuracy: 60.17%\n",
      "Validation: Loss: 1.0895, Accuracy: 59.77%\n",
      "\n",
      "Epoch 8/20\n"
     ]
    },
    {
     "name": "stderr",
     "output_type": "stream",
     "text": [
      "                                                                 \r"
     ]
    },
    {
     "name": "stdout",
     "output_type": "stream",
     "text": [
      "Train: Loss: 1.0729, Accuracy: 60.39%\n",
      "Validation: Loss: 1.0926, Accuracy: 58.60%\n",
      "\n",
      "Epoch 9/20\n"
     ]
    },
    {
     "name": "stderr",
     "output_type": "stream",
     "text": [
      "                                                                 \r"
     ]
    },
    {
     "name": "stdout",
     "output_type": "stream",
     "text": [
      "Train: Loss: 1.0589, Accuracy: 61.05%\n",
      "Validation: Loss: 1.0478, Accuracy: 61.74%\n",
      "\n",
      "Epoch 10/20\n"
     ]
    },
    {
     "name": "stderr",
     "output_type": "stream",
     "text": [
      "                                                                 \r"
     ]
    },
    {
     "name": "stdout",
     "output_type": "stream",
     "text": [
      "Train: Loss: 1.0364, Accuracy: 61.71%\n",
      "Validation: Loss: 1.0160, Accuracy: 61.72%\n",
      "\n",
      "Epoch 11/20\n"
     ]
    },
    {
     "name": "stderr",
     "output_type": "stream",
     "text": [
      "                                                                 \r"
     ]
    },
    {
     "name": "stdout",
     "output_type": "stream",
     "text": [
      "Train: Loss: 1.0244, Accuracy: 62.17%\n",
      "Validation: Loss: 1.0259, Accuracy: 61.30%\n",
      "\n",
      "Epoch 12/20\n"
     ]
    },
    {
     "name": "stderr",
     "output_type": "stream",
     "text": [
      "                                                                 \r"
     ]
    },
    {
     "name": "stdout",
     "output_type": "stream",
     "text": [
      "Train: Loss: 1.0096, Accuracy: 62.68%\n",
      "Validation: Loss: 1.0153, Accuracy: 61.86%\n",
      "\n",
      "Epoch 13/20\n"
     ]
    },
    {
     "name": "stderr",
     "output_type": "stream",
     "text": [
      "                                                                 \r"
     ]
    },
    {
     "name": "stdout",
     "output_type": "stream",
     "text": [
      "Train: Loss: 0.9961, Accuracy: 62.97%\n",
      "Validation: Loss: 1.0138, Accuracy: 61.63%\n",
      "\n",
      "Epoch 14/20\n"
     ]
    },
    {
     "name": "stderr",
     "output_type": "stream",
     "text": [
      "                                                                 \r"
     ]
    },
    {
     "name": "stdout",
     "output_type": "stream",
     "text": [
      "Train: Loss: 0.9752, Accuracy: 63.92%\n",
      "Validation: Loss: 1.0153, Accuracy: 62.19%\n",
      "\n",
      "Epoch 15/20\n"
     ]
    },
    {
     "name": "stderr",
     "output_type": "stream",
     "text": [
      "                                                                 \r"
     ]
    },
    {
     "name": "stdout",
     "output_type": "stream",
     "text": [
      "Train: Loss: 0.9674, Accuracy: 64.33%\n",
      "Validation: Loss: 0.9978, Accuracy: 62.72%\n",
      "\n",
      "Epoch 16/20\n"
     ]
    },
    {
     "name": "stderr",
     "output_type": "stream",
     "text": [
      "                                                                 \r"
     ]
    },
    {
     "name": "stdout",
     "output_type": "stream",
     "text": [
      "Train: Loss: 0.9587, Accuracy: 64.25%\n",
      "Validation: Loss: 1.0080, Accuracy: 62.30%\n",
      "\n",
      "Epoch 17/20\n"
     ]
    },
    {
     "name": "stderr",
     "output_type": "stream",
     "text": [
      "Train Progress:  59%|█████▉    | 529/898 [02:29<01:43,  3.58it/s]"
     ]
    }
   ],
   "source": [
    "from sklearn.model_selection import ParameterGrid\n",
    "import json\n",
    "from tqdm import tqdm\n",
    "\n",
    "class GridSearchTrainer:\n",
    "    def __init__(self, model_class, data_loader_treino, data_loader_validacao, num_imagens_treino, num_imagens_validacao, device, num_classes, param_grid, checkpoint_dir='checkpoints'):\n",
    "        self.model_class = model_class\n",
    "        self.data_loader_treino = data_loader_treino\n",
    "        self.data_loader_validacao = data_loader_validacao\n",
    "        self.num_imagens_treino = num_imagens_treino\n",
    "        self.num_imagens_validacao = num_imagens_validacao\n",
    "        self.device = device\n",
    "        self.num_classes = num_classes\n",
    "        self.param_grid = param_grid\n",
    "        self.checkpoint_dir = checkpoint_dir\n",
    "        self.best_params = None\n",
    "        self.best_accuracy = 0.0\n",
    "\n",
    "        # Create directory for checkpoints\n",
    "        os.makedirs(self.checkpoint_dir, exist_ok=True)\n",
    "\n",
    "    def train_and_evaluate(self, hyperparams):\n",
    "        model = self.model_class(self.num_classes).get_model().to(self.device)\n",
    "        optimizer = optim.Adam(model.parameters(), lr=hyperparams['lr'], weight_decay=hyperparams['weight_decay'])\n",
    "        criterion = nn.CrossEntropyLoss()\n",
    "        scheduler = ReduceLROnPlateau(optimizer, mode='min', factor=0.1, patience=3, verbose=True)\n",
    "\n",
    "        best_accuracy = 0.0\n",
    "        patience = hyperparams.get('patience', 5)\n",
    "        early_stop_counter = 0\n",
    "\n",
    "        for epoch in range(hyperparams['epochs']):\n",
    "            print(f\"\\nEpoch {epoch + 1}/{hyperparams['epochs']}\")\n",
    "            model.train()\n",
    "            train_loss, train_accuracy = self.run_epoch(model, criterion, optimizer, self.data_loader_treino, phase='train', epoch_progress=True)\n",
    "            model.eval()\n",
    "            val_loss, val_accuracy = self.run_epoch(model, criterion, optimizer, self.data_loader_validacao, phase='eval', epoch_progress=True)\n",
    "            print(f\"Train: Loss: {train_loss:.4f}, Accuracy: {train_accuracy * 100:.2f}%\")\n",
    "            print(f\"Validation: Loss: {val_loss:.4f}, Accuracy: {val_accuracy * 100:.2f}%\")\n",
    "            scheduler.step(val_loss)\n",
    "\n",
    "            if val_accuracy > best_accuracy:\n",
    "                best_accuracy = val_accuracy\n",
    "                early_stop_counter = 0\n",
    "                # Save checkpoint with hyperparameters\n",
    "                checkpoint_name = self.generate_checkpoint_name(hyperparams, epoch + 1, val_accuracy)\n",
    "                torch.save({'model_state_dict': model.state_dict(),\n",
    "                            'hyperparams': hyperparams,\n",
    "                            'accuracy': val_accuracy}, os.path.join(self.checkpoint_dir, checkpoint_name))\n",
    "            else:\n",
    "                early_stop_counter += 1\n",
    "\n",
    "            if early_stop_counter >= patience:\n",
    "                print(\"Early stopping triggered.\")\n",
    "                break\n",
    "\n",
    "        return best_accuracy\n",
    "\n",
    "    def run_epoch(self, model, criterion, optimizer, data_loader, phase, epoch_progress=False):\n",
    "        total_loss = 0.0\n",
    "        correct_predictions = 0\n",
    "\n",
    "        with tqdm(total=len(data_loader), desc=f\"{phase.capitalize()} Progress\", leave=False) as pbar:\n",
    "            for inputs, labels in data_loader:\n",
    "                inputs, labels = inputs.to(self.device), labels.to(self.device)\n",
    "\n",
    "                if phase == 'train':\n",
    "                    optimizer.zero_grad()\n",
    "\n",
    "                outputs = model(inputs)\n",
    "                loss = criterion(outputs, labels)\n",
    "                if phase == 'train':\n",
    "                    loss.backward()\n",
    "                    optimizer.step()\n",
    "\n",
    "                total_loss += loss.item() * inputs.size(0)\n",
    "                _, preds = torch.max(outputs, 1)\n",
    "                correct_predictions += torch.sum(preds == labels)\n",
    "\n",
    "                if epoch_progress:\n",
    "                    pbar.update(1)\n",
    "\n",
    "        epoch_loss = total_loss / len(data_loader.dataset)\n",
    "        epoch_accuracy = correct_predictions.double() / len(data_loader.dataset)\n",
    "\n",
    "        return epoch_loss, epoch_accuracy.item()\n",
    "\n",
    "    def perform_grid_search(self):\n",
    "        grid = ParameterGrid(self.param_grid)\n",
    "        for params in grid:\n",
    "            print(f\"Treinando com hiperparâmetros: {params}\")\n",
    "            accuracy = self.train_and_evaluate(params)\n",
    "\n",
    "            if accuracy > self.best_accuracy:\n",
    "                self.best_accuracy = accuracy\n",
    "                self.best_params = params\n",
    "                print(f\"Novo melhor modelo encontrado com precisão: {accuracy:.4f}\")\n",
    "\n",
    "        print(f\"Melhores hiperparâmetros: {self.best_params}\")\n",
    "        print(f\"Melhor precisão de validação: {self.best_accuracy:.4f}\")\n",
    "\n",
    "    def generate_checkpoint_name(self, hyperparams, epoch, val_accuracy):\n",
    "        # Generate a unique name for each checkpoint\n",
    "        params_str = \"_\".join([f\"{key}={value}\" for key, value in hyperparams.items()])\n",
    "        return f\"checkpoint_{params_str}_epoch={epoch}_val_acc={val_accuracy:.4f}.pth\"\n",
    "\n",
    "# Configuração dos hiperparâmetros\n",
    "param_grid = {\n",
    "    'lr': [0.0001, 0.001],\n",
    "    'weight_decay': [1e-4, 1e-5],\n",
    "    'epochs': [20, 30],\n",
    "    'patience': [3, 5]\n",
    "}\n",
    "\n",
    "# Treinamento com GridSearch\n",
    "grid_search_trainer = GridSearchTrainer(CustomResNet50, data_loader_treino, data_loader_validacao, num_imagens_treino, num_imagens_validacao, device, num_classes, param_grid)\n",
    "grid_search_trainer.perform_grid_search()\n"
   ]
  },
  {
   "cell_type": "code",
   "execution_count": null,
   "metadata": {},
   "outputs": [],
   "source": [
    "from sklearn.model_selection import ParameterSampler\n",
    "import json\n",
    "import random\n",
    "from tqdm import tqdm\n",
    "\n",
    "class RandomSearchTrainer:\n",
    "    def __init__(self, model_class, data_loader_treino, data_loader_validacao, num_imagens_treino, num_imagens_validacao, device, num_classes, param_dist, n_iter, checkpoint_dir='checkpoints'):\n",
    "        self.model_class = model_class\n",
    "        self.data_loader_treino = data_loader_treino\n",
    "        self.data_loader_validacao = data_loader_validacao\n",
    "        self.num_imagens_treino = num_imagens_treino\n",
    "        self.num_imagens_validacao = num_imagens_validacao\n",
    "        self.device = device\n",
    "        self.num_classes = num_classes\n",
    "        self.param_dist = param_dist\n",
    "        self.n_iter = n_iter\n",
    "        self.checkpoint_dir = checkpoint_dir\n",
    "        self.best_params = None\n",
    "        self.best_accuracy = 0.0\n",
    "\n",
    "        # Create directory for checkpoints\n",
    "        os.makedirs(self.checkpoint_dir, exist_ok=True)\n",
    "\n",
    "    def train_and_evaluate(self, hyperparams):\n",
    "        model = self.model_class(self.num_classes).get_model().to(self.device)\n",
    "        optimizer = self.get_optimizer(hyperparams, model)\n",
    "        criterion = nn.CrossEntropyLoss()\n",
    "        scheduler = ReduceLROnPlateau(optimizer, mode='min', factor=0.1, patience=3, verbose=True)\n",
    "\n",
    "        best_accuracy = 0.0\n",
    "        patience = hyperparams.get('patience', 5)\n",
    "        early_stop_counter = 0\n",
    "\n",
    "        for epoch in range(hyperparams['epochs']):\n",
    "            print(f\"\\nEpoch {epoch + 1}/{hyperparams['epochs']}\")\n",
    "            model.train()\n",
    "            train_loss, train_accuracy = self.run_epoch(model, criterion, optimizer, self.data_loader_treino, phase='train', epoch_progress=True)\n",
    "            model.eval()\n",
    "            val_loss, val_accuracy = self.run_epoch(model, criterion, optimizer, self.data_loader_validacao, phase='eval', epoch_progress=True)\n",
    "            print(f\"Train: Loss: {train_loss:.4f}, Accuracy: {train_accuracy * 100:.2f}%\")\n",
    "            print(f\"Validation: Loss: {val_loss:.4f}, Accuracy: {val_accuracy * 100:.2f}%\")\n",
    "            scheduler.step(val_loss)\n",
    "\n",
    "            if val_accuracy > best_accuracy:\n",
    "                best_accuracy = val_accuracy\n",
    "                early_stop_counter = 0\n",
    "                # Save checkpoint with hyperparameters\n",
    "                checkpoint_name = self.generate_checkpoint_name(hyperparams, epoch + 1, val_accuracy)\n",
    "                torch.save({'model_state_dict': model.state_dict(),\n",
    "                            'hyperparams': hyperparams,\n",
    "                            'accuracy': val_accuracy}, os.path.join(self.checkpoint_dir, checkpoint_name))\n",
    "            else:\n",
    "                early_stop_counter += 1\n",
    "\n",
    "            if early_stop_counter >= patience:\n",
    "                print(\"Early stopping triggered.\")\n",
    "                break\n",
    "\n",
    "        return best_accuracy\n",
    "\n",
    "    def run_epoch(self, model, criterion, optimizer, data_loader, phase, epoch_progress=False):\n",
    "        total_loss = 0.0\n",
    "        correct_predictions = 0\n",
    "\n",
    "        with tqdm(total=len(data_loader), desc=f\"{phase.capitalize()} Progress\", leave=False) as pbar:\n",
    "            for inputs, labels in data_loader:\n",
    "                inputs, labels = inputs.to(self.device), labels.to(self.device)\n",
    "\n",
    "                if phase == 'train':\n",
    "                    optimizer.zero_grad()\n",
    "\n",
    "                outputs = model(inputs)\n",
    "                loss = criterion(outputs, labels)\n",
    "                if phase == 'train':\n",
    "                    loss.backward()\n",
    "                    optimizer.step()\n",
    "\n",
    "                total_loss += loss.item() * inputs.size(0)\n",
    "                _, preds = torch.max(outputs, 1)\n",
    "                correct_predictions += torch.sum(preds == labels)\n",
    "\n",
    "                if epoch_progress:\n",
    "                    pbar.update(1)\n",
    "\n",
    "        epoch_loss = total_loss / len(data_loader.dataset)\n",
    "        epoch_accuracy = correct_predictions.double() / len(data_loader.dataset)\n",
    "\n",
    "        return epoch_loss, epoch_accuracy.item()\n",
    "\n",
    "    def perform_random_search(self):\n",
    "        sampled_params = list(ParameterSampler(self.param_dist, n_iter=self.n_iter, random_state=random.randint(1, 10000)))\n",
    "        for params in sampled_params:\n",
    "            print(f\"Treinando com hiperparâmetros: {params}\")\n",
    "            accuracy = self.train_and_evaluate(params)\n",
    "\n",
    "            if accuracy > self.best_accuracy:\n",
    "                self.best_accuracy = accuracy\n",
    "                self.best_params = params\n",
    "                print(f\"Novo melhor modelo encontrado com precisão: {accuracy:.4f}\")\n",
    "\n",
    "        print(f\"Melhores hiperparâmetros: {self.best_params}\")\n",
    "        print(f\"Melhor precisão de validação: {self.best_accuracy:.4f}\")\n",
    "\n",
    "    def generate_checkpoint_name(self, hyperparams, epoch, val_accuracy):\n",
    "        # Generate a unique name for each checkpoint\n",
    "        params_str = \"_\".join([f\"{key}={value}\" for key, value in hyperparams.items()])\n",
    "        return f\"checkpoint_{params_str}_epoch={epoch}_val_acc={val_accuracy:.4f}.pth\"\n",
    "\n",
    "    def get_optimizer(self, hyperparams, model):\n",
    "        if hyperparams['optimizer'] == 'adam':\n",
    "            return optim.Adam(model.parameters(), lr=hyperparams['lr'], weight_decay=hyperparams['weight_decay'])\n",
    "        elif hyperparams['optimizer'] == 'sgd':\n",
    "            return optim.SGD(model.parameters(), lr=hyperparams['lr'], weight_decay=hyperparams['weight_decay'], momentum=hyperparams.get('momentum', 0.9))\n",
    "        else:\n",
    "            raise ValueError(f\"Optimizer {hyperparams['optimizer']} not supported.\")\n",
    "\n",
    "param_dist = {\n",
    "    'lr': [0.0001, 0.001, 0.01, 0.1],\n",
    "    'weight_decay': [1e-4, 1e-5, 0],\n",
    "    'epochs': [20, 30, 50],\n",
    "    'patience': [3, 5, 7],\n",
    "    'batch_size': [16, 32, 64],\n",
    "    'optimizer': ['adam', 'sgd'],\n",
    "    'momentum': [0.9, 0.95],  # Only relevant if optimizer is 'sgd'\n",
    "    'activation': ['relu', 'tanh', 'sigmoid']  # Different activation functions to test\n",
    "}\n",
    "\n",
    "n_iter = 20\n",
    "\n",
    "# Treinamento com Random Search\n",
    "random_search_trainer = RandomSearchTrainer(CustomResNet50, data_loader_treino, data_loader_validacao, num_imagens_treino, num_imagens_validacao, device, num_classes, param_dist, n_iter)\n",
    "random_search_trainer.perform_random_search()\n"
   ]
  },
  {
   "cell_type": "markdown",
   "metadata": {},
   "source": [
    "# Essenciais"
   ]
  },
  {
   "cell_type": "code",
   "execution_count": 3,
   "metadata": {},
   "outputs": [],
   "source": [
    "# dataset_path = '../affectnet/affectnet_Essenciais/'\n",
    "# device = torch.device(\"cuda:0\" if torch.cuda.is_available() else \"cpu\")\n",
    "# print(f\"Dispositivo utilizado: {device}\")\n",
    "\n",
    "#     # Preparar DataLoaders\n",
    "# data_loader_setup = DataLoaderSetup(dataset_path, image_size=224, batch_size=32)\n",
    "# data_loader_treino, data_loader_validacao, num_imagens_treino, num_imagens_validacao, num_classes = data_loader_setup.get_data_loaders()\n",
    "\n",
    "#     # Carregar o modelo\n",
    "# modelo = CustomResNet50(num_classes).get_model().to(device)\n",
    "# nameModel = 'novosModels/affectnet_Essenciais.pt'\n",
    "#     # Treinar e validar\n",
    "# patience = 5\n",
    "# trainer = Trainer(modelo, data_loader_treino, data_loader_validacao, num_imagens_treino, num_imagens_validacao, device, num_classes, patience,nameModel)\n",
    "# historico = trainer.treinar_e_validar(epocas=30)\n"
   ]
  },
  {
   "cell_type": "markdown",
   "metadata": {},
   "source": [
    "Landmarks"
   ]
  },
  {
   "cell_type": "code",
   "execution_count": 4,
   "metadata": {},
   "outputs": [],
   "source": [
    "# dataset_path = '../affectnet/affectnet_landmarks/'\n",
    "# device = torch.device(\"cuda:0\" if torch.cuda.is_available() else \"cpu\")\n",
    "# print(f\"Dispositivo utilizado: {device}\")\n",
    "\n",
    "#     # Preparar DataLoaders\n",
    "# data_loader_setup = DataLoaderSetup(dataset_path, image_size=224, batch_size=32)\n",
    "# data_loader_treino, data_loader_validacao, num_imagens_treino, num_imagens_validacao, num_classes = data_loader_setup.get_data_loaders()\n",
    "\n",
    "#     # Carregar o modelo\n",
    "# modelo = CustomResNet50(num_classes).get_model().to(device)\n",
    "# nameModel = 'novosModels/affectnet_landmarks.pt'\n",
    "#     # Treinar e validar\n",
    "# patience = 5\n",
    "# trainer = Trainer(modelo, data_loader_treino, data_loader_validacao, num_imagens_treino, num_imagens_validacao, device, num_classes, patience,nameModel)\n",
    "# historico = trainer.treinar_e_validar(epocas=30)\n"
   ]
  },
  {
   "cell_type": "markdown",
   "metadata": {},
   "source": [
    "full connected"
   ]
  },
  {
   "cell_type": "code",
   "execution_count": 5,
   "metadata": {},
   "outputs": [],
   "source": [
    "# dataset_path = '../affectnet/affectnet_face_connected_landmarks/'\n",
    "# device = torch.device(\"cuda:0\" if torch.cuda.is_available() else \"cpu\")\n",
    "# print(f\"Dispositivo utilizado: {device}\")\n",
    "\n",
    "#     # Preparar DataLoaders\n",
    "# data_loader_setup = DataLoaderSetup(dataset_path, image_size=224, batch_size=32)\n",
    "# data_loader_treino, data_loader_validacao, num_imagens_treino, num_imagens_validacao, num_classes = data_loader_setup.get_data_loaders()\n",
    "\n",
    "#     # Carregar o modelo\n",
    "# modelo = CustomResNet50(num_classes).get_model().to(device)\n",
    "# nameModel = 'novosModels/affectnet_face_connected_landmarks.pt'\n",
    "#     # Treinar e validar\n",
    "# trainer = Trainer(modelo, data_loader_treino, data_loader_validacao, num_imagens_treino, num_imagens_validacao, device, num_classes, patience,nameModel)\n",
    "# historico = trainer.treinar_e_validar(epocas=30)\n"
   ]
  },
  {
   "cell_type": "markdown",
   "metadata": {},
   "source": [
    "# FER"
   ]
  },
  {
   "cell_type": "code",
   "execution_count": 6,
   "metadata": {},
   "outputs": [],
   "source": [
    "# dataset_path = '../dados1/'\n",
    "# device = torch.device(\"cuda:0\" if torch.cuda.is_available() else \"cpu\")\n",
    "# print(f\"Dispositivo utilizado: {device}\")\n",
    "\n",
    "#     # Preparar DataLoaders\n",
    "# data_loader_setup = DataLoaderSetup(dataset_path, image_size=224, batch_size=32)\n",
    "# data_loader_treino, data_loader_validacao, num_imagens_treino, num_imagens_validacao, num_classes = data_loader_setup.get_data_loaders()\n",
    "\n",
    "#     # Carregar o modelo\n",
    "# modelo = CustomResNet50(num_classes).get_model().to(device)\n",
    "# nameModel = 'novosModels/fer_dados1.pt'\n",
    "# patience = 5\n",
    "#     # Treinar e validar\n",
    "# trainer = Trainer(modelo, data_loader_treino, data_loader_validacao, num_imagens_treino, num_imagens_validacao, device, num_classes, patience,nameModel)\n",
    "# historico = trainer.treinar_e_validar(epocas=30)\n"
   ]
  },
  {
   "cell_type": "markdown",
   "metadata": {},
   "source": [
    "Essenciais"
   ]
  },
  {
   "cell_type": "code",
   "execution_count": 7,
   "metadata": {},
   "outputs": [],
   "source": [
    "# dataset_path = '../Essenciais2/'\n",
    "# device = torch.device(\"cuda:0\" if torch.cuda.is_available() else \"cpu\")\n",
    "# print(f\"Dispositivo utilizado: {device}\")\n",
    "\n",
    "#     # Preparar DataLoaders\n",
    "# data_loader_setup = DataLoaderSetup(dataset_path, image_size=224, batch_size=32)\n",
    "# data_loader_treino, data_loader_validacao, num_imagens_treino, num_imagens_validacao, num_classes = data_loader_setup.get_data_loaders()\n",
    "\n",
    "#     # Carregar o modelo\n",
    "# modelo = CustomResNet50(num_classes).get_model().to(device)\n",
    "# nameModel = 'novosModels/fer_Essenciais2.pt'\n",
    "# patience = 5\n",
    "#     # Treinar e validar\n",
    "# trainer = Trainer(modelo, data_loader_treino, data_loader_validacao, num_imagens_treino, num_imagens_validacao, device, num_classes, patience,nameModel)\n",
    "# historico = trainer.treinar_e_validar(epocas=30)\n"
   ]
  },
  {
   "cell_type": "code",
   "execution_count": 8,
   "metadata": {},
   "outputs": [],
   "source": [
    "# dataset_path = '../full_face_landmarks2/'\n",
    "# device = torch.device(\"cuda:0\" if torch.cuda.is_available() else \"cpu\")\n",
    "# print(f\"Dispositivo utilizado: {device}\")\n",
    "\n",
    "#     # Preparar DataLoaders\n",
    "# data_loader_setup = DataLoaderSetup(dataset_path, image_size=224, batch_size=32)\n",
    "# data_loader_treino, data_loader_validacao, num_imagens_treino, num_imagens_validacao, num_classes = data_loader_setup.get_data_loaders()\n",
    "\n",
    "#     # Carregar o modelo\n",
    "# modelo = CustomResNet50(num_classes).get_model().to(device)\n",
    "# nameModel = 'novosModels/fer_full_face_landmarks2.pt'\n",
    "# patience = 5\n",
    "#     # Treinar e validar\n",
    "# trainer = Trainer(modelo, data_loader_treino, data_loader_validacao, num_imagens_treino, num_imagens_validacao, device, num_classes, patience,nameModel)\n",
    "# historico = trainer.treinar_e_validar(epocas=30)\n"
   ]
  },
  {
   "cell_type": "code",
   "execution_count": null,
   "metadata": {},
   "outputs": [],
   "source": [
    "dataset_path = '../full_face_connected_landmarks2/'\n",
    "device = torch.device(\"cuda:0\" if torch.cuda.is_available() else \"cpu\")\n",
    "print(f\"Dispositivo utilizado: {device}\")\n",
    "\n",
    "    # Preparar DataLoaders\n",
    "data_loader_setup = DataLoaderSetup(dataset_path, image_size=224, batch_size=32)\n",
    "data_loader_treino, data_loader_validacao, num_imagens_treino, num_imagens_validacao, num_classes = data_loader_setup.get_data_loaders()\n",
    "\n",
    "    # Carregar o modelo\n",
    "modelo = CustomResNet50(num_classes).get_model().to(device)\n",
    "nameModel = 'novosModels/fer_full_face_connected_landmarks2.pt'\n",
    "patience = 5\n",
    "    # Treinar e validar\n",
    "trainer = Trainer(modelo, data_loader_treino, data_loader_validacao, num_imagens_treino, num_imagens_validacao, device, num_classes, patience,nameModel)\n",
    "historico = trainer.treinar_e_validar(epocas=30)\n"
   ]
  }
 ],
 "metadata": {
  "kernelspec": {
   "display_name": "Python 3",
   "language": "python",
   "name": "python3"
  },
  "language_info": {
   "codemirror_mode": {
    "name": "ipython",
    "version": 3
   },
   "file_extension": ".py",
   "mimetype": "text/x-python",
   "name": "python",
   "nbconvert_exporter": "python",
   "pygments_lexer": "ipython3",
   "version": "3.10.0"
  }
 },
 "nbformat": 4,
 "nbformat_minor": 2
}
