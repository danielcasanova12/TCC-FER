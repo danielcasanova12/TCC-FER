{
 "cells": [
  {
   "cell_type": "code",
   "execution_count": 7,
   "metadata": {},
   "outputs": [],
   "source": [
    "import numpy as np\n",
    "import torch\n",
    "import torchvision\n",
    "from torchvision import datasets, models, transforms\n",
    "from torch.utils.data import DataLoader\n",
    "import torch.optim as optim\n",
    "import time\n",
    "import torch\n",
    "import torch.nn as nn\n",
    "from torch.optim.lr_scheduler import ReduceLROnPlateau\n",
    "from matplotlib import pyplot as plt\n",
    "import os\n",
    "from sklearn.metrics import accuracy_score, precision_score, recall_score, f1_score, confusion_matrix, classification_report\n",
    "import seaborn as sns\n",
    "\n",
    "# Definir transformações e DataLoader\n",
    "class DataLoaderSetup:\n",
    "    def __init__(self, dataset_path, image_size=224, batch_size=32):\n",
    "        self.dataset_path = dataset_path\n",
    "        self.image_size = image_size\n",
    "        self.batch_size = batch_size\n",
    "\n",
    "    def get_transforms(self):\n",
    "        transformacoes_de_imagens = {\n",
    "            'treino': transforms.Compose([\n",
    "                transforms.RandomHorizontalFlip(),\n",
    "                transforms.RandomResizedCrop(self.image_size, scale=(0.8, 1.0)),\n",
    "                transforms.ColorJitter(brightness=0.2, contrast=0.2, saturation=0.2, hue=0.1),\n",
    "                transforms.RandomAffine(degrees=20, translate=(0.1, 0.1), scale=(0.8, 1.2)),\n",
    "                transforms.ToTensor(),\n",
    "                transforms.Normalize([0.485, 0.456, 0.406], [0.229, 0.224, 0.225])\n",
    "            ]),\n",
    "            'validacao': transforms.Compose([\n",
    "                transforms.Resize(self.image_size),\n",
    "                transforms.CenterCrop(self.image_size),\n",
    "                transforms.ToTensor(),\n",
    "                transforms.Normalize([0.485, 0.456, 0.406], [0.229, 0.224, 0.225])\n",
    "            ])\n",
    "        }\n",
    "        return transformacoes_de_imagens\n",
    "\n",
    "    def load_data(self):\n",
    "        transformacoes = self.get_transforms()\n",
    "        pasta_treino = os.path.join(self.dataset_path, 'treino')\n",
    "        pasta_validacao = os.path.join(self.dataset_path, 'validacao')\n",
    "\n",
    "        data = {\n",
    "            'treino': datasets.ImageFolder(root=pasta_treino, transform=transformacoes['treino']),\n",
    "            'validacao': datasets.ImageFolder(root=pasta_validacao, transform=transformacoes['validacao'])\n",
    "        }\n",
    "        return data\n",
    "\n",
    "    def get_data_loaders(self):\n",
    "        data = self.load_data()\n",
    "        data_loader_treino = DataLoader(data['treino'], batch_size=self.batch_size, shuffle=True)\n",
    "        data_loader_validacao = DataLoader(data['validacao'], batch_size=self.batch_size, shuffle=True)\n",
    "        return data_loader_treino, data_loader_validacao, len(data['treino']), len(data['validacao']), len(data['treino'].classes)\n",
    "\n",
    "# Classe para o modelo\n",
    "class CustomResNet50:\n",
    "    def __init__(self, num_classes):\n",
    "        self.model = models.resnet50(pretrained=True)\n",
    "        for param in self.model.parameters():\n",
    "            param.requires_grad = False  # Congelar as camadas\n",
    "        for param in self.model.layer4.parameters():  # Descongelar o bloco \"layer4\"\n",
    "            param.requires_grad = True\n",
    "\n",
    "        num_features = self.model.fc.in_features\n",
    "        self.model.fc = nn.Sequential(\n",
    "            nn.Linear(num_features, 512),\n",
    "            nn.ReLU(),\n",
    "            nn.Dropout(0.5),\n",
    "            nn.Linear(512, num_classes)\n",
    "        )\n",
    "\n",
    "    def get_model(self):\n",
    "        return self.model\n",
    "    \n",
    "    \n",
    "class CustomResNet152:\n",
    "    def __init__(self, num_classes):\n",
    "        self.model = models.resnet152(pretrained=True)  # Usando ResNet-152\n",
    "        \n",
    "        # Congelar todas as camadas\n",
    "        for param in self.model.parameters():\n",
    "            param.requires_grad = False  \n",
    "\n",
    "        # Descongelar as camadas do bloco \"layer4\"\n",
    "        for param in self.model.layer4.parameters():\n",
    "            param.requires_grad = True\n",
    "\n",
    "        # Substituir a camada totalmente conectada (fc)\n",
    "        num_features = self.model.fc.in_features\n",
    "        self.model.fc = nn.Sequential(\n",
    "            nn.Linear(num_features, 512),\n",
    "            nn.ReLU(),\n",
    "            nn.Dropout(0.5),\n",
    "            nn.Linear(512, num_classes)\n",
    "        )\n",
    "\n",
    "    def get_model(self):\n",
    "        return self.model\n",
    "\n",
    "\n",
    "class Trainer:\n",
    "    def __init__(self, model, data_loader_treino, data_loader_validacao, num_imagens_treino, num_imagens_validacao, device, num_classes, patience=5, nameModel='model.pt'):\n",
    "        self.model = model\n",
    "        self.data_loader_treino = data_loader_treino\n",
    "        self.data_loader_validacao = data_loader_validacao\n",
    "        self.num_imagens_treino = num_imagens_treino\n",
    "        self.num_imagens_validacao = num_imagens_validacao\n",
    "        self.device = device\n",
    "        self.funcao_erro = nn.CrossEntropyLoss()\n",
    "        self.otimizador = optim.Adam(self.model.parameters(), lr=0.0001, weight_decay=1e-4)\n",
    "        self.scheduler = ReduceLROnPlateau(self.otimizador, mode='min', factor=0.1, patience=3, verbose=True)\n",
    "        self.patience = patience\n",
    "        self.nameModel = nameModel\n",
    "\n",
    "    def treinar_e_validar(self, epocas):\n",
    "        historico = []\n",
    "        melhor_acuracia = 0.0\n",
    "        early_stop_counter = 0\n",
    "\n",
    "        for epoca in range(epocas):\n",
    "            inicio_epoca = time.time()\n",
    "            print(f\"\\n\\nÉpoca: {epoca + 1}/{epocas}\")\n",
    "            erro_treino, acuracia_treino = self.executar_fase('treino')\n",
    "            erro_validacao, acuracia_validacao, predicoes_validacao, labels_validacao = self.executar_fase('validacao', return_predictions=True)\n",
    "\n",
    "            fim_epoca = time.time()\n",
    "            print(f\"Época {epoca + 1}/{epocas}, Treino: Erro: {erro_treino:.4f}, Acurácia: {acuracia_treino * 100:.2f}%, \"\n",
    "                  f\"Validação: Erro: {erro_validacao:.4f}, Acurácia: {acuracia_validacao * 100:.2f}%, Tempo: {fim_epoca - inicio_epoca:.2f}s\")\n",
    "\n",
    "            historico.append([erro_treino, erro_validacao, acuracia_treino, acuracia_validacao])\n",
    "            self.scheduler.step(erro_validacao)\n",
    "\n",
    "            # Early stopping\n",
    "            if acuracia_validacao > melhor_acuracia:\n",
    "                melhor_acuracia = acuracia_validacao\n",
    "                torch.save(self.model.state_dict(), self.nameModel)\n",
    "                early_stop_counter = 0\n",
    "            else:\n",
    "                early_stop_counter += 1\n",
    "\n",
    "            if early_stop_counter >= self.patience:\n",
    "                print(\"Parando o treinamento devido ao early stopping.\")\n",
    "                break\n",
    "\n",
    "        # Calcular métricas finais\n",
    "        self.calcular_metricas(predicoes_validacao, labels_validacao)\n",
    "        return historico\n",
    "\n",
    "    def executar_fase(self, fase, return_predictions=False):\n",
    "        if fase == 'treino':\n",
    "            self.model.train()\n",
    "            data_loader = self.data_loader_treino\n",
    "            num_imagens = self.num_imagens_treino\n",
    "        else:\n",
    "            self.model.eval()\n",
    "            data_loader = self.data_loader_validacao\n",
    "            num_imagens = self.num_imagens_validacao\n",
    "\n",
    "        erro_total = 0.0\n",
    "        acuracia_total = 0.0\n",
    "        todas_predicoes = []\n",
    "        todas_labels = []\n",
    "\n",
    "        with torch.set_grad_enabled(fase == 'treino'):\n",
    "            for entradas, labels in data_loader:\n",
    "                entradas, labels = entradas.to(self.device), labels.to(self.device)\n",
    "\n",
    "                if fase == 'treino':\n",
    "                    self.otimizador.zero_grad()\n",
    "\n",
    "                saidas = self.model(entradas)\n",
    "                erro = self.funcao_erro(saidas, labels)\n",
    "\n",
    "                if fase == 'treino':\n",
    "                    erro.backward()\n",
    "                    self.otimizador.step()\n",
    "\n",
    "                erro_total += erro.item() * entradas.size(0)\n",
    "                _, predicoes = torch.max(saidas, 1)\n",
    "                acuracia_total += (predicoes == labels).sum().item()\n",
    "\n",
    "                if return_predictions:\n",
    "                    todas_predicoes.extend(predicoes.cpu().numpy())\n",
    "                    todas_labels.extend(labels.cpu().numpy())\n",
    "\n",
    "        erro_medio = erro_total / num_imagens\n",
    "        acuracia_media = acuracia_total / num_imagens\n",
    "\n",
    "        if return_predictions:\n",
    "            return erro_medio, acuracia_media, todas_predicoes, todas_labels\n",
    "        else:\n",
    "            return erro_medio, acuracia_media\n",
    "\n",
    "    def calcular_metricas(self, predicoes, labels):\n",
    "        acuracia = accuracy_score(labels, predicoes)\n",
    "        precisao = precision_score(labels, predicoes, average='weighted')\n",
    "        recall = recall_score(labels, predicoes, average='weighted')\n",
    "        f1 = f1_score(labels, predicoes, average='weighted')\n",
    "\n",
    "        print(\"\\nMétricas de Validação:\")\n",
    "        print(f\"Acurácia: {acuracia:.4f}\")\n",
    "        print(f\"Precisão: {precisao:.4f}\")\n",
    "        print(f\"Recall: {recall:.4f}\")\n",
    "        print(f\"F1-Score: {f1:.4f}\")\n",
    "\n",
    "        print(\"\\nRelatório de Classificação:\")\n",
    "        print(classification_report(labels, predicoes))\n",
    "\n",
    "        self.plotar_matriz_confusao(labels, predicoes)\n",
    "\n",
    "    def plotar_matriz_confusao(self, labels, predicoes):\n",
    "        matriz_confusao = confusion_matrix(labels, predicoes)\n",
    "        accuracy = np.trace(matriz_confusao) / np.sum(matriz_confusao)  # Calcula a taxa de acerto\n",
    "        plt.figure(figsize=(10, 8))\n",
    "        sns.heatmap(matriz_confusao, annot=True, fmt=\"d\", cmap=\"Blues\",\n",
    "                    xticklabels=self.data_loader_treino.dataset.classes,\n",
    "                    yticklabels=self.data_loader_treino.dataset.classes)\n",
    "        plt.ylabel('Classe Verdadeira')\n",
    "        plt.xlabel('Classe Prevista')\n",
    "        plt.title(f'Matriz de Confusão (Taxa de Acerto: {accuracy:.2%})')  # Exibe a taxa de acerto como porcentagem\n",
    "        plt.show()\n",
    "\n"
   ]
  },
  {
   "cell_type": "markdown",
   "metadata": {},
   "source": [
    "# Dados puros"
   ]
  },
  {
   "cell_type": "code",
   "execution_count": 8,
   "metadata": {},
   "outputs": [
    {
     "name": "stdout",
     "output_type": "stream",
     "text": [
      "Dispositivo utilizado: cuda:0\n",
      "\n",
      "\n",
      "Época: 1/30\n",
      "Época 1/30, Treino: Erro: 1.3912, Acurácia: 46.74%, Validação: Erro: 1.1958, Acurácia: 53.94%, Tempo: 431.13s\n",
      "\n",
      "\n",
      "Época: 2/30\n",
      "Época 2/30, Treino: Erro: 1.2026, Acurácia: 55.05%, Validação: Erro: 1.1339, Acurácia: 57.79%, Tempo: 425.71s\n",
      "\n",
      "\n",
      "Época: 3/30\n",
      "Época 3/30, Treino: Erro: 1.1408, Acurácia: 57.31%, Validação: Erro: 1.0538, Acurácia: 60.16%, Tempo: 425.92s\n",
      "\n",
      "\n",
      "Época: 4/30\n",
      "Época 4/30, Treino: Erro: 1.0922, Acurácia: 59.20%, Validação: Erro: 1.0417, Acurácia: 60.74%, Tempo: 426.36s\n",
      "\n",
      "\n",
      "Época: 5/30\n",
      "Época 5/30, Treino: Erro: 1.0583, Acurácia: 60.75%, Validação: Erro: 1.0244, Acurácia: 61.60%, Tempo: 426.03s\n",
      "\n",
      "\n",
      "Época: 6/30\n",
      "Época 6/30, Treino: Erro: 1.0329, Acurácia: 61.62%, Validação: Erro: 1.0182, Acurácia: 61.86%, Tempo: 426.11s\n",
      "\n",
      "\n",
      "Época: 7/30\n",
      "Época 7/30, Treino: Erro: 1.0086, Acurácia: 62.50%, Validação: Erro: 0.9937, Acurácia: 64.00%, Tempo: 425.88s\n",
      "\n",
      "\n",
      "Época: 8/30\n",
      "Época 8/30, Treino: Erro: 0.9855, Acurácia: 63.75%, Validação: Erro: 1.0018, Acurácia: 63.33%, Tempo: 427.59s\n",
      "\n",
      "\n",
      "Época: 9/30\n",
      "Época 9/30, Treino: Erro: 0.9690, Acurácia: 63.97%, Validação: Erro: 1.0003, Acurácia: 64.47%, Tempo: 427.84s\n",
      "\n",
      "\n",
      "Época: 10/30\n",
      "Época 10/30, Treino: Erro: 0.9511, Acurácia: 64.66%, Validação: Erro: 1.0558, Acurácia: 62.19%, Tempo: 426.16s\n",
      "\n",
      "\n",
      "Época: 11/30\n",
      "Época 11/30, Treino: Erro: 0.9387, Acurácia: 65.05%, Validação: Erro: 1.0042, Acurácia: 64.14%, Tempo: 425.70s\n",
      "\n",
      "\n",
      "Época: 12/30\n",
      "Época 12/30, Treino: Erro: 0.8689, Acurácia: 68.26%, Validação: Erro: 0.9671, Acurácia: 65.67%, Tempo: 425.93s\n",
      "\n",
      "\n",
      "Época: 13/30\n",
      "Época 13/30, Treino: Erro: 0.8434, Acurácia: 68.49%, Validação: Erro: 0.9519, Acurácia: 66.37%, Tempo: 426.03s\n",
      "\n",
      "\n",
      "Época: 14/30\n",
      "Época 14/30, Treino: Erro: 0.8329, Acurácia: 69.27%, Validação: Erro: 0.9557, Acurácia: 65.95%, Tempo: 426.15s\n",
      "\n",
      "\n",
      "Época: 15/30\n",
      "Época 15/30, Treino: Erro: 0.8218, Acurácia: 69.49%, Validação: Erro: 0.9578, Acurácia: 66.17%, Tempo: 425.76s\n",
      "\n",
      "\n",
      "Época: 16/30\n",
      "Época 16/30, Treino: Erro: 0.8167, Acurácia: 69.58%, Validação: Erro: 0.9690, Acurácia: 65.95%, Tempo: 425.83s\n",
      "\n",
      "\n",
      "Época: 17/30\n",
      "Época 17/30, Treino: Erro: 0.8113, Acurácia: 70.16%, Validação: Erro: 0.9700, Acurácia: 66.43%, Tempo: 427.89s\n",
      "\n",
      "\n",
      "Época: 18/30\n",
      "Época 18/30, Treino: Erro: 0.8016, Acurácia: 70.40%, Validação: Erro: 0.9637, Acurácia: 66.84%, Tempo: 428.31s\n",
      "\n",
      "\n",
      "Época: 19/30\n",
      "Época 19/30, Treino: Erro: 0.7990, Acurácia: 70.72%, Validação: Erro: 0.9612, Acurácia: 66.84%, Tempo: 427.09s\n",
      "\n",
      "\n",
      "Época: 20/30\n",
      "Época 20/30, Treino: Erro: 0.7981, Acurácia: 70.27%, Validação: Erro: 0.9614, Acurácia: 66.95%, Tempo: 426.24s\n",
      "\n",
      "\n",
      "Época: 21/30\n",
      "Época 21/30, Treino: Erro: 0.7943, Acurácia: 70.45%, Validação: Erro: 0.9564, Acurácia: 66.45%, Tempo: 426.32s\n",
      "\n",
      "\n",
      "Época: 22/30\n",
      "Época 22/30, Treino: Erro: 0.7953, Acurácia: 70.46%, Validação: Erro: 0.9686, Acurácia: 66.31%, Tempo: 426.23s\n",
      "\n",
      "\n",
      "Época: 23/30\n",
      "Época 23/30, Treino: Erro: 0.7912, Acurácia: 70.90%, Validação: Erro: 0.9612, Acurácia: 66.87%, Tempo: 426.04s\n",
      "\n",
      "\n",
      "Época: 24/30\n",
      "Época 24/30, Treino: Erro: 0.7929, Acurácia: 70.60%, Validação: Erro: 0.9661, Acurácia: 67.18%, Tempo: 425.25s\n",
      "\n",
      "\n",
      "Época: 25/30\n",
      "Época 25/30, Treino: Erro: 0.7962, Acurácia: 70.61%, Validação: Erro: 0.9637, Acurácia: 66.62%, Tempo: 426.10s\n",
      "\n",
      "\n",
      "Época: 26/30\n",
      "Época 26/30, Treino: Erro: 0.7886, Acurácia: 70.61%, Validação: Erro: 0.9627, Acurácia: 66.37%, Tempo: 427.51s\n",
      "\n",
      "\n",
      "Época: 27/30\n",
      "Época 27/30, Treino: Erro: 0.7954, Acurácia: 70.44%, Validação: Erro: 0.9673, Acurácia: 66.45%, Tempo: 427.96s\n",
      "\n",
      "\n",
      "Época: 28/30\n",
      "Época 28/30, Treino: Erro: 0.7889, Acurácia: 70.68%, Validação: Erro: 0.9686, Acurácia: 66.15%, Tempo: 426.38s\n",
      "\n",
      "\n",
      "Época: 29/30\n",
      "Época 29/30, Treino: Erro: 0.7913, Acurácia: 70.72%, Validação: Erro: 0.9634, Acurácia: 66.62%, Tempo: 425.55s\n",
      "Parando o treinamento devido ao early stopping.\n",
      "\n",
      "Métricas de Validação:\n",
      "Acurácia: 0.6662\n",
      "Precisão: 0.6711\n",
      "Recall: 0.6662\n",
      "F1-Score: 0.6628\n",
      "\n",
      "Relatório de Classificação:\n",
      "              precision    recall  f1-score   support\n",
      "\n",
      "           0       0.55      0.63      0.59       467\n",
      "           1       0.69      0.43      0.53        56\n",
      "           2       0.60      0.38      0.47       496\n",
      "           3       0.86      0.86      0.86       895\n",
      "           4       0.55      0.70      0.61       607\n",
      "           5       0.57      0.57      0.57       653\n",
      "           6       0.81      0.77      0.79       415\n",
      "\n",
      "    accuracy                           0.67      3589\n",
      "   macro avg       0.66      0.62      0.63      3589\n",
      "weighted avg       0.67      0.67      0.66      3589\n",
      "\n"
     ]
    },
    {
     "data": {
      "image/png": "[encoded data removed]",
      "text/plain": [
       "<Figure size 1000x800 with 2 Axes>"
      ]
     },
     "metadata": {},
     "output_type": "display_data"
    }
   ],
   "source": [
    "dataset_path = '../data/Fer-2013/'\n",
    "device = torch.device(\"cuda:0\" if torch.cuda.is_available() else \"cpu\")\n",
    "print(f\"Dispositivo utilizado: {device}\")\n",
    "\n",
    "    # Preparar DataLoaders\n",
    "data_loader_setup = DataLoaderSetup(dataset_path, image_size=224, batch_size=32)\n",
    "data_loader_treino, data_loader_validacao, num_imagens_treino, num_imagens_validacao, num_classes = data_loader_setup.get_data_loaders()\n",
    "\n",
    "    # Carregar o modelo\n",
    "modelo = CustomResNet152(num_classes).get_model().to(device)\n",
    "nameModel = 'novosModels/fer_dados1.pt'\n",
    "patience = 5\n",
    "    # Treinar e validar\n",
    "trainer = Trainer(modelo, data_loader_treino, data_loader_validacao, num_imagens_treino, num_imagens_validacao, device, num_classes, patience,nameModel)\n",
    "historico = trainer.treinar_e_validar(epocas=30)\n"
   ]
  },
  {
   "cell_type": "code",
   "execution_count": 9,
   "metadata": {},
   "outputs": [
    {
     "name": "stdout",
     "output_type": "stream",
     "text": [
      "Treinando com hiperparâmetros: {'epochs': 20, 'lr': 0.0001, 'patience': 3, 'weight_decay': 0.0001}\n"
     ]
    },
    {
     "name": "stderr",
     "output_type": "stream",
     "text": [
      "c:\\Users\\Danil\\AppData\\Local\\Programs\\Python\\Python310\\lib\\site-packages\\torchvision\\models\\_utils.py:208: UserWarning: The parameter 'pretrained' is deprecated since 0.13 and may be removed in the future, please use 'weights' instead.\n",
      "  warnings.warn(\n",
      "c:\\Users\\Danil\\AppData\\Local\\Programs\\Python\\Python310\\lib\\site-packages\\torchvision\\models\\_utils.py:223: UserWarning: Arguments other than a weight enum or `None` for 'weights' are deprecated since 0.13 and may be removed in the future. The current behavior is equivalent to passing `weights=ResNet50_Weights.IMAGENET1K_V1`. You can also use `weights=ResNet50_Weights.DEFAULT` to get the most up-to-date weights.\n",
      "  warnings.warn(msg)\n",
      "c:\\Users\\Danil\\AppData\\Local\\Programs\\Python\\Python310\\lib\\site-packages\\torch\\optim\\lr_scheduler.py:60: UserWarning: The verbose parameter is deprecated. Please use get_last_lr() to access the learning rate.\n",
      "  warnings.warn(\n"
     ]
    },
    {
     "name": "stdout",
     "output_type": "stream",
     "text": [
      "\n",
      "Epoch 1/20\n"
     ]
    },
    {
     "name": "stderr",
     "output_type": "stream",
     "text": [
      "                                                                 \r"
     ]
    },
    {
     "name": "stdout",
     "output_type": "stream",
     "text": [
      "Train: Loss: 1.3638, Accuracy: 48.21%\n",
      "Validation: Loss: 1.2064, Accuracy: 54.36%\n",
      "\n",
      "Epoch 2/20\n"
     ]
    },
    {
     "name": "stderr",
     "output_type": "stream",
     "text": [
      "                                                                 \r"
     ]
    },
    {
     "name": "stdout",
     "output_type": "stream",
     "text": [
      "Train: Loss: 1.1840, Accuracy: 55.77%\n",
      "Validation: Loss: 1.0853, Accuracy: 59.52%\n",
      "\n",
      "Epoch 3/20\n"
     ]
    },
    {
     "name": "stderr",
     "output_type": "stream",
     "text": [
      "                                                                 \r"
     ]
    },
    {
     "name": "stdout",
     "output_type": "stream",
     "text": [
      "Train: Loss: 1.1239, Accuracy: 58.09%\n",
      "Validation: Loss: 1.0969, Accuracy: 59.96%\n",
      "\n",
      "Epoch 4/20\n"
     ]
    },
    {
     "name": "stderr",
     "output_type": "stream",
     "text": [
      "                                                                 \r"
     ]
    },
    {
     "name": "stdout",
     "output_type": "stream",
     "text": [
      "Train: Loss: 1.0774, Accuracy: 59.63%\n",
      "Validation: Loss: 1.0426, Accuracy: 61.13%\n",
      "\n",
      "Epoch 5/20\n"
     ]
    },
    {
     "name": "stderr",
     "output_type": "stream",
     "text": [
      "                                                                 \r"
     ]
    },
    {
     "name": "stdout",
     "output_type": "stream",
     "text": [
      "Train: Loss: 1.0433, Accuracy: 61.07%\n",
      "Validation: Loss: 1.0126, Accuracy: 61.83%\n",
      "\n",
      "Epoch 6/20\n"
     ]
    },
    {
     "name": "stderr",
     "output_type": "stream",
     "text": [
      "                                                                 \r"
     ]
    },
    {
     "name": "stdout",
     "output_type": "stream",
     "text": [
      "Train: Loss: 1.0189, Accuracy: 62.08%\n",
      "Validation: Loss: 1.0207, Accuracy: 62.05%\n",
      "\n",
      "Epoch 7/20\n"
     ]
    },
    {
     "name": "stderr",
     "output_type": "stream",
     "text": [
      "                                                                 \r"
     ]
    },
    {
     "name": "stdout",
     "output_type": "stream",
     "text": [
      "Train: Loss: 0.9984, Accuracy: 62.59%\n",
      "Validation: Loss: 0.9821, Accuracy: 62.83%\n",
      "\n",
      "Epoch 8/20\n"
     ]
    },
    {
     "name": "stderr",
     "output_type": "stream",
     "text": [
      "                                                                 \r"
     ]
    },
    {
     "name": "stdout",
     "output_type": "stream",
     "text": [
      "Train: Loss: 0.9653, Accuracy: 64.57%\n",
      "Validation: Loss: 0.9864, Accuracy: 63.44%\n",
      "\n",
      "Epoch 9/20\n"
     ]
    },
    {
     "name": "stderr",
     "output_type": "stream",
     "text": [
      "                                                                 \r"
     ]
    },
    {
     "name": "stdout",
     "output_type": "stream",
     "text": [
      "Train: Loss: 0.9631, Accuracy: 64.17%\n",
      "Validation: Loss: 0.9794, Accuracy: 63.44%\n",
      "\n",
      "Epoch 10/20\n"
     ]
    },
    {
     "name": "stderr",
     "output_type": "stream",
     "text": [
      "                                                                 \r"
     ]
    },
    {
     "name": "stdout",
     "output_type": "stream",
     "text": [
      "Train: Loss: 0.9388, Accuracy: 65.30%\n",
      "Validation: Loss: 1.0271, Accuracy: 63.36%\n",
      "\n",
      "Epoch 11/20\n"
     ]
    },
    {
     "name": "stderr",
     "output_type": "stream",
     "text": [
      "                                                                 \r"
     ]
    },
    {
     "name": "stdout",
     "output_type": "stream",
     "text": [
      "Train: Loss: 0.9251, Accuracy: 65.83%\n",
      "Validation: Loss: 1.0085, Accuracy: 63.47%\n",
      "\n",
      "Epoch 12/20\n"
     ]
    },
    {
     "name": "stderr",
     "output_type": "stream",
     "text": [
      "                                                                 \r"
     ]
    },
    {
     "name": "stdout",
     "output_type": "stream",
     "text": [
      "Train: Loss: 0.9099, Accuracy: 66.44%\n",
      "Validation: Loss: 1.0284, Accuracy: 63.67%\n",
      "\n",
      "Epoch 13/20\n"
     ]
    },
    {
     "name": "stderr",
     "output_type": "stream",
     "text": [
      "                                                                 \r"
     ]
    },
    {
     "name": "stdout",
     "output_type": "stream",
     "text": [
      "Train: Loss: 0.8967, Accuracy: 66.74%\n",
      "Validation: Loss: 0.9845, Accuracy: 63.53%\n",
      "\n",
      "Epoch 14/20\n"
     ]
    },
    {
     "name": "stderr",
     "output_type": "stream",
     "text": [
      "                                                                 \r"
     ]
    },
    {
     "name": "stdout",
     "output_type": "stream",
     "text": [
      "Train: Loss: 0.8240, Accuracy: 69.65%\n",
      "Validation: Loss: 0.9772, Accuracy: 64.84%\n",
      "\n",
      "Epoch 15/20\n"
     ]
    },
    {
     "name": "stderr",
     "output_type": "stream",
     "text": [
      "                                                                 \r"
     ]
    },
    {
     "name": "stdout",
     "output_type": "stream",
     "text": [
      "Train: Loss: 0.8068, Accuracy: 70.19%\n",
      "Validation: Loss: 0.9684, Accuracy: 64.98%\n",
      "\n",
      "Epoch 16/20\n"
     ]
    },
    {
     "name": "stderr",
     "output_type": "stream",
     "text": [
      "                                                                 \r"
     ]
    },
    {
     "name": "stdout",
     "output_type": "stream",
     "text": [
      "Train: Loss: 0.7916, Accuracy: 70.78%\n",
      "Validation: Loss: 0.9692, Accuracy: 65.56%\n",
      "\n",
      "Epoch 17/20\n"
     ]
    },
    {
     "name": "stderr",
     "output_type": "stream",
     "text": [
      "                                                                 \r"
     ]
    },
    {
     "name": "stdout",
     "output_type": "stream",
     "text": [
      "Train: Loss: 0.7782, Accuracy: 71.51%\n",
      "Validation: Loss: 0.9794, Accuracy: 65.90%\n",
      "\n",
      "Epoch 18/20\n"
     ]
    },
    {
     "name": "stderr",
     "output_type": "stream",
     "text": [
      "                                                                 \r"
     ]
    },
    {
     "name": "stdout",
     "output_type": "stream",
     "text": [
      "Train: Loss: 0.7757, Accuracy: 71.31%\n",
      "Validation: Loss: 0.9814, Accuracy: 65.87%\n",
      "\n",
      "Epoch 19/20\n"
     ]
    },
    {
     "name": "stderr",
     "output_type": "stream",
     "text": [
      "                                                                 \r"
     ]
    },
    {
     "name": "stdout",
     "output_type": "stream",
     "text": [
      "Train: Loss: 0.7652, Accuracy: 71.51%\n",
      "Validation: Loss: 0.9876, Accuracy: 65.42%\n",
      "\n",
      "Epoch 20/20\n"
     ]
    },
    {
     "name": "stderr",
     "output_type": "stream",
     "text": [
      "                                                                 \r"
     ]
    },
    {
     "name": "stdout",
     "output_type": "stream",
     "text": [
      "Train: Loss: 0.7524, Accuracy: 72.27%\n",
      "Validation: Loss: 0.9893, Accuracy: 65.59%\n",
      "Early stopping triggered.\n",
      "Novo melhor modelo encontrado com precisão: 0.6590\n",
      "Treinando com hiperparâmetros: {'epochs': 20, 'lr': 0.0001, 'patience': 3, 'weight_decay': 1e-05}\n",
      "\n",
      "Epoch 1/20\n"
     ]
    },
    {
     "name": "stderr",
     "output_type": "stream",
     "text": [
      "                                                                 \r"
     ]
    },
    {
     "name": "stdout",
     "output_type": "stream",
     "text": [
      "Train: Loss: 1.3611, Accuracy: 48.10%\n",
      "Validation: Loss: 1.1565, Accuracy: 56.45%\n",
      "\n",
      "Epoch 2/20\n"
     ]
    },
    {
     "name": "stderr",
     "output_type": "stream",
     "text": [
      "                                                                 \r"
     ]
    },
    {
     "name": "stdout",
     "output_type": "stream",
     "text": [
      "Train: Loss: 1.1796, Accuracy: 55.99%\n",
      "Validation: Loss: 1.0823, Accuracy: 57.76%\n",
      "\n",
      "Epoch 3/20\n"
     ]
    },
    {
     "name": "stderr",
     "output_type": "stream",
     "text": [
      "                                                                 \r"
     ]
    },
    {
     "name": "stdout",
     "output_type": "stream",
     "text": [
      "Train: Loss: 1.1162, Accuracy: 58.22%\n",
      "Validation: Loss: 1.0461, Accuracy: 60.85%\n",
      "\n",
      "Epoch 4/20\n"
     ]
    },
    {
     "name": "stderr",
     "output_type": "stream",
     "text": [
      "                                                                 \r"
     ]
    },
    {
     "name": "stdout",
     "output_type": "stream",
     "text": [
      "Train: Loss: 1.0768, Accuracy: 60.21%\n",
      "Validation: Loss: 1.0437, Accuracy: 61.72%\n",
      "\n",
      "Epoch 5/20\n"
     ]
    },
    {
     "name": "stderr",
     "output_type": "stream",
     "text": [
      "                                                                 \r"
     ]
    },
    {
     "name": "stdout",
     "output_type": "stream",
     "text": [
      "Train: Loss: 1.0416, Accuracy: 61.30%\n",
      "Validation: Loss: 0.9926, Accuracy: 63.53%\n",
      "\n",
      "Epoch 6/20\n"
     ]
    },
    {
     "name": "stderr",
     "output_type": "stream",
     "text": [
      "                                                                 \r"
     ]
    },
    {
     "name": "stdout",
     "output_type": "stream",
     "text": [
      "Train: Loss: 1.0125, Accuracy: 62.56%\n",
      "Validation: Loss: 0.9952, Accuracy: 63.03%\n",
      "\n",
      "Epoch 7/20\n"
     ]
    },
    {
     "name": "stderr",
     "output_type": "stream",
     "text": [
      "                                                                 \r"
     ]
    },
    {
     "name": "stdout",
     "output_type": "stream",
     "text": [
      "Train: Loss: 0.9934, Accuracy: 62.82%\n",
      "Validation: Loss: 1.0821, Accuracy: 60.55%\n",
      "\n",
      "Epoch 8/20\n"
     ]
    },
    {
     "name": "stderr",
     "output_type": "stream",
     "text": [
      "                                                                 \r"
     ]
    },
    {
     "name": "stdout",
     "output_type": "stream",
     "text": [
      "Train: Loss: 0.9658, Accuracy: 64.09%\n",
      "Validation: Loss: 1.0047, Accuracy: 63.19%\n",
      "Early stopping triggered.\n",
      "Treinando com hiperparâmetros: {'epochs': 20, 'lr': 0.0001, 'patience': 5, 'weight_decay': 0.0001}\n",
      "\n",
      "Epoch 1/20\n"
     ]
    },
    {
     "name": "stderr",
     "output_type": "stream",
     "text": [
      "                                                                 \r"
     ]
    },
    {
     "name": "stdout",
     "output_type": "stream",
     "text": [
      "Train: Loss: 1.3595, Accuracy: 48.04%\n",
      "Validation: Loss: 1.4009, Accuracy: 50.40%\n",
      "\n",
      "Epoch 2/20\n"
     ]
    },
    {
     "name": "stderr",
     "output_type": "stream",
     "text": [
      "                                                                 \r"
     ]
    },
    {
     "name": "stdout",
     "output_type": "stream",
     "text": [
      "Train: Loss: 1.1809, Accuracy: 55.79%\n",
      "Validation: Loss: 1.1497, Accuracy: 56.17%\n",
      "\n",
      "Epoch 3/20\n"
     ]
    },
    {
     "name": "stderr",
     "output_type": "stream",
     "text": [
      "                                                                 \r"
     ]
    },
    {
     "name": "stdout",
     "output_type": "stream",
     "text": [
      "Train: Loss: 1.1152, Accuracy: 58.53%\n",
      "Validation: Loss: 1.0622, Accuracy: 58.96%\n",
      "\n",
      "Epoch 4/20\n"
     ]
    },
    {
     "name": "stderr",
     "output_type": "stream",
     "text": [
      "                                                                 \r"
     ]
    },
    {
     "name": "stdout",
     "output_type": "stream",
     "text": [
      "Train: Loss: 1.0757, Accuracy: 59.67%\n",
      "Validation: Loss: 1.0326, Accuracy: 61.97%\n",
      "\n",
      "Epoch 5/20\n"
     ]
    },
    {
     "name": "stderr",
     "output_type": "stream",
     "text": [
      "                                                                 \r"
     ]
    },
    {
     "name": "stdout",
     "output_type": "stream",
     "text": [
      "Train: Loss: 1.0438, Accuracy: 61.17%\n",
      "Validation: Loss: 1.0390, Accuracy: 61.60%\n",
      "\n",
      "Epoch 6/20\n"
     ]
    },
    {
     "name": "stderr",
     "output_type": "stream",
     "text": [
      "                                                                 \r"
     ]
    },
    {
     "name": "stdout",
     "output_type": "stream",
     "text": [
      "Train: Loss: 1.0169, Accuracy: 62.26%\n",
      "Validation: Loss: 0.9747, Accuracy: 63.17%\n",
      "\n",
      "Epoch 7/20\n"
     ]
    },
    {
     "name": "stderr",
     "output_type": "stream",
     "text": [
      "                                                                 \r"
     ]
    },
    {
     "name": "stdout",
     "output_type": "stream",
     "text": [
      "Train: Loss: 0.9865, Accuracy: 63.72%\n",
      "Validation: Loss: 1.0455, Accuracy: 62.30%\n",
      "\n",
      "Epoch 8/20\n"
     ]
    },
    {
     "name": "stderr",
     "output_type": "stream",
     "text": [
      "                                                                 \r"
     ]
    },
    {
     "name": "stdout",
     "output_type": "stream",
     "text": [
      "Train: Loss: 0.9723, Accuracy: 63.81%\n",
      "Validation: Loss: 0.9737, Accuracy: 63.39%\n",
      "\n",
      "Epoch 9/20\n"
     ]
    },
    {
     "name": "stderr",
     "output_type": "stream",
     "text": [
      "                                                                 \r"
     ]
    },
    {
     "name": "stdout",
     "output_type": "stream",
     "text": [
      "Train: Loss: 0.9571, Accuracy: 64.32%\n",
      "Validation: Loss: 1.0299, Accuracy: 63.39%\n",
      "\n",
      "Epoch 10/20\n"
     ]
    },
    {
     "name": "stderr",
     "output_type": "stream",
     "text": [
      "                                                                 \r"
     ]
    },
    {
     "name": "stdout",
     "output_type": "stream",
     "text": [
      "Train: Loss: 0.9333, Accuracy: 65.38%\n",
      "Validation: Loss: 0.9787, Accuracy: 64.86%\n",
      "\n",
      "Epoch 11/20\n"
     ]
    },
    {
     "name": "stderr",
     "output_type": "stream",
     "text": [
      "                                                                 \r"
     ]
    },
    {
     "name": "stdout",
     "output_type": "stream",
     "text": [
      "Train: Loss: 0.9208, Accuracy: 65.93%\n",
      "Validation: Loss: 1.0098, Accuracy: 63.30%\n",
      "\n",
      "Epoch 12/20\n"
     ]
    },
    {
     "name": "stderr",
     "output_type": "stream",
     "text": [
      "                                                                 \r"
     ]
    },
    {
     "name": "stdout",
     "output_type": "stream",
     "text": [
      "Train: Loss: 0.9031, Accuracy: 66.75%\n",
      "Validation: Loss: 0.9957, Accuracy: 64.56%\n",
      "\n",
      "Epoch 13/20\n"
     ]
    },
    {
     "name": "stderr",
     "output_type": "stream",
     "text": [
      "                                                                 \r"
     ]
    },
    {
     "name": "stdout",
     "output_type": "stream",
     "text": [
      "Train: Loss: 0.8364, Accuracy: 68.88%\n",
      "Validation: Loss: 0.9576, Accuracy: 65.42%\n",
      "\n",
      "Epoch 14/20\n"
     ]
    },
    {
     "name": "stderr",
     "output_type": "stream",
     "text": [
      "                                                                 \r"
     ]
    },
    {
     "name": "stdout",
     "output_type": "stream",
     "text": [
      "Train: Loss: 0.8071, Accuracy: 69.99%\n",
      "Validation: Loss: 0.9827, Accuracy: 65.56%\n",
      "\n",
      "Epoch 15/20\n"
     ]
    },
    {
     "name": "stderr",
     "output_type": "stream",
     "text": [
      "                                                                 \r"
     ]
    },
    {
     "name": "stdout",
     "output_type": "stream",
     "text": [
      "Train: Loss: 0.7968, Accuracy: 70.64%\n",
      "Validation: Loss: 0.9829, Accuracy: 65.34%\n",
      "\n",
      "Epoch 16/20\n"
     ]
    },
    {
     "name": "stderr",
     "output_type": "stream",
     "text": [
      "                                                                 \r"
     ]
    },
    {
     "name": "stdout",
     "output_type": "stream",
     "text": [
      "Train: Loss: 0.7885, Accuracy: 71.03%\n",
      "Validation: Loss: 0.9626, Accuracy: 65.84%\n",
      "\n",
      "Epoch 17/20\n"
     ]
    },
    {
     "name": "stderr",
     "output_type": "stream",
     "text": [
      "                                                                 \r"
     ]
    },
    {
     "name": "stdout",
     "output_type": "stream",
     "text": [
      "Train: Loss: 0.7743, Accuracy: 71.56%\n",
      "Validation: Loss: 0.9753, Accuracy: 65.70%\n",
      "\n",
      "Epoch 18/20\n"
     ]
    },
    {
     "name": "stderr",
     "output_type": "stream",
     "text": [
      "                                                                 \r"
     ]
    },
    {
     "name": "stdout",
     "output_type": "stream",
     "text": [
      "Train: Loss: 0.7630, Accuracy: 71.90%\n",
      "Validation: Loss: 0.9740, Accuracy: 66.01%\n",
      "\n",
      "Epoch 19/20\n"
     ]
    },
    {
     "name": "stderr",
     "output_type": "stream",
     "text": [
      "                                                                 \r"
     ]
    },
    {
     "name": "stdout",
     "output_type": "stream",
     "text": [
      "Train: Loss: 0.7634, Accuracy: 71.90%\n",
      "Validation: Loss: 0.9734, Accuracy: 65.56%\n",
      "\n",
      "Epoch 20/20\n"
     ]
    },
    {
     "name": "stderr",
     "output_type": "stream",
     "text": [
      "                                                                 \r"
     ]
    },
    {
     "name": "stdout",
     "output_type": "stream",
     "text": [
      "Train: Loss: 0.7669, Accuracy: 71.56%\n",
      "Validation: Loss: 0.9854, Accuracy: 65.90%\n",
      "Novo melhor modelo encontrado com precisão: 0.6601\n",
      "Treinando com hiperparâmetros: {'epochs': 20, 'lr': 0.0001, 'patience': 5, 'weight_decay': 1e-05}\n",
      "\n",
      "Epoch 1/20\n"
     ]
    },
    {
     "name": "stderr",
     "output_type": "stream",
     "text": [
      "                                                                 \r"
     ]
    },
    {
     "name": "stdout",
     "output_type": "stream",
     "text": [
      "Train: Loss: 1.3551, Accuracy: 48.30%\n",
      "Validation: Loss: 1.1547, Accuracy: 55.67%\n",
      "\n",
      "Epoch 2/20\n"
     ]
    },
    {
     "name": "stderr",
     "output_type": "stream",
     "text": [
      "                                                                 \r"
     ]
    },
    {
     "name": "stdout",
     "output_type": "stream",
     "text": [
      "Train: Loss: 1.1793, Accuracy: 56.14%\n",
      "Validation: Loss: 1.0972, Accuracy: 59.15%\n",
      "\n",
      "Epoch 3/20\n"
     ]
    },
    {
     "name": "stderr",
     "output_type": "stream",
     "text": [
      "                                                                 \r"
     ]
    },
    {
     "name": "stdout",
     "output_type": "stream",
     "text": [
      "Train: Loss: 1.1163, Accuracy: 58.77%\n",
      "Validation: Loss: 1.0461, Accuracy: 60.80%\n",
      "\n",
      "Epoch 4/20\n"
     ]
    },
    {
     "name": "stderr",
     "output_type": "stream",
     "text": [
      "                                                                 \r"
     ]
    },
    {
     "name": "stdout",
     "output_type": "stream",
     "text": [
      "Train: Loss: 1.0736, Accuracy: 60.17%\n",
      "Validation: Loss: 1.0259, Accuracy: 62.27%\n",
      "\n",
      "Epoch 5/20\n"
     ]
    },
    {
     "name": "stderr",
     "output_type": "stream",
     "text": [
      "                                                                 \r"
     ]
    },
    {
     "name": "stdout",
     "output_type": "stream",
     "text": [
      "Train: Loss: 1.0404, Accuracy: 61.70%\n",
      "Validation: Loss: 1.0347, Accuracy: 61.30%\n",
      "\n",
      "Epoch 6/20\n"
     ]
    },
    {
     "name": "stderr",
     "output_type": "stream",
     "text": [
      "                                                                 \r"
     ]
    },
    {
     "name": "stdout",
     "output_type": "stream",
     "text": [
      "Train: Loss: 1.0118, Accuracy: 62.56%\n",
      "Validation: Loss: 1.0186, Accuracy: 61.88%\n",
      "\n",
      "Epoch 7/20\n"
     ]
    },
    {
     "name": "stderr",
     "output_type": "stream",
     "text": [
      "                                                                 \r"
     ]
    },
    {
     "name": "stdout",
     "output_type": "stream",
     "text": [
      "Train: Loss: 0.9829, Accuracy: 63.39%\n",
      "Validation: Loss: 1.0797, Accuracy: 61.97%\n",
      "\n",
      "Epoch 8/20\n"
     ]
    },
    {
     "name": "stderr",
     "output_type": "stream",
     "text": [
      "                                                                 \r"
     ]
    },
    {
     "name": "stdout",
     "output_type": "stream",
     "text": [
      "Train: Loss: 0.9691, Accuracy: 64.12%\n",
      "Validation: Loss: 1.0083, Accuracy: 62.36%\n",
      "\n",
      "Epoch 9/20\n"
     ]
    },
    {
     "name": "stderr",
     "output_type": "stream",
     "text": [
      "                                                                 \r"
     ]
    },
    {
     "name": "stdout",
     "output_type": "stream",
     "text": [
      "Train: Loss: 0.9476, Accuracy: 64.63%\n",
      "Validation: Loss: 1.0282, Accuracy: 63.69%\n",
      "\n",
      "Epoch 10/20\n"
     ]
    },
    {
     "name": "stderr",
     "output_type": "stream",
     "text": [
      "                                                                 \r"
     ]
    },
    {
     "name": "stdout",
     "output_type": "stream",
     "text": [
      "Train: Loss: 0.9278, Accuracy: 65.85%\n",
      "Validation: Loss: 1.0199, Accuracy: 62.75%\n",
      "\n",
      "Epoch 11/20\n"
     ]
    },
    {
     "name": "stderr",
     "output_type": "stream",
     "text": [
      "                                                                 \r"
     ]
    },
    {
     "name": "stdout",
     "output_type": "stream",
     "text": [
      "Train: Loss: 0.9046, Accuracy: 66.23%\n",
      "Validation: Loss: 1.0053, Accuracy: 64.53%\n",
      "\n",
      "Epoch 12/20\n"
     ]
    },
    {
     "name": "stderr",
     "output_type": "stream",
     "text": [
      "                                                                 \r"
     ]
    },
    {
     "name": "stdout",
     "output_type": "stream",
     "text": [
      "Train: Loss: 0.9017, Accuracy: 66.79%\n",
      "Validation: Loss: 0.9733, Accuracy: 65.62%\n",
      "\n",
      "Epoch 13/20\n"
     ]
    },
    {
     "name": "stderr",
     "output_type": "stream",
     "text": [
      "                                                                 \r"
     ]
    },
    {
     "name": "stdout",
     "output_type": "stream",
     "text": [
      "Train: Loss: 0.8819, Accuracy: 67.54%\n",
      "Validation: Loss: 1.0171, Accuracy: 63.08%\n",
      "\n",
      "Epoch 14/20\n"
     ]
    },
    {
     "name": "stderr",
     "output_type": "stream",
     "text": [
      "                                                                 \r"
     ]
    },
    {
     "name": "stdout",
     "output_type": "stream",
     "text": [
      "Train: Loss: 0.8656, Accuracy: 68.09%\n",
      "Validation: Loss: 1.0037, Accuracy: 65.09%\n",
      "\n",
      "Epoch 15/20\n"
     ]
    },
    {
     "name": "stderr",
     "output_type": "stream",
     "text": [
      "                                                                 \r"
     ]
    },
    {
     "name": "stdout",
     "output_type": "stream",
     "text": [
      "Train: Loss: 0.8492, Accuracy: 69.16%\n",
      "Validation: Loss: 1.0018, Accuracy: 64.45%\n",
      "\n",
      "Epoch 16/20\n"
     ]
    },
    {
     "name": "stderr",
     "output_type": "stream",
     "text": [
      "                                                                 \r"
     ]
    },
    {
     "name": "stdout",
     "output_type": "stream",
     "text": [
      "Train: Loss: 0.8368, Accuracy: 69.45%\n",
      "Validation: Loss: 0.9758, Accuracy: 64.50%\n",
      "\n",
      "Epoch 17/20\n"
     ]
    },
    {
     "name": "stderr",
     "output_type": "stream",
     "text": [
      "                                                                 \r"
     ]
    },
    {
     "name": "stdout",
     "output_type": "stream",
     "text": [
      "Train: Loss: 0.7646, Accuracy: 71.94%\n",
      "Validation: Loss: 0.9811, Accuracy: 66.17%\n",
      "\n",
      "Epoch 18/20\n"
     ]
    },
    {
     "name": "stderr",
     "output_type": "stream",
     "text": [
      "                                                                 \r"
     ]
    },
    {
     "name": "stdout",
     "output_type": "stream",
     "text": [
      "Train: Loss: 0.7432, Accuracy: 72.59%\n",
      "Validation: Loss: 0.9753, Accuracy: 66.37%\n",
      "\n",
      "Epoch 19/20\n"
     ]
    },
    {
     "name": "stderr",
     "output_type": "stream",
     "text": [
      "                                                                 \r"
     ]
    },
    {
     "name": "stdout",
     "output_type": "stream",
     "text": [
      "Train: Loss: 0.7259, Accuracy: 73.28%\n",
      "Validation: Loss: 1.0039, Accuracy: 66.20%\n",
      "\n",
      "Epoch 20/20\n"
     ]
    },
    {
     "name": "stderr",
     "output_type": "stream",
     "text": [
      "                                                                 \r"
     ]
    },
    {
     "name": "stdout",
     "output_type": "stream",
     "text": [
      "Train: Loss: 0.7204, Accuracy: 73.40%\n",
      "Validation: Loss: 1.0085, Accuracy: 66.20%\n",
      "Novo melhor modelo encontrado com precisão: 0.6637\n",
      "Treinando com hiperparâmetros: {'epochs': 20, 'lr': 0.001, 'patience': 3, 'weight_decay': 0.0001}\n",
      "\n",
      "Epoch 1/20\n"
     ]
    },
    {
     "name": "stderr",
     "output_type": "stream",
     "text": [
      "                                                                 \r"
     ]
    },
    {
     "name": "stdout",
     "output_type": "stream",
     "text": [
      "Train: Loss: 1.4591, Accuracy: 44.11%\n",
      "Validation: Loss: 1.3794, Accuracy: 47.70%\n",
      "\n",
      "Epoch 2/20\n"
     ]
    },
    {
     "name": "stderr",
     "output_type": "stream",
     "text": [
      "                                                                 \r"
     ]
    },
    {
     "name": "stdout",
     "output_type": "stream",
     "text": [
      "Train: Loss: 1.2984, Accuracy: 50.71%\n",
      "Validation: Loss: 1.2839, Accuracy: 51.18%\n",
      "\n",
      "Epoch 3/20\n"
     ]
    },
    {
     "name": "stderr",
     "output_type": "stream",
     "text": [
      "                                                                 \r"
     ]
    },
    {
     "name": "stdout",
     "output_type": "stream",
     "text": [
      "Train: Loss: 1.2308, Accuracy: 53.88%\n",
      "Validation: Loss: 1.1539, Accuracy: 56.09%\n",
      "\n",
      "Epoch 4/20\n"
     ]
    },
    {
     "name": "stderr",
     "output_type": "stream",
     "text": [
      "                                                                 \r"
     ]
    },
    {
     "name": "stdout",
     "output_type": "stream",
     "text": [
      "Train: Loss: 1.1900, Accuracy: 55.77%\n",
      "Validation: Loss: 1.1506, Accuracy: 56.62%\n",
      "\n",
      "Epoch 5/20\n"
     ]
    },
    {
     "name": "stderr",
     "output_type": "stream",
     "text": [
      "                                                                 \r"
     ]
    },
    {
     "name": "stdout",
     "output_type": "stream",
     "text": [
      "Train: Loss: 1.1635, Accuracy: 56.88%\n",
      "Validation: Loss: 1.0932, Accuracy: 58.34%\n",
      "\n",
      "Epoch 6/20\n"
     ]
    },
    {
     "name": "stderr",
     "output_type": "stream",
     "text": [
      "                                                                 \r"
     ]
    },
    {
     "name": "stdout",
     "output_type": "stream",
     "text": [
      "Train: Loss: 1.1407, Accuracy: 57.72%\n",
      "Validation: Loss: 1.0819, Accuracy: 58.87%\n",
      "\n",
      "Epoch 7/20\n"
     ]
    },
    {
     "name": "stderr",
     "output_type": "stream",
     "text": [
      "                                                                 \r"
     ]
    },
    {
     "name": "stdout",
     "output_type": "stream",
     "text": [
      "Train: Loss: 1.1155, Accuracy: 58.20%\n",
      "Validation: Loss: 1.0617, Accuracy: 60.10%\n",
      "\n",
      "Epoch 8/20\n"
     ]
    },
    {
     "name": "stderr",
     "output_type": "stream",
     "text": [
      "                                                                 \r"
     ]
    },
    {
     "name": "stdout",
     "output_type": "stream",
     "text": [
      "Train: Loss: 1.0950, Accuracy: 59.47%\n",
      "Validation: Loss: 1.1249, Accuracy: 58.43%\n",
      "\n",
      "Epoch 9/20\n"
     ]
    },
    {
     "name": "stderr",
     "output_type": "stream",
     "text": [
      "                                                                 \r"
     ]
    },
    {
     "name": "stdout",
     "output_type": "stream",
     "text": [
      "Train: Loss: 1.0803, Accuracy: 60.03%\n",
      "Validation: Loss: 1.1042, Accuracy: 58.79%\n",
      "\n",
      "Epoch 10/20\n"
     ]
    },
    {
     "name": "stderr",
     "output_type": "stream",
     "text": [
      "                                                                 \r"
     ]
    },
    {
     "name": "stdout",
     "output_type": "stream",
     "text": [
      "Train: Loss: 1.0728, Accuracy: 60.18%\n",
      "Validation: Loss: 1.0472, Accuracy: 61.08%\n",
      "\n",
      "Epoch 11/20\n"
     ]
    },
    {
     "name": "stderr",
     "output_type": "stream",
     "text": [
      "                                                                 \r"
     ]
    },
    {
     "name": "stdout",
     "output_type": "stream",
     "text": [
      "Train: Loss: 1.0581, Accuracy: 60.59%\n",
      "Validation: Loss: 1.0680, Accuracy: 60.27%\n",
      "\n",
      "Epoch 12/20\n"
     ]
    },
    {
     "name": "stderr",
     "output_type": "stream",
     "text": [
      "                                                                 \r"
     ]
    },
    {
     "name": "stdout",
     "output_type": "stream",
     "text": [
      "Train: Loss: 1.0455, Accuracy: 61.27%\n",
      "Validation: Loss: 1.0939, Accuracy: 59.54%\n",
      "\n",
      "Epoch 13/20\n"
     ]
    },
    {
     "name": "stderr",
     "output_type": "stream",
     "text": [
      "                                                                 \r"
     ]
    },
    {
     "name": "stdout",
     "output_type": "stream",
     "text": [
      "Train: Loss: 1.0393, Accuracy: 61.45%\n",
      "Validation: Loss: 1.0518, Accuracy: 60.55%\n",
      "Early stopping triggered.\n",
      "Treinando com hiperparâmetros: {'epochs': 20, 'lr': 0.001, 'patience': 3, 'weight_decay': 1e-05}\n",
      "\n",
      "Epoch 1/20\n"
     ]
    },
    {
     "name": "stderr",
     "output_type": "stream",
     "text": [
      "                                                                 \r"
     ]
    },
    {
     "name": "stdout",
     "output_type": "stream",
     "text": [
      "Train: Loss: 1.4466, Accuracy: 44.48%\n",
      "Validation: Loss: 1.2407, Accuracy: 52.55%\n",
      "\n",
      "Epoch 2/20\n"
     ]
    },
    {
     "name": "stderr",
     "output_type": "stream",
     "text": [
      "                                                                 \r"
     ]
    },
    {
     "name": "stdout",
     "output_type": "stream",
     "text": [
      "Train: Loss: 1.2790, Accuracy: 51.81%\n",
      "Validation: Loss: 1.1703, Accuracy: 55.64%\n",
      "\n",
      "Epoch 3/20\n"
     ]
    },
    {
     "name": "stderr",
     "output_type": "stream",
     "text": [
      "                                                                 \r"
     ]
    },
    {
     "name": "stdout",
     "output_type": "stream",
     "text": [
      "Train: Loss: 1.2199, Accuracy: 54.76%\n",
      "Validation: Loss: 1.1186, Accuracy: 57.62%\n",
      "\n",
      "Epoch 4/20\n"
     ]
    },
    {
     "name": "stderr",
     "output_type": "stream",
     "text": [
      "                                                                 \r"
     ]
    },
    {
     "name": "stdout",
     "output_type": "stream",
     "text": [
      "Train: Loss: 1.1814, Accuracy: 56.26%\n",
      "Validation: Loss: 1.0916, Accuracy: 59.35%\n",
      "\n",
      "Epoch 5/20\n"
     ]
    },
    {
     "name": "stderr",
     "output_type": "stream",
     "text": [
      "                                                                 \r"
     ]
    },
    {
     "name": "stdout",
     "output_type": "stream",
     "text": [
      "Train: Loss: 1.1449, Accuracy: 57.79%\n",
      "Validation: Loss: 1.0817, Accuracy: 59.54%\n",
      "\n",
      "Epoch 6/20\n"
     ]
    },
    {
     "name": "stderr",
     "output_type": "stream",
     "text": [
      "                                                                 \r"
     ]
    },
    {
     "name": "stdout",
     "output_type": "stream",
     "text": [
      "Train: Loss: 1.1179, Accuracy: 58.76%\n",
      "Validation: Loss: 1.0926, Accuracy: 59.24%\n",
      "\n",
      "Epoch 7/20\n"
     ]
    },
    {
     "name": "stderr",
     "output_type": "stream",
     "text": [
      "                                                                 \r"
     ]
    },
    {
     "name": "stdout",
     "output_type": "stream",
     "text": [
      "Train: Loss: 1.0901, Accuracy: 60.17%\n",
      "Validation: Loss: 1.0895, Accuracy: 59.77%\n",
      "\n",
      "Epoch 8/20\n"
     ]
    },
    {
     "name": "stderr",
     "output_type": "stream",
     "text": [
      "                                                                 \r"
     ]
    },
    {
     "name": "stdout",
     "output_type": "stream",
     "text": [
      "Train: Loss: 1.0729, Accuracy: 60.39%\n",
      "Validation: Loss: 1.0926, Accuracy: 58.60%\n",
      "\n",
      "Epoch 9/20\n"
     ]
    },
    {
     "name": "stderr",
     "output_type": "stream",
     "text": [
      "                                                                 \r"
     ]
    },
    {
     "name": "stdout",
     "output_type": "stream",
     "text": [
      "Train: Loss: 1.0589, Accuracy: 61.05%\n",
      "Validation: Loss: 1.0478, Accuracy: 61.74%\n",
      "\n",
      "Epoch 10/20\n"
     ]
    },
    {
     "name": "stderr",
     "output_type": "stream",
     "text": [
      "                                                                 \r"
     ]
    },
    {
     "name": "stdout",
     "output_type": "stream",
     "text": [
      "Train: Loss: 1.0364, Accuracy: 61.71%\n",
      "Validation: Loss: 1.0160, Accuracy: 61.72%\n",
      "\n",
      "Epoch 11/20\n"
     ]
    },
    {
     "name": "stderr",
     "output_type": "stream",
     "text": [
      "                                                                 \r"
     ]
    },
    {
     "name": "stdout",
     "output_type": "stream",
     "text": [
      "Train: Loss: 1.0244, Accuracy: 62.17%\n",
      "Validation: Loss: 1.0259, Accuracy: 61.30%\n",
      "\n",
      "Epoch 12/20\n"
     ]
    },
    {
     "name": "stderr",
     "output_type": "stream",
     "text": [
      "                                                                 \r"
     ]
    },
    {
     "name": "stdout",
     "output_type": "stream",
     "text": [
      "Train: Loss: 1.0096, Accuracy: 62.68%\n",
      "Validation: Loss: 1.0153, Accuracy: 61.86%\n",
      "\n",
      "Epoch 13/20\n"
     ]
    },
    {
     "name": "stderr",
     "output_type": "stream",
     "text": [
      "                                                                 \r"
     ]
    },
    {
     "name": "stdout",
     "output_type": "stream",
     "text": [
      "Train: Loss: 0.9961, Accuracy: 62.97%\n",
      "Validation: Loss: 1.0138, Accuracy: 61.63%\n",
      "\n",
      "Epoch 14/20\n"
     ]
    },
    {
     "name": "stderr",
     "output_type": "stream",
     "text": [
      "                                                                 \r"
     ]
    },
    {
     "name": "stdout",
     "output_type": "stream",
     "text": [
      "Train: Loss: 0.9752, Accuracy: 63.92%\n",
      "Validation: Loss: 1.0153, Accuracy: 62.19%\n",
      "\n",
      "Epoch 15/20\n"
     ]
    },
    {
     "name": "stderr",
     "output_type": "stream",
     "text": [
      "                                                                 \r"
     ]
    },
    {
     "name": "stdout",
     "output_type": "stream",
     "text": [
      "Train: Loss: 0.9674, Accuracy: 64.33%\n",
      "Validation: Loss: 0.9978, Accuracy: 62.72%\n",
      "\n",
      "Epoch 16/20\n"
     ]
    },
    {
     "name": "stderr",
     "output_type": "stream",
     "text": [
      "                                                                 \r"
     ]
    },
    {
     "name": "stdout",
     "output_type": "stream",
     "text": [
      "Train: Loss: 0.9587, Accuracy: 64.25%\n",
      "Validation: Loss: 1.0080, Accuracy: 62.30%\n",
      "\n",
      "Epoch 17/20\n"
     ]
    },
    {
     "name": "stderr",
     "output_type": "stream",
     "text": [
      "                                                                 \r"
     ]
    },
    {
     "name": "stdout",
     "output_type": "stream",
     "text": [
      "Train: Loss: 0.9444, Accuracy: 64.96%\n",
      "Validation: Loss: 1.0169, Accuracy: 62.83%\n",
      "\n",
      "Epoch 18/20\n"
     ]
    },
    {
     "name": "stderr",
     "output_type": "stream",
     "text": [
      "                                                                 \r"
     ]
    },
    {
     "name": "stdout",
     "output_type": "stream",
     "text": [
      "Train: Loss: 0.9393, Accuracy: 65.43%\n",
      "Validation: Loss: 1.0302, Accuracy: 61.91%\n",
      "\n",
      "Epoch 19/20\n"
     ]
    },
    {
     "name": "stderr",
     "output_type": "stream",
     "text": [
      "                                                                 \r"
     ]
    },
    {
     "name": "stdout",
     "output_type": "stream",
     "text": [
      "Train: Loss: 0.9338, Accuracy: 65.37%\n",
      "Validation: Loss: 1.0235, Accuracy: 63.64%\n",
      "\n",
      "Epoch 20/20\n"
     ]
    },
    {
     "name": "stderr",
     "output_type": "stream",
     "text": [
      "                                                                 \r"
     ]
    },
    {
     "name": "stdout",
     "output_type": "stream",
     "text": [
      "Train: Loss: 0.8690, Accuracy: 67.83%\n",
      "Validation: Loss: 0.9895, Accuracy: 64.81%\n",
      "Treinando com hiperparâmetros: {'epochs': 20, 'lr': 0.001, 'patience': 5, 'weight_decay': 0.0001}\n",
      "\n",
      "Epoch 1/20\n"
     ]
    },
    {
     "name": "stderr",
     "output_type": "stream",
     "text": [
      "                                                                 \r"
     ]
    },
    {
     "name": "stdout",
     "output_type": "stream",
     "text": [
      "Train: Loss: 1.4719, Accuracy: 43.34%\n",
      "Validation: Loss: 1.2809, Accuracy: 50.79%\n",
      "\n",
      "Epoch 2/20\n"
     ]
    },
    {
     "name": "stderr",
     "output_type": "stream",
     "text": [
      "                                                                 \r"
     ]
    },
    {
     "name": "stdout",
     "output_type": "stream",
     "text": [
      "Train: Loss: 1.3199, Accuracy: 49.94%\n",
      "Validation: Loss: 1.1926, Accuracy: 54.53%\n",
      "\n",
      "Epoch 3/20\n"
     ]
    },
    {
     "name": "stderr",
     "output_type": "stream",
     "text": [
      "                                                                 \r"
     ]
    },
    {
     "name": "stdout",
     "output_type": "stream",
     "text": [
      "Train: Loss: 1.2585, Accuracy: 52.79%\n",
      "Validation: Loss: 1.1574, Accuracy: 56.70%\n",
      "\n",
      "Epoch 4/20\n"
     ]
    },
    {
     "name": "stderr",
     "output_type": "stream",
     "text": [
      "                                                                 \r"
     ]
    },
    {
     "name": "stdout",
     "output_type": "stream",
     "text": [
      "Train: Loss: 1.2170, Accuracy: 54.76%\n",
      "Validation: Loss: 1.1437, Accuracy: 57.54%\n",
      "\n",
      "Epoch 5/20\n"
     ]
    },
    {
     "name": "stderr",
     "output_type": "stream",
     "text": [
      "                                                                 \r"
     ]
    },
    {
     "name": "stdout",
     "output_type": "stream",
     "text": [
      "Train: Loss: 1.1760, Accuracy: 56.35%\n",
      "Validation: Loss: 1.0997, Accuracy: 59.60%\n",
      "\n",
      "Epoch 6/20\n"
     ]
    },
    {
     "name": "stderr",
     "output_type": "stream",
     "text": [
      "                                                                 \r"
     ]
    },
    {
     "name": "stdout",
     "output_type": "stream",
     "text": [
      "Train: Loss: 1.1516, Accuracy: 56.79%\n",
      "Validation: Loss: 1.1251, Accuracy: 57.87%\n",
      "\n",
      "Epoch 7/20\n"
     ]
    },
    {
     "name": "stderr",
     "output_type": "stream",
     "text": [
      "                                                                 \r"
     ]
    },
    {
     "name": "stdout",
     "output_type": "stream",
     "text": [
      "Train: Loss: 1.1216, Accuracy: 58.13%\n",
      "Validation: Loss: 1.0513, Accuracy: 61.55%\n",
      "\n",
      "Epoch 8/20\n"
     ]
    },
    {
     "name": "stderr",
     "output_type": "stream",
     "text": [
      "                                                                 \r"
     ]
    },
    {
     "name": "stdout",
     "output_type": "stream",
     "text": [
      "Train: Loss: 1.1082, Accuracy: 59.23%\n",
      "Validation: Loss: 1.0312, Accuracy: 61.58%\n",
      "\n",
      "Epoch 9/20\n"
     ]
    },
    {
     "name": "stderr",
     "output_type": "stream",
     "text": [
      "                                                                 \r"
     ]
    },
    {
     "name": "stdout",
     "output_type": "stream",
     "text": [
      "Train: Loss: 1.1022, Accuracy: 59.23%\n",
      "Validation: Loss: 1.0892, Accuracy: 59.18%\n",
      "\n",
      "Epoch 10/20\n"
     ]
    },
    {
     "name": "stderr",
     "output_type": "stream",
     "text": [
      "                                                                 \r"
     ]
    },
    {
     "name": "stdout",
     "output_type": "stream",
     "text": [
      "Train: Loss: 1.0780, Accuracy: 60.10%\n",
      "Validation: Loss: 1.0438, Accuracy: 60.32%\n",
      "\n",
      "Epoch 11/20\n"
     ]
    },
    {
     "name": "stderr",
     "output_type": "stream",
     "text": [
      "                                                                 \r"
     ]
    },
    {
     "name": "stdout",
     "output_type": "stream",
     "text": [
      "Train: Loss: 1.0698, Accuracy: 60.60%\n",
      "Validation: Loss: 1.0685, Accuracy: 60.32%\n",
      "\n",
      "Epoch 12/20\n"
     ]
    },
    {
     "name": "stderr",
     "output_type": "stream",
     "text": [
      "                                                                 \r"
     ]
    },
    {
     "name": "stdout",
     "output_type": "stream",
     "text": [
      "Train: Loss: 1.0592, Accuracy: 60.71%\n",
      "Validation: Loss: 1.0674, Accuracy: 59.79%\n",
      "\n",
      "Epoch 13/20\n"
     ]
    },
    {
     "name": "stderr",
     "output_type": "stream",
     "text": [
      "                                                                 \r"
     ]
    },
    {
     "name": "stdout",
     "output_type": "stream",
     "text": [
      "Train: Loss: 0.9941, Accuracy: 62.87%\n",
      "Validation: Loss: 0.9948, Accuracy: 62.78%\n",
      "\n",
      "Epoch 14/20\n"
     ]
    },
    {
     "name": "stderr",
     "output_type": "stream",
     "text": [
      "                                                                 \r"
     ]
    },
    {
     "name": "stdout",
     "output_type": "stream",
     "text": [
      "Train: Loss: 0.9747, Accuracy: 63.73%\n",
      "Validation: Loss: 0.9979, Accuracy: 62.33%\n",
      "\n",
      "Epoch 15/20\n"
     ]
    },
    {
     "name": "stderr",
     "output_type": "stream",
     "text": [
      "                                                                 \r"
     ]
    },
    {
     "name": "stdout",
     "output_type": "stream",
     "text": [
      "Train: Loss: 0.9675, Accuracy: 63.94%\n",
      "Validation: Loss: 0.9809, Accuracy: 63.14%\n",
      "\n",
      "Epoch 16/20\n"
     ]
    },
    {
     "name": "stderr",
     "output_type": "stream",
     "text": [
      "                                                                 \r"
     ]
    },
    {
     "name": "stdout",
     "output_type": "stream",
     "text": [
      "Train: Loss: 0.9539, Accuracy: 64.75%\n",
      "Validation: Loss: 0.9831, Accuracy: 63.47%\n",
      "\n",
      "Epoch 17/20\n"
     ]
    },
    {
     "name": "stderr",
     "output_type": "stream",
     "text": [
      "                                                                 \r"
     ]
    },
    {
     "name": "stdout",
     "output_type": "stream",
     "text": [
      "Train: Loss: 0.9501, Accuracy: 64.68%\n",
      "Validation: Loss: 0.9776, Accuracy: 63.30%\n",
      "\n",
      "Epoch 18/20\n"
     ]
    },
    {
     "name": "stderr",
     "output_type": "stream",
     "text": [
      "                                                                 \r"
     ]
    },
    {
     "name": "stdout",
     "output_type": "stream",
     "text": [
      "Train: Loss: 0.9410, Accuracy: 65.04%\n",
      "Validation: Loss: 0.9702, Accuracy: 63.83%\n",
      "\n",
      "Epoch 19/20\n"
     ]
    },
    {
     "name": "stderr",
     "output_type": "stream",
     "text": [
      "                                                                 \r"
     ]
    },
    {
     "name": "stdout",
     "output_type": "stream",
     "text": [
      "Train: Loss: 0.9351, Accuracy: 65.18%\n",
      "Validation: Loss: 0.9784, Accuracy: 63.19%\n",
      "\n",
      "Epoch 20/20\n"
     ]
    },
    {
     "name": "stderr",
     "output_type": "stream",
     "text": [
      "                                                                 \r"
     ]
    },
    {
     "name": "stdout",
     "output_type": "stream",
     "text": [
      "Train: Loss: 0.9353, Accuracy: 65.23%\n",
      "Validation: Loss: 0.9713, Accuracy: 63.64%\n",
      "Treinando com hiperparâmetros: {'epochs': 20, 'lr': 0.001, 'patience': 5, 'weight_decay': 1e-05}\n",
      "\n",
      "Epoch 1/20\n"
     ]
    },
    {
     "name": "stderr",
     "output_type": "stream",
     "text": [
      "                                                                 \r"
     ]
    },
    {
     "name": "stdout",
     "output_type": "stream",
     "text": [
      "Train: Loss: 1.4452, Accuracy: 44.29%\n",
      "Validation: Loss: 1.2858, Accuracy: 50.88%\n",
      "\n",
      "Epoch 2/20\n"
     ]
    },
    {
     "name": "stderr",
     "output_type": "stream",
     "text": [
      "                                                                 \r"
     ]
    },
    {
     "name": "stdout",
     "output_type": "stream",
     "text": [
      "Train: Loss: 1.2831, Accuracy: 51.39%\n",
      "Validation: Loss: 1.2502, Accuracy: 53.30%\n",
      "\n",
      "Epoch 3/20\n"
     ]
    },
    {
     "name": "stderr",
     "output_type": "stream",
     "text": [
      "                                                                 \r"
     ]
    },
    {
     "name": "stdout",
     "output_type": "stream",
     "text": [
      "Train: Loss: 1.2249, Accuracy: 54.27%\n",
      "Validation: Loss: 1.1584, Accuracy: 56.12%\n",
      "\n",
      "Epoch 4/20\n"
     ]
    },
    {
     "name": "stderr",
     "output_type": "stream",
     "text": [
      "                                                                 \r"
     ]
    },
    {
     "name": "stdout",
     "output_type": "stream",
     "text": [
      "Train: Loss: 1.1743, Accuracy: 56.30%\n",
      "Validation: Loss: 1.0856, Accuracy: 59.26%\n",
      "\n",
      "Epoch 5/20\n"
     ]
    },
    {
     "name": "stderr",
     "output_type": "stream",
     "text": [
      "                                                                 \r"
     ]
    },
    {
     "name": "stdout",
     "output_type": "stream",
     "text": [
      "Train: Loss: 1.1413, Accuracy: 57.17%\n",
      "Validation: Loss: 1.1174, Accuracy: 58.46%\n",
      "\n",
      "Epoch 6/20\n"
     ]
    },
    {
     "name": "stderr",
     "output_type": "stream",
     "text": [
      "                                                                 \r"
     ]
    },
    {
     "name": "stdout",
     "output_type": "stream",
     "text": [
      "Train: Loss: 1.1120, Accuracy: 59.14%\n",
      "Validation: Loss: 1.0554, Accuracy: 60.57%\n",
      "\n",
      "Epoch 7/20\n"
     ]
    },
    {
     "name": "stderr",
     "output_type": "stream",
     "text": [
      "                                                                 \r"
     ]
    },
    {
     "name": "stdout",
     "output_type": "stream",
     "text": [
      "Train: Loss: 1.0850, Accuracy: 59.93%\n",
      "Validation: Loss: 1.0442, Accuracy: 60.82%\n",
      "\n",
      "Epoch 8/20\n"
     ]
    },
    {
     "name": "stderr",
     "output_type": "stream",
     "text": [
      "                                                                 \r"
     ]
    },
    {
     "name": "stdout",
     "output_type": "stream",
     "text": [
      "Train: Loss: 1.0720, Accuracy: 60.68%\n",
      "Validation: Loss: 1.0472, Accuracy: 61.02%\n",
      "\n",
      "Epoch 9/20\n"
     ]
    },
    {
     "name": "stderr",
     "output_type": "stream",
     "text": [
      "                                                                 \r"
     ]
    },
    {
     "name": "stdout",
     "output_type": "stream",
     "text": [
      "Train: Loss: 1.0463, Accuracy: 61.34%\n",
      "Validation: Loss: 1.0495, Accuracy: 60.46%\n",
      "\n",
      "Epoch 10/20\n"
     ]
    },
    {
     "name": "stderr",
     "output_type": "stream",
     "text": [
      "                                                                 \r"
     ]
    },
    {
     "name": "stdout",
     "output_type": "stream",
     "text": [
      "Train: Loss: 1.0316, Accuracy: 61.79%\n",
      "Validation: Loss: 1.0223, Accuracy: 61.91%\n",
      "\n",
      "Epoch 11/20\n"
     ]
    },
    {
     "name": "stderr",
     "output_type": "stream",
     "text": [
      "                                                                 \r"
     ]
    },
    {
     "name": "stdout",
     "output_type": "stream",
     "text": [
      "Train: Loss: 1.0198, Accuracy: 62.31%\n",
      "Validation: Loss: 1.0240, Accuracy: 62.64%\n",
      "\n",
      "Epoch 12/20\n"
     ]
    },
    {
     "name": "stderr",
     "output_type": "stream",
     "text": [
      "                                                                 \r"
     ]
    },
    {
     "name": "stdout",
     "output_type": "stream",
     "text": [
      "Train: Loss: 1.0053, Accuracy: 62.92%\n",
      "Validation: Loss: 1.0703, Accuracy: 61.30%\n",
      "\n",
      "Epoch 13/20\n"
     ]
    },
    {
     "name": "stderr",
     "output_type": "stream",
     "text": [
      "                                                                 \r"
     ]
    },
    {
     "name": "stdout",
     "output_type": "stream",
     "text": [
      "Train: Loss: 0.9919, Accuracy: 63.13%\n",
      "Validation: Loss: 1.0097, Accuracy: 62.61%\n",
      "\n",
      "Epoch 14/20\n"
     ]
    },
    {
     "name": "stderr",
     "output_type": "stream",
     "text": [
      "                                                                 \r"
     ]
    },
    {
     "name": "stdout",
     "output_type": "stream",
     "text": [
      "Train: Loss: 0.9770, Accuracy: 63.78%\n",
      "Validation: Loss: 1.0368, Accuracy: 62.75%\n",
      "\n",
      "Epoch 15/20\n"
     ]
    },
    {
     "name": "stderr",
     "output_type": "stream",
     "text": [
      "                                                                 \r"
     ]
    },
    {
     "name": "stdout",
     "output_type": "stream",
     "text": [
      "Train: Loss: 0.9660, Accuracy: 64.02%\n",
      "Validation: Loss: 1.0015, Accuracy: 63.47%\n",
      "\n",
      "Epoch 16/20\n"
     ]
    },
    {
     "name": "stderr",
     "output_type": "stream",
     "text": [
      "                                                                 \r"
     ]
    },
    {
     "name": "stdout",
     "output_type": "stream",
     "text": [
      "Train: Loss: 0.9515, Accuracy: 64.79%\n",
      "Validation: Loss: 1.0232, Accuracy: 62.72%\n",
      "\n",
      "Epoch 17/20\n"
     ]
    },
    {
     "name": "stderr",
     "output_type": "stream",
     "text": [
      "                                                                 \r"
     ]
    },
    {
     "name": "stdout",
     "output_type": "stream",
     "text": [
      "Train: Loss: 0.9487, Accuracy: 64.78%\n",
      "Validation: Loss: 1.0474, Accuracy: 62.22%\n",
      "\n",
      "Epoch 18/20\n"
     ]
    },
    {
     "name": "stderr",
     "output_type": "stream",
     "text": [
      "                                                                 \r"
     ]
    },
    {
     "name": "stdout",
     "output_type": "stream",
     "text": [
      "Train: Loss: 0.9367, Accuracy: 65.38%\n",
      "Validation: Loss: 1.0049, Accuracy: 63.69%\n",
      "\n",
      "Epoch 19/20\n"
     ]
    },
    {
     "name": "stderr",
     "output_type": "stream",
     "text": [
      "                                                                 \r"
     ]
    },
    {
     "name": "stdout",
     "output_type": "stream",
     "text": [
      "Train: Loss: 0.9287, Accuracy: 65.90%\n",
      "Validation: Loss: 1.1051, Accuracy: 61.41%\n",
      "\n",
      "Epoch 20/20\n"
     ]
    },
    {
     "name": "stderr",
     "output_type": "stream",
     "text": [
      "                                                                 \r"
     ]
    },
    {
     "name": "stdout",
     "output_type": "stream",
     "text": [
      "Train: Loss: 0.8679, Accuracy: 67.56%\n",
      "Validation: Loss: 0.9833, Accuracy: 65.20%\n",
      "Treinando com hiperparâmetros: {'epochs': 30, 'lr': 0.0001, 'patience': 3, 'weight_decay': 0.0001}\n",
      "\n",
      "Epoch 1/30\n"
     ]
    },
    {
     "name": "stderr",
     "output_type": "stream",
     "text": [
      "                                                                 \r"
     ]
    },
    {
     "name": "stdout",
     "output_type": "stream",
     "text": [
      "Train: Loss: 1.3659, Accuracy: 47.63%\n",
      "Validation: Loss: 1.1319, Accuracy: 57.26%\n",
      "\n",
      "Epoch 2/30\n"
     ]
    },
    {
     "name": "stderr",
     "output_type": "stream",
     "text": [
      "                                                                 \r"
     ]
    },
    {
     "name": "stdout",
     "output_type": "stream",
     "text": [
      "Train: Loss: 1.1846, Accuracy: 55.67%\n",
      "Validation: Loss: 1.0727, Accuracy: 59.96%\n",
      "\n",
      "Epoch 3/30\n"
     ]
    },
    {
     "name": "stderr",
     "output_type": "stream",
     "text": [
      "                                                                 \r"
     ]
    },
    {
     "name": "stdout",
     "output_type": "stream",
     "text": [
      "Train: Loss: 1.1247, Accuracy: 57.83%\n",
      "Validation: Loss: 1.0465, Accuracy: 61.19%\n",
      "\n",
      "Epoch 4/30\n"
     ]
    },
    {
     "name": "stderr",
     "output_type": "stream",
     "text": [
      "                                                                 \r"
     ]
    },
    {
     "name": "stdout",
     "output_type": "stream",
     "text": [
      "Train: Loss: 1.0755, Accuracy: 59.70%\n",
      "Validation: Loss: 1.0764, Accuracy: 61.16%\n",
      "\n",
      "Epoch 5/30\n"
     ]
    },
    {
     "name": "stderr",
     "output_type": "stream",
     "text": [
      "                                                                 \r"
     ]
    },
    {
     "name": "stdout",
     "output_type": "stream",
     "text": [
      "Train: Loss: 1.0489, Accuracy: 61.11%\n",
      "Validation: Loss: 1.0340, Accuracy: 62.19%\n",
      "\n",
      "Epoch 6/30\n"
     ]
    },
    {
     "name": "stderr",
     "output_type": "stream",
     "text": [
      "                                                                 \r"
     ]
    },
    {
     "name": "stdout",
     "output_type": "stream",
     "text": [
      "Train: Loss: 1.0222, Accuracy: 62.02%\n",
      "Validation: Loss: 0.9979, Accuracy: 63.47%\n",
      "\n",
      "Epoch 7/30\n"
     ]
    },
    {
     "name": "stderr",
     "output_type": "stream",
     "text": [
      "                                                                 \r"
     ]
    },
    {
     "name": "stdout",
     "output_type": "stream",
     "text": [
      "Train: Loss: 0.9928, Accuracy: 63.12%\n",
      "Validation: Loss: 1.0135, Accuracy: 61.99%\n",
      "\n",
      "Epoch 8/30\n"
     ]
    },
    {
     "name": "stderr",
     "output_type": "stream",
     "text": [
      "                                                                 \r"
     ]
    },
    {
     "name": "stdout",
     "output_type": "stream",
     "text": [
      "Train: Loss: 0.9809, Accuracy: 63.81%\n",
      "Validation: Loss: 1.0010, Accuracy: 63.17%\n",
      "\n",
      "Epoch 9/30\n"
     ]
    },
    {
     "name": "stderr",
     "output_type": "stream",
     "text": [
      "                                                                 \r"
     ]
    },
    {
     "name": "stdout",
     "output_type": "stream",
     "text": [
      "Train: Loss: 0.9587, Accuracy: 64.43%\n",
      "Validation: Loss: 0.9963, Accuracy: 63.58%\n",
      "\n",
      "Epoch 10/30\n"
     ]
    },
    {
     "name": "stderr",
     "output_type": "stream",
     "text": [
      "                                                                 \r"
     ]
    },
    {
     "name": "stdout",
     "output_type": "stream",
     "text": [
      "Train: Loss: 0.9419, Accuracy: 65.22%\n",
      "Validation: Loss: 1.0125, Accuracy: 64.08%\n",
      "\n",
      "Epoch 11/30\n"
     ]
    },
    {
     "name": "stderr",
     "output_type": "stream",
     "text": [
      "                                                                 \r"
     ]
    },
    {
     "name": "stdout",
     "output_type": "stream",
     "text": [
      "Train: Loss: 0.9280, Accuracy: 65.46%\n",
      "Validation: Loss: 1.0302, Accuracy: 62.91%\n",
      "\n",
      "Epoch 12/30\n"
     ]
    },
    {
     "name": "stderr",
     "output_type": "stream",
     "text": [
      "                                                                 \r"
     ]
    },
    {
     "name": "stdout",
     "output_type": "stream",
     "text": [
      "Train: Loss: 0.9120, Accuracy: 65.94%\n",
      "Validation: Loss: 1.0014, Accuracy: 63.83%\n",
      "\n",
      "Epoch 13/30\n"
     ]
    },
    {
     "name": "stderr",
     "output_type": "stream",
     "text": [
      "                                                                 \r"
     ]
    },
    {
     "name": "stdout",
     "output_type": "stream",
     "text": [
      "Train: Loss: 0.8982, Accuracy: 66.71%\n",
      "Validation: Loss: 0.9515, Accuracy: 65.51%\n",
      "\n",
      "Epoch 14/30\n"
     ]
    },
    {
     "name": "stderr",
     "output_type": "stream",
     "text": [
      "                                                                 \r"
     ]
    },
    {
     "name": "stdout",
     "output_type": "stream",
     "text": [
      "Train: Loss: 0.8811, Accuracy: 67.42%\n",
      "Validation: Loss: 0.9725, Accuracy: 64.56%\n",
      "\n",
      "Epoch 15/30\n"
     ]
    },
    {
     "name": "stderr",
     "output_type": "stream",
     "text": [
      "                                                                 \r"
     ]
    },
    {
     "name": "stdout",
     "output_type": "stream",
     "text": [
      "Train: Loss: 0.8699, Accuracy: 68.09%\n",
      "Validation: Loss: 0.9666, Accuracy: 65.14%\n",
      "\n",
      "Epoch 16/30\n"
     ]
    },
    {
     "name": "stderr",
     "output_type": "stream",
     "text": [
      "                                                                 \r"
     ]
    },
    {
     "name": "stdout",
     "output_type": "stream",
     "text": [
      "Train: Loss: 0.8539, Accuracy: 68.25%\n",
      "Validation: Loss: 0.9802, Accuracy: 64.92%\n",
      "Early stopping triggered.\n",
      "Treinando com hiperparâmetros: {'epochs': 30, 'lr': 0.0001, 'patience': 3, 'weight_decay': 1e-05}\n",
      "\n",
      "Epoch 1/30\n"
     ]
    },
    {
     "name": "stderr",
     "output_type": "stream",
     "text": [
      "                                                                 \r"
     ]
    },
    {
     "name": "stdout",
     "output_type": "stream",
     "text": [
      "Train: Loss: 1.3603, Accuracy: 47.93%\n",
      "Validation: Loss: 1.1471, Accuracy: 56.81%\n",
      "\n",
      "Epoch 2/30\n"
     ]
    },
    {
     "name": "stderr",
     "output_type": "stream",
     "text": [
      "                                                                 \r"
     ]
    },
    {
     "name": "stdout",
     "output_type": "stream",
     "text": [
      "Train: Loss: 1.1799, Accuracy: 56.14%\n",
      "Validation: Loss: 1.1345, Accuracy: 57.76%\n",
      "\n",
      "Epoch 3/30\n"
     ]
    },
    {
     "name": "stderr",
     "output_type": "stream",
     "text": [
      "                                                                 \r"
     ]
    },
    {
     "name": "stdout",
     "output_type": "stream",
     "text": [
      "Train: Loss: 1.1246, Accuracy: 58.17%\n",
      "Validation: Loss: 1.0411, Accuracy: 60.38%\n",
      "\n",
      "Epoch 4/30\n"
     ]
    },
    {
     "name": "stderr",
     "output_type": "stream",
     "text": [
      "                                                                 \r"
     ]
    },
    {
     "name": "stdout",
     "output_type": "stream",
     "text": [
      "Train: Loss: 1.0790, Accuracy: 59.75%\n",
      "Validation: Loss: 1.0394, Accuracy: 60.71%\n",
      "\n",
      "Epoch 5/30\n"
     ]
    },
    {
     "name": "stderr",
     "output_type": "stream",
     "text": [
      "                                                                 \r"
     ]
    },
    {
     "name": "stdout",
     "output_type": "stream",
     "text": [
      "Train: Loss: 1.0379, Accuracy: 61.51%\n",
      "Validation: Loss: 0.9959, Accuracy: 62.64%\n",
      "\n",
      "Epoch 6/30\n"
     ]
    },
    {
     "name": "stderr",
     "output_type": "stream",
     "text": [
      "                                                                 \r"
     ]
    },
    {
     "name": "stdout",
     "output_type": "stream",
     "text": [
      "Train: Loss: 1.0142, Accuracy: 62.51%\n",
      "Validation: Loss: 1.0128, Accuracy: 62.58%\n",
      "\n",
      "Epoch 7/30\n"
     ]
    },
    {
     "name": "stderr",
     "output_type": "stream",
     "text": [
      "                                                                 \r"
     ]
    },
    {
     "name": "stdout",
     "output_type": "stream",
     "text": [
      "Train: Loss: 0.9873, Accuracy: 63.51%\n",
      "Validation: Loss: 1.0096, Accuracy: 62.97%\n",
      "\n",
      "Epoch 8/30\n"
     ]
    },
    {
     "name": "stderr",
     "output_type": "stream",
     "text": [
      "                                                                 \r"
     ]
    },
    {
     "name": "stdout",
     "output_type": "stream",
     "text": [
      "Train: Loss: 0.9691, Accuracy: 64.44%\n",
      "Validation: Loss: 1.0040, Accuracy: 63.39%\n",
      "\n",
      "Epoch 9/30\n"
     ]
    },
    {
     "name": "stderr",
     "output_type": "stream",
     "text": [
      "                                                                 \r"
     ]
    },
    {
     "name": "stdout",
     "output_type": "stream",
     "text": [
      "Train: Loss: 0.9479, Accuracy: 65.05%\n",
      "Validation: Loss: 0.9714, Accuracy: 63.86%\n",
      "\n",
      "Epoch 10/30\n"
     ]
    },
    {
     "name": "stderr",
     "output_type": "stream",
     "text": [
      "                                                                 \r"
     ]
    },
    {
     "name": "stdout",
     "output_type": "stream",
     "text": [
      "Train: Loss: 0.9323, Accuracy: 65.73%\n",
      "Validation: Loss: 0.9606, Accuracy: 64.84%\n",
      "\n",
      "Epoch 11/30\n"
     ]
    },
    {
     "name": "stderr",
     "output_type": "stream",
     "text": [
      "                                                                 \r"
     ]
    },
    {
     "name": "stdout",
     "output_type": "stream",
     "text": [
      "Train: Loss: 0.9115, Accuracy: 66.12%\n",
      "Validation: Loss: 0.9708, Accuracy: 64.06%\n",
      "\n",
      "Epoch 12/30\n"
     ]
    },
    {
     "name": "stderr",
     "output_type": "stream",
     "text": [
      "                                                                 \r"
     ]
    },
    {
     "name": "stdout",
     "output_type": "stream",
     "text": [
      "Train: Loss: 0.8915, Accuracy: 67.02%\n",
      "Validation: Loss: 0.9811, Accuracy: 65.00%\n",
      "\n",
      "Epoch 13/30\n"
     ]
    },
    {
     "name": "stderr",
     "output_type": "stream",
     "text": [
      "                                                                 \r"
     ]
    },
    {
     "name": "stdout",
     "output_type": "stream",
     "text": [
      "Train: Loss: 0.8803, Accuracy: 67.38%\n",
      "Validation: Loss: 0.9558, Accuracy: 66.06%\n",
      "\n",
      "Epoch 14/30\n"
     ]
    },
    {
     "name": "stderr",
     "output_type": "stream",
     "text": [
      "                                                                 \r"
     ]
    },
    {
     "name": "stdout",
     "output_type": "stream",
     "text": [
      "Train: Loss: 0.8618, Accuracy: 68.18%\n",
      "Validation: Loss: 0.9807, Accuracy: 65.23%\n",
      "\n",
      "Epoch 15/30\n"
     ]
    },
    {
     "name": "stderr",
     "output_type": "stream",
     "text": [
      "                                                                 \r"
     ]
    },
    {
     "name": "stdout",
     "output_type": "stream",
     "text": [
      "Train: Loss: 0.8508, Accuracy: 68.56%\n",
      "Validation: Loss: 0.9580, Accuracy: 65.90%\n",
      "\n",
      "Epoch 16/30\n"
     ]
    },
    {
     "name": "stderr",
     "output_type": "stream",
     "text": [
      "                                                                 \r"
     ]
    },
    {
     "name": "stdout",
     "output_type": "stream",
     "text": [
      "Train: Loss: 0.8431, Accuracy: 69.15%\n",
      "Validation: Loss: 0.9593, Accuracy: 65.45%\n",
      "Early stopping triggered.\n",
      "Treinando com hiperparâmetros: {'epochs': 30, 'lr': 0.0001, 'patience': 5, 'weight_decay': 0.0001}\n",
      "\n",
      "Epoch 1/30\n"
     ]
    },
    {
     "name": "stderr",
     "output_type": "stream",
     "text": [
      "                                                                 \r"
     ]
    },
    {
     "name": "stdout",
     "output_type": "stream",
     "text": [
      "Train: Loss: 1.3608, Accuracy: 48.60%\n",
      "Validation: Loss: 1.1550, Accuracy: 55.53%\n",
      "\n",
      "Epoch 2/30\n"
     ]
    },
    {
     "name": "stderr",
     "output_type": "stream",
     "text": [
      "                                                                 \r"
     ]
    },
    {
     "name": "stdout",
     "output_type": "stream",
     "text": [
      "Train: Loss: 1.1809, Accuracy: 55.84%\n",
      "Validation: Loss: 1.0868, Accuracy: 59.04%\n",
      "\n",
      "Epoch 3/30\n"
     ]
    },
    {
     "name": "stderr",
     "output_type": "stream",
     "text": [
      "                                                                 \r"
     ]
    },
    {
     "name": "stdout",
     "output_type": "stream",
     "text": [
      "Train: Loss: 1.1196, Accuracy: 58.07%\n",
      "Validation: Loss: 1.0611, Accuracy: 60.88%\n",
      "\n",
      "Epoch 4/30\n"
     ]
    },
    {
     "name": "stderr",
     "output_type": "stream",
     "text": [
      "                                                                 \r"
     ]
    },
    {
     "name": "stdout",
     "output_type": "stream",
     "text": [
      "Train: Loss: 1.0814, Accuracy: 59.90%\n",
      "Validation: Loss: 1.0219, Accuracy: 62.25%\n",
      "\n",
      "Epoch 5/30\n"
     ]
    },
    {
     "name": "stderr",
     "output_type": "stream",
     "text": [
      "                                                                 \r"
     ]
    },
    {
     "name": "stdout",
     "output_type": "stream",
     "text": [
      "Train: Loss: 1.0409, Accuracy: 61.43%\n",
      "Validation: Loss: 1.0354, Accuracy: 62.16%\n",
      "\n",
      "Epoch 6/30\n"
     ]
    },
    {
     "name": "stderr",
     "output_type": "stream",
     "text": [
      "                                                                 \r"
     ]
    },
    {
     "name": "stdout",
     "output_type": "stream",
     "text": [
      "Train: Loss: 1.0157, Accuracy: 62.51%\n",
      "Validation: Loss: 1.0002, Accuracy: 62.64%\n",
      "\n",
      "Epoch 7/30\n"
     ]
    },
    {
     "name": "stderr",
     "output_type": "stream",
     "text": [
      "                                                                 \r"
     ]
    },
    {
     "name": "stdout",
     "output_type": "stream",
     "text": [
      "Train: Loss: 0.9881, Accuracy: 63.26%\n",
      "Validation: Loss: 1.0087, Accuracy: 63.08%\n",
      "\n",
      "Epoch 8/30\n"
     ]
    },
    {
     "name": "stderr",
     "output_type": "stream",
     "text": [
      "                                                                 \r"
     ]
    },
    {
     "name": "stdout",
     "output_type": "stream",
     "text": [
      "Train: Loss: 0.9758, Accuracy: 63.60%\n",
      "Validation: Loss: 0.9956, Accuracy: 63.30%\n",
      "\n",
      "Epoch 9/30\n"
     ]
    },
    {
     "name": "stderr",
     "output_type": "stream",
     "text": [
      "                                                                 \r"
     ]
    },
    {
     "name": "stdout",
     "output_type": "stream",
     "text": [
      "Train: Loss: 0.9608, Accuracy: 64.36%\n",
      "Validation: Loss: 1.0354, Accuracy: 63.36%\n",
      "\n",
      "Epoch 10/30\n"
     ]
    },
    {
     "name": "stderr",
     "output_type": "stream",
     "text": [
      "                                                                 \r"
     ]
    },
    {
     "name": "stdout",
     "output_type": "stream",
     "text": [
      "Train: Loss: 0.9423, Accuracy: 65.09%\n",
      "Validation: Loss: 1.0105, Accuracy: 63.75%\n",
      "\n",
      "Epoch 11/30\n"
     ]
    },
    {
     "name": "stderr",
     "output_type": "stream",
     "text": [
      "                                                                 \r"
     ]
    },
    {
     "name": "stdout",
     "output_type": "stream",
     "text": [
      "Train: Loss: 0.9212, Accuracy: 65.93%\n",
      "Validation: Loss: 1.0056, Accuracy: 63.56%\n",
      "\n",
      "Epoch 12/30\n"
     ]
    },
    {
     "name": "stderr",
     "output_type": "stream",
     "text": [
      "                                                                 \r"
     ]
    },
    {
     "name": "stdout",
     "output_type": "stream",
     "text": [
      "Train: Loss: 0.9072, Accuracy: 66.57%\n",
      "Validation: Loss: 1.0107, Accuracy: 64.08%\n",
      "\n",
      "Epoch 13/30\n"
     ]
    },
    {
     "name": "stderr",
     "output_type": "stream",
     "text": [
      "                                                                 \r"
     ]
    },
    {
     "name": "stdout",
     "output_type": "stream",
     "text": [
      "Train: Loss: 0.8347, Accuracy: 69.07%\n",
      "Validation: Loss: 0.9831, Accuracy: 65.45%\n",
      "\n",
      "Epoch 14/30\n"
     ]
    },
    {
     "name": "stderr",
     "output_type": "stream",
     "text": [
      "                                                                 \r"
     ]
    },
    {
     "name": "stdout",
     "output_type": "stream",
     "text": [
      "Train: Loss: 0.8100, Accuracy: 69.90%\n",
      "Validation: Loss: 0.9762, Accuracy: 65.70%\n",
      "\n",
      "Epoch 15/30\n"
     ]
    },
    {
     "name": "stderr",
     "output_type": "stream",
     "text": [
      "                                                                 \r"
     ]
    },
    {
     "name": "stdout",
     "output_type": "stream",
     "text": [
      "Train: Loss: 0.7967, Accuracy: 70.61%\n",
      "Validation: Loss: 0.9789, Accuracy: 66.01%\n",
      "\n",
      "Epoch 16/30\n"
     ]
    },
    {
     "name": "stderr",
     "output_type": "stream",
     "text": [
      "                                                                 \r"
     ]
    },
    {
     "name": "stdout",
     "output_type": "stream",
     "text": [
      "Train: Loss: 0.7919, Accuracy: 70.75%\n",
      "Validation: Loss: 0.9917, Accuracy: 66.12%\n",
      "\n",
      "Epoch 17/30\n"
     ]
    },
    {
     "name": "stderr",
     "output_type": "stream",
     "text": [
      "                                                                 \r"
     ]
    },
    {
     "name": "stdout",
     "output_type": "stream",
     "text": [
      "Train: Loss: 0.7832, Accuracy: 71.03%\n",
      "Validation: Loss: 0.9860, Accuracy: 65.81%\n",
      "\n",
      "Epoch 18/30\n"
     ]
    },
    {
     "name": "stderr",
     "output_type": "stream",
     "text": [
      "                                                                 \r"
     ]
    },
    {
     "name": "stdout",
     "output_type": "stream",
     "text": [
      "Train: Loss: 0.7835, Accuracy: 71.16%\n",
      "Validation: Loss: 0.9909, Accuracy: 65.98%\n",
      "\n",
      "Epoch 19/30\n"
     ]
    },
    {
     "name": "stderr",
     "output_type": "stream",
     "text": [
      "                                                                 \r"
     ]
    },
    {
     "name": "stdout",
     "output_type": "stream",
     "text": [
      "Train: Loss: 0.7671, Accuracy: 71.51%\n",
      "Validation: Loss: 0.9698, Accuracy: 65.81%\n",
      "\n",
      "Epoch 20/30\n"
     ]
    },
    {
     "name": "stderr",
     "output_type": "stream",
     "text": [
      "                                                                 \r"
     ]
    },
    {
     "name": "stdout",
     "output_type": "stream",
     "text": [
      "Train: Loss: 0.7641, Accuracy: 71.80%\n",
      "Validation: Loss: 0.9811, Accuracy: 66.09%\n",
      "\n",
      "Epoch 21/30\n"
     ]
    },
    {
     "name": "stderr",
     "output_type": "stream",
     "text": [
      "                                                                 \r"
     ]
    },
    {
     "name": "stdout",
     "output_type": "stream",
     "text": [
      "Train: Loss: 0.7581, Accuracy: 71.96%\n",
      "Validation: Loss: 0.9784, Accuracy: 65.67%\n",
      "Early stopping triggered.\n",
      "Treinando com hiperparâmetros: {'epochs': 30, 'lr': 0.0001, 'patience': 5, 'weight_decay': 1e-05}\n",
      "\n",
      "Epoch 1/30\n"
     ]
    },
    {
     "name": "stderr",
     "output_type": "stream",
     "text": [
      "                                                                 \r"
     ]
    },
    {
     "name": "stdout",
     "output_type": "stream",
     "text": [
      "Train: Loss: 1.3644, Accuracy: 47.86%\n",
      "Validation: Loss: 1.1372, Accuracy: 57.01%\n",
      "\n",
      "Epoch 2/30\n"
     ]
    },
    {
     "name": "stderr",
     "output_type": "stream",
     "text": [
      "                                                                 \r"
     ]
    },
    {
     "name": "stdout",
     "output_type": "stream",
     "text": [
      "Train: Loss: 1.1844, Accuracy: 56.03%\n",
      "Validation: Loss: 1.0765, Accuracy: 59.85%\n",
      "\n",
      "Epoch 3/30\n"
     ]
    },
    {
     "name": "stderr",
     "output_type": "stream",
     "text": [
      "                                                                 \r"
     ]
    },
    {
     "name": "stdout",
     "output_type": "stream",
     "text": [
      "Train: Loss: 1.1173, Accuracy: 58.50%\n",
      "Validation: Loss: 1.0661, Accuracy: 59.35%\n",
      "\n",
      "Epoch 4/30\n"
     ]
    },
    {
     "name": "stderr",
     "output_type": "stream",
     "text": [
      "                                                                 \r"
     ]
    },
    {
     "name": "stdout",
     "output_type": "stream",
     "text": [
      "Train: Loss: 1.0746, Accuracy: 59.89%\n",
      "Validation: Loss: 1.0204, Accuracy: 61.63%\n",
      "\n",
      "Epoch 5/30\n"
     ]
    },
    {
     "name": "stderr",
     "output_type": "stream",
     "text": [
      "                                                                 \r"
     ]
    },
    {
     "name": "stdout",
     "output_type": "stream",
     "text": [
      "Train: Loss: 1.0417, Accuracy: 61.09%\n",
      "Validation: Loss: 1.0248, Accuracy: 62.02%\n",
      "\n",
      "Epoch 6/30\n"
     ]
    },
    {
     "name": "stderr",
     "output_type": "stream",
     "text": [
      "                                                                 \r"
     ]
    },
    {
     "name": "stdout",
     "output_type": "stream",
     "text": [
      "Train: Loss: 1.0135, Accuracy: 62.40%\n",
      "Validation: Loss: 1.0158, Accuracy: 63.14%\n",
      "\n",
      "Epoch 7/30\n"
     ]
    },
    {
     "name": "stderr",
     "output_type": "stream",
     "text": [
      "                                                                 \r"
     ]
    },
    {
     "name": "stdout",
     "output_type": "stream",
     "text": [
      "Train: Loss: 0.9863, Accuracy: 63.66%\n",
      "Validation: Loss: 1.0229, Accuracy: 62.69%\n",
      "\n",
      "Epoch 8/30\n"
     ]
    },
    {
     "name": "stderr",
     "output_type": "stream",
     "text": [
      "                                                                 \r"
     ]
    },
    {
     "name": "stdout",
     "output_type": "stream",
     "text": [
      "Train: Loss: 0.9656, Accuracy: 64.16%\n",
      "Validation: Loss: 1.0136, Accuracy: 62.91%\n",
      "\n",
      "Epoch 9/30\n"
     ]
    },
    {
     "name": "stderr",
     "output_type": "stream",
     "text": [
      "                                                                 \r"
     ]
    },
    {
     "name": "stdout",
     "output_type": "stream",
     "text": [
      "Train: Loss: 0.9438, Accuracy: 64.61%\n",
      "Validation: Loss: 1.0166, Accuracy: 63.61%\n",
      "\n",
      "Epoch 10/30\n"
     ]
    },
    {
     "name": "stderr",
     "output_type": "stream",
     "text": [
      "                                                                 \r"
     ]
    },
    {
     "name": "stdout",
     "output_type": "stream",
     "text": [
      "Train: Loss: 0.9304, Accuracy: 65.31%\n",
      "Validation: Loss: 1.0352, Accuracy: 62.50%\n",
      "\n",
      "Epoch 11/30\n"
     ]
    },
    {
     "name": "stderr",
     "output_type": "stream",
     "text": [
      "                                                                 \r"
     ]
    },
    {
     "name": "stdout",
     "output_type": "stream",
     "text": [
      "Train: Loss: 0.9114, Accuracy: 66.07%\n",
      "Validation: Loss: 0.9941, Accuracy: 64.34%\n",
      "\n",
      "Epoch 12/30\n"
     ]
    },
    {
     "name": "stderr",
     "output_type": "stream",
     "text": [
      "                                                                 \r"
     ]
    },
    {
     "name": "stdout",
     "output_type": "stream",
     "text": [
      "Train: Loss: 0.8943, Accuracy: 66.99%\n",
      "Validation: Loss: 0.9718, Accuracy: 65.23%\n",
      "\n",
      "Epoch 13/30\n"
     ]
    },
    {
     "name": "stderr",
     "output_type": "stream",
     "text": [
      "                                                                 \r"
     ]
    },
    {
     "name": "stdout",
     "output_type": "stream",
     "text": [
      "Train: Loss: 0.8751, Accuracy: 67.74%\n",
      "Validation: Loss: 0.9931, Accuracy: 65.28%\n",
      "\n",
      "Epoch 14/30\n"
     ]
    },
    {
     "name": "stderr",
     "output_type": "stream",
     "text": [
      "                                                                 \r"
     ]
    },
    {
     "name": "stdout",
     "output_type": "stream",
     "text": [
      "Train: Loss: 0.8655, Accuracy: 68.08%\n",
      "Validation: Loss: 1.0418, Accuracy: 63.17%\n",
      "\n",
      "Epoch 15/30\n"
     ]
    },
    {
     "name": "stderr",
     "output_type": "stream",
     "text": [
      "                                                                 \r"
     ]
    },
    {
     "name": "stdout",
     "output_type": "stream",
     "text": [
      "Train: Loss: 0.8491, Accuracy: 68.45%\n",
      "Validation: Loss: 0.9977, Accuracy: 65.70%\n",
      "\n",
      "Epoch 16/30\n"
     ]
    },
    {
     "name": "stderr",
     "output_type": "stream",
     "text": [
      "                                                                 \r"
     ]
    },
    {
     "name": "stdout",
     "output_type": "stream",
     "text": [
      "Train: Loss: 0.8323, Accuracy: 69.17%\n",
      "Validation: Loss: 0.9884, Accuracy: 65.14%\n",
      "\n",
      "Epoch 17/30\n"
     ]
    },
    {
     "name": "stderr",
     "output_type": "stream",
     "text": [
      "                                                                 \r"
     ]
    },
    {
     "name": "stdout",
     "output_type": "stream",
     "text": [
      "Train: Loss: 0.7696, Accuracy: 71.75%\n",
      "Validation: Loss: 1.0133, Accuracy: 65.23%\n",
      "\n",
      "Epoch 18/30\n"
     ]
    },
    {
     "name": "stderr",
     "output_type": "stream",
     "text": [
      "                                                                 \r"
     ]
    },
    {
     "name": "stdout",
     "output_type": "stream",
     "text": [
      "Train: Loss: 0.7359, Accuracy: 72.93%\n",
      "Validation: Loss: 0.9998, Accuracy: 66.17%\n",
      "\n",
      "Epoch 19/30\n"
     ]
    },
    {
     "name": "stderr",
     "output_type": "stream",
     "text": [
      "                                                                 \r"
     ]
    },
    {
     "name": "stdout",
     "output_type": "stream",
     "text": [
      "Train: Loss: 0.7282, Accuracy: 73.26%\n",
      "Validation: Loss: 1.0128, Accuracy: 66.04%\n",
      "\n",
      "Epoch 20/30\n"
     ]
    },
    {
     "name": "stderr",
     "output_type": "stream",
     "text": [
      "                                                                 \r"
     ]
    },
    {
     "name": "stdout",
     "output_type": "stream",
     "text": [
      "Train: Loss: 0.7232, Accuracy: 73.42%\n",
      "Validation: Loss: 1.0180, Accuracy: 65.70%\n",
      "\n",
      "Epoch 21/30\n"
     ]
    },
    {
     "name": "stderr",
     "output_type": "stream",
     "text": [
      "                                                                 \r"
     ]
    },
    {
     "name": "stdout",
     "output_type": "stream",
     "text": [
      "Train: Loss: 0.7089, Accuracy: 73.96%\n",
      "Validation: Loss: 1.0161, Accuracy: 66.62%\n",
      "\n",
      "Epoch 22/30\n"
     ]
    },
    {
     "name": "stderr",
     "output_type": "stream",
     "text": [
      "                                                                 \r"
     ]
    },
    {
     "name": "stdout",
     "output_type": "stream",
     "text": [
      "Train: Loss: 0.7074, Accuracy: 73.98%\n",
      "Validation: Loss: 1.0142, Accuracy: 65.98%\n",
      "\n",
      "Epoch 23/30\n"
     ]
    },
    {
     "name": "stderr",
     "output_type": "stream",
     "text": [
      "                                                                 \r"
     ]
    },
    {
     "name": "stdout",
     "output_type": "stream",
     "text": [
      "Train: Loss: 0.6960, Accuracy: 74.58%\n",
      "Validation: Loss: 1.0217, Accuracy: 66.20%\n",
      "\n",
      "Epoch 24/30\n"
     ]
    },
    {
     "name": "stderr",
     "output_type": "stream",
     "text": [
      "                                                                 \r"
     ]
    },
    {
     "name": "stdout",
     "output_type": "stream",
     "text": [
      "Train: Loss: 0.7073, Accuracy: 74.21%\n",
      "Validation: Loss: 1.0241, Accuracy: 65.98%\n",
      "\n",
      "Epoch 25/30\n"
     ]
    },
    {
     "name": "stderr",
     "output_type": "stream",
     "text": [
      "                                                                 \r"
     ]
    },
    {
     "name": "stdout",
     "output_type": "stream",
     "text": [
      "Train: Loss: 0.7032, Accuracy: 74.21%\n",
      "Validation: Loss: 1.0049, Accuracy: 65.78%\n",
      "\n",
      "Epoch 26/30\n"
     ]
    },
    {
     "name": "stderr",
     "output_type": "stream",
     "text": [
      "                                                                 \r"
     ]
    },
    {
     "name": "stdout",
     "output_type": "stream",
     "text": [
      "Train: Loss: 0.7069, Accuracy: 74.00%\n",
      "Validation: Loss: 1.0211, Accuracy: 66.12%\n",
      "Early stopping triggered.\n",
      "Novo melhor modelo encontrado com precisão: 0.6662\n",
      "Treinando com hiperparâmetros: {'epochs': 30, 'lr': 0.001, 'patience': 3, 'weight_decay': 0.0001}\n",
      "\n",
      "Epoch 1/30\n"
     ]
    },
    {
     "name": "stderr",
     "output_type": "stream",
     "text": [
      "                                                                 \r"
     ]
    },
    {
     "name": "stdout",
     "output_type": "stream",
     "text": [
      "Train: Loss: 1.4602, Accuracy: 44.38%\n",
      "Validation: Loss: 1.2707, Accuracy: 52.80%\n",
      "\n",
      "Epoch 2/30\n"
     ]
    },
    {
     "name": "stderr",
     "output_type": "stream",
     "text": [
      "                                                                 \r"
     ]
    },
    {
     "name": "stdout",
     "output_type": "stream",
     "text": [
      "Train: Loss: 1.3081, Accuracy: 50.39%\n",
      "Validation: Loss: 1.2244, Accuracy: 53.55%\n",
      "\n",
      "Epoch 3/30\n"
     ]
    },
    {
     "name": "stderr",
     "output_type": "stream",
     "text": [
      "                                                                 \r"
     ]
    },
    {
     "name": "stdout",
     "output_type": "stream",
     "text": [
      "Train: Loss: 1.2513, Accuracy: 52.80%\n",
      "Validation: Loss: 1.2274, Accuracy: 53.58%\n",
      "\n",
      "Epoch 4/30\n"
     ]
    },
    {
     "name": "stderr",
     "output_type": "stream",
     "text": [
      "                                                                 \r"
     ]
    },
    {
     "name": "stdout",
     "output_type": "stream",
     "text": [
      "Train: Loss: 1.2065, Accuracy: 55.05%\n",
      "Validation: Loss: 1.1308, Accuracy: 56.90%\n",
      "\n",
      "Epoch 5/30\n"
     ]
    },
    {
     "name": "stderr",
     "output_type": "stream",
     "text": [
      "                                                                 \r"
     ]
    },
    {
     "name": "stdout",
     "output_type": "stream",
     "text": [
      "Train: Loss: 1.1759, Accuracy: 56.18%\n",
      "Validation: Loss: 1.1363, Accuracy: 57.31%\n",
      "\n",
      "Epoch 6/30\n"
     ]
    },
    {
     "name": "stderr",
     "output_type": "stream",
     "text": [
      "                                                                 \r"
     ]
    },
    {
     "name": "stdout",
     "output_type": "stream",
     "text": [
      "Train: Loss: 1.1468, Accuracy: 57.52%\n",
      "Validation: Loss: 1.0921, Accuracy: 58.29%\n",
      "\n",
      "Epoch 7/30\n"
     ]
    },
    {
     "name": "stderr",
     "output_type": "stream",
     "text": [
      "                                                                 \r"
     ]
    },
    {
     "name": "stdout",
     "output_type": "stream",
     "text": [
      "Train: Loss: 1.1261, Accuracy: 58.38%\n",
      "Validation: Loss: 1.0845, Accuracy: 59.24%\n",
      "\n",
      "Epoch 8/30\n"
     ]
    },
    {
     "name": "stderr",
     "output_type": "stream",
     "text": [
      "                                                                 \r"
     ]
    },
    {
     "name": "stdout",
     "output_type": "stream",
     "text": [
      "Train: Loss: 1.1045, Accuracy: 59.25%\n",
      "Validation: Loss: 1.0641, Accuracy: 59.32%\n",
      "\n",
      "Epoch 9/30\n"
     ]
    },
    {
     "name": "stderr",
     "output_type": "stream",
     "text": [
      "                                                                 \r"
     ]
    },
    {
     "name": "stdout",
     "output_type": "stream",
     "text": [
      "Train: Loss: 1.0914, Accuracy: 59.50%\n",
      "Validation: Loss: 1.0816, Accuracy: 59.24%\n",
      "\n",
      "Epoch 10/30\n"
     ]
    },
    {
     "name": "stderr",
     "output_type": "stream",
     "text": [
      "                                                                 \r"
     ]
    },
    {
     "name": "stdout",
     "output_type": "stream",
     "text": [
      "Train: Loss: 1.0783, Accuracy: 59.90%\n",
      "Validation: Loss: 1.0331, Accuracy: 61.77%\n",
      "\n",
      "Epoch 11/30\n"
     ]
    },
    {
     "name": "stderr",
     "output_type": "stream",
     "text": [
      "                                                                 \r"
     ]
    },
    {
     "name": "stdout",
     "output_type": "stream",
     "text": [
      "Train: Loss: 1.0650, Accuracy: 60.50%\n",
      "Validation: Loss: 1.0353, Accuracy: 61.05%\n",
      "\n",
      "Epoch 12/30\n"
     ]
    },
    {
     "name": "stderr",
     "output_type": "stream",
     "text": [
      "                                                                 \r"
     ]
    },
    {
     "name": "stdout",
     "output_type": "stream",
     "text": [
      "Train: Loss: 1.0529, Accuracy: 61.03%\n",
      "Validation: Loss: 1.0350, Accuracy: 61.86%\n",
      "\n",
      "Epoch 13/30\n"
     ]
    },
    {
     "name": "stderr",
     "output_type": "stream",
     "text": [
      "                                                                 \r"
     ]
    },
    {
     "name": "stdout",
     "output_type": "stream",
     "text": [
      "Train: Loss: 1.0439, Accuracy: 61.33%\n",
      "Validation: Loss: 1.0611, Accuracy: 61.05%\n",
      "\n",
      "Epoch 14/30\n"
     ]
    },
    {
     "name": "stderr",
     "output_type": "stream",
     "text": [
      "                                                                 \r"
     ]
    },
    {
     "name": "stdout",
     "output_type": "stream",
     "text": [
      "Train: Loss: 1.0306, Accuracy: 61.75%\n",
      "Validation: Loss: 1.0003, Accuracy: 62.44%\n",
      "\n",
      "Epoch 15/30\n"
     ]
    },
    {
     "name": "stderr",
     "output_type": "stream",
     "text": [
      "                                                                 \r"
     ]
    },
    {
     "name": "stdout",
     "output_type": "stream",
     "text": [
      "Train: Loss: 1.0207, Accuracy: 62.28%\n",
      "Validation: Loss: 1.0102, Accuracy: 62.39%\n",
      "\n",
      "Epoch 16/30\n"
     ]
    },
    {
     "name": "stderr",
     "output_type": "stream",
     "text": [
      "                                                                 \r"
     ]
    },
    {
     "name": "stdout",
     "output_type": "stream",
     "text": [
      "Train: Loss: 1.0159, Accuracy: 62.37%\n",
      "Validation: Loss: 1.0165, Accuracy: 61.49%\n",
      "\n",
      "Epoch 17/30\n"
     ]
    },
    {
     "name": "stderr",
     "output_type": "stream",
     "text": [
      "                                                                 \r"
     ]
    },
    {
     "name": "stdout",
     "output_type": "stream",
     "text": [
      "Train: Loss: 1.0101, Accuracy: 62.06%\n",
      "Validation: Loss: 1.0304, Accuracy: 61.91%\n",
      "Early stopping triggered.\n",
      "Treinando com hiperparâmetros: {'epochs': 30, 'lr': 0.001, 'patience': 3, 'weight_decay': 1e-05}\n",
      "\n",
      "Epoch 1/30\n"
     ]
    },
    {
     "name": "stderr",
     "output_type": "stream",
     "text": [
      "                                                                 \r"
     ]
    },
    {
     "name": "stdout",
     "output_type": "stream",
     "text": [
      "Train: Loss: 1.4555, Accuracy: 43.88%\n",
      "Validation: Loss: 1.2602, Accuracy: 51.85%\n",
      "\n",
      "Epoch 2/30\n"
     ]
    },
    {
     "name": "stderr",
     "output_type": "stream",
     "text": [
      "                                                                 \r"
     ]
    },
    {
     "name": "stdout",
     "output_type": "stream",
     "text": [
      "Train: Loss: 1.2936, Accuracy: 51.24%\n",
      "Validation: Loss: 1.1963, Accuracy: 54.95%\n",
      "\n",
      "Epoch 3/30\n"
     ]
    },
    {
     "name": "stderr",
     "output_type": "stream",
     "text": [
      "                                                                 \r"
     ]
    },
    {
     "name": "stdout",
     "output_type": "stream",
     "text": [
      "Train: Loss: 1.2253, Accuracy: 54.32%\n",
      "Validation: Loss: 1.1177, Accuracy: 57.62%\n",
      "\n",
      "Epoch 4/30\n"
     ]
    },
    {
     "name": "stderr",
     "output_type": "stream",
     "text": [
      "                                                                 \r"
     ]
    },
    {
     "name": "stdout",
     "output_type": "stream",
     "text": [
      "Train: Loss: 1.1748, Accuracy: 56.31%\n",
      "Validation: Loss: 1.0728, Accuracy: 59.74%\n",
      "\n",
      "Epoch 5/30\n"
     ]
    },
    {
     "name": "stderr",
     "output_type": "stream",
     "text": [
      "                                                                 \r"
     ]
    },
    {
     "name": "stdout",
     "output_type": "stream",
     "text": [
      "Train: Loss: 1.1456, Accuracy: 57.60%\n",
      "Validation: Loss: 1.0854, Accuracy: 57.93%\n",
      "\n",
      "Epoch 6/30\n"
     ]
    },
    {
     "name": "stderr",
     "output_type": "stream",
     "text": [
      "                                                                 \r"
     ]
    },
    {
     "name": "stdout",
     "output_type": "stream",
     "text": [
      "Train: Loss: 1.1165, Accuracy: 58.74%\n",
      "Validation: Loss: 1.0839, Accuracy: 58.99%\n",
      "\n",
      "Epoch 7/30\n"
     ]
    },
    {
     "name": "stderr",
     "output_type": "stream",
     "text": [
      "                                                                 \r"
     ]
    },
    {
     "name": "stdout",
     "output_type": "stream",
     "text": [
      "Train: Loss: 1.0931, Accuracy: 59.40%\n",
      "Validation: Loss: 1.0604, Accuracy: 59.49%\n",
      "Early stopping triggered.\n",
      "Treinando com hiperparâmetros: {'epochs': 30, 'lr': 0.001, 'patience': 5, 'weight_decay': 0.0001}\n",
      "\n",
      "Epoch 1/30\n"
     ]
    },
    {
     "name": "stderr",
     "output_type": "stream",
     "text": [
      "                                                                 \r"
     ]
    },
    {
     "name": "stdout",
     "output_type": "stream",
     "text": [
      "Train: Loss: 1.4403, Accuracy: 44.82%\n",
      "Validation: Loss: 1.2524, Accuracy: 52.58%\n",
      "\n",
      "Epoch 2/30\n"
     ]
    },
    {
     "name": "stderr",
     "output_type": "stream",
     "text": [
      "                                                                 \r"
     ]
    },
    {
     "name": "stdout",
     "output_type": "stream",
     "text": [
      "Train: Loss: 1.2996, Accuracy: 50.75%\n",
      "Validation: Loss: 1.1810, Accuracy: 55.34%\n",
      "\n",
      "Epoch 3/30\n"
     ]
    },
    {
     "name": "stderr",
     "output_type": "stream",
     "text": [
      "                                                                 \r"
     ]
    },
    {
     "name": "stdout",
     "output_type": "stream",
     "text": [
      "Train: Loss: 1.2365, Accuracy: 53.44%\n",
      "Validation: Loss: 1.1672, Accuracy: 55.50%\n",
      "\n",
      "Epoch 4/30\n"
     ]
    },
    {
     "name": "stderr",
     "output_type": "stream",
     "text": [
      "                                                                 \r"
     ]
    },
    {
     "name": "stdout",
     "output_type": "stream",
     "text": [
      "Train: Loss: 1.1951, Accuracy: 55.42%\n",
      "Validation: Loss: 1.1030, Accuracy: 58.09%\n",
      "\n",
      "Epoch 5/30\n"
     ]
    },
    {
     "name": "stderr",
     "output_type": "stream",
     "text": [
      "                                                                 \r"
     ]
    },
    {
     "name": "stdout",
     "output_type": "stream",
     "text": [
      "Train: Loss: 1.1644, Accuracy: 56.60%\n",
      "Validation: Loss: 1.1137, Accuracy: 58.60%\n",
      "\n",
      "Epoch 6/30\n"
     ]
    },
    {
     "name": "stderr",
     "output_type": "stream",
     "text": [
      "                                                                 \r"
     ]
    },
    {
     "name": "stdout",
     "output_type": "stream",
     "text": [
      "Train: Loss: 1.1359, Accuracy: 57.78%\n",
      "Validation: Loss: 1.0619, Accuracy: 60.10%\n",
      "\n",
      "Epoch 7/30\n"
     ]
    },
    {
     "name": "stderr",
     "output_type": "stream",
     "text": [
      "                                                                 \r"
     ]
    },
    {
     "name": "stdout",
     "output_type": "stream",
     "text": [
      "Train: Loss: 1.1107, Accuracy: 58.90%\n",
      "Validation: Loss: 1.1722, Accuracy: 56.34%\n",
      "\n",
      "Epoch 8/30\n"
     ]
    },
    {
     "name": "stderr",
     "output_type": "stream",
     "text": [
      "                                                                 \r"
     ]
    },
    {
     "name": "stdout",
     "output_type": "stream",
     "text": [
      "Train: Loss: 1.1018, Accuracy: 59.19%\n",
      "Validation: Loss: 1.0941, Accuracy: 58.93%\n",
      "\n",
      "Epoch 9/30\n"
     ]
    },
    {
     "name": "stderr",
     "output_type": "stream",
     "text": [
      "                                                                 \r"
     ]
    },
    {
     "name": "stdout",
     "output_type": "stream",
     "text": [
      "Train: Loss: 1.0865, Accuracy: 60.08%\n",
      "Validation: Loss: 1.0382, Accuracy: 61.52%\n",
      "\n",
      "Epoch 10/30\n"
     ]
    },
    {
     "name": "stderr",
     "output_type": "stream",
     "text": [
      "                                                                 \r"
     ]
    },
    {
     "name": "stdout",
     "output_type": "stream",
     "text": [
      "Train: Loss: 1.0685, Accuracy: 60.57%\n",
      "Validation: Loss: 1.0673, Accuracy: 60.18%\n",
      "\n",
      "Epoch 11/30\n"
     ]
    },
    {
     "name": "stderr",
     "output_type": "stream",
     "text": [
      "                                                                 \r"
     ]
    },
    {
     "name": "stdout",
     "output_type": "stream",
     "text": [
      "Train: Loss: 1.0600, Accuracy: 60.77%\n",
      "Validation: Loss: 1.0583, Accuracy: 60.41%\n",
      "\n",
      "Epoch 12/30\n"
     ]
    },
    {
     "name": "stderr",
     "output_type": "stream",
     "text": [
      "                                                                 \r"
     ]
    },
    {
     "name": "stdout",
     "output_type": "stream",
     "text": [
      "Train: Loss: 1.0432, Accuracy: 61.11%\n",
      "Validation: Loss: 1.0428, Accuracy: 61.16%\n",
      "\n",
      "Epoch 13/30\n"
     ]
    },
    {
     "name": "stderr",
     "output_type": "stream",
     "text": [
      "                                                                 \r"
     ]
    },
    {
     "name": "stdout",
     "output_type": "stream",
     "text": [
      "Train: Loss: 1.0323, Accuracy: 61.57%\n",
      "Validation: Loss: 1.0833, Accuracy: 60.24%\n",
      "\n",
      "Epoch 14/30\n"
     ]
    },
    {
     "name": "stderr",
     "output_type": "stream",
     "text": [
      "                                                                 \r"
     ]
    },
    {
     "name": "stdout",
     "output_type": "stream",
     "text": [
      "Train: Loss: 0.9796, Accuracy: 63.48%\n",
      "Validation: Loss: 0.9966, Accuracy: 63.00%\n",
      "\n",
      "Epoch 15/30\n"
     ]
    },
    {
     "name": "stderr",
     "output_type": "stream",
     "text": [
      "                                                                 \r"
     ]
    },
    {
     "name": "stdout",
     "output_type": "stream",
     "text": [
      "Train: Loss: 0.9543, Accuracy: 64.76%\n",
      "Validation: Loss: 0.9856, Accuracy: 63.14%\n",
      "\n",
      "Epoch 16/30\n"
     ]
    },
    {
     "name": "stderr",
     "output_type": "stream",
     "text": [
      "                                                                 \r"
     ]
    },
    {
     "name": "stdout",
     "output_type": "stream",
     "text": [
      "Train: Loss: 0.9496, Accuracy: 64.99%\n",
      "Validation: Loss: 0.9929, Accuracy: 63.22%\n",
      "\n",
      "Epoch 17/30\n"
     ]
    },
    {
     "name": "stderr",
     "output_type": "stream",
     "text": [
      "                                                                 \r"
     ]
    },
    {
     "name": "stdout",
     "output_type": "stream",
     "text": [
      "Train: Loss: 0.9388, Accuracy: 65.16%\n",
      "Validation: Loss: 0.9838, Accuracy: 63.89%\n",
      "\n",
      "Epoch 18/30\n"
     ]
    },
    {
     "name": "stderr",
     "output_type": "stream",
     "text": [
      "                                                                 \r"
     ]
    },
    {
     "name": "stdout",
     "output_type": "stream",
     "text": [
      "Train: Loss: 0.9364, Accuracy: 65.43%\n",
      "Validation: Loss: 0.9788, Accuracy: 64.42%\n",
      "\n",
      "Epoch 19/30\n"
     ]
    },
    {
     "name": "stderr",
     "output_type": "stream",
     "text": [
      "                                                                 \r"
     ]
    },
    {
     "name": "stdout",
     "output_type": "stream",
     "text": [
      "Train: Loss: 0.9299, Accuracy: 65.46%\n",
      "Validation: Loss: 0.9851, Accuracy: 64.28%\n",
      "\n",
      "Epoch 20/30\n"
     ]
    },
    {
     "name": "stderr",
     "output_type": "stream",
     "text": [
      "                                                                 \r"
     ]
    },
    {
     "name": "stdout",
     "output_type": "stream",
     "text": [
      "Train: Loss: 0.9253, Accuracy: 65.44%\n",
      "Validation: Loss: 0.9825, Accuracy: 64.17%\n",
      "\n",
      "Epoch 21/30\n"
     ]
    },
    {
     "name": "stderr",
     "output_type": "stream",
     "text": [
      "                                                                 \r"
     ]
    },
    {
     "name": "stdout",
     "output_type": "stream",
     "text": [
      "Train: Loss: 0.9171, Accuracy: 66.12%\n",
      "Validation: Loss: 0.9755, Accuracy: 64.28%\n",
      "\n",
      "Epoch 22/30\n"
     ]
    },
    {
     "name": "stderr",
     "output_type": "stream",
     "text": [
      "                                                                 \r"
     ]
    },
    {
     "name": "stdout",
     "output_type": "stream",
     "text": [
      "Train: Loss: 0.9115, Accuracy: 66.40%\n",
      "Validation: Loss: 0.9880, Accuracy: 63.69%\n",
      "\n",
      "Epoch 23/30\n"
     ]
    },
    {
     "name": "stderr",
     "output_type": "stream",
     "text": [
      "                                                                 \r"
     ]
    },
    {
     "name": "stdout",
     "output_type": "stream",
     "text": [
      "Train: Loss: 0.9098, Accuracy: 66.33%\n",
      "Validation: Loss: 0.9711, Accuracy: 64.25%\n",
      "Early stopping triggered.\n",
      "Treinando com hiperparâmetros: {'epochs': 30, 'lr': 0.001, 'patience': 5, 'weight_decay': 1e-05}\n",
      "\n",
      "Epoch 1/30\n"
     ]
    },
    {
     "name": "stderr",
     "output_type": "stream",
     "text": [
      "                                                                 \r"
     ]
    },
    {
     "name": "stdout",
     "output_type": "stream",
     "text": [
      "Train: Loss: 1.4519, Accuracy: 43.98%\n",
      "Validation: Loss: 1.2788, Accuracy: 50.99%\n",
      "\n",
      "Epoch 2/30\n"
     ]
    },
    {
     "name": "stderr",
     "output_type": "stream",
     "text": [
      "                                                                 \r"
     ]
    },
    {
     "name": "stdout",
     "output_type": "stream",
     "text": [
      "Train: Loss: 1.2865, Accuracy: 51.23%\n",
      "Validation: Loss: 1.1811, Accuracy: 54.69%\n",
      "\n",
      "Epoch 3/30\n"
     ]
    },
    {
     "name": "stderr",
     "output_type": "stream",
     "text": [
      "                                                                 \r"
     ]
    },
    {
     "name": "stdout",
     "output_type": "stream",
     "text": [
      "Train: Loss: 1.2266, Accuracy: 54.05%\n",
      "Validation: Loss: 1.1247, Accuracy: 58.23%\n",
      "\n",
      "Epoch 4/30\n"
     ]
    },
    {
     "name": "stderr",
     "output_type": "stream",
     "text": [
      "                                                                 \r"
     ]
    },
    {
     "name": "stdout",
     "output_type": "stream",
     "text": [
      "Train: Loss: 1.1808, Accuracy: 56.15%\n",
      "Validation: Loss: 1.1158, Accuracy: 58.71%\n",
      "\n",
      "Epoch 5/30\n"
     ]
    },
    {
     "name": "stderr",
     "output_type": "stream",
     "text": [
      "                                                                 \r"
     ]
    },
    {
     "name": "stdout",
     "output_type": "stream",
     "text": [
      "Train: Loss: 1.1496, Accuracy: 57.39%\n",
      "Validation: Loss: 1.0931, Accuracy: 58.48%\n",
      "\n",
      "Epoch 6/30\n"
     ]
    },
    {
     "name": "stderr",
     "output_type": "stream",
     "text": [
      "                                                                 \r"
     ]
    },
    {
     "name": "stdout",
     "output_type": "stream",
     "text": [
      "Train: Loss: 1.1274, Accuracy: 58.73%\n",
      "Validation: Loss: 1.0748, Accuracy: 59.15%\n",
      "\n",
      "Epoch 7/30\n"
     ]
    },
    {
     "name": "stderr",
     "output_type": "stream",
     "text": [
      "                                                                 \r"
     ]
    },
    {
     "name": "stdout",
     "output_type": "stream",
     "text": [
      "Train: Loss: 1.0999, Accuracy: 59.14%\n",
      "Validation: Loss: 1.0499, Accuracy: 60.21%\n",
      "\n",
      "Epoch 8/30\n"
     ]
    },
    {
     "name": "stderr",
     "output_type": "stream",
     "text": [
      "                                                                 \r"
     ]
    },
    {
     "name": "stdout",
     "output_type": "stream",
     "text": [
      "Train: Loss: 1.0846, Accuracy: 60.18%\n",
      "Validation: Loss: 1.0389, Accuracy: 60.71%\n",
      "\n",
      "Epoch 9/30\n"
     ]
    },
    {
     "name": "stderr",
     "output_type": "stream",
     "text": [
      "                                                                 \r"
     ]
    },
    {
     "name": "stdout",
     "output_type": "stream",
     "text": [
      "Train: Loss: 1.0552, Accuracy: 61.09%\n",
      "Validation: Loss: 1.0973, Accuracy: 59.35%\n",
      "\n",
      "Epoch 10/30\n"
     ]
    },
    {
     "name": "stderr",
     "output_type": "stream",
     "text": [
      "                                                                 \r"
     ]
    },
    {
     "name": "stdout",
     "output_type": "stream",
     "text": [
      "Train: Loss: 1.0369, Accuracy: 61.78%\n",
      "Validation: Loss: 1.0848, Accuracy: 59.54%\n",
      "\n",
      "Epoch 11/30\n"
     ]
    },
    {
     "name": "stderr",
     "output_type": "stream",
     "text": [
      "                                                                 \r"
     ]
    },
    {
     "name": "stdout",
     "output_type": "stream",
     "text": [
      "Train: Loss: 1.0243, Accuracy: 62.07%\n",
      "Validation: Loss: 0.9819, Accuracy: 62.78%\n",
      "\n",
      "Epoch 12/30\n"
     ]
    },
    {
     "name": "stderr",
     "output_type": "stream",
     "text": [
      "                                                                 \r"
     ]
    },
    {
     "name": "stdout",
     "output_type": "stream",
     "text": [
      "Train: Loss: 1.0167, Accuracy: 62.40%\n",
      "Validation: Loss: 1.0083, Accuracy: 62.08%\n",
      "\n",
      "Epoch 13/30\n"
     ]
    },
    {
     "name": "stderr",
     "output_type": "stream",
     "text": [
      "                                                                 \r"
     ]
    },
    {
     "name": "stdout",
     "output_type": "stream",
     "text": [
      "Train: Loss: 0.9977, Accuracy: 62.93%\n",
      "Validation: Loss: 1.0027, Accuracy: 63.33%\n",
      "\n",
      "Epoch 14/30\n"
     ]
    },
    {
     "name": "stderr",
     "output_type": "stream",
     "text": [
      "                                                                 \r"
     ]
    },
    {
     "name": "stdout",
     "output_type": "stream",
     "text": [
      "Train: Loss: 0.9873, Accuracy: 63.35%\n",
      "Validation: Loss: 1.0446, Accuracy: 61.99%\n",
      "\n",
      "Epoch 15/30\n"
     ]
    },
    {
     "name": "stderr",
     "output_type": "stream",
     "text": [
      "                                                                 \r"
     ]
    },
    {
     "name": "stdout",
     "output_type": "stream",
     "text": [
      "Train: Loss: 0.9753, Accuracy: 63.66%\n",
      "Validation: Loss: 1.0574, Accuracy: 61.97%\n",
      "\n",
      "Epoch 16/30\n"
     ]
    },
    {
     "name": "stderr",
     "output_type": "stream",
     "text": [
      "                                                                 \r"
     ]
    },
    {
     "name": "stdout",
     "output_type": "stream",
     "text": [
      "Train: Loss: 0.9169, Accuracy: 66.04%\n",
      "Validation: Loss: 0.9696, Accuracy: 64.25%\n",
      "\n",
      "Epoch 17/30\n"
     ]
    },
    {
     "name": "stderr",
     "output_type": "stream",
     "text": [
      "                                                                 \r"
     ]
    },
    {
     "name": "stdout",
     "output_type": "stream",
     "text": [
      "Train: Loss: 0.8949, Accuracy: 66.68%\n",
      "Validation: Loss: 0.9687, Accuracy: 64.14%\n",
      "\n",
      "Epoch 18/30\n"
     ]
    },
    {
     "name": "stderr",
     "output_type": "stream",
     "text": [
      "                                                                 \r"
     ]
    },
    {
     "name": "stdout",
     "output_type": "stream",
     "text": [
      "Train: Loss: 0.8916, Accuracy: 67.09%\n",
      "Validation: Loss: 0.9707, Accuracy: 64.31%\n",
      "\n",
      "Epoch 19/30\n"
     ]
    },
    {
     "name": "stderr",
     "output_type": "stream",
     "text": [
      "                                                                 \r"
     ]
    },
    {
     "name": "stdout",
     "output_type": "stream",
     "text": [
      "Train: Loss: 0.8795, Accuracy: 67.48%\n",
      "Validation: Loss: 0.9713, Accuracy: 64.36%\n",
      "\n",
      "Epoch 20/30\n"
     ]
    },
    {
     "name": "stderr",
     "output_type": "stream",
     "text": [
      "                                                                 \r"
     ]
    },
    {
     "name": "stdout",
     "output_type": "stream",
     "text": [
      "Train: Loss: 0.8730, Accuracy: 67.82%\n",
      "Validation: Loss: 0.9791, Accuracy: 64.61%\n",
      "\n",
      "Epoch 21/30\n"
     ]
    },
    {
     "name": "stderr",
     "output_type": "stream",
     "text": [
      "                                                                 \r"
     ]
    },
    {
     "name": "stdout",
     "output_type": "stream",
     "text": [
      "Train: Loss: 0.8711, Accuracy: 67.78%\n",
      "Validation: Loss: 0.9760, Accuracy: 64.67%\n",
      "\n",
      "Epoch 22/30\n"
     ]
    },
    {
     "name": "stderr",
     "output_type": "stream",
     "text": [
      "                                                                 \r"
     ]
    },
    {
     "name": "stdout",
     "output_type": "stream",
     "text": [
      "Train: Loss: 0.8575, Accuracy: 68.20%\n",
      "Validation: Loss: 0.9820, Accuracy: 64.56%\n",
      "\n",
      "Epoch 23/30\n"
     ]
    },
    {
     "name": "stderr",
     "output_type": "stream",
     "text": [
      "                                                                 \r"
     ]
    },
    {
     "name": "stdout",
     "output_type": "stream",
     "text": [
      "Train: Loss: 0.8540, Accuracy: 68.45%\n",
      "Validation: Loss: 0.9826, Accuracy: 64.67%\n",
      "\n",
      "Epoch 24/30\n"
     ]
    },
    {
     "name": "stderr",
     "output_type": "stream",
     "text": [
      "                                                                 \r"
     ]
    },
    {
     "name": "stdout",
     "output_type": "stream",
     "text": [
      "Train: Loss: 0.8499, Accuracy: 68.58%\n",
      "Validation: Loss: 0.9856, Accuracy: 64.22%\n",
      "\n",
      "Epoch 25/30\n"
     ]
    },
    {
     "name": "stderr",
     "output_type": "stream",
     "text": [
      "                                                                 \r"
     ]
    },
    {
     "name": "stdout",
     "output_type": "stream",
     "text": [
      "Train: Loss: 0.8529, Accuracy: 68.38%\n",
      "Validation: Loss: 0.9837, Accuracy: 64.59%\n",
      "\n",
      "Epoch 26/30\n"
     ]
    },
    {
     "name": "stderr",
     "output_type": "stream",
     "text": [
      "                                                                 \r"
     ]
    },
    {
     "name": "stdout",
     "output_type": "stream",
     "text": [
      "Train: Loss: 0.8498, Accuracy: 68.64%\n",
      "Validation: Loss: 0.9750, Accuracy: 64.70%\n",
      "\n",
      "Epoch 27/30\n"
     ]
    },
    {
     "name": "stderr",
     "output_type": "stream",
     "text": [
      "                                                                 \r"
     ]
    },
    {
     "name": "stdout",
     "output_type": "stream",
     "text": [
      "Train: Loss: 0.8565, Accuracy: 68.38%\n",
      "Validation: Loss: 0.9873, Accuracy: 64.36%\n",
      "\n",
      "Epoch 28/30\n"
     ]
    },
    {
     "name": "stderr",
     "output_type": "stream",
     "text": [
      "                                                                 \r"
     ]
    },
    {
     "name": "stdout",
     "output_type": "stream",
     "text": [
      "Train: Loss: 0.8518, Accuracy: 68.48%\n",
      "Validation: Loss: 0.9924, Accuracy: 64.28%\n",
      "\n",
      "Epoch 29/30\n"
     ]
    },
    {
     "name": "stderr",
     "output_type": "stream",
     "text": [
      "                                                                 \r"
     ]
    },
    {
     "name": "stdout",
     "output_type": "stream",
     "text": [
      "Train: Loss: 0.8517, Accuracy: 68.72%\n",
      "Validation: Loss: 0.9813, Accuracy: 64.84%\n",
      "\n",
      "Epoch 30/30\n"
     ]
    },
    {
     "name": "stderr",
     "output_type": "stream",
     "text": [
      "                                                                 "
     ]
    },
    {
     "name": "stdout",
     "output_type": "stream",
     "text": [
      "Train: Loss: 0.8536, Accuracy: 68.46%\n",
      "Validation: Loss: 0.9853, Accuracy: 64.61%\n",
      "Melhores hiperparâmetros: {'epochs': 30, 'lr': 0.0001, 'patience': 5, 'weight_decay': 1e-05}\n",
      "Melhor precisão de validação: 0.6662\n"
     ]
    },
    {
     "name": "stderr",
     "output_type": "stream",
     "text": [
      "\r"
     ]
    }
   ],
   "source": [
    "from sklearn.model_selection import ParameterGrid\n",
    "import json\n",
    "from tqdm import tqdm\n",
    "\n",
    "class GridSearchTrainer:\n",
    "    def __init__(self, model_class, data_loader_treino, data_loader_validacao, num_imagens_treino, num_imagens_validacao, device, num_classes, param_grid, checkpoint_dir='checkpoints'):\n",
    "        self.model_class = model_class\n",
    "        self.data_loader_treino = data_loader_treino\n",
    "        self.data_loader_validacao = data_loader_validacao\n",
    "        self.num_imagens_treino = num_imagens_treino\n",
    "        self.num_imagens_validacao = num_imagens_validacao\n",
    "        self.device = device\n",
    "        self.num_classes = num_classes\n",
    "        self.param_grid = param_grid\n",
    "        self.checkpoint_dir = checkpoint_dir\n",
    "        self.best_params = None\n",
    "        self.best_accuracy = 0.0\n",
    "\n",
    "        # Create directory for checkpoints\n",
    "        os.makedirs(self.checkpoint_dir, exist_ok=True)\n",
    "\n",
    "    def train_and_evaluate(self, hyperparams):\n",
    "        model = self.model_class(self.num_classes).get_model().to(self.device)\n",
    "        optimizer = optim.Adam(model.parameters(), lr=hyperparams['lr'], weight_decay=hyperparams['weight_decay'])\n",
    "        criterion = nn.CrossEntropyLoss()\n",
    "        scheduler = ReduceLROnPlateau(optimizer, mode='min', factor=0.1, patience=3, verbose=True)\n",
    "\n",
    "        best_accuracy = 0.0\n",
    "        patience = hyperparams.get('patience', 5)\n",
    "        early_stop_counter = 0\n",
    "\n",
    "        for epoch in range(hyperparams['epochs']):\n",
    "            print(f\"\\nEpoch {epoch + 1}/{hyperparams['epochs']}\")\n",
    "            model.train()\n",
    "            train_loss, train_accuracy = self.run_epoch(model, criterion, optimizer, self.data_loader_treino, phase='train', epoch_progress=True)\n",
    "            model.eval()\n",
    "            val_loss, val_accuracy = self.run_epoch(model, criterion, optimizer, self.data_loader_validacao, phase='eval', epoch_progress=True)\n",
    "            print(f\"Train: Loss: {train_loss:.4f}, Accuracy: {train_accuracy * 100:.2f}%\")\n",
    "            print(f\"Validation: Loss: {val_loss:.4f}, Accuracy: {val_accuracy * 100:.2f}%\")\n",
    "            scheduler.step(val_loss)\n",
    "\n",
    "            if val_accuracy > best_accuracy:\n",
    "                best_accuracy = val_accuracy\n",
    "                early_stop_counter = 0\n",
    "                # Save checkpoint with hyperparameters\n",
    "                checkpoint_name = self.generate_checkpoint_name(hyperparams, epoch + 1, val_accuracy)\n",
    "                torch.save({'model_state_dict': model.state_dict(),\n",
    "                            'hyperparams': hyperparams,\n",
    "                            'accuracy': val_accuracy}, os.path.join(self.checkpoint_dir, checkpoint_name))\n",
    "            else:\n",
    "                early_stop_counter += 1\n",
    "\n",
    "            if early_stop_counter >= patience:\n",
    "                print(\"Early stopping triggered.\")\n",
    "                break\n",
    "\n",
    "        return best_accuracy\n",
    "\n",
    "    def run_epoch(self, model, criterion, optimizer, data_loader, phase, epoch_progress=False):\n",
    "        total_loss = 0.0\n",
    "        correct_predictions = 0\n",
    "\n",
    "        with tqdm(total=len(data_loader), desc=f\"{phase.capitalize()} Progress\", leave=False) as pbar:\n",
    "            for inputs, labels in data_loader:\n",
    "                inputs, labels = inputs.to(self.device), labels.to(self.device)\n",
    "\n",
    "                if phase == 'train':\n",
    "                    optimizer.zero_grad()\n",
    "\n",
    "                outputs = model(inputs)\n",
    "                loss = criterion(outputs, labels)\n",
    "                if phase == 'train':\n",
    "                    loss.backward()\n",
    "                    optimizer.step()\n",
    "\n",
    "                total_loss += loss.item() * inputs.size(0)\n",
    "                _, preds = torch.max(outputs, 1)\n",
    "                correct_predictions += torch.sum(preds == labels)\n",
    "\n",
    "                if epoch_progress:\n",
    "                    pbar.update(1)\n",
    "\n",
    "        epoch_loss = total_loss / len(data_loader.dataset)\n",
    "        epoch_accuracy = correct_predictions.double() / len(data_loader.dataset)\n",
    "\n",
    "        return epoch_loss, epoch_accuracy.item()\n",
    "\n",
    "    def perform_grid_search(self):\n",
    "        grid = ParameterGrid(self.param_grid)\n",
    "        for params in grid:\n",
    "            print(f\"Treinando com hiperparâmetros: {params}\")\n",
    "            accuracy = self.train_and_evaluate(params)\n",
    "\n",
    "            if accuracy > self.best_accuracy:\n",
    "                self.best_accuracy = accuracy\n",
    "                self.best_params = params\n",
    "                print(f\"Novo melhor modelo encontrado com precisão: {accuracy:.4f}\")\n",
    "\n",
    "        print(f\"Melhores hiperparâmetros: {self.best_params}\")\n",
    "        print(f\"Melhor precisão de validação: {self.best_accuracy:.4f}\")\n",
    "\n",
    "    def generate_checkpoint_name(self, hyperparams, epoch, val_accuracy):\n",
    "        # Generate a unique name for each checkpoint\n",
    "        params_str = \"_\".join([f\"{key}={value}\" for key, value in hyperparams.items()])\n",
    "        return f\"checkpoint_{params_str}_epoch={epoch}_val_acc={val_accuracy:.4f}.pth\"\n",
    "\n",
    "# Configuração dos hiperparâmetros\n",
    "param_grid = {\n",
    "    'lr': [0.0001, 0.001],\n",
    "    'weight_decay': [1e-4, 1e-5],\n",
    "    'epochs': [20, 30],\n",
    "    'patience': [3, 5]\n",
    "}\n",
    "\n",
    "# Treinamento com GridSearch\n",
    "grid_search_trainer = GridSearchTrainer(CustomResNet50, data_loader_treino, data_loader_validacao, num_imagens_treino, num_imagens_validacao, device, num_classes, param_grid)\n",
    "grid_search_trainer.perform_grid_search()\n"
   ]
  },
  {
   "cell_type": "code",
   "execution_count": 10,
   "metadata": {},
   "outputs": [
    {
     "name": "stdout",
     "output_type": "stream",
     "text": [
      "Treinando com hiperparâmetros: {'weight_decay': 0, 'patience': 7, 'optimizer': 'sgd', 'momentum': 0.9, 'lr': 0.001, 'epochs': 50, 'batch_size': 32, 'activation': 'tanh'}\n",
      "\n",
      "Epoch 1/50\n"
     ]
    },
    {
     "name": "stderr",
     "output_type": "stream",
     "text": [
      "                                                                 \r"
     ]
    },
    {
     "name": "stdout",
     "output_type": "stream",
     "text": [
      "Train: Loss: 1.5896, Accuracy: 37.08%\n",
      "Validation: Loss: 1.3441, Accuracy: 47.95%\n",
      "\n",
      "Epoch 2/50\n"
     ]
    },
    {
     "name": "stderr",
     "output_type": "stream",
     "text": [
      "                                                                 \r"
     ]
    },
    {
     "name": "stdout",
     "output_type": "stream",
     "text": [
      "Train: Loss: 1.3287, Accuracy: 49.33%\n",
      "Validation: Loss: 1.2197, Accuracy: 53.47%\n",
      "\n",
      "Epoch 3/50\n"
     ]
    },
    {
     "name": "stderr",
     "output_type": "stream",
     "text": [
      "                                                                 \r"
     ]
    },
    {
     "name": "stdout",
     "output_type": "stream",
     "text": [
      "Train: Loss: 1.2410, Accuracy: 52.85%\n",
      "Validation: Loss: 1.1418, Accuracy: 56.56%\n",
      "\n",
      "Epoch 4/50\n"
     ]
    },
    {
     "name": "stderr",
     "output_type": "stream",
     "text": [
      "                                                                 \r"
     ]
    },
    {
     "name": "stdout",
     "output_type": "stream",
     "text": [
      "Train: Loss: 1.1787, Accuracy: 55.70%\n",
      "Validation: Loss: 1.1240, Accuracy: 57.09%\n",
      "\n",
      "Epoch 5/50\n"
     ]
    },
    {
     "name": "stderr",
     "output_type": "stream",
     "text": [
      "                                                                 \r"
     ]
    },
    {
     "name": "stdout",
     "output_type": "stream",
     "text": [
      "Train: Loss: 1.1321, Accuracy: 57.52%\n",
      "Validation: Loss: 1.0881, Accuracy: 58.09%\n",
      "\n",
      "Epoch 6/50\n"
     ]
    },
    {
     "name": "stderr",
     "output_type": "stream",
     "text": [
      "                                                                 \r"
     ]
    },
    {
     "name": "stdout",
     "output_type": "stream",
     "text": [
      "Train: Loss: 1.1016, Accuracy: 58.79%\n",
      "Validation: Loss: 1.0877, Accuracy: 58.48%\n",
      "\n",
      "Epoch 7/50\n"
     ]
    },
    {
     "name": "stderr",
     "output_type": "stream",
     "text": [
      "                                                                 \r"
     ]
    },
    {
     "name": "stdout",
     "output_type": "stream",
     "text": [
      "Train: Loss: 1.0807, Accuracy: 59.74%\n",
      "Validation: Loss: 1.0602, Accuracy: 59.88%\n",
      "\n",
      "Epoch 8/50\n"
     ]
    },
    {
     "name": "stderr",
     "output_type": "stream",
     "text": [
      "                                                                 \r"
     ]
    },
    {
     "name": "stdout",
     "output_type": "stream",
     "text": [
      "Train: Loss: 1.0575, Accuracy: 60.30%\n",
      "Validation: Loss: 1.0304, Accuracy: 60.69%\n",
      "\n",
      "Epoch 9/50\n"
     ]
    },
    {
     "name": "stderr",
     "output_type": "stream",
     "text": [
      "                                                                 \r"
     ]
    },
    {
     "name": "stdout",
     "output_type": "stream",
     "text": [
      "Train: Loss: 1.0284, Accuracy: 61.40%\n",
      "Validation: Loss: 1.0265, Accuracy: 61.02%\n",
      "\n",
      "Epoch 10/50\n"
     ]
    },
    {
     "name": "stderr",
     "output_type": "stream",
     "text": [
      "                                                                 \r"
     ]
    },
    {
     "name": "stdout",
     "output_type": "stream",
     "text": [
      "Train: Loss: 1.0075, Accuracy: 62.09%\n",
      "Validation: Loss: 1.0266, Accuracy: 62.08%\n",
      "\n",
      "Epoch 11/50\n"
     ]
    },
    {
     "name": "stderr",
     "output_type": "stream",
     "text": [
      "                                                                 \r"
     ]
    },
    {
     "name": "stdout",
     "output_type": "stream",
     "text": [
      "Train: Loss: 1.0022, Accuracy: 62.45%\n",
      "Validation: Loss: 1.0155, Accuracy: 62.97%\n",
      "\n",
      "Epoch 12/50\n"
     ]
    },
    {
     "name": "stderr",
     "output_type": "stream",
     "text": [
      "                                                                 \r"
     ]
    },
    {
     "name": "stdout",
     "output_type": "stream",
     "text": [
      "Train: Loss: 0.9823, Accuracy: 63.30%\n",
      "Validation: Loss: 1.0175, Accuracy: 62.02%\n",
      "\n",
      "Epoch 13/50\n"
     ]
    },
    {
     "name": "stderr",
     "output_type": "stream",
     "text": [
      "                                                                 \r"
     ]
    },
    {
     "name": "stdout",
     "output_type": "stream",
     "text": [
      "Train: Loss: 0.9632, Accuracy: 63.94%\n",
      "Validation: Loss: 1.0142, Accuracy: 62.52%\n",
      "\n",
      "Epoch 14/50\n"
     ]
    },
    {
     "name": "stderr",
     "output_type": "stream",
     "text": [
      "                                                                 \r"
     ]
    },
    {
     "name": "stdout",
     "output_type": "stream",
     "text": [
      "Train: Loss: 0.9519, Accuracy: 64.55%\n",
      "Validation: Loss: 0.9947, Accuracy: 63.14%\n",
      "\n",
      "Epoch 15/50\n"
     ]
    },
    {
     "name": "stderr",
     "output_type": "stream",
     "text": [
      "                                                                 \r"
     ]
    },
    {
     "name": "stdout",
     "output_type": "stream",
     "text": [
      "Train: Loss: 0.9318, Accuracy: 65.44%\n",
      "Validation: Loss: 0.9920, Accuracy: 63.81%\n",
      "\n",
      "Epoch 16/50\n"
     ]
    },
    {
     "name": "stderr",
     "output_type": "stream",
     "text": [
      "                                                                 \r"
     ]
    },
    {
     "name": "stdout",
     "output_type": "stream",
     "text": [
      "Train: Loss: 0.9219, Accuracy: 65.43%\n",
      "Validation: Loss: 0.9787, Accuracy: 63.56%\n",
      "\n",
      "Epoch 17/50\n"
     ]
    },
    {
     "name": "stderr",
     "output_type": "stream",
     "text": [
      "                                                                 \r"
     ]
    },
    {
     "name": "stdout",
     "output_type": "stream",
     "text": [
      "Train: Loss: 0.9121, Accuracy: 65.84%\n",
      "Validation: Loss: 0.9822, Accuracy: 63.83%\n",
      "\n",
      "Epoch 18/50\n"
     ]
    },
    {
     "name": "stderr",
     "output_type": "stream",
     "text": [
      "                                                                 \r"
     ]
    },
    {
     "name": "stdout",
     "output_type": "stream",
     "text": [
      "Train: Loss: 0.8993, Accuracy: 66.53%\n",
      "Validation: Loss: 0.9810, Accuracy: 64.20%\n",
      "\n",
      "Epoch 19/50\n"
     ]
    },
    {
     "name": "stderr",
     "output_type": "stream",
     "text": [
      "                                                                 \r"
     ]
    },
    {
     "name": "stdout",
     "output_type": "stream",
     "text": [
      "Train: Loss: 0.8890, Accuracy: 67.03%\n",
      "Validation: Loss: 1.0027, Accuracy: 63.67%\n",
      "\n",
      "Epoch 20/50\n"
     ]
    },
    {
     "name": "stderr",
     "output_type": "stream",
     "text": [
      "                                                                 \r"
     ]
    },
    {
     "name": "stdout",
     "output_type": "stream",
     "text": [
      "Train: Loss: 0.8686, Accuracy: 67.61%\n",
      "Validation: Loss: 0.9722, Accuracy: 64.92%\n",
      "\n",
      "Epoch 21/50\n"
     ]
    },
    {
     "name": "stderr",
     "output_type": "stream",
     "text": [
      "                                                                 \r"
     ]
    },
    {
     "name": "stdout",
     "output_type": "stream",
     "text": [
      "Train: Loss: 0.8680, Accuracy: 67.51%\n",
      "Validation: Loss: 0.9818, Accuracy: 65.09%\n",
      "\n",
      "Epoch 22/50\n"
     ]
    },
    {
     "name": "stderr",
     "output_type": "stream",
     "text": [
      "                                                                 \r"
     ]
    },
    {
     "name": "stdout",
     "output_type": "stream",
     "text": [
      "Train: Loss: 0.8567, Accuracy: 68.08%\n",
      "Validation: Loss: 0.9757, Accuracy: 64.84%\n",
      "\n",
      "Epoch 23/50\n"
     ]
    },
    {
     "name": "stderr",
     "output_type": "stream",
     "text": [
      "                                                                 \r"
     ]
    },
    {
     "name": "stdout",
     "output_type": "stream",
     "text": [
      "Train: Loss: 0.8474, Accuracy: 68.61%\n",
      "Validation: Loss: 1.0194, Accuracy: 63.39%\n",
      "\n",
      "Epoch 24/50\n"
     ]
    },
    {
     "name": "stderr",
     "output_type": "stream",
     "text": [
      "                                                                 \r"
     ]
    },
    {
     "name": "stdout",
     "output_type": "stream",
     "text": [
      "Train: Loss: 0.8343, Accuracy: 68.87%\n",
      "Validation: Loss: 1.0082, Accuracy: 63.81%\n",
      "\n",
      "Epoch 25/50\n"
     ]
    },
    {
     "name": "stderr",
     "output_type": "stream",
     "text": [
      "                                                                 \r"
     ]
    },
    {
     "name": "stdout",
     "output_type": "stream",
     "text": [
      "Train: Loss: 0.7727, Accuracy: 71.61%\n",
      "Validation: Loss: 0.9808, Accuracy: 65.51%\n",
      "\n",
      "Epoch 26/50\n"
     ]
    },
    {
     "name": "stderr",
     "output_type": "stream",
     "text": [
      "                                                                 \r"
     ]
    },
    {
     "name": "stdout",
     "output_type": "stream",
     "text": [
      "Train: Loss: 0.7544, Accuracy: 71.97%\n",
      "Validation: Loss: 0.9838, Accuracy: 65.87%\n",
      "\n",
      "Epoch 27/50\n"
     ]
    },
    {
     "name": "stderr",
     "output_type": "stream",
     "text": [
      "                                                                 \r"
     ]
    },
    {
     "name": "stdout",
     "output_type": "stream",
     "text": [
      "Train: Loss: 0.7499, Accuracy: 72.13%\n",
      "Validation: Loss: 0.9840, Accuracy: 65.67%\n",
      "\n",
      "Epoch 28/50\n"
     ]
    },
    {
     "name": "stderr",
     "output_type": "stream",
     "text": [
      "                                                                 \r"
     ]
    },
    {
     "name": "stdout",
     "output_type": "stream",
     "text": [
      "Train: Loss: 0.7368, Accuracy: 72.80%\n",
      "Validation: Loss: 0.9960, Accuracy: 65.90%\n",
      "\n",
      "Epoch 29/50\n"
     ]
    },
    {
     "name": "stderr",
     "output_type": "stream",
     "text": [
      "                                                                 \r"
     ]
    },
    {
     "name": "stdout",
     "output_type": "stream",
     "text": [
      "Train: Loss: 0.7400, Accuracy: 72.58%\n",
      "Validation: Loss: 0.9993, Accuracy: 65.56%\n",
      "\n",
      "Epoch 30/50\n"
     ]
    },
    {
     "name": "stderr",
     "output_type": "stream",
     "text": [
      "                                                                 \r"
     ]
    },
    {
     "name": "stdout",
     "output_type": "stream",
     "text": [
      "Train: Loss: 0.7280, Accuracy: 72.93%\n",
      "Validation: Loss: 0.9949, Accuracy: 65.37%\n",
      "\n",
      "Epoch 31/50\n"
     ]
    },
    {
     "name": "stderr",
     "output_type": "stream",
     "text": [
      "                                                                 \r"
     ]
    },
    {
     "name": "stdout",
     "output_type": "stream",
     "text": [
      "Train: Loss: 0.7327, Accuracy: 72.81%\n",
      "Validation: Loss: 0.9946, Accuracy: 65.42%\n",
      "\n",
      "Epoch 32/50\n"
     ]
    },
    {
     "name": "stderr",
     "output_type": "stream",
     "text": [
      "                                                                 \r"
     ]
    },
    {
     "name": "stdout",
     "output_type": "stream",
     "text": [
      "Train: Loss: 0.7316, Accuracy: 72.68%\n",
      "Validation: Loss: 0.9955, Accuracy: 65.51%\n",
      "\n",
      "Epoch 33/50\n"
     ]
    },
    {
     "name": "stderr",
     "output_type": "stream",
     "text": [
      "                                                                 \r"
     ]
    },
    {
     "name": "stdout",
     "output_type": "stream",
     "text": [
      "Train: Loss: 0.7320, Accuracy: 72.81%\n",
      "Validation: Loss: 0.9896, Accuracy: 65.25%\n",
      "\n",
      "Epoch 34/50\n"
     ]
    },
    {
     "name": "stderr",
     "output_type": "stream",
     "text": [
      "                                                                 \r"
     ]
    },
    {
     "name": "stdout",
     "output_type": "stream",
     "text": [
      "Train: Loss: 0.7318, Accuracy: 73.00%\n",
      "Validation: Loss: 1.0015, Accuracy: 65.45%\n",
      "\n",
      "Epoch 35/50\n"
     ]
    },
    {
     "name": "stderr",
     "output_type": "stream",
     "text": [
      "                                                                 \r"
     ]
    },
    {
     "name": "stdout",
     "output_type": "stream",
     "text": [
      "Train: Loss: 0.7316, Accuracy: 72.76%\n",
      "Validation: Loss: 0.9861, Accuracy: 65.76%\n",
      "Early stopping triggered.\n",
      "Novo melhor modelo encontrado com precisão: 0.6590\n",
      "Treinando com hiperparâmetros: {'weight_decay': 0, 'patience': 3, 'optimizer': 'adam', 'momentum': 0.95, 'lr': 0.01, 'epochs': 20, 'batch_size': 32, 'activation': 'relu'}\n",
      "\n",
      "Epoch 1/20\n"
     ]
    },
    {
     "name": "stderr",
     "output_type": "stream",
     "text": [
      "                                                                 \r"
     ]
    },
    {
     "name": "stdout",
     "output_type": "stream",
     "text": [
      "Train: Loss: 1.6678, Accuracy: 36.31%\n",
      "Validation: Loss: 1.3485, Accuracy: 48.40%\n",
      "\n",
      "Epoch 2/20\n"
     ]
    },
    {
     "name": "stderr",
     "output_type": "stream",
     "text": [
      "                                                                 \r"
     ]
    },
    {
     "name": "stdout",
     "output_type": "stream",
     "text": [
      "Train: Loss: 1.4177, Accuracy: 46.19%\n",
      "Validation: Loss: 1.2802, Accuracy: 52.33%\n",
      "\n",
      "Epoch 3/20\n"
     ]
    },
    {
     "name": "stderr",
     "output_type": "stream",
     "text": [
      "                                                                 \r"
     ]
    },
    {
     "name": "stdout",
     "output_type": "stream",
     "text": [
      "Train: Loss: 1.3405, Accuracy: 48.78%\n",
      "Validation: Loss: 1.2649, Accuracy: 51.69%\n",
      "\n",
      "Epoch 4/20\n"
     ]
    },
    {
     "name": "stderr",
     "output_type": "stream",
     "text": [
      "                                                                 \r"
     ]
    },
    {
     "name": "stdout",
     "output_type": "stream",
     "text": [
      "Train: Loss: 1.3069, Accuracy: 50.00%\n",
      "Validation: Loss: 1.2347, Accuracy: 52.83%\n",
      "\n",
      "Epoch 5/20\n"
     ]
    },
    {
     "name": "stderr",
     "output_type": "stream",
     "text": [
      "                                                                 \r"
     ]
    },
    {
     "name": "stdout",
     "output_type": "stream",
     "text": [
      "Train: Loss: 1.2689, Accuracy: 51.67%\n",
      "Validation: Loss: 1.1866, Accuracy: 55.08%\n",
      "\n",
      "Epoch 6/20\n"
     ]
    },
    {
     "name": "stderr",
     "output_type": "stream",
     "text": [
      "                                                                 \r"
     ]
    },
    {
     "name": "stdout",
     "output_type": "stream",
     "text": [
      "Train: Loss: 1.2533, Accuracy: 52.81%\n",
      "Validation: Loss: 1.1808, Accuracy: 55.75%\n",
      "\n",
      "Epoch 7/20\n"
     ]
    },
    {
     "name": "stderr",
     "output_type": "stream",
     "text": [
      "                                                                 \r"
     ]
    },
    {
     "name": "stdout",
     "output_type": "stream",
     "text": [
      "Train: Loss: 1.2370, Accuracy: 53.15%\n",
      "Validation: Loss: 1.1906, Accuracy: 54.61%\n",
      "\n",
      "Epoch 8/20\n"
     ]
    },
    {
     "name": "stderr",
     "output_type": "stream",
     "text": [
      "                                                                 \r"
     ]
    },
    {
     "name": "stdout",
     "output_type": "stream",
     "text": [
      "Train: Loss: 1.2130, Accuracy: 54.49%\n",
      "Validation: Loss: 1.1256, Accuracy: 56.62%\n",
      "\n",
      "Epoch 9/20\n"
     ]
    },
    {
     "name": "stderr",
     "output_type": "stream",
     "text": [
      "                                                                 \r"
     ]
    },
    {
     "name": "stdout",
     "output_type": "stream",
     "text": [
      "Train: Loss: 1.1976, Accuracy: 55.25%\n",
      "Validation: Loss: 1.1491, Accuracy: 56.23%\n",
      "\n",
      "Epoch 10/20\n"
     ]
    },
    {
     "name": "stderr",
     "output_type": "stream",
     "text": [
      "                                                                 \r"
     ]
    },
    {
     "name": "stdout",
     "output_type": "stream",
     "text": [
      "Train: Loss: 1.1825, Accuracy: 56.17%\n",
      "Validation: Loss: 1.1168, Accuracy: 57.65%\n",
      "\n",
      "Epoch 11/20\n"
     ]
    },
    {
     "name": "stderr",
     "output_type": "stream",
     "text": [
      "                                                                 \r"
     ]
    },
    {
     "name": "stdout",
     "output_type": "stream",
     "text": [
      "Train: Loss: 1.1700, Accuracy: 56.71%\n",
      "Validation: Loss: 1.1143, Accuracy: 57.93%\n",
      "\n",
      "Epoch 12/20\n"
     ]
    },
    {
     "name": "stderr",
     "output_type": "stream",
     "text": [
      "                                                                 \r"
     ]
    },
    {
     "name": "stdout",
     "output_type": "stream",
     "text": [
      "Train: Loss: 1.1630, Accuracy: 56.77%\n",
      "Validation: Loss: 1.0875, Accuracy: 59.57%\n",
      "\n",
      "Epoch 13/20\n"
     ]
    },
    {
     "name": "stderr",
     "output_type": "stream",
     "text": [
      "                                                                 \r"
     ]
    },
    {
     "name": "stdout",
     "output_type": "stream",
     "text": [
      "Train: Loss: 1.1571, Accuracy: 57.12%\n",
      "Validation: Loss: 1.0813, Accuracy: 58.93%\n",
      "\n",
      "Epoch 14/20\n"
     ]
    },
    {
     "name": "stderr",
     "output_type": "stream",
     "text": [
      "                                                                 \r"
     ]
    },
    {
     "name": "stdout",
     "output_type": "stream",
     "text": [
      "Train: Loss: 1.1523, Accuracy: 57.51%\n",
      "Validation: Loss: 1.0826, Accuracy: 58.99%\n",
      "\n",
      "Epoch 15/20\n"
     ]
    },
    {
     "name": "stderr",
     "output_type": "stream",
     "text": [
      "                                                                 \r"
     ]
    },
    {
     "name": "stdout",
     "output_type": "stream",
     "text": [
      "Train: Loss: 1.1370, Accuracy: 58.09%\n",
      "Validation: Loss: 1.0561, Accuracy: 59.77%\n",
      "\n",
      "Epoch 16/20\n"
     ]
    },
    {
     "name": "stderr",
     "output_type": "stream",
     "text": [
      "                                                                 \r"
     ]
    },
    {
     "name": "stdout",
     "output_type": "stream",
     "text": [
      "Train: Loss: 1.1332, Accuracy: 57.78%\n",
      "Validation: Loss: 1.0646, Accuracy: 59.10%\n",
      "\n",
      "Epoch 17/20\n"
     ]
    },
    {
     "name": "stderr",
     "output_type": "stream",
     "text": [
      "                                                                 \r"
     ]
    },
    {
     "name": "stdout",
     "output_type": "stream",
     "text": [
      "Train: Loss: 1.1284, Accuracy: 58.72%\n",
      "Validation: Loss: 1.0616, Accuracy: 59.77%\n",
      "\n",
      "Epoch 18/20\n"
     ]
    },
    {
     "name": "stderr",
     "output_type": "stream",
     "text": [
      "                                                                 \r"
     ]
    },
    {
     "name": "stdout",
     "output_type": "stream",
     "text": [
      "Train: Loss: 1.1256, Accuracy: 58.36%\n",
      "Validation: Loss: 1.0647, Accuracy: 60.04%\n",
      "\n",
      "Epoch 19/20\n"
     ]
    },
    {
     "name": "stderr",
     "output_type": "stream",
     "text": [
      "                                                                 \r"
     ]
    },
    {
     "name": "stdout",
     "output_type": "stream",
     "text": [
      "Train: Loss: 1.1121, Accuracy: 59.11%\n",
      "Validation: Loss: 1.0651, Accuracy: 59.96%\n",
      "\n",
      "Epoch 20/20\n"
     ]
    },
    {
     "name": "stderr",
     "output_type": "stream",
     "text": [
      "                                                                 \r"
     ]
    },
    {
     "name": "stdout",
     "output_type": "stream",
     "text": [
      "Train: Loss: 1.0729, Accuracy: 60.63%\n",
      "Validation: Loss: 1.0378, Accuracy: 60.94%\n",
      "Treinando com hiperparâmetros: {'weight_decay': 0, 'patience': 3, 'optimizer': 'sgd', 'momentum': 0.9, 'lr': 0.1, 'epochs': 50, 'batch_size': 64, 'activation': 'relu'}\n",
      "\n",
      "Epoch 1/50\n"
     ]
    },
    {
     "name": "stderr",
     "output_type": "stream",
     "text": [
      "                                                                 \r"
     ]
    },
    {
     "name": "stdout",
     "output_type": "stream",
     "text": [
      "Train: Loss: 1.8240, Accuracy: 24.81%\n",
      "Validation: Loss: 1.8163, Accuracy: 24.94%\n",
      "\n",
      "Epoch 2/50\n"
     ]
    },
    {
     "name": "stderr",
     "output_type": "stream",
     "text": [
      "                                                                 \r"
     ]
    },
    {
     "name": "stdout",
     "output_type": "stream",
     "text": [
      "Train: Loss: 1.8162, Accuracy: 24.52%\n",
      "Validation: Loss: 1.8192, Accuracy: 24.94%\n",
      "\n",
      "Epoch 3/50\n"
     ]
    },
    {
     "name": "stderr",
     "output_type": "stream",
     "text": [
      "                                                                 \r"
     ]
    },
    {
     "name": "stdout",
     "output_type": "stream",
     "text": [
      "Train: Loss: 1.8159, Accuracy: 24.89%\n",
      "Validation: Loss: 1.8149, Accuracy: 24.94%\n",
      "\n",
      "Epoch 4/50\n"
     ]
    },
    {
     "name": "stderr",
     "output_type": "stream",
     "text": [
      "                                                                 \r"
     ]
    },
    {
     "name": "stdout",
     "output_type": "stream",
     "text": [
      "Train: Loss: 1.8165, Accuracy: 24.82%\n",
      "Validation: Loss: 1.8153, Accuracy: 24.94%\n",
      "Early stopping triggered.\n",
      "Treinando com hiperparâmetros: {'weight_decay': 0, 'patience': 7, 'optimizer': 'adam', 'momentum': 0.9, 'lr': 0.0001, 'epochs': 30, 'batch_size': 16, 'activation': 'relu'}\n",
      "\n",
      "Epoch 1/30\n"
     ]
    },
    {
     "name": "stderr",
     "output_type": "stream",
     "text": [
      "                                                                 \r"
     ]
    },
    {
     "name": "stdout",
     "output_type": "stream",
     "text": [
      "Train: Loss: 1.3539, Accuracy: 48.11%\n",
      "Validation: Loss: 1.1294, Accuracy: 57.26%\n",
      "\n",
      "Epoch 2/30\n"
     ]
    },
    {
     "name": "stderr",
     "output_type": "stream",
     "text": [
      "                                                                 \r"
     ]
    },
    {
     "name": "stdout",
     "output_type": "stream",
     "text": [
      "Train: Loss: 1.1800, Accuracy: 56.03%\n",
      "Validation: Loss: 1.1059, Accuracy: 58.40%\n",
      "\n",
      "Epoch 3/30\n"
     ]
    },
    {
     "name": "stderr",
     "output_type": "stream",
     "text": [
      "                                                                 \r"
     ]
    },
    {
     "name": "stdout",
     "output_type": "stream",
     "text": [
      "Train: Loss: 1.1222, Accuracy: 58.25%\n",
      "Validation: Loss: 1.0394, Accuracy: 60.69%\n",
      "\n",
      "Epoch 4/30\n"
     ]
    },
    {
     "name": "stderr",
     "output_type": "stream",
     "text": [
      "                                                                 \r"
     ]
    },
    {
     "name": "stdout",
     "output_type": "stream",
     "text": [
      "Train: Loss: 1.0769, Accuracy: 59.83%\n",
      "Validation: Loss: 1.0363, Accuracy: 61.80%\n",
      "\n",
      "Epoch 5/30\n"
     ]
    },
    {
     "name": "stderr",
     "output_type": "stream",
     "text": [
      "                                                                 \r"
     ]
    },
    {
     "name": "stdout",
     "output_type": "stream",
     "text": [
      "Train: Loss: 1.0423, Accuracy: 61.39%\n",
      "Validation: Loss: 1.0071, Accuracy: 62.36%\n",
      "\n",
      "Epoch 6/30\n"
     ]
    },
    {
     "name": "stderr",
     "output_type": "stream",
     "text": [
      "                                                                 \r"
     ]
    },
    {
     "name": "stdout",
     "output_type": "stream",
     "text": [
      "Train: Loss: 1.0189, Accuracy: 62.12%\n",
      "Validation: Loss: 1.0147, Accuracy: 62.69%\n",
      "\n",
      "Epoch 7/30\n"
     ]
    },
    {
     "name": "stderr",
     "output_type": "stream",
     "text": [
      "                                                                 \r"
     ]
    },
    {
     "name": "stdout",
     "output_type": "stream",
     "text": [
      "Train: Loss: 0.9927, Accuracy: 63.24%\n",
      "Validation: Loss: 0.9865, Accuracy: 63.83%\n",
      "\n",
      "Epoch 8/30\n"
     ]
    },
    {
     "name": "stderr",
     "output_type": "stream",
     "text": [
      "                                                                 \r"
     ]
    },
    {
     "name": "stdout",
     "output_type": "stream",
     "text": [
      "Train: Loss: 0.9644, Accuracy: 63.89%\n",
      "Validation: Loss: 1.0026, Accuracy: 62.44%\n",
      "\n",
      "Epoch 9/30\n"
     ]
    },
    {
     "name": "stderr",
     "output_type": "stream",
     "text": [
      "                                                                 \r"
     ]
    },
    {
     "name": "stdout",
     "output_type": "stream",
     "text": [
      "Train: Loss: 0.9461, Accuracy: 65.12%\n",
      "Validation: Loss: 0.9675, Accuracy: 64.47%\n",
      "\n",
      "Epoch 10/30\n"
     ]
    },
    {
     "name": "stderr",
     "output_type": "stream",
     "text": [
      "                                                                 \r"
     ]
    },
    {
     "name": "stdout",
     "output_type": "stream",
     "text": [
      "Train: Loss: 0.9243, Accuracy: 65.72%\n",
      "Validation: Loss: 0.9503, Accuracy: 64.89%\n",
      "\n",
      "Epoch 11/30\n"
     ]
    },
    {
     "name": "stderr",
     "output_type": "stream",
     "text": [
      "                                                                 \r"
     ]
    },
    {
     "name": "stdout",
     "output_type": "stream",
     "text": [
      "Train: Loss: 0.9074, Accuracy: 66.41%\n",
      "Validation: Loss: 0.9976, Accuracy: 63.67%\n",
      "\n",
      "Epoch 12/30\n"
     ]
    },
    {
     "name": "stderr",
     "output_type": "stream",
     "text": [
      "                                                                 \r"
     ]
    },
    {
     "name": "stdout",
     "output_type": "stream",
     "text": [
      "Train: Loss: 0.8925, Accuracy: 67.32%\n",
      "Validation: Loss: 0.9778, Accuracy: 65.42%\n",
      "\n",
      "Epoch 13/30\n"
     ]
    },
    {
     "name": "stderr",
     "output_type": "stream",
     "text": [
      "                                                                 \r"
     ]
    },
    {
     "name": "stdout",
     "output_type": "stream",
     "text": [
      "Train: Loss: 0.8821, Accuracy: 67.14%\n",
      "Validation: Loss: 0.9882, Accuracy: 64.45%\n",
      "\n",
      "Epoch 14/30\n"
     ]
    },
    {
     "name": "stderr",
     "output_type": "stream",
     "text": [
      "                                                                 \r"
     ]
    },
    {
     "name": "stdout",
     "output_type": "stream",
     "text": [
      "Train: Loss: 0.8630, Accuracy: 68.12%\n",
      "Validation: Loss: 0.9837, Accuracy: 64.61%\n",
      "\n",
      "Epoch 15/30\n"
     ]
    },
    {
     "name": "stderr",
     "output_type": "stream",
     "text": [
      "                                                                 \r"
     ]
    },
    {
     "name": "stdout",
     "output_type": "stream",
     "text": [
      "Train: Loss: 0.7948, Accuracy: 70.79%\n",
      "Validation: Loss: 0.9692, Accuracy: 65.62%\n",
      "\n",
      "Epoch 16/30\n"
     ]
    },
    {
     "name": "stderr",
     "output_type": "stream",
     "text": [
      "                                                                 \r"
     ]
    },
    {
     "name": "stdout",
     "output_type": "stream",
     "text": [
      "Train: Loss: 0.7748, Accuracy: 71.74%\n",
      "Validation: Loss: 0.9690, Accuracy: 66.48%\n",
      "\n",
      "Epoch 17/30\n"
     ]
    },
    {
     "name": "stderr",
     "output_type": "stream",
     "text": [
      "                                                                 \r"
     ]
    },
    {
     "name": "stdout",
     "output_type": "stream",
     "text": [
      "Train: Loss: 0.7588, Accuracy: 71.87%\n",
      "Validation: Loss: 0.9684, Accuracy: 66.62%\n",
      "\n",
      "Epoch 18/30\n"
     ]
    },
    {
     "name": "stderr",
     "output_type": "stream",
     "text": [
      "                                                                 \r"
     ]
    },
    {
     "name": "stdout",
     "output_type": "stream",
     "text": [
      "Train: Loss: 0.7487, Accuracy: 72.57%\n",
      "Validation: Loss: 0.9763, Accuracy: 65.95%\n",
      "\n",
      "Epoch 19/30\n"
     ]
    },
    {
     "name": "stderr",
     "output_type": "stream",
     "text": [
      "                                                                 \r"
     ]
    },
    {
     "name": "stdout",
     "output_type": "stream",
     "text": [
      "Train: Loss: 0.7393, Accuracy: 72.69%\n",
      "Validation: Loss: 0.9888, Accuracy: 65.98%\n",
      "\n",
      "Epoch 20/30\n"
     ]
    },
    {
     "name": "stderr",
     "output_type": "stream",
     "text": [
      "                                                                 \r"
     ]
    },
    {
     "name": "stdout",
     "output_type": "stream",
     "text": [
      "Train: Loss: 0.7402, Accuracy: 72.66%\n",
      "Validation: Loss: 0.9851, Accuracy: 65.95%\n",
      "\n",
      "Epoch 21/30\n"
     ]
    },
    {
     "name": "stderr",
     "output_type": "stream",
     "text": [
      "                                                                 \r"
     ]
    },
    {
     "name": "stdout",
     "output_type": "stream",
     "text": [
      "Train: Loss: 0.7328, Accuracy: 73.08%\n",
      "Validation: Loss: 0.9803, Accuracy: 66.43%\n",
      "\n",
      "Epoch 22/30\n"
     ]
    },
    {
     "name": "stderr",
     "output_type": "stream",
     "text": [
      "                                                                 \r"
     ]
    },
    {
     "name": "stdout",
     "output_type": "stream",
     "text": [
      "Train: Loss: 0.7353, Accuracy: 72.82%\n",
      "Validation: Loss: 0.9780, Accuracy: 66.15%\n",
      "\n",
      "Epoch 23/30\n"
     ]
    },
    {
     "name": "stderr",
     "output_type": "stream",
     "text": [
      "                                                                 \r"
     ]
    },
    {
     "name": "stdout",
     "output_type": "stream",
     "text": [
      "Train: Loss: 0.7371, Accuracy: 72.98%\n",
      "Validation: Loss: 0.9812, Accuracy: 65.81%\n",
      "\n",
      "Epoch 24/30\n"
     ]
    },
    {
     "name": "stderr",
     "output_type": "stream",
     "text": [
      "                                                                 \r"
     ]
    },
    {
     "name": "stdout",
     "output_type": "stream",
     "text": [
      "Train: Loss: 0.7322, Accuracy: 72.44%\n",
      "Validation: Loss: 0.9776, Accuracy: 65.90%\n",
      "Early stopping triggered.\n",
      "Novo melhor modelo encontrado com precisão: 0.6662\n",
      "Treinando com hiperparâmetros: {'weight_decay': 0, 'patience': 3, 'optimizer': 'adam', 'momentum': 0.95, 'lr': 0.01, 'epochs': 20, 'batch_size': 16, 'activation': 'tanh'}\n",
      "\n",
      "Epoch 1/20\n"
     ]
    },
    {
     "name": "stderr",
     "output_type": "stream",
     "text": [
      "                                                                 \r"
     ]
    },
    {
     "name": "stdout",
     "output_type": "stream",
     "text": [
      "Train: Loss: 1.6888, Accuracy: 35.09%\n",
      "Validation: Loss: 1.4457, Accuracy: 45.33%\n",
      "\n",
      "Epoch 2/20\n"
     ]
    },
    {
     "name": "stderr",
     "output_type": "stream",
     "text": [
      "                                                                 \r"
     ]
    },
    {
     "name": "stdout",
     "output_type": "stream",
     "text": [
      "Train: Loss: 1.4202, Accuracy: 45.68%\n",
      "Validation: Loss: 1.3533, Accuracy: 48.26%\n",
      "\n",
      "Epoch 3/20\n"
     ]
    },
    {
     "name": "stderr",
     "output_type": "stream",
     "text": [
      "                                                                 \r"
     ]
    },
    {
     "name": "stdout",
     "output_type": "stream",
     "text": [
      "Train: Loss: 1.3499, Accuracy: 48.49%\n",
      "Validation: Loss: 1.2217, Accuracy: 53.64%\n",
      "\n",
      "Epoch 4/20\n"
     ]
    },
    {
     "name": "stderr",
     "output_type": "stream",
     "text": [
      "                                                                 \r"
     ]
    },
    {
     "name": "stdout",
     "output_type": "stream",
     "text": [
      "Train: Loss: 1.3085, Accuracy: 50.26%\n",
      "Validation: Loss: 1.1805, Accuracy: 55.73%\n",
      "\n",
      "Epoch 5/20\n"
     ]
    },
    {
     "name": "stderr",
     "output_type": "stream",
     "text": [
      "                                                                 \r"
     ]
    },
    {
     "name": "stdout",
     "output_type": "stream",
     "text": [
      "Train: Loss: 1.2765, Accuracy: 51.84%\n",
      "Validation: Loss: 1.1567, Accuracy: 56.34%\n",
      "\n",
      "Epoch 6/20\n"
     ]
    },
    {
     "name": "stderr",
     "output_type": "stream",
     "text": [
      "                                                                 \r"
     ]
    },
    {
     "name": "stdout",
     "output_type": "stream",
     "text": [
      "Train: Loss: 1.2587, Accuracy: 52.90%\n",
      "Validation: Loss: 1.3666, Accuracy: 54.08%\n",
      "\n",
      "Epoch 7/20\n"
     ]
    },
    {
     "name": "stderr",
     "output_type": "stream",
     "text": [
      "                                                                 \r"
     ]
    },
    {
     "name": "stdout",
     "output_type": "stream",
     "text": [
      "Train: Loss: 1.2375, Accuracy: 53.69%\n",
      "Validation: Loss: 1.1305, Accuracy: 56.98%\n",
      "\n",
      "Epoch 8/20\n"
     ]
    },
    {
     "name": "stderr",
     "output_type": "stream",
     "text": [
      "                                                                 \r"
     ]
    },
    {
     "name": "stdout",
     "output_type": "stream",
     "text": [
      "Train: Loss: 1.2258, Accuracy: 54.37%\n",
      "Validation: Loss: 1.1307, Accuracy: 57.37%\n",
      "\n",
      "Epoch 9/20\n"
     ]
    },
    {
     "name": "stderr",
     "output_type": "stream",
     "text": [
      "                                                                 \r"
     ]
    },
    {
     "name": "stdout",
     "output_type": "stream",
     "text": [
      "Train: Loss: 1.2169, Accuracy: 54.95%\n",
      "Validation: Loss: 1.0950, Accuracy: 58.60%\n",
      "\n",
      "Epoch 10/20\n"
     ]
    },
    {
     "name": "stderr",
     "output_type": "stream",
     "text": [
      "                                                                 \r"
     ]
    },
    {
     "name": "stdout",
     "output_type": "stream",
     "text": [
      "Train: Loss: 1.2007, Accuracy: 55.55%\n",
      "Validation: Loss: 1.1685, Accuracy: 55.98%\n",
      "\n",
      "Epoch 11/20\n"
     ]
    },
    {
     "name": "stderr",
     "output_type": "stream",
     "text": [
      "                                                                 \r"
     ]
    },
    {
     "name": "stdout",
     "output_type": "stream",
     "text": [
      "Train: Loss: 1.1889, Accuracy: 55.94%\n",
      "Validation: Loss: 1.0935, Accuracy: 58.46%\n",
      "\n",
      "Epoch 12/20\n"
     ]
    },
    {
     "name": "stderr",
     "output_type": "stream",
     "text": [
      "                                                                 \r"
     ]
    },
    {
     "name": "stdout",
     "output_type": "stream",
     "text": [
      "Train: Loss: 1.1853, Accuracy: 56.21%\n",
      "Validation: Loss: 1.1032, Accuracy: 58.40%\n",
      "Early stopping triggered.\n",
      "Treinando com hiperparâmetros: {'weight_decay': 0, 'patience': 5, 'optimizer': 'adam', 'momentum': 0.95, 'lr': 0.0001, 'epochs': 20, 'batch_size': 64, 'activation': 'relu'}\n",
      "\n",
      "Epoch 1/20\n"
     ]
    },
    {
     "name": "stderr",
     "output_type": "stream",
     "text": [
      "                                                                 \r"
     ]
    },
    {
     "name": "stdout",
     "output_type": "stream",
     "text": [
      "Train: Loss: 1.3652, Accuracy: 47.73%\n",
      "Validation: Loss: 1.2229, Accuracy: 52.61%\n",
      "\n",
      "Epoch 2/20\n"
     ]
    },
    {
     "name": "stderr",
     "output_type": "stream",
     "text": [
      "                                                                 \r"
     ]
    },
    {
     "name": "stdout",
     "output_type": "stream",
     "text": [
      "Train: Loss: 1.1839, Accuracy: 56.04%\n",
      "Validation: Loss: 1.0814, Accuracy: 59.15%\n",
      "\n",
      "Epoch 3/20\n"
     ]
    },
    {
     "name": "stderr",
     "output_type": "stream",
     "text": [
      "                                                                 \r"
     ]
    },
    {
     "name": "stdout",
     "output_type": "stream",
     "text": [
      "Train: Loss: 1.1107, Accuracy: 58.73%\n",
      "Validation: Loss: 1.0551, Accuracy: 60.18%\n",
      "\n",
      "Epoch 4/20\n"
     ]
    },
    {
     "name": "stderr",
     "output_type": "stream",
     "text": [
      "                                                                 \r"
     ]
    },
    {
     "name": "stdout",
     "output_type": "stream",
     "text": [
      "Train: Loss: 1.0760, Accuracy: 59.94%\n",
      "Validation: Loss: 1.0388, Accuracy: 61.16%\n",
      "\n",
      "Epoch 5/20\n"
     ]
    },
    {
     "name": "stderr",
     "output_type": "stream",
     "text": [
      "                                                                 \r"
     ]
    },
    {
     "name": "stdout",
     "output_type": "stream",
     "text": [
      "Train: Loss: 1.0381, Accuracy: 61.52%\n",
      "Validation: Loss: 1.0096, Accuracy: 62.61%\n",
      "\n",
      "Epoch 6/20\n"
     ]
    },
    {
     "name": "stderr",
     "output_type": "stream",
     "text": [
      "                                                                 \r"
     ]
    },
    {
     "name": "stdout",
     "output_type": "stream",
     "text": [
      "Train: Loss: 1.0146, Accuracy: 62.57%\n",
      "Validation: Loss: 1.0397, Accuracy: 62.27%\n",
      "\n",
      "Epoch 7/20\n"
     ]
    },
    {
     "name": "stderr",
     "output_type": "stream",
     "text": [
      "                                                                 \r"
     ]
    },
    {
     "name": "stdout",
     "output_type": "stream",
     "text": [
      "Train: Loss: 0.9839, Accuracy: 63.67%\n",
      "Validation: Loss: 1.0527, Accuracy: 61.05%\n",
      "\n",
      "Epoch 8/20\n"
     ]
    },
    {
     "name": "stderr",
     "output_type": "stream",
     "text": [
      "                                                                 \r"
     ]
    },
    {
     "name": "stdout",
     "output_type": "stream",
     "text": [
      "Train: Loss: 0.9638, Accuracy: 64.22%\n",
      "Validation: Loss: 1.0020, Accuracy: 63.00%\n",
      "\n",
      "Epoch 9/20\n"
     ]
    },
    {
     "name": "stderr",
     "output_type": "stream",
     "text": [
      "                                                                 \r"
     ]
    },
    {
     "name": "stdout",
     "output_type": "stream",
     "text": [
      "Train: Loss: 0.9455, Accuracy: 64.90%\n",
      "Validation: Loss: 0.9871, Accuracy: 62.75%\n",
      "\n",
      "Epoch 10/20\n"
     ]
    },
    {
     "name": "stderr",
     "output_type": "stream",
     "text": [
      "                                                                 \r"
     ]
    },
    {
     "name": "stdout",
     "output_type": "stream",
     "text": [
      "Train: Loss: 0.9260, Accuracy: 65.46%\n",
      "Validation: Loss: 1.0195, Accuracy: 63.44%\n",
      "\n",
      "Epoch 11/20\n"
     ]
    },
    {
     "name": "stderr",
     "output_type": "stream",
     "text": [
      "                                                                 \r"
     ]
    },
    {
     "name": "stdout",
     "output_type": "stream",
     "text": [
      "Train: Loss: 0.9116, Accuracy: 66.08%\n",
      "Validation: Loss: 1.0103, Accuracy: 64.08%\n",
      "\n",
      "Epoch 12/20\n"
     ]
    },
    {
     "name": "stderr",
     "output_type": "stream",
     "text": [
      "                                                                 \r"
     ]
    },
    {
     "name": "stdout",
     "output_type": "stream",
     "text": [
      "Train: Loss: 0.8906, Accuracy: 66.97%\n",
      "Validation: Loss: 1.0635, Accuracy: 63.67%\n",
      "\n",
      "Epoch 13/20\n"
     ]
    },
    {
     "name": "stderr",
     "output_type": "stream",
     "text": [
      "                                                                 \r"
     ]
    },
    {
     "name": "stdout",
     "output_type": "stream",
     "text": [
      "Train: Loss: 0.8734, Accuracy: 67.58%\n",
      "Validation: Loss: 1.0101, Accuracy: 64.03%\n",
      "\n",
      "Epoch 14/20\n"
     ]
    },
    {
     "name": "stderr",
     "output_type": "stream",
     "text": [
      "                                                                 \r"
     ]
    },
    {
     "name": "stdout",
     "output_type": "stream",
     "text": [
      "Train: Loss: 0.8198, Accuracy: 69.63%\n",
      "Validation: Loss: 0.9685, Accuracy: 65.87%\n",
      "\n",
      "Epoch 15/20\n"
     ]
    },
    {
     "name": "stderr",
     "output_type": "stream",
     "text": [
      "                                                                 \r"
     ]
    },
    {
     "name": "stdout",
     "output_type": "stream",
     "text": [
      "Train: Loss: 0.7884, Accuracy: 71.05%\n",
      "Validation: Loss: 0.9784, Accuracy: 66.20%\n",
      "\n",
      "Epoch 16/20\n"
     ]
    },
    {
     "name": "stderr",
     "output_type": "stream",
     "text": [
      "                                                                 \r"
     ]
    },
    {
     "name": "stdout",
     "output_type": "stream",
     "text": [
      "Train: Loss: 0.7772, Accuracy: 71.22%\n",
      "Validation: Loss: 0.9670, Accuracy: 66.01%\n",
      "\n",
      "Epoch 17/20\n"
     ]
    },
    {
     "name": "stderr",
     "output_type": "stream",
     "text": [
      "                                                                 \r"
     ]
    },
    {
     "name": "stdout",
     "output_type": "stream",
     "text": [
      "Train: Loss: 0.7767, Accuracy: 71.26%\n",
      "Validation: Loss: 0.9738, Accuracy: 66.45%\n",
      "\n",
      "Epoch 18/20\n"
     ]
    },
    {
     "name": "stderr",
     "output_type": "stream",
     "text": [
      "                                                                 \r"
     ]
    },
    {
     "name": "stdout",
     "output_type": "stream",
     "text": [
      "Train: Loss: 0.7570, Accuracy: 72.07%\n",
      "Validation: Loss: 0.9815, Accuracy: 66.40%\n",
      "\n",
      "Epoch 19/20\n"
     ]
    },
    {
     "name": "stderr",
     "output_type": "stream",
     "text": [
      "                                                                 \r"
     ]
    },
    {
     "name": "stdout",
     "output_type": "stream",
     "text": [
      "Train: Loss: 0.7560, Accuracy: 72.17%\n",
      "Validation: Loss: 0.9946, Accuracy: 67.15%\n",
      "\n",
      "Epoch 20/20\n"
     ]
    },
    {
     "name": "stderr",
     "output_type": "stream",
     "text": [
      "                                                                 \r"
     ]
    },
    {
     "name": "stdout",
     "output_type": "stream",
     "text": [
      "Train: Loss: 0.7494, Accuracy: 72.47%\n",
      "Validation: Loss: 0.9866, Accuracy: 66.26%\n",
      "Novo melhor modelo encontrado com precisão: 0.6715\n",
      "Treinando com hiperparâmetros: {'weight_decay': 0, 'patience': 3, 'optimizer': 'sgd', 'momentum': 0.95, 'lr': 0.0001, 'epochs': 20, 'batch_size': 16, 'activation': 'tanh'}\n",
      "\n",
      "Epoch 1/20\n"
     ]
    },
    {
     "name": "stderr",
     "output_type": "stream",
     "text": [
      "                                                                 \r"
     ]
    },
    {
     "name": "stdout",
     "output_type": "stream",
     "text": [
      "Train: Loss: 1.7939, Accuracy: 25.72%\n",
      "Validation: Loss: 1.7471, Accuracy: 25.72%\n",
      "\n",
      "Epoch 2/20\n"
     ]
    },
    {
     "name": "stderr",
     "output_type": "stream",
     "text": [
      "                                                                 \r"
     ]
    },
    {
     "name": "stdout",
     "output_type": "stream",
     "text": [
      "Train: Loss: 1.6438, Accuracy: 35.23%\n",
      "Validation: Loss: 1.5547, Accuracy: 39.82%\n",
      "\n",
      "Epoch 3/20\n"
     ]
    },
    {
     "name": "stderr",
     "output_type": "stream",
     "text": [
      "                                                                 \r"
     ]
    },
    {
     "name": "stdout",
     "output_type": "stream",
     "text": [
      "Train: Loss: 1.5121, Accuracy: 41.36%\n",
      "Validation: Loss: 1.4438, Accuracy: 44.19%\n",
      "\n",
      "Epoch 4/20\n"
     ]
    },
    {
     "name": "stderr",
     "output_type": "stream",
     "text": [
      "                                                                 \r"
     ]
    },
    {
     "name": "stdout",
     "output_type": "stream",
     "text": [
      "Train: Loss: 1.4368, Accuracy: 44.86%\n",
      "Validation: Loss: 1.3777, Accuracy: 47.23%\n",
      "\n",
      "Epoch 5/20\n"
     ]
    },
    {
     "name": "stderr",
     "output_type": "stream",
     "text": [
      "                                                                 \r"
     ]
    },
    {
     "name": "stdout",
     "output_type": "stream",
     "text": [
      "Train: Loss: 1.3826, Accuracy: 47.02%\n",
      "Validation: Loss: 1.3207, Accuracy: 48.93%\n",
      "\n",
      "Epoch 6/20\n"
     ]
    },
    {
     "name": "stderr",
     "output_type": "stream",
     "text": [
      "                                                                 \r"
     ]
    },
    {
     "name": "stdout",
     "output_type": "stream",
     "text": [
      "Train: Loss: 1.3378, Accuracy: 48.79%\n",
      "Validation: Loss: 1.2756, Accuracy: 50.85%\n",
      "\n",
      "Epoch 7/20\n"
     ]
    },
    {
     "name": "stderr",
     "output_type": "stream",
     "text": [
      "                                                                 \r"
     ]
    },
    {
     "name": "stdout",
     "output_type": "stream",
     "text": [
      "Train: Loss: 1.3073, Accuracy: 50.13%\n",
      "Validation: Loss: 1.2432, Accuracy: 52.05%\n",
      "\n",
      "Epoch 8/20\n"
     ]
    },
    {
     "name": "stderr",
     "output_type": "stream",
     "text": [
      "                                                                 \r"
     ]
    },
    {
     "name": "stdout",
     "output_type": "stream",
     "text": [
      "Train: Loss: 1.2783, Accuracy: 51.42%\n",
      "Validation: Loss: 1.2126, Accuracy: 53.02%\n",
      "\n",
      "Epoch 9/20\n"
     ]
    },
    {
     "name": "stderr",
     "output_type": "stream",
     "text": [
      "                                                                 \r"
     ]
    },
    {
     "name": "stdout",
     "output_type": "stream",
     "text": [
      "Train: Loss: 1.2504, Accuracy: 52.70%\n",
      "Validation: Loss: 1.2144, Accuracy: 53.66%\n",
      "\n",
      "Epoch 10/20\n"
     ]
    },
    {
     "name": "stderr",
     "output_type": "stream",
     "text": [
      "                                                                 \r"
     ]
    },
    {
     "name": "stdout",
     "output_type": "stream",
     "text": [
      "Train: Loss: 1.2338, Accuracy: 53.42%\n",
      "Validation: Loss: 1.1968, Accuracy: 54.22%\n",
      "\n",
      "Epoch 11/20\n"
     ]
    },
    {
     "name": "stderr",
     "output_type": "stream",
     "text": [
      "                                                                 \r"
     ]
    },
    {
     "name": "stdout",
     "output_type": "stream",
     "text": [
      "Train: Loss: 1.2100, Accuracy: 54.16%\n",
      "Validation: Loss: 1.1775, Accuracy: 55.06%\n",
      "\n",
      "Epoch 12/20\n"
     ]
    },
    {
     "name": "stderr",
     "output_type": "stream",
     "text": [
      "                                                                 \r"
     ]
    },
    {
     "name": "stdout",
     "output_type": "stream",
     "text": [
      "Train: Loss: 1.1977, Accuracy: 54.53%\n",
      "Validation: Loss: 1.1805, Accuracy: 55.20%\n",
      "\n",
      "Epoch 13/20\n"
     ]
    },
    {
     "name": "stderr",
     "output_type": "stream",
     "text": [
      "                                                                 \r"
     ]
    },
    {
     "name": "stdout",
     "output_type": "stream",
     "text": [
      "Train: Loss: 1.1738, Accuracy: 55.90%\n",
      "Validation: Loss: 1.1330, Accuracy: 56.67%\n",
      "\n",
      "Epoch 14/20\n"
     ]
    },
    {
     "name": "stderr",
     "output_type": "stream",
     "text": [
      "                                                                 \r"
     ]
    },
    {
     "name": "stdout",
     "output_type": "stream",
     "text": [
      "Train: Loss: 1.1648, Accuracy: 55.92%\n",
      "Validation: Loss: 1.1275, Accuracy: 56.95%\n",
      "\n",
      "Epoch 15/20\n"
     ]
    },
    {
     "name": "stderr",
     "output_type": "stream",
     "text": [
      "                                                                 \r"
     ]
    },
    {
     "name": "stdout",
     "output_type": "stream",
     "text": [
      "Train: Loss: 1.1477, Accuracy: 56.72%\n",
      "Validation: Loss: 1.1245, Accuracy: 56.78%\n",
      "\n",
      "Epoch 16/20\n"
     ]
    },
    {
     "name": "stderr",
     "output_type": "stream",
     "text": [
      "                                                                 \r"
     ]
    },
    {
     "name": "stdout",
     "output_type": "stream",
     "text": [
      "Train: Loss: 1.1315, Accuracy: 57.53%\n",
      "Validation: Loss: 1.1067, Accuracy: 57.76%\n",
      "\n",
      "Epoch 17/20\n"
     ]
    },
    {
     "name": "stderr",
     "output_type": "stream",
     "text": [
      "                                                                 \r"
     ]
    },
    {
     "name": "stdout",
     "output_type": "stream",
     "text": [
      "Train: Loss: 1.1232, Accuracy: 57.61%\n",
      "Validation: Loss: 1.1023, Accuracy: 58.07%\n",
      "\n",
      "Epoch 18/20\n"
     ]
    },
    {
     "name": "stderr",
     "output_type": "stream",
     "text": [
      "                                                                 \r"
     ]
    },
    {
     "name": "stdout",
     "output_type": "stream",
     "text": [
      "Train: Loss: 1.1107, Accuracy: 58.37%\n",
      "Validation: Loss: 1.0989, Accuracy: 57.70%\n",
      "\n",
      "Epoch 19/20\n"
     ]
    },
    {
     "name": "stderr",
     "output_type": "stream",
     "text": [
      "                                                                 \r"
     ]
    },
    {
     "name": "stdout",
     "output_type": "stream",
     "text": [
      "Train: Loss: 1.0965, Accuracy: 58.98%\n",
      "Validation: Loss: 1.0989, Accuracy: 57.98%\n",
      "\n",
      "Epoch 20/20\n"
     ]
    },
    {
     "name": "stderr",
     "output_type": "stream",
     "text": [
      "                                                                 \r"
     ]
    },
    {
     "name": "stdout",
     "output_type": "stream",
     "text": [
      "Train: Loss: 1.0909, Accuracy: 59.11%\n",
      "Validation: Loss: 1.0763, Accuracy: 58.68%\n",
      "Treinando com hiperparâmetros: {'weight_decay': 0, 'patience': 3, 'optimizer': 'adam', 'momentum': 0.95, 'lr': 0.1, 'epochs': 30, 'batch_size': 32, 'activation': 'tanh'}\n",
      "\n",
      "Epoch 1/30\n"
     ]
    },
    {
     "name": "stderr",
     "output_type": "stream",
     "text": [
      "                                                                 \r"
     ]
    },
    {
     "name": "stdout",
     "output_type": "stream",
     "text": [
      "Train: Loss: 3.0878, Accuracy: 24.47%\n",
      "Validation: Loss: 1.8163, Accuracy: 24.97%\n",
      "\n",
      "Epoch 2/30\n"
     ]
    },
    {
     "name": "stderr",
     "output_type": "stream",
     "text": [
      "                                                                 \r"
     ]
    },
    {
     "name": "stdout",
     "output_type": "stream",
     "text": [
      "Train: Loss: 1.8188, Accuracy: 24.85%\n",
      "Validation: Loss: 1.8251, Accuracy: 24.97%\n",
      "\n",
      "Epoch 3/30\n"
     ]
    },
    {
     "name": "stderr",
     "output_type": "stream",
     "text": [
      "                                                                 \r"
     ]
    },
    {
     "name": "stdout",
     "output_type": "stream",
     "text": [
      "Train: Loss: 1.8195, Accuracy: 24.79%\n",
      "Validation: Loss: 1.8234, Accuracy: 24.97%\n",
      "\n",
      "Epoch 4/30\n"
     ]
    },
    {
     "name": "stderr",
     "output_type": "stream",
     "text": [
      "                                                                 \r"
     ]
    },
    {
     "name": "stdout",
     "output_type": "stream",
     "text": [
      "Train: Loss: 1.9449, Accuracy: 24.50%\n",
      "Validation: Loss: 1.8127, Accuracy: 24.94%\n",
      "Early stopping triggered.\n",
      "Treinando com hiperparâmetros: {'weight_decay': 1e-05, 'patience': 3, 'optimizer': 'adam', 'momentum': 0.9, 'lr': 0.0001, 'epochs': 50, 'batch_size': 32, 'activation': 'tanh'}\n",
      "\n",
      "Epoch 1/50\n"
     ]
    },
    {
     "name": "stderr",
     "output_type": "stream",
     "text": [
      "                                                                 \r"
     ]
    },
    {
     "name": "stdout",
     "output_type": "stream",
     "text": [
      "Train: Loss: 1.3597, Accuracy: 48.22%\n",
      "Validation: Loss: 1.1890, Accuracy: 54.89%\n",
      "\n",
      "Epoch 2/50\n"
     ]
    },
    {
     "name": "stderr",
     "output_type": "stream",
     "text": [
      "                                                                 \r"
     ]
    },
    {
     "name": "stdout",
     "output_type": "stream",
     "text": [
      "Train: Loss: 1.1807, Accuracy: 55.86%\n",
      "Validation: Loss: 1.1035, Accuracy: 58.60%\n",
      "\n",
      "Epoch 3/50\n"
     ]
    },
    {
     "name": "stderr",
     "output_type": "stream",
     "text": [
      "                                                                 \r"
     ]
    },
    {
     "name": "stdout",
     "output_type": "stream",
     "text": [
      "Train: Loss: 1.1155, Accuracy: 58.27%\n",
      "Validation: Loss: 1.1772, Accuracy: 57.70%\n",
      "\n",
      "Epoch 4/50\n"
     ]
    },
    {
     "name": "stderr",
     "output_type": "stream",
     "text": [
      "                                                                 \r"
     ]
    },
    {
     "name": "stdout",
     "output_type": "stream",
     "text": [
      "Train: Loss: 1.0718, Accuracy: 60.13%\n",
      "Validation: Loss: 1.0331, Accuracy: 61.47%\n",
      "\n",
      "Epoch 5/50\n"
     ]
    },
    {
     "name": "stderr",
     "output_type": "stream",
     "text": [
      "                                                                 \r"
     ]
    },
    {
     "name": "stdout",
     "output_type": "stream",
     "text": [
      "Train: Loss: 1.0391, Accuracy: 61.38%\n",
      "Validation: Loss: 1.0575, Accuracy: 61.33%\n",
      "\n",
      "Epoch 6/50\n"
     ]
    },
    {
     "name": "stderr",
     "output_type": "stream",
     "text": [
      "                                                                 \r"
     ]
    },
    {
     "name": "stdout",
     "output_type": "stream",
     "text": [
      "Train: Loss: 1.0131, Accuracy: 62.18%\n",
      "Validation: Loss: 1.0176, Accuracy: 62.39%\n",
      "\n",
      "Epoch 7/50\n"
     ]
    },
    {
     "name": "stderr",
     "output_type": "stream",
     "text": [
      "                                                                 \r"
     ]
    },
    {
     "name": "stdout",
     "output_type": "stream",
     "text": [
      "Train: Loss: 0.9900, Accuracy: 63.46%\n",
      "Validation: Loss: 1.0021, Accuracy: 63.03%\n",
      "\n",
      "Epoch 8/50\n"
     ]
    },
    {
     "name": "stderr",
     "output_type": "stream",
     "text": [
      "                                                                 \r"
     ]
    },
    {
     "name": "stdout",
     "output_type": "stream",
     "text": [
      "Train: Loss: 0.9666, Accuracy: 64.05%\n",
      "Validation: Loss: 0.9851, Accuracy: 64.22%\n",
      "\n",
      "Epoch 9/50\n"
     ]
    },
    {
     "name": "stderr",
     "output_type": "stream",
     "text": [
      "                                                                 \r"
     ]
    },
    {
     "name": "stdout",
     "output_type": "stream",
     "text": [
      "Train: Loss: 0.9499, Accuracy: 64.93%\n",
      "Validation: Loss: 0.9853, Accuracy: 65.09%\n",
      "\n",
      "Epoch 10/50\n"
     ]
    },
    {
     "name": "stderr",
     "output_type": "stream",
     "text": [
      "                                                                 \r"
     ]
    },
    {
     "name": "stdout",
     "output_type": "stream",
     "text": [
      "Train: Loss: 0.9358, Accuracy: 65.25%\n",
      "Validation: Loss: 0.9738, Accuracy: 63.89%\n",
      "\n",
      "Epoch 11/50\n"
     ]
    },
    {
     "name": "stderr",
     "output_type": "stream",
     "text": [
      "                                                                 \r"
     ]
    },
    {
     "name": "stdout",
     "output_type": "stream",
     "text": [
      "Train: Loss: 0.9125, Accuracy: 66.31%\n",
      "Validation: Loss: 0.9970, Accuracy: 64.34%\n",
      "\n",
      "Epoch 12/50\n"
     ]
    },
    {
     "name": "stderr",
     "output_type": "stream",
     "text": [
      "                                                                 \r"
     ]
    },
    {
     "name": "stdout",
     "output_type": "stream",
     "text": [
      "Train: Loss: 0.8925, Accuracy: 67.15%\n",
      "Validation: Loss: 0.9993, Accuracy: 62.86%\n",
      "Early stopping triggered.\n",
      "Treinando com hiperparâmetros: {'weight_decay': 1e-05, 'patience': 5, 'optimizer': 'adam', 'momentum': 0.95, 'lr': 0.0001, 'epochs': 20, 'batch_size': 16, 'activation': 'tanh'}\n",
      "\n",
      "Epoch 1/20\n"
     ]
    },
    {
     "name": "stderr",
     "output_type": "stream",
     "text": [
      "                                                                 \r"
     ]
    },
    {
     "name": "stdout",
     "output_type": "stream",
     "text": [
      "Train: Loss: 1.3634, Accuracy: 48.10%\n",
      "Validation: Loss: 1.1824, Accuracy: 54.75%\n",
      "\n",
      "Epoch 2/20\n"
     ]
    },
    {
     "name": "stderr",
     "output_type": "stream",
     "text": [
      "                                                                 \r"
     ]
    },
    {
     "name": "stdout",
     "output_type": "stream",
     "text": [
      "Train: Loss: 1.1818, Accuracy: 56.17%\n",
      "Validation: Loss: 1.1065, Accuracy: 58.68%\n",
      "\n",
      "Epoch 3/20\n"
     ]
    },
    {
     "name": "stderr",
     "output_type": "stream",
     "text": [
      "                                                                 \r"
     ]
    },
    {
     "name": "stdout",
     "output_type": "stream",
     "text": [
      "Train: Loss: 1.1188, Accuracy: 58.33%\n",
      "Validation: Loss: 1.0542, Accuracy: 60.35%\n",
      "\n",
      "Epoch 4/20\n"
     ]
    },
    {
     "name": "stderr",
     "output_type": "stream",
     "text": [
      "                                                                   \r"
     ]
    },
    {
     "name": "stdout",
     "output_type": "stream",
     "text": [
      "Train: Loss: 1.0785, Accuracy: 59.90%\n",
      "Validation: Loss: 1.0204, Accuracy: 62.47%\n",
      "\n",
      "Epoch 5/20\n"
     ]
    },
    {
     "name": "stderr",
     "output_type": "stream",
     "text": [
      "                                                                 \r"
     ]
    },
    {
     "name": "stdout",
     "output_type": "stream",
     "text": [
      "Train: Loss: 1.0450, Accuracy: 61.40%\n",
      "Validation: Loss: 1.0139, Accuracy: 62.41%\n",
      "\n",
      "Epoch 6/20\n"
     ]
    },
    {
     "name": "stderr",
     "output_type": "stream",
     "text": [
      "                                                                 \r"
     ]
    },
    {
     "name": "stdout",
     "output_type": "stream",
     "text": [
      "Train: Loss: 1.0191, Accuracy: 62.37%\n",
      "Validation: Loss: 0.9964, Accuracy: 62.69%\n",
      "\n",
      "Epoch 7/20\n"
     ]
    },
    {
     "name": "stderr",
     "output_type": "stream",
     "text": [
      "                                                                 \r"
     ]
    },
    {
     "name": "stdout",
     "output_type": "stream",
     "text": [
      "Train: Loss: 0.9906, Accuracy: 63.60%\n",
      "Validation: Loss: 1.0028, Accuracy: 62.64%\n",
      "\n",
      "Epoch 8/20\n"
     ]
    },
    {
     "name": "stderr",
     "output_type": "stream",
     "text": [
      "                                                                 \r"
     ]
    },
    {
     "name": "stdout",
     "output_type": "stream",
     "text": [
      "Train: Loss: 0.9689, Accuracy: 64.15%\n",
      "Validation: Loss: 1.0213, Accuracy: 63.05%\n",
      "\n",
      "Epoch 9/20\n"
     ]
    },
    {
     "name": "stderr",
     "output_type": "stream",
     "text": [
      "                                                                 \r"
     ]
    },
    {
     "name": "stdout",
     "output_type": "stream",
     "text": [
      "Train: Loss: 0.9499, Accuracy: 64.43%\n",
      "Validation: Loss: 1.0185, Accuracy: 63.11%\n",
      "\n",
      "Epoch 10/20\n"
     ]
    },
    {
     "name": "stderr",
     "output_type": "stream",
     "text": [
      "                                                                 \r"
     ]
    },
    {
     "name": "stdout",
     "output_type": "stream",
     "text": [
      "Train: Loss: 0.9276, Accuracy: 65.24%\n",
      "Validation: Loss: 1.0135, Accuracy: 64.31%\n",
      "\n",
      "Epoch 11/20\n"
     ]
    },
    {
     "name": "stderr",
     "output_type": "stream",
     "text": [
      "                                                                 \r"
     ]
    },
    {
     "name": "stdout",
     "output_type": "stream",
     "text": [
      "Train: Loss: 0.8593, Accuracy: 68.11%\n",
      "Validation: Loss: 0.9970, Accuracy: 65.45%\n",
      "\n",
      "Epoch 12/20\n"
     ]
    },
    {
     "name": "stderr",
     "output_type": "stream",
     "text": [
      "                                                                 \r"
     ]
    },
    {
     "name": "stdout",
     "output_type": "stream",
     "text": [
      "Train: Loss: 0.8439, Accuracy: 69.04%\n",
      "Validation: Loss: 0.9736, Accuracy: 65.81%\n",
      "\n",
      "Epoch 13/20\n"
     ]
    },
    {
     "name": "stderr",
     "output_type": "stream",
     "text": [
      "                                                                 \r"
     ]
    },
    {
     "name": "stdout",
     "output_type": "stream",
     "text": [
      "Train: Loss: 0.8311, Accuracy: 69.27%\n",
      "Validation: Loss: 0.9651, Accuracy: 65.56%\n",
      "\n",
      "Epoch 14/20\n"
     ]
    },
    {
     "name": "stderr",
     "output_type": "stream",
     "text": [
      "                                                                 \r"
     ]
    },
    {
     "name": "stdout",
     "output_type": "stream",
     "text": [
      "Train: Loss: 0.8208, Accuracy: 69.73%\n",
      "Validation: Loss: 0.9705, Accuracy: 65.92%\n",
      "\n",
      "Epoch 15/20\n"
     ]
    },
    {
     "name": "stderr",
     "output_type": "stream",
     "text": [
      "                                                                 \r"
     ]
    },
    {
     "name": "stdout",
     "output_type": "stream",
     "text": [
      "Train: Loss: 0.8084, Accuracy: 70.14%\n",
      "Validation: Loss: 0.9732, Accuracy: 66.12%\n",
      "\n",
      "Epoch 16/20\n"
     ]
    },
    {
     "name": "stderr",
     "output_type": "stream",
     "text": [
      "                                                                 \r"
     ]
    },
    {
     "name": "stdout",
     "output_type": "stream",
     "text": [
      "Train: Loss: 0.8043, Accuracy: 70.39%\n",
      "Validation: Loss: 0.9696, Accuracy: 66.54%\n",
      "\n",
      "Epoch 17/20\n"
     ]
    },
    {
     "name": "stderr",
     "output_type": "stream",
     "text": [
      "                                                                 \r"
     ]
    },
    {
     "name": "stdout",
     "output_type": "stream",
     "text": [
      "Train: Loss: 0.7940, Accuracy: 70.65%\n",
      "Validation: Loss: 0.9837, Accuracy: 66.54%\n",
      "\n",
      "Epoch 18/20\n"
     ]
    },
    {
     "name": "stderr",
     "output_type": "stream",
     "text": [
      "                                                                 \r"
     ]
    },
    {
     "name": "stdout",
     "output_type": "stream",
     "text": [
      "Train: Loss: 0.7844, Accuracy: 71.16%\n",
      "Validation: Loss: 0.9715, Accuracy: 65.78%\n",
      "\n",
      "Epoch 19/20\n"
     ]
    },
    {
     "name": "stderr",
     "output_type": "stream",
     "text": [
      "                                                                 \r"
     ]
    },
    {
     "name": "stdout",
     "output_type": "stream",
     "text": [
      "Train: Loss: 0.7757, Accuracy: 71.29%\n",
      "Validation: Loss: 0.9706, Accuracy: 66.82%\n",
      "\n",
      "Epoch 20/20\n"
     ]
    },
    {
     "name": "stderr",
     "output_type": "stream",
     "text": [
      "                                                                 \r"
     ]
    },
    {
     "name": "stdout",
     "output_type": "stream",
     "text": [
      "Train: Loss: 0.7743, Accuracy: 71.62%\n",
      "Validation: Loss: 0.9774, Accuracy: 66.23%\n",
      "Treinando com hiperparâmetros: {'weight_decay': 1e-05, 'patience': 5, 'optimizer': 'adam', 'momentum': 0.9, 'lr': 0.1, 'epochs': 50, 'batch_size': 32, 'activation': 'sigmoid'}\n",
      "\n",
      "Epoch 1/50\n"
     ]
    },
    {
     "name": "stderr",
     "output_type": "stream",
     "text": [
      "                                                                 \r"
     ]
    },
    {
     "name": "stdout",
     "output_type": "stream",
     "text": [
      "Train: Loss: 3.5076, Accuracy: 24.30%\n",
      "Validation: Loss: 1.8243, Accuracy: 24.94%\n",
      "\n",
      "Epoch 2/50\n"
     ]
    },
    {
     "name": "stderr",
     "output_type": "stream",
     "text": [
      "                                                                 \r"
     ]
    },
    {
     "name": "stdout",
     "output_type": "stream",
     "text": [
      "Train: Loss: 1.8313, Accuracy: 24.60%\n",
      "Validation: Loss: 1.8395, Accuracy: 24.94%\n",
      "\n",
      "Epoch 3/50\n"
     ]
    },
    {
     "name": "stderr",
     "output_type": "stream",
     "text": [
      "                                                                 \r"
     ]
    },
    {
     "name": "stdout",
     "output_type": "stream",
     "text": [
      "Train: Loss: 1.8468, Accuracy: 24.68%\n",
      "Validation: Loss: 3.9881, Accuracy: 24.94%\n",
      "\n",
      "Epoch 4/50\n"
     ]
    },
    {
     "name": "stderr",
     "output_type": "stream",
     "text": [
      "                                                                 \r"
     ]
    },
    {
     "name": "stdout",
     "output_type": "stream",
     "text": [
      "Train: Loss: 1.9605, Accuracy: 24.59%\n",
      "Validation: Loss: 1.8130, Accuracy: 24.94%\n",
      "\n",
      "Epoch 5/50\n"
     ]
    },
    {
     "name": "stderr",
     "output_type": "stream",
     "text": [
      "                                                                 \r"
     ]
    },
    {
     "name": "stdout",
     "output_type": "stream",
     "text": [
      "Train: Loss: 1.9302, Accuracy: 24.46%\n",
      "Validation: Loss: 1.8280, Accuracy: 24.94%\n",
      "\n",
      "Epoch 6/50\n"
     ]
    },
    {
     "name": "stderr",
     "output_type": "stream",
     "text": [
      "                                                                 \r"
     ]
    },
    {
     "name": "stdout",
     "output_type": "stream",
     "text": [
      "Train: Loss: 1.8370, Accuracy: 24.59%\n",
      "Validation: Loss: 1.8981, Accuracy: 20.87%\n",
      "Early stopping triggered.\n",
      "Treinando com hiperparâmetros: {'weight_decay': 0.0001, 'patience': 5, 'optimizer': 'adam', 'momentum': 0.95, 'lr': 0.0001, 'epochs': 50, 'batch_size': 16, 'activation': 'sigmoid'}\n",
      "\n",
      "Epoch 1/50\n"
     ]
    },
    {
     "name": "stderr",
     "output_type": "stream",
     "text": [
      "                                                                 \r"
     ]
    },
    {
     "name": "stdout",
     "output_type": "stream",
     "text": [
      "Train: Loss: 1.3572, Accuracy: 48.24%\n",
      "Validation: Loss: 1.1499, Accuracy: 56.59%\n",
      "\n",
      "Epoch 2/50\n"
     ]
    },
    {
     "name": "stderr",
     "output_type": "stream",
     "text": [
      "                                                                 \r"
     ]
    },
    {
     "name": "stdout",
     "output_type": "stream",
     "text": [
      "Train: Loss: 1.1793, Accuracy: 56.05%\n",
      "Validation: Loss: 1.1039, Accuracy: 58.71%\n",
      "\n",
      "Epoch 3/50\n"
     ]
    },
    {
     "name": "stderr",
     "output_type": "stream",
     "text": [
      "                                                                 \r"
     ]
    },
    {
     "name": "stdout",
     "output_type": "stream",
     "text": [
      "Train: Loss: 1.1160, Accuracy: 58.38%\n",
      "Validation: Loss: 1.0915, Accuracy: 58.79%\n",
      "\n",
      "Epoch 4/50\n"
     ]
    },
    {
     "name": "stderr",
     "output_type": "stream",
     "text": [
      "                                                                 \r"
     ]
    },
    {
     "name": "stdout",
     "output_type": "stream",
     "text": [
      "Train: Loss: 1.0777, Accuracy: 60.02%\n",
      "Validation: Loss: 1.0344, Accuracy: 61.47%\n",
      "\n",
      "Epoch 5/50\n"
     ]
    },
    {
     "name": "stderr",
     "output_type": "stream",
     "text": [
      "                                                                 \r"
     ]
    },
    {
     "name": "stdout",
     "output_type": "stream",
     "text": [
      "Train: Loss: 1.0434, Accuracy: 61.49%\n",
      "Validation: Loss: 0.9994, Accuracy: 62.30%\n",
      "\n",
      "Epoch 6/50\n"
     ]
    },
    {
     "name": "stderr",
     "output_type": "stream",
     "text": [
      "                                                                 \r"
     ]
    },
    {
     "name": "stdout",
     "output_type": "stream",
     "text": [
      "Train: Loss: 1.0163, Accuracy: 62.35%\n",
      "Validation: Loss: 1.0133, Accuracy: 61.77%\n",
      "\n",
      "Epoch 7/50\n"
     ]
    },
    {
     "name": "stderr",
     "output_type": "stream",
     "text": [
      "                                                                 \r"
     ]
    },
    {
     "name": "stdout",
     "output_type": "stream",
     "text": [
      "Train: Loss: 0.9927, Accuracy: 63.13%\n",
      "Validation: Loss: 1.0041, Accuracy: 62.86%\n",
      "\n",
      "Epoch 8/50\n"
     ]
    },
    {
     "name": "stderr",
     "output_type": "stream",
     "text": [
      "                                                                 \r"
     ]
    },
    {
     "name": "stdout",
     "output_type": "stream",
     "text": [
      "Train: Loss: 0.9699, Accuracy: 63.95%\n",
      "Validation: Loss: 1.0097, Accuracy: 62.91%\n",
      "\n",
      "Epoch 9/50\n"
     ]
    },
    {
     "name": "stderr",
     "output_type": "stream",
     "text": [
      "                                                                 \r"
     ]
    },
    {
     "name": "stdout",
     "output_type": "stream",
     "text": [
      "Train: Loss: 0.9593, Accuracy: 64.29%\n",
      "Validation: Loss: 1.0584, Accuracy: 62.69%\n",
      "\n",
      "Epoch 10/50\n"
     ]
    },
    {
     "name": "stderr",
     "output_type": "stream",
     "text": [
      "                                                                 \r"
     ]
    },
    {
     "name": "stdout",
     "output_type": "stream",
     "text": [
      "Train: Loss: 0.8874, Accuracy: 67.18%\n",
      "Validation: Loss: 0.9760, Accuracy: 65.23%\n",
      "\n",
      "Epoch 11/50\n"
     ]
    },
    {
     "name": "stderr",
     "output_type": "stream",
     "text": [
      "                                                                 \r"
     ]
    },
    {
     "name": "stdout",
     "output_type": "stream",
     "text": [
      "Train: Loss: 0.8596, Accuracy: 68.32%\n",
      "Validation: Loss: 0.9748, Accuracy: 65.00%\n",
      "\n",
      "Epoch 12/50\n"
     ]
    },
    {
     "name": "stderr",
     "output_type": "stream",
     "text": [
      "                                                                 \r"
     ]
    },
    {
     "name": "stdout",
     "output_type": "stream",
     "text": [
      "Train: Loss: 0.8398, Accuracy: 68.99%\n",
      "Validation: Loss: 0.9779, Accuracy: 64.81%\n",
      "\n",
      "Epoch 13/50\n"
     ]
    },
    {
     "name": "stderr",
     "output_type": "stream",
     "text": [
      "                                                                 \r"
     ]
    },
    {
     "name": "stdout",
     "output_type": "stream",
     "text": [
      "Train: Loss: 0.8345, Accuracy: 69.16%\n",
      "Validation: Loss: 0.9719, Accuracy: 65.09%\n",
      "\n",
      "Epoch 14/50\n"
     ]
    },
    {
     "name": "stderr",
     "output_type": "stream",
     "text": [
      "                                                                 \r"
     ]
    },
    {
     "name": "stdout",
     "output_type": "stream",
     "text": [
      "Train: Loss: 0.8307, Accuracy: 69.44%\n",
      "Validation: Loss: 0.9657, Accuracy: 65.51%\n",
      "\n",
      "Epoch 15/50\n"
     ]
    },
    {
     "name": "stderr",
     "output_type": "stream",
     "text": [
      "                                                                 \r"
     ]
    },
    {
     "name": "stdout",
     "output_type": "stream",
     "text": [
      "Train: Loss: 0.8277, Accuracy: 69.17%\n",
      "Validation: Loss: 0.9711, Accuracy: 65.51%\n",
      "\n",
      "Epoch 16/50\n"
     ]
    },
    {
     "name": "stderr",
     "output_type": "stream",
     "text": [
      "                                                                 \r"
     ]
    },
    {
     "name": "stdout",
     "output_type": "stream",
     "text": [
      "Train: Loss: 0.8147, Accuracy: 69.89%\n",
      "Validation: Loss: 0.9792, Accuracy: 65.70%\n",
      "\n",
      "Epoch 17/50\n"
     ]
    },
    {
     "name": "stderr",
     "output_type": "stream",
     "text": [
      "                                                                 \r"
     ]
    },
    {
     "name": "stdout",
     "output_type": "stream",
     "text": [
      "Train: Loss: 0.8062, Accuracy: 70.19%\n",
      "Validation: Loss: 0.9800, Accuracy: 65.67%\n",
      "\n",
      "Epoch 18/50\n"
     ]
    },
    {
     "name": "stderr",
     "output_type": "stream",
     "text": [
      "                                                                 \r"
     ]
    },
    {
     "name": "stdout",
     "output_type": "stream",
     "text": [
      "Train: Loss: 0.8038, Accuracy: 70.19%\n",
      "Validation: Loss: 0.9825, Accuracy: 65.67%\n",
      "\n",
      "Epoch 19/50\n"
     ]
    },
    {
     "name": "stderr",
     "output_type": "stream",
     "text": [
      "                                                                 \r"
     ]
    },
    {
     "name": "stdout",
     "output_type": "stream",
     "text": [
      "Train: Loss: 0.7938, Accuracy: 70.62%\n",
      "Validation: Loss: 0.9838, Accuracy: 66.23%\n",
      "\n",
      "Epoch 20/50\n"
     ]
    },
    {
     "name": "stderr",
     "output_type": "stream",
     "text": [
      "                                                                 \r"
     ]
    },
    {
     "name": "stdout",
     "output_type": "stream",
     "text": [
      "Train: Loss: 0.7880, Accuracy: 70.95%\n",
      "Validation: Loss: 0.9808, Accuracy: 66.26%\n",
      "\n",
      "Epoch 21/50\n"
     ]
    },
    {
     "name": "stderr",
     "output_type": "stream",
     "text": [
      "                                                                 \r"
     ]
    },
    {
     "name": "stdout",
     "output_type": "stream",
     "text": [
      "Train: Loss: 0.7810, Accuracy: 71.02%\n",
      "Validation: Loss: 0.9872, Accuracy: 65.78%\n",
      "\n",
      "Epoch 22/50\n"
     ]
    },
    {
     "name": "stderr",
     "output_type": "stream",
     "text": [
      "                                                                 \r"
     ]
    },
    {
     "name": "stdout",
     "output_type": "stream",
     "text": [
      "Train: Loss: 0.7836, Accuracy: 71.03%\n",
      "Validation: Loss: 0.9775, Accuracy: 66.01%\n",
      "\n",
      "Epoch 23/50\n"
     ]
    },
    {
     "name": "stderr",
     "output_type": "stream",
     "text": [
      "                                                                 \r"
     ]
    },
    {
     "name": "stdout",
     "output_type": "stream",
     "text": [
      "Train: Loss: 0.7842, Accuracy: 70.88%\n",
      "Validation: Loss: 0.9811, Accuracy: 65.95%\n",
      "\n",
      "Epoch 24/50\n"
     ]
    },
    {
     "name": "stderr",
     "output_type": "stream",
     "text": [
      "                                                                 \r"
     ]
    },
    {
     "name": "stdout",
     "output_type": "stream",
     "text": [
      "Train: Loss: 0.7852, Accuracy: 70.82%\n",
      "Validation: Loss: 0.9869, Accuracy: 65.98%\n",
      "\n",
      "Epoch 25/50\n"
     ]
    },
    {
     "name": "stderr",
     "output_type": "stream",
     "text": [
      "                                                                 \r"
     ]
    },
    {
     "name": "stdout",
     "output_type": "stream",
     "text": [
      "Train: Loss: 0.7793, Accuracy: 71.21%\n",
      "Validation: Loss: 0.9763, Accuracy: 66.31%\n",
      "\n",
      "Epoch 26/50\n"
     ]
    },
    {
     "name": "stderr",
     "output_type": "stream",
     "text": [
      "                                                                 \r"
     ]
    },
    {
     "name": "stdout",
     "output_type": "stream",
     "text": [
      "Train: Loss: 0.7828, Accuracy: 71.14%\n",
      "Validation: Loss: 0.9923, Accuracy: 65.95%\n",
      "\n",
      "Epoch 27/50\n"
     ]
    },
    {
     "name": "stderr",
     "output_type": "stream",
     "text": [
      "                                                                 \r"
     ]
    },
    {
     "name": "stdout",
     "output_type": "stream",
     "text": [
      "Train: Loss: 0.7898, Accuracy: 70.89%\n",
      "Validation: Loss: 0.9852, Accuracy: 65.42%\n",
      "\n",
      "Epoch 28/50\n"
     ]
    },
    {
     "name": "stderr",
     "output_type": "stream",
     "text": [
      "                                                                 \r"
     ]
    },
    {
     "name": "stdout",
     "output_type": "stream",
     "text": [
      "Train: Loss: 0.7891, Accuracy: 70.80%\n",
      "Validation: Loss: 0.9854, Accuracy: 66.20%\n",
      "\n",
      "Epoch 29/50\n"
     ]
    },
    {
     "name": "stderr",
     "output_type": "stream",
     "text": [
      "                                                                 \r"
     ]
    },
    {
     "name": "stdout",
     "output_type": "stream",
     "text": [
      "Train: Loss: 0.7830, Accuracy: 71.00%\n",
      "Validation: Loss: 0.9823, Accuracy: 66.12%\n",
      "\n",
      "Epoch 30/50\n"
     ]
    },
    {
     "name": "stderr",
     "output_type": "stream",
     "text": [
      "                                                                 \r"
     ]
    },
    {
     "name": "stdout",
     "output_type": "stream",
     "text": [
      "Train: Loss: 0.7844, Accuracy: 71.20%\n",
      "Validation: Loss: 0.9801, Accuracy: 65.98%\n",
      "Early stopping triggered.\n",
      "Treinando com hiperparâmetros: {'weight_decay': 0, 'patience': 7, 'optimizer': 'adam', 'momentum': 0.95, 'lr': 0.0001, 'epochs': 20, 'batch_size': 16, 'activation': 'relu'}\n",
      "\n",
      "Epoch 1/20\n"
     ]
    },
    {
     "name": "stderr",
     "output_type": "stream",
     "text": [
      "                                                                 \r"
     ]
    },
    {
     "name": "stdout",
     "output_type": "stream",
     "text": [
      "Train: Loss: 1.3592, Accuracy: 48.45%\n",
      "Validation: Loss: 1.2026, Accuracy: 54.92%\n",
      "\n",
      "Epoch 2/20\n"
     ]
    },
    {
     "name": "stderr",
     "output_type": "stream",
     "text": [
      "                                                                 \r"
     ]
    },
    {
     "name": "stdout",
     "output_type": "stream",
     "text": [
      "Train: Loss: 1.1830, Accuracy: 55.52%\n",
      "Validation: Loss: 1.0655, Accuracy: 59.65%\n",
      "\n",
      "Epoch 3/20\n"
     ]
    },
    {
     "name": "stderr",
     "output_type": "stream",
     "text": [
      "                                                                 \r"
     ]
    },
    {
     "name": "stdout",
     "output_type": "stream",
     "text": [
      "Train: Loss: 1.1132, Accuracy: 58.15%\n",
      "Validation: Loss: 1.0824, Accuracy: 60.07%\n",
      "\n",
      "Epoch 4/20\n"
     ]
    },
    {
     "name": "stderr",
     "output_type": "stream",
     "text": [
      "                                                                 \r"
     ]
    },
    {
     "name": "stdout",
     "output_type": "stream",
     "text": [
      "Train: Loss: 1.0754, Accuracy: 59.86%\n",
      "Validation: Loss: 1.0100, Accuracy: 62.69%\n",
      "\n",
      "Epoch 5/20\n"
     ]
    },
    {
     "name": "stderr",
     "output_type": "stream",
     "text": [
      "                                                                 \r"
     ]
    },
    {
     "name": "stdout",
     "output_type": "stream",
     "text": [
      "Train: Loss: 1.0425, Accuracy: 61.13%\n",
      "Validation: Loss: 1.0318, Accuracy: 61.13%\n",
      "\n",
      "Epoch 6/20\n"
     ]
    },
    {
     "name": "stderr",
     "output_type": "stream",
     "text": [
      "                                                                 \r"
     ]
    },
    {
     "name": "stdout",
     "output_type": "stream",
     "text": [
      "Train: Loss: 1.0120, Accuracy: 62.26%\n",
      "Validation: Loss: 1.0533, Accuracy: 61.77%\n",
      "\n",
      "Epoch 7/20\n"
     ]
    },
    {
     "name": "stderr",
     "output_type": "stream",
     "text": [
      "                                                                 \r"
     ]
    },
    {
     "name": "stdout",
     "output_type": "stream",
     "text": [
      "Train: Loss: 0.9896, Accuracy: 63.43%\n",
      "Validation: Loss: 1.0028, Accuracy: 63.69%\n",
      "\n",
      "Epoch 8/20\n"
     ]
    },
    {
     "name": "stderr",
     "output_type": "stream",
     "text": [
      "                                                                 \r"
     ]
    },
    {
     "name": "stdout",
     "output_type": "stream",
     "text": [
      "Train: Loss: 0.9712, Accuracy: 64.09%\n",
      "Validation: Loss: 1.0167, Accuracy: 62.52%\n",
      "\n",
      "Epoch 9/20\n"
     ]
    },
    {
     "name": "stderr",
     "output_type": "stream",
     "text": [
      "                                                                 \r"
     ]
    },
    {
     "name": "stdout",
     "output_type": "stream",
     "text": [
      "Train: Loss: 0.9488, Accuracy: 64.56%\n",
      "Validation: Loss: 0.9798, Accuracy: 63.72%\n",
      "\n",
      "Epoch 10/20\n"
     ]
    },
    {
     "name": "stderr",
     "output_type": "stream",
     "text": [
      "                                                                 \r"
     ]
    },
    {
     "name": "stdout",
     "output_type": "stream",
     "text": [
      "Train: Loss: 0.9219, Accuracy: 65.92%\n",
      "Validation: Loss: 0.9889, Accuracy: 64.03%\n",
      "\n",
      "Epoch 11/20\n"
     ]
    },
    {
     "name": "stderr",
     "output_type": "stream",
     "text": [
      "                                                                 \r"
     ]
    },
    {
     "name": "stdout",
     "output_type": "stream",
     "text": [
      "Train: Loss: 0.9071, Accuracy: 66.32%\n",
      "Validation: Loss: 1.0137, Accuracy: 64.39%\n",
      "\n",
      "Epoch 12/20\n"
     ]
    },
    {
     "name": "stderr",
     "output_type": "stream",
     "text": [
      "                                                                 \r"
     ]
    },
    {
     "name": "stdout",
     "output_type": "stream",
     "text": [
      "Train: Loss: 0.8878, Accuracy: 67.06%\n",
      "Validation: Loss: 0.9974, Accuracy: 63.28%\n",
      "\n",
      "Epoch 13/20\n"
     ]
    },
    {
     "name": "stderr",
     "output_type": "stream",
     "text": [
      "                                                                 \r"
     ]
    },
    {
     "name": "stdout",
     "output_type": "stream",
     "text": [
      "Train: Loss: 0.8847, Accuracy: 67.03%\n",
      "Validation: Loss: 0.9590, Accuracy: 64.14%\n",
      "\n",
      "Epoch 14/20\n"
     ]
    },
    {
     "name": "stderr",
     "output_type": "stream",
     "text": [
      "                                                                 \r"
     ]
    },
    {
     "name": "stdout",
     "output_type": "stream",
     "text": [
      "Train: Loss: 0.8687, Accuracy: 67.88%\n",
      "Validation: Loss: 1.0014, Accuracy: 64.67%\n",
      "\n",
      "Epoch 15/20\n"
     ]
    },
    {
     "name": "stderr",
     "output_type": "stream",
     "text": [
      "                                                                 \r"
     ]
    },
    {
     "name": "stdout",
     "output_type": "stream",
     "text": [
      "Train: Loss: 0.8492, Accuracy: 68.36%\n",
      "Validation: Loss: 1.0881, Accuracy: 62.30%\n",
      "\n",
      "Epoch 16/20\n"
     ]
    },
    {
     "name": "stderr",
     "output_type": "stream",
     "text": [
      "                                                                 \r"
     ]
    },
    {
     "name": "stdout",
     "output_type": "stream",
     "text": [
      "Train: Loss: 0.8321, Accuracy: 69.38%\n",
      "Validation: Loss: 1.0031, Accuracy: 65.34%\n",
      "\n",
      "Epoch 17/20\n"
     ]
    },
    {
     "name": "stderr",
     "output_type": "stream",
     "text": [
      "                                                                 \r"
     ]
    },
    {
     "name": "stdout",
     "output_type": "stream",
     "text": [
      "Train: Loss: 0.8232, Accuracy: 69.47%\n",
      "Validation: Loss: 1.0168, Accuracy: 64.14%\n",
      "\n",
      "Epoch 18/20\n"
     ]
    },
    {
     "name": "stderr",
     "output_type": "stream",
     "text": [
      "                                                                 \r"
     ]
    },
    {
     "name": "stdout",
     "output_type": "stream",
     "text": [
      "Train: Loss: 0.7525, Accuracy: 72.24%\n",
      "Validation: Loss: 0.9980, Accuracy: 66.26%\n",
      "\n",
      "Epoch 19/20\n"
     ]
    },
    {
     "name": "stderr",
     "output_type": "stream",
     "text": [
      "                                                                 \r"
     ]
    },
    {
     "name": "stdout",
     "output_type": "stream",
     "text": [
      "Train: Loss: 0.7283, Accuracy: 73.14%\n",
      "Validation: Loss: 1.0014, Accuracy: 66.62%\n",
      "\n",
      "Epoch 20/20\n"
     ]
    },
    {
     "name": "stderr",
     "output_type": "stream",
     "text": [
      "                                                                 \r"
     ]
    },
    {
     "name": "stdout",
     "output_type": "stream",
     "text": [
      "Train: Loss: 0.7156, Accuracy: 73.77%\n",
      "Validation: Loss: 1.0228, Accuracy: 65.53%\n",
      "Treinando com hiperparâmetros: {'weight_decay': 1e-05, 'patience': 7, 'optimizer': 'adam', 'momentum': 0.95, 'lr': 0.001, 'epochs': 50, 'batch_size': 64, 'activation': 'sigmoid'}\n",
      "\n",
      "Epoch 1/50\n"
     ]
    },
    {
     "name": "stderr",
     "output_type": "stream",
     "text": [
      "                                                                 \r"
     ]
    },
    {
     "name": "stdout",
     "output_type": "stream",
     "text": [
      "Train: Loss: 1.4607, Accuracy: 43.84%\n",
      "Validation: Loss: 1.2656, Accuracy: 51.60%\n",
      "\n",
      "Epoch 2/50\n"
     ]
    },
    {
     "name": "stderr",
     "output_type": "stream",
     "text": [
      "                                                                 \r"
     ]
    },
    {
     "name": "stdout",
     "output_type": "stream",
     "text": [
      "Train: Loss: 1.3074, Accuracy: 49.95%\n",
      "Validation: Loss: 1.1754, Accuracy: 55.70%\n",
      "\n",
      "Epoch 3/50\n"
     ]
    },
    {
     "name": "stderr",
     "output_type": "stream",
     "text": [
      "                                                                 \r"
     ]
    },
    {
     "name": "stdout",
     "output_type": "stream",
     "text": [
      "Train: Loss: 1.2427, Accuracy: 53.23%\n",
      "Validation: Loss: 1.1267, Accuracy: 57.37%\n",
      "\n",
      "Epoch 4/50\n"
     ]
    },
    {
     "name": "stderr",
     "output_type": "stream",
     "text": [
      "                                                                 \r"
     ]
    },
    {
     "name": "stdout",
     "output_type": "stream",
     "text": [
      "Train: Loss: 1.1860, Accuracy: 55.60%\n",
      "Validation: Loss: 1.1637, Accuracy: 55.70%\n",
      "\n",
      "Epoch 5/50\n"
     ]
    },
    {
     "name": "stderr",
     "output_type": "stream",
     "text": [
      "                                                                 \r"
     ]
    },
    {
     "name": "stdout",
     "output_type": "stream",
     "text": [
      "Train: Loss: 1.1508, Accuracy: 57.56%\n",
      "Validation: Loss: 1.1357, Accuracy: 58.15%\n",
      "\n",
      "Epoch 6/50\n"
     ]
    },
    {
     "name": "stderr",
     "output_type": "stream",
     "text": [
      "                                                                 \r"
     ]
    },
    {
     "name": "stdout",
     "output_type": "stream",
     "text": [
      "Train: Loss: 1.1256, Accuracy: 58.50%\n",
      "Validation: Loss: 1.0662, Accuracy: 59.79%\n",
      "\n",
      "Epoch 7/50\n"
     ]
    },
    {
     "name": "stderr",
     "output_type": "stream",
     "text": [
      "                                                                 \r"
     ]
    },
    {
     "name": "stdout",
     "output_type": "stream",
     "text": [
      "Train: Loss: 1.0935, Accuracy: 59.51%\n",
      "Validation: Loss: 1.1432, Accuracy: 57.93%\n",
      "\n",
      "Epoch 8/50\n"
     ]
    },
    {
     "name": "stderr",
     "output_type": "stream",
     "text": [
      "                                                                 \r"
     ]
    },
    {
     "name": "stdout",
     "output_type": "stream",
     "text": [
      "Train: Loss: 1.0701, Accuracy: 60.44%\n",
      "Validation: Loss: 1.0630, Accuracy: 60.74%\n",
      "\n",
      "Epoch 9/50\n"
     ]
    },
    {
     "name": "stderr",
     "output_type": "stream",
     "text": [
      "                                                                 \r"
     ]
    },
    {
     "name": "stdout",
     "output_type": "stream",
     "text": [
      "Train: Loss: 1.0556, Accuracy: 60.92%\n",
      "Validation: Loss: 1.1156, Accuracy: 59.82%\n",
      "\n",
      "Epoch 10/50\n"
     ]
    },
    {
     "name": "stderr",
     "output_type": "stream",
     "text": [
      "                                                                 \r"
     ]
    },
    {
     "name": "stdout",
     "output_type": "stream",
     "text": [
      "Train: Loss: 1.0412, Accuracy: 61.39%\n",
      "Validation: Loss: 1.0878, Accuracy: 59.26%\n",
      "\n",
      "Epoch 11/50\n"
     ]
    },
    {
     "name": "stderr",
     "output_type": "stream",
     "text": [
      "                                                                 \r"
     ]
    },
    {
     "name": "stdout",
     "output_type": "stream",
     "text": [
      "Train: Loss: 1.0268, Accuracy: 62.21%\n",
      "Validation: Loss: 1.0651, Accuracy: 60.52%\n",
      "\n",
      "Epoch 12/50\n"
     ]
    },
    {
     "name": "stderr",
     "output_type": "stream",
     "text": [
      "                                                                 \r"
     ]
    },
    {
     "name": "stdout",
     "output_type": "stream",
     "text": [
      "Train: Loss: 1.0060, Accuracy: 62.88%\n",
      "Validation: Loss: 1.0124, Accuracy: 63.08%\n",
      "\n",
      "Epoch 13/50\n"
     ]
    },
    {
     "name": "stderr",
     "output_type": "stream",
     "text": [
      "                                                                 \r"
     ]
    },
    {
     "name": "stdout",
     "output_type": "stream",
     "text": [
      "Train: Loss: 0.9944, Accuracy: 63.37%\n",
      "Validation: Loss: 1.0038, Accuracy: 63.00%\n",
      "\n",
      "Epoch 14/50\n"
     ]
    },
    {
     "name": "stderr",
     "output_type": "stream",
     "text": [
      "                                                                 \r"
     ]
    },
    {
     "name": "stdout",
     "output_type": "stream",
     "text": [
      "Train: Loss: 0.9782, Accuracy: 63.84%\n",
      "Validation: Loss: 1.0542, Accuracy: 61.21%\n",
      "\n",
      "Epoch 15/50\n"
     ]
    },
    {
     "name": "stderr",
     "output_type": "stream",
     "text": [
      "                                                                 \r"
     ]
    },
    {
     "name": "stdout",
     "output_type": "stream",
     "text": [
      "Train: Loss: 0.9701, Accuracy: 64.20%\n",
      "Validation: Loss: 1.0062, Accuracy: 62.97%\n",
      "\n",
      "Epoch 16/50\n"
     ]
    },
    {
     "name": "stderr",
     "output_type": "stream",
     "text": [
      "                                                                 \r"
     ]
    },
    {
     "name": "stdout",
     "output_type": "stream",
     "text": [
      "Train: Loss: 0.9594, Accuracy: 64.58%\n",
      "Validation: Loss: 0.9979, Accuracy: 63.39%\n",
      "\n",
      "Epoch 17/50\n"
     ]
    },
    {
     "name": "stderr",
     "output_type": "stream",
     "text": [
      "                                                                 \r"
     ]
    },
    {
     "name": "stdout",
     "output_type": "stream",
     "text": [
      "Train: Loss: 0.9512, Accuracy: 64.56%\n",
      "Validation: Loss: 0.9997, Accuracy: 63.86%\n",
      "\n",
      "Epoch 18/50\n"
     ]
    },
    {
     "name": "stderr",
     "output_type": "stream",
     "text": [
      "                                                                 \r"
     ]
    },
    {
     "name": "stdout",
     "output_type": "stream",
     "text": [
      "Train: Loss: 0.9431, Accuracy: 64.98%\n",
      "Validation: Loss: 1.0883, Accuracy: 60.21%\n",
      "\n",
      "Epoch 19/50\n"
     ]
    },
    {
     "name": "stderr",
     "output_type": "stream",
     "text": [
      "                                                                 \r"
     ]
    },
    {
     "name": "stdout",
     "output_type": "stream",
     "text": [
      "Train: Loss: 0.9284, Accuracy: 65.70%\n",
      "Validation: Loss: 0.9934, Accuracy: 63.44%\n",
      "\n",
      "Epoch 20/50\n"
     ]
    },
    {
     "name": "stderr",
     "output_type": "stream",
     "text": [
      "                                                                 \r"
     ]
    },
    {
     "name": "stdout",
     "output_type": "stream",
     "text": [
      "Train: Loss: 0.9250, Accuracy: 65.74%\n",
      "Validation: Loss: 1.0113, Accuracy: 64.03%\n",
      "\n",
      "Epoch 21/50\n"
     ]
    },
    {
     "name": "stderr",
     "output_type": "stream",
     "text": [
      "                                                                 \r"
     ]
    },
    {
     "name": "stdout",
     "output_type": "stream",
     "text": [
      "Train: Loss: 0.9162, Accuracy: 66.43%\n",
      "Validation: Loss: 0.9743, Accuracy: 64.70%\n",
      "\n",
      "Epoch 22/50\n"
     ]
    },
    {
     "name": "stderr",
     "output_type": "stream",
     "text": [
      "                                                                 \r"
     ]
    },
    {
     "name": "stdout",
     "output_type": "stream",
     "text": [
      "Train: Loss: 0.9107, Accuracy: 66.04%\n",
      "Validation: Loss: 1.0077, Accuracy: 63.50%\n",
      "\n",
      "Epoch 23/50\n"
     ]
    },
    {
     "name": "stderr",
     "output_type": "stream",
     "text": [
      "                                                                 \r"
     ]
    },
    {
     "name": "stdout",
     "output_type": "stream",
     "text": [
      "Train: Loss: 0.9032, Accuracy: 66.37%\n",
      "Validation: Loss: 1.0253, Accuracy: 63.00%\n",
      "\n",
      "Epoch 24/50\n"
     ]
    },
    {
     "name": "stderr",
     "output_type": "stream",
     "text": [
      "                                                                 \r"
     ]
    },
    {
     "name": "stdout",
     "output_type": "stream",
     "text": [
      "Train: Loss: 0.8929, Accuracy: 66.72%\n",
      "Validation: Loss: 0.9862, Accuracy: 63.61%\n",
      "\n",
      "Epoch 25/50\n"
     ]
    },
    {
     "name": "stderr",
     "output_type": "stream",
     "text": [
      "                                                                 \r"
     ]
    },
    {
     "name": "stdout",
     "output_type": "stream",
     "text": [
      "Train: Loss: 0.8795, Accuracy: 67.33%\n",
      "Validation: Loss: 1.0007, Accuracy: 63.69%\n",
      "\n",
      "Epoch 26/50\n"
     ]
    },
    {
     "name": "stderr",
     "output_type": "stream",
     "text": [
      "                                                                 \r"
     ]
    },
    {
     "name": "stdout",
     "output_type": "stream",
     "text": [
      "Train: Loss: 0.8308, Accuracy: 69.39%\n",
      "Validation: Loss: 0.9962, Accuracy: 64.70%\n",
      "\n",
      "Epoch 27/50\n"
     ]
    },
    {
     "name": "stderr",
     "output_type": "stream",
     "text": [
      "                                                                 \r"
     ]
    },
    {
     "name": "stdout",
     "output_type": "stream",
     "text": [
      "Train: Loss: 0.8121, Accuracy: 69.97%\n",
      "Validation: Loss: 0.9849, Accuracy: 64.89%\n",
      "\n",
      "Epoch 28/50\n"
     ]
    },
    {
     "name": "stderr",
     "output_type": "stream",
     "text": [
      "                                                                 \r"
     ]
    },
    {
     "name": "stdout",
     "output_type": "stream",
     "text": [
      "Train: Loss: 0.8039, Accuracy: 70.33%\n",
      "Validation: Loss: 0.9947, Accuracy: 65.17%\n",
      "\n",
      "Epoch 29/50\n"
     ]
    },
    {
     "name": "stderr",
     "output_type": "stream",
     "text": [
      "                                                                 \r"
     ]
    },
    {
     "name": "stdout",
     "output_type": "stream",
     "text": [
      "Train: Loss: 0.7939, Accuracy: 70.90%\n",
      "Validation: Loss: 0.9985, Accuracy: 65.03%\n",
      "\n",
      "Epoch 30/50\n"
     ]
    },
    {
     "name": "stderr",
     "output_type": "stream",
     "text": [
      "                                                                 \r"
     ]
    },
    {
     "name": "stdout",
     "output_type": "stream",
     "text": [
      "Train: Loss: 0.7837, Accuracy: 70.57%\n",
      "Validation: Loss: 0.9929, Accuracy: 65.09%\n",
      "\n",
      "Epoch 31/50\n"
     ]
    },
    {
     "name": "stderr",
     "output_type": "stream",
     "text": [
      "                                                                 \r"
     ]
    },
    {
     "name": "stdout",
     "output_type": "stream",
     "text": [
      "Train: Loss: 0.7782, Accuracy: 71.29%\n",
      "Validation: Loss: 0.9995, Accuracy: 65.45%\n",
      "\n",
      "Epoch 32/50\n"
     ]
    },
    {
     "name": "stderr",
     "output_type": "stream",
     "text": [
      "                                                                 \r"
     ]
    },
    {
     "name": "stdout",
     "output_type": "stream",
     "text": [
      "Train: Loss: 0.7813, Accuracy: 71.21%\n",
      "Validation: Loss: 0.9958, Accuracy: 65.17%\n",
      "\n",
      "Epoch 33/50\n"
     ]
    },
    {
     "name": "stderr",
     "output_type": "stream",
     "text": [
      "                                                                 \r"
     ]
    },
    {
     "name": "stdout",
     "output_type": "stream",
     "text": [
      "Train: Loss: 0.7735, Accuracy: 71.10%\n",
      "Validation: Loss: 0.9995, Accuracy: 65.06%\n",
      "\n",
      "Epoch 34/50\n"
     ]
    },
    {
     "name": "stderr",
     "output_type": "stream",
     "text": [
      "                                                                 \r"
     ]
    },
    {
     "name": "stdout",
     "output_type": "stream",
     "text": [
      "Train: Loss: 0.7784, Accuracy: 71.47%\n",
      "Validation: Loss: 0.9985, Accuracy: 65.51%\n",
      "\n",
      "Epoch 35/50\n"
     ]
    },
    {
     "name": "stderr",
     "output_type": "stream",
     "text": [
      "                                                                 \r"
     ]
    },
    {
     "name": "stdout",
     "output_type": "stream",
     "text": [
      "Train: Loss: 0.7784, Accuracy: 71.29%\n",
      "Validation: Loss: 0.9938, Accuracy: 65.17%\n",
      "\n",
      "Epoch 36/50\n"
     ]
    },
    {
     "name": "stderr",
     "output_type": "stream",
     "text": [
      "                                                                 \r"
     ]
    },
    {
     "name": "stdout",
     "output_type": "stream",
     "text": [
      "Train: Loss: 0.7767, Accuracy: 71.37%\n",
      "Validation: Loss: 0.9923, Accuracy: 65.25%\n",
      "\n",
      "Epoch 37/50\n"
     ]
    },
    {
     "name": "stderr",
     "output_type": "stream",
     "text": [
      "                                                                 \r"
     ]
    },
    {
     "name": "stdout",
     "output_type": "stream",
     "text": [
      "Train: Loss: 0.7732, Accuracy: 71.49%\n",
      "Validation: Loss: 1.0005, Accuracy: 65.45%\n",
      "\n",
      "Epoch 38/50\n"
     ]
    },
    {
     "name": "stderr",
     "output_type": "stream",
     "text": [
      "                                                                 \r"
     ]
    },
    {
     "name": "stdout",
     "output_type": "stream",
     "text": [
      "Train: Loss: 0.7777, Accuracy: 71.48%\n",
      "Validation: Loss: 0.9941, Accuracy: 65.28%\n",
      "\n",
      "Epoch 39/50\n"
     ]
    },
    {
     "name": "stderr",
     "output_type": "stream",
     "text": [
      "                                                                 \r"
     ]
    },
    {
     "name": "stdout",
     "output_type": "stream",
     "text": [
      "Train: Loss: 0.7777, Accuracy: 71.23%\n",
      "Validation: Loss: 0.9946, Accuracy: 65.51%\n",
      "\n",
      "Epoch 40/50\n"
     ]
    },
    {
     "name": "stderr",
     "output_type": "stream",
     "text": [
      "                                                                 \r"
     ]
    },
    {
     "name": "stdout",
     "output_type": "stream",
     "text": [
      "Train: Loss: 0.7731, Accuracy: 71.58%\n",
      "Validation: Loss: 0.9950, Accuracy: 65.25%\n",
      "\n",
      "Epoch 41/50\n"
     ]
    },
    {
     "name": "stderr",
     "output_type": "stream",
     "text": [
      "                                                                 \r"
     ]
    },
    {
     "name": "stdout",
     "output_type": "stream",
     "text": [
      "Train: Loss: 0.7781, Accuracy: 71.32%\n",
      "Validation: Loss: 0.9906, Accuracy: 65.09%\n",
      "Early stopping triggered.\n",
      "Treinando com hiperparâmetros: {'weight_decay': 1e-05, 'patience': 7, 'optimizer': 'sgd', 'momentum': 0.9, 'lr': 0.001, 'epochs': 50, 'batch_size': 16, 'activation': 'sigmoid'}\n",
      "\n",
      "Epoch 1/50\n"
     ]
    },
    {
     "name": "stderr",
     "output_type": "stream",
     "text": [
      "                                                                 \r"
     ]
    },
    {
     "name": "stdout",
     "output_type": "stream",
     "text": [
      "Train: Loss: 1.5846, Accuracy: 37.26%\n",
      "Validation: Loss: 1.3605, Accuracy: 48.26%\n",
      "\n",
      "Epoch 2/50\n"
     ]
    },
    {
     "name": "stderr",
     "output_type": "stream",
     "text": [
      "                                                                 \r"
     ]
    },
    {
     "name": "stdout",
     "output_type": "stream",
     "text": [
      "Train: Loss: 1.3271, Accuracy: 49.20%\n",
      "Validation: Loss: 1.2228, Accuracy: 53.86%\n",
      "\n",
      "Epoch 3/50\n"
     ]
    },
    {
     "name": "stderr",
     "output_type": "stream",
     "text": [
      "                                                                 \r"
     ]
    },
    {
     "name": "stdout",
     "output_type": "stream",
     "text": [
      "Train: Loss: 1.2342, Accuracy: 53.08%\n",
      "Validation: Loss: 1.1537, Accuracy: 55.03%\n",
      "\n",
      "Epoch 4/50\n"
     ]
    },
    {
     "name": "stderr",
     "output_type": "stream",
     "text": [
      "                                                                 \r"
     ]
    },
    {
     "name": "stdout",
     "output_type": "stream",
     "text": [
      "Train: Loss: 1.1788, Accuracy: 55.21%\n",
      "Validation: Loss: 1.1105, Accuracy: 56.76%\n",
      "\n",
      "Epoch 5/50\n"
     ]
    },
    {
     "name": "stderr",
     "output_type": "stream",
     "text": [
      "                                                                 \r"
     ]
    },
    {
     "name": "stdout",
     "output_type": "stream",
     "text": [
      "Train: Loss: 1.1380, Accuracy: 57.31%\n",
      "Validation: Loss: 1.0858, Accuracy: 59.04%\n",
      "\n",
      "Epoch 6/50\n"
     ]
    },
    {
     "name": "stderr",
     "output_type": "stream",
     "text": [
      "                                                                 \r"
     ]
    },
    {
     "name": "stdout",
     "output_type": "stream",
     "text": [
      "Train: Loss: 1.1006, Accuracy: 58.95%\n",
      "Validation: Loss: 1.0609, Accuracy: 59.88%\n",
      "\n",
      "Epoch 7/50\n"
     ]
    },
    {
     "name": "stderr",
     "output_type": "stream",
     "text": [
      "                                                                 \r"
     ]
    },
    {
     "name": "stdout",
     "output_type": "stream",
     "text": [
      "Train: Loss: 1.0842, Accuracy: 59.28%\n",
      "Validation: Loss: 1.0878, Accuracy: 59.52%\n",
      "\n",
      "Epoch 8/50\n"
     ]
    },
    {
     "name": "stderr",
     "output_type": "stream",
     "text": [
      "                                                                 \r"
     ]
    },
    {
     "name": "stdout",
     "output_type": "stream",
     "text": [
      "Train: Loss: 1.0590, Accuracy: 60.42%\n",
      "Validation: Loss: 1.0463, Accuracy: 60.77%\n",
      "\n",
      "Epoch 9/50\n"
     ]
    },
    {
     "name": "stderr",
     "output_type": "stream",
     "text": [
      "                                                                 \r"
     ]
    },
    {
     "name": "stdout",
     "output_type": "stream",
     "text": [
      "Train: Loss: 1.0284, Accuracy: 61.45%\n",
      "Validation: Loss: 1.0569, Accuracy: 60.69%\n",
      "\n",
      "Epoch 10/50\n"
     ]
    },
    {
     "name": "stderr",
     "output_type": "stream",
     "text": [
      "                                                                 \r"
     ]
    },
    {
     "name": "stdout",
     "output_type": "stream",
     "text": [
      "Train: Loss: 1.0153, Accuracy: 61.89%\n",
      "Validation: Loss: 1.0505, Accuracy: 60.38%\n",
      "\n",
      "Epoch 11/50\n"
     ]
    },
    {
     "name": "stderr",
     "output_type": "stream",
     "text": [
      "                                                                 \r"
     ]
    },
    {
     "name": "stdout",
     "output_type": "stream",
     "text": [
      "Train: Loss: 0.9991, Accuracy: 62.73%\n",
      "Validation: Loss: 1.0198, Accuracy: 62.66%\n",
      "\n",
      "Epoch 12/50\n"
     ]
    },
    {
     "name": "stderr",
     "output_type": "stream",
     "text": [
      "                                                                 \r"
     ]
    },
    {
     "name": "stdout",
     "output_type": "stream",
     "text": [
      "Train: Loss: 0.9760, Accuracy: 63.50%\n",
      "Validation: Loss: 1.0128, Accuracy: 62.47%\n",
      "\n",
      "Epoch 13/50\n"
     ]
    },
    {
     "name": "stderr",
     "output_type": "stream",
     "text": [
      "                                                                 \r"
     ]
    },
    {
     "name": "stdout",
     "output_type": "stream",
     "text": [
      "Train: Loss: 0.9595, Accuracy: 64.37%\n",
      "Validation: Loss: 1.0355, Accuracy: 61.52%\n",
      "\n",
      "Epoch 14/50\n"
     ]
    },
    {
     "name": "stderr",
     "output_type": "stream",
     "text": [
      "                                                                 \r"
     ]
    },
    {
     "name": "stdout",
     "output_type": "stream",
     "text": [
      "Train: Loss: 0.9505, Accuracy: 64.53%\n",
      "Validation: Loss: 1.0629, Accuracy: 61.16%\n",
      "\n",
      "Epoch 15/50\n"
     ]
    },
    {
     "name": "stderr",
     "output_type": "stream",
     "text": [
      "                                                                 \r"
     ]
    },
    {
     "name": "stdout",
     "output_type": "stream",
     "text": [
      "Train: Loss: 0.9356, Accuracy: 65.08%\n",
      "Validation: Loss: 1.0024, Accuracy: 62.36%\n",
      "\n",
      "Epoch 16/50\n"
     ]
    },
    {
     "name": "stderr",
     "output_type": "stream",
     "text": [
      "                                                                 \r"
     ]
    },
    {
     "name": "stdout",
     "output_type": "stream",
     "text": [
      "Train: Loss: 0.9261, Accuracy: 65.31%\n",
      "Validation: Loss: 1.0157, Accuracy: 62.86%\n",
      "\n",
      "Epoch 17/50\n"
     ]
    },
    {
     "name": "stderr",
     "output_type": "stream",
     "text": [
      "                                                                 \r"
     ]
    },
    {
     "name": "stdout",
     "output_type": "stream",
     "text": [
      "Train: Loss: 0.9164, Accuracy: 65.61%\n",
      "Validation: Loss: 1.0275, Accuracy: 63.64%\n",
      "\n",
      "Epoch 18/50\n"
     ]
    },
    {
     "name": "stderr",
     "output_type": "stream",
     "text": [
      "                                                                 \r"
     ]
    },
    {
     "name": "stdout",
     "output_type": "stream",
     "text": [
      "Train: Loss: 0.8990, Accuracy: 66.43%\n",
      "Validation: Loss: 1.0083, Accuracy: 63.64%\n",
      "\n",
      "Epoch 19/50\n"
     ]
    },
    {
     "name": "stderr",
     "output_type": "stream",
     "text": [
      "                                                                 \r"
     ]
    },
    {
     "name": "stdout",
     "output_type": "stream",
     "text": [
      "Train: Loss: 0.8919, Accuracy: 66.95%\n",
      "Validation: Loss: 1.0404, Accuracy: 63.19%\n",
      "\n",
      "Epoch 20/50\n"
     ]
    },
    {
     "name": "stderr",
     "output_type": "stream",
     "text": [
      "                                                                 \r"
     ]
    },
    {
     "name": "stdout",
     "output_type": "stream",
     "text": [
      "Train: Loss: 0.8360, Accuracy: 69.01%\n",
      "Validation: Loss: 1.0003, Accuracy: 65.14%\n",
      "\n",
      "Epoch 21/50\n"
     ]
    },
    {
     "name": "stderr",
     "output_type": "stream",
     "text": [
      "                                                                 \r"
     ]
    },
    {
     "name": "stdout",
     "output_type": "stream",
     "text": [
      "Train: Loss: 0.8264, Accuracy: 69.30%\n",
      "Validation: Loss: 1.0093, Accuracy: 64.81%\n",
      "\n",
      "Epoch 22/50\n"
     ]
    },
    {
     "name": "stderr",
     "output_type": "stream",
     "text": [
      "                                                                 \r"
     ]
    },
    {
     "name": "stdout",
     "output_type": "stream",
     "text": [
      "Train: Loss: 0.8225, Accuracy: 69.69%\n",
      "Validation: Loss: 0.9885, Accuracy: 65.03%\n",
      "\n",
      "Epoch 23/50\n"
     ]
    },
    {
     "name": "stderr",
     "output_type": "stream",
     "text": [
      "                                                                 \r"
     ]
    },
    {
     "name": "stdout",
     "output_type": "stream",
     "text": [
      "Train: Loss: 0.8060, Accuracy: 70.38%\n",
      "Validation: Loss: 1.0031, Accuracy: 64.56%\n",
      "\n",
      "Epoch 24/50\n"
     ]
    },
    {
     "name": "stderr",
     "output_type": "stream",
     "text": [
      "                                                                 \r"
     ]
    },
    {
     "name": "stdout",
     "output_type": "stream",
     "text": [
      "Train: Loss: 0.8080, Accuracy: 69.98%\n",
      "Validation: Loss: 0.9977, Accuracy: 65.00%\n",
      "\n",
      "Epoch 25/50\n"
     ]
    },
    {
     "name": "stderr",
     "output_type": "stream",
     "text": [
      "                                                                 \r"
     ]
    },
    {
     "name": "stdout",
     "output_type": "stream",
     "text": [
      "Train: Loss: 0.8015, Accuracy: 70.46%\n",
      "Validation: Loss: 1.0029, Accuracy: 64.64%\n",
      "\n",
      "Epoch 26/50\n"
     ]
    },
    {
     "name": "stderr",
     "output_type": "stream",
     "text": [
      "                                                                 \r"
     ]
    },
    {
     "name": "stdout",
     "output_type": "stream",
     "text": [
      "Train: Loss: 0.7968, Accuracy: 70.27%\n",
      "Validation: Loss: 1.0007, Accuracy: 64.59%\n",
      "\n",
      "Epoch 27/50\n"
     ]
    },
    {
     "name": "stderr",
     "output_type": "stream",
     "text": [
      "                                                                 \r"
     ]
    },
    {
     "name": "stdout",
     "output_type": "stream",
     "text": [
      "Train: Loss: 0.7897, Accuracy: 70.72%\n",
      "Validation: Loss: 1.0025, Accuracy: 64.75%\n",
      "Early stopping triggered.\n",
      "Treinando com hiperparâmetros: {'weight_decay': 0.0001, 'patience': 5, 'optimizer': 'sgd', 'momentum': 0.9, 'lr': 0.01, 'epochs': 50, 'batch_size': 64, 'activation': 'sigmoid'}\n",
      "\n",
      "Epoch 1/50\n"
     ]
    },
    {
     "name": "stderr",
     "output_type": "stream",
     "text": [
      "                                                                 \r"
     ]
    },
    {
     "name": "stdout",
     "output_type": "stream",
     "text": [
      "Train: Loss: 1.4774, Accuracy: 43.38%\n",
      "Validation: Loss: 1.2023, Accuracy: 54.64%\n",
      "\n",
      "Epoch 2/50\n"
     ]
    },
    {
     "name": "stderr",
     "output_type": "stream",
     "text": [
      "                                                                 \r"
     ]
    },
    {
     "name": "stdout",
     "output_type": "stream",
     "text": [
      "Train: Loss: 1.3160, Accuracy: 50.83%\n",
      "Validation: Loss: 1.2117, Accuracy: 55.00%\n",
      "\n",
      "Epoch 3/50\n"
     ]
    },
    {
     "name": "stderr",
     "output_type": "stream",
     "text": [
      "                                                                 \r"
     ]
    },
    {
     "name": "stdout",
     "output_type": "stream",
     "text": [
      "Train: Loss: 1.2529, Accuracy: 53.71%\n",
      "Validation: Loss: 1.1241, Accuracy: 57.23%\n",
      "\n",
      "Epoch 4/50\n"
     ]
    },
    {
     "name": "stderr",
     "output_type": "stream",
     "text": [
      "                                                                 \r"
     ]
    },
    {
     "name": "stdout",
     "output_type": "stream",
     "text": [
      "Train: Loss: 1.2073, Accuracy: 55.90%\n",
      "Validation: Loss: 1.1287, Accuracy: 57.45%\n",
      "\n",
      "Epoch 5/50\n"
     ]
    },
    {
     "name": "stderr",
     "output_type": "stream",
     "text": [
      "                                                                 \r"
     ]
    },
    {
     "name": "stdout",
     "output_type": "stream",
     "text": [
      "Train: Loss: 1.1725, Accuracy: 56.95%\n",
      "Validation: Loss: 1.1298, Accuracy: 59.60%\n",
      "\n",
      "Epoch 6/50\n"
     ]
    },
    {
     "name": "stderr",
     "output_type": "stream",
     "text": [
      "                                                                 \r"
     ]
    },
    {
     "name": "stdout",
     "output_type": "stream",
     "text": [
      "Train: Loss: 1.1473, Accuracy: 58.07%\n",
      "Validation: Loss: 1.0979, Accuracy: 60.10%\n",
      "\n",
      "Epoch 7/50\n"
     ]
    },
    {
     "name": "stderr",
     "output_type": "stream",
     "text": [
      "                                                                 \r"
     ]
    },
    {
     "name": "stdout",
     "output_type": "stream",
     "text": [
      "Train: Loss: 1.1169, Accuracy: 59.16%\n",
      "Validation: Loss: 1.0667, Accuracy: 61.30%\n",
      "\n",
      "Epoch 8/50\n"
     ]
    },
    {
     "name": "stderr",
     "output_type": "stream",
     "text": [
      "                                                                 \r"
     ]
    },
    {
     "name": "stdout",
     "output_type": "stream",
     "text": [
      "Train: Loss: 1.0961, Accuracy: 59.98%\n",
      "Validation: Loss: 1.0390, Accuracy: 61.97%\n",
      "\n",
      "Epoch 9/50\n"
     ]
    },
    {
     "name": "stderr",
     "output_type": "stream",
     "text": [
      "                                                                 \r"
     ]
    },
    {
     "name": "stdout",
     "output_type": "stream",
     "text": [
      "Train: Loss: 1.0678, Accuracy: 60.87%\n",
      "Validation: Loss: 1.1066, Accuracy: 61.16%\n",
      "\n",
      "Epoch 10/50\n"
     ]
    },
    {
     "name": "stderr",
     "output_type": "stream",
     "text": [
      "                                                                 \r"
     ]
    },
    {
     "name": "stdout",
     "output_type": "stream",
     "text": [
      "Train: Loss: 1.0599, Accuracy: 61.25%\n",
      "Validation: Loss: 1.0607, Accuracy: 60.63%\n",
      "\n",
      "Epoch 11/50\n"
     ]
    },
    {
     "name": "stderr",
     "output_type": "stream",
     "text": [
      "                                                                 \r"
     ]
    },
    {
     "name": "stdout",
     "output_type": "stream",
     "text": [
      "Train: Loss: 1.0345, Accuracy: 62.31%\n",
      "Validation: Loss: 1.0057, Accuracy: 62.11%\n",
      "\n",
      "Epoch 12/50\n"
     ]
    },
    {
     "name": "stderr",
     "output_type": "stream",
     "text": [
      "                                                                 \r"
     ]
    },
    {
     "name": "stdout",
     "output_type": "stream",
     "text": [
      "Train: Loss: 1.0204, Accuracy: 62.72%\n",
      "Validation: Loss: 0.9999, Accuracy: 63.44%\n",
      "\n",
      "Epoch 13/50\n"
     ]
    },
    {
     "name": "stderr",
     "output_type": "stream",
     "text": [
      "                                                                 \r"
     ]
    },
    {
     "name": "stdout",
     "output_type": "stream",
     "text": [
      "Train: Loss: 0.9986, Accuracy: 63.73%\n",
      "Validation: Loss: 1.0431, Accuracy: 62.58%\n",
      "\n",
      "Epoch 14/50\n"
     ]
    },
    {
     "name": "stderr",
     "output_type": "stream",
     "text": [
      "                                                                 \r"
     ]
    },
    {
     "name": "stdout",
     "output_type": "stream",
     "text": [
      "Train: Loss: 0.9887, Accuracy: 64.09%\n",
      "Validation: Loss: 1.0234, Accuracy: 62.39%\n",
      "\n",
      "Epoch 15/50\n"
     ]
    },
    {
     "name": "stderr",
     "output_type": "stream",
     "text": [
      "                                                                 \r"
     ]
    },
    {
     "name": "stdout",
     "output_type": "stream",
     "text": [
      "Train: Loss: 0.9690, Accuracy: 64.46%\n",
      "Validation: Loss: 0.9970, Accuracy: 64.36%\n",
      "\n",
      "Epoch 16/50\n"
     ]
    },
    {
     "name": "stderr",
     "output_type": "stream",
     "text": [
      "                                                                 \r"
     ]
    },
    {
     "name": "stdout",
     "output_type": "stream",
     "text": [
      "Train: Loss: 0.9719, Accuracy: 64.30%\n",
      "Validation: Loss: 1.1034, Accuracy: 61.05%\n",
      "\n",
      "Epoch 17/50\n"
     ]
    },
    {
     "name": "stderr",
     "output_type": "stream",
     "text": [
      "                                                                 \r"
     ]
    },
    {
     "name": "stdout",
     "output_type": "stream",
     "text": [
      "Train: Loss: 0.9510, Accuracy: 65.22%\n",
      "Validation: Loss: 0.9826, Accuracy: 64.61%\n",
      "\n",
      "Epoch 18/50\n"
     ]
    },
    {
     "name": "stderr",
     "output_type": "stream",
     "text": [
      "                                                                 \r"
     ]
    },
    {
     "name": "stdout",
     "output_type": "stream",
     "text": [
      "Train: Loss: 0.9374, Accuracy: 65.85%\n",
      "Validation: Loss: 1.0569, Accuracy: 62.08%\n",
      "\n",
      "Epoch 19/50\n"
     ]
    },
    {
     "name": "stderr",
     "output_type": "stream",
     "text": [
      "                                                                 \r"
     ]
    },
    {
     "name": "stdout",
     "output_type": "stream",
     "text": [
      "Train: Loss: 0.9326, Accuracy: 65.83%\n",
      "Validation: Loss: 1.0417, Accuracy: 63.78%\n",
      "\n",
      "Epoch 20/50\n"
     ]
    },
    {
     "name": "stderr",
     "output_type": "stream",
     "text": [
      "                                                                 \r"
     ]
    },
    {
     "name": "stdout",
     "output_type": "stream",
     "text": [
      "Train: Loss: 0.9140, Accuracy: 67.15%\n",
      "Validation: Loss: 1.0789, Accuracy: 62.47%\n",
      "\n",
      "Epoch 21/50\n"
     ]
    },
    {
     "name": "stderr",
     "output_type": "stream",
     "text": [
      "                                                                 \r"
     ]
    },
    {
     "name": "stdout",
     "output_type": "stream",
     "text": [
      "Train: Loss: 0.9114, Accuracy: 66.99%\n",
      "Validation: Loss: 1.0421, Accuracy: 62.27%\n",
      "\n",
      "Epoch 22/50\n"
     ]
    },
    {
     "name": "stderr",
     "output_type": "stream",
     "text": [
      "                                                                 \r"
     ]
    },
    {
     "name": "stdout",
     "output_type": "stream",
     "text": [
      "Train: Loss: 0.8280, Accuracy: 69.51%\n",
      "Validation: Loss: 0.9823, Accuracy: 66.04%\n",
      "\n",
      "Epoch 23/50\n"
     ]
    },
    {
     "name": "stderr",
     "output_type": "stream",
     "text": [
      "                                                                 \r"
     ]
    },
    {
     "name": "stdout",
     "output_type": "stream",
     "text": [
      "Train: Loss: 0.7971, Accuracy: 71.24%\n",
      "Validation: Loss: 0.9692, Accuracy: 66.98%\n",
      "\n",
      "Epoch 24/50\n"
     ]
    },
    {
     "name": "stderr",
     "output_type": "stream",
     "text": [
      "                                                                 \r"
     ]
    },
    {
     "name": "stdout",
     "output_type": "stream",
     "text": [
      "Train: Loss: 0.7866, Accuracy: 71.26%\n",
      "Validation: Loss: 0.9826, Accuracy: 67.12%\n",
      "\n",
      "Epoch 25/50\n"
     ]
    },
    {
     "name": "stderr",
     "output_type": "stream",
     "text": [
      "                                                                 \r"
     ]
    },
    {
     "name": "stdout",
     "output_type": "stream",
     "text": [
      "Train: Loss: 0.7765, Accuracy: 71.72%\n",
      "Validation: Loss: 0.9664, Accuracy: 66.43%\n",
      "\n",
      "Epoch 26/50\n"
     ]
    },
    {
     "name": "stderr",
     "output_type": "stream",
     "text": [
      "                                                                 \r"
     ]
    },
    {
     "name": "stdout",
     "output_type": "stream",
     "text": [
      "Train: Loss: 0.7783, Accuracy: 71.54%\n",
      "Validation: Loss: 0.9890, Accuracy: 67.04%\n",
      "\n",
      "Epoch 27/50\n"
     ]
    },
    {
     "name": "stderr",
     "output_type": "stream",
     "text": [
      "                                                                 \r"
     ]
    },
    {
     "name": "stdout",
     "output_type": "stream",
     "text": [
      "Train: Loss: 0.7668, Accuracy: 71.83%\n",
      "Validation: Loss: 0.9677, Accuracy: 67.54%\n",
      "\n",
      "Epoch 28/50\n"
     ]
    },
    {
     "name": "stderr",
     "output_type": "stream",
     "text": [
      "                                                                 \r"
     ]
    },
    {
     "name": "stdout",
     "output_type": "stream",
     "text": [
      "Train: Loss: 0.7609, Accuracy: 72.53%\n",
      "Validation: Loss: 1.0061, Accuracy: 67.32%\n",
      "\n",
      "Epoch 29/50\n"
     ]
    },
    {
     "name": "stderr",
     "output_type": "stream",
     "text": [
      "                                                                 \r"
     ]
    },
    {
     "name": "stdout",
     "output_type": "stream",
     "text": [
      "Train: Loss: 0.7502, Accuracy: 72.56%\n",
      "Validation: Loss: 1.0004, Accuracy: 67.09%\n",
      "\n",
      "Epoch 30/50\n"
     ]
    },
    {
     "name": "stderr",
     "output_type": "stream",
     "text": [
      "                                                                 \r"
     ]
    },
    {
     "name": "stdout",
     "output_type": "stream",
     "text": [
      "Train: Loss: 0.7360, Accuracy: 73.12%\n",
      "Validation: Loss: 0.9879, Accuracy: 67.29%\n",
      "\n",
      "Epoch 31/50\n"
     ]
    },
    {
     "name": "stderr",
     "output_type": "stream",
     "text": [
      "                                                                 \r"
     ]
    },
    {
     "name": "stdout",
     "output_type": "stream",
     "text": [
      "Train: Loss: 0.7353, Accuracy: 73.38%\n",
      "Validation: Loss: 0.9831, Accuracy: 66.98%\n",
      "\n",
      "Epoch 32/50\n"
     ]
    },
    {
     "name": "stderr",
     "output_type": "stream",
     "text": [
      "                                                                 \r"
     ]
    },
    {
     "name": "stdout",
     "output_type": "stream",
     "text": [
      "Train: Loss: 0.7389, Accuracy: 72.99%\n",
      "Validation: Loss: 0.9850, Accuracy: 67.54%\n",
      "Early stopping triggered.\n",
      "Novo melhor modelo encontrado com precisão: 0.6754\n",
      "Treinando com hiperparâmetros: {'weight_decay': 1e-05, 'patience': 7, 'optimizer': 'adam', 'momentum': 0.95, 'lr': 0.001, 'epochs': 50, 'batch_size': 64, 'activation': 'tanh'}\n",
      "\n",
      "Epoch 1/50\n"
     ]
    },
    {
     "name": "stderr",
     "output_type": "stream",
     "text": [
      "                                                                 \r"
     ]
    },
    {
     "name": "stdout",
     "output_type": "stream",
     "text": [
      "Train: Loss: 1.4265, Accuracy: 45.84%\n",
      "Validation: Loss: 1.2941, Accuracy: 51.57%\n",
      "\n",
      "Epoch 2/50\n"
     ]
    },
    {
     "name": "stderr",
     "output_type": "stream",
     "text": [
      "                                                                 \r"
     ]
    },
    {
     "name": "stdout",
     "output_type": "stream",
     "text": [
      "Train: Loss: 1.2813, Accuracy: 52.06%\n",
      "Validation: Loss: 1.1560, Accuracy: 56.23%\n",
      "\n",
      "Epoch 3/50\n"
     ]
    },
    {
     "name": "stderr",
     "output_type": "stream",
     "text": [
      "                                                                 \r"
     ]
    },
    {
     "name": "stdout",
     "output_type": "stream",
     "text": [
      "Train: Loss: 1.2121, Accuracy: 54.81%\n",
      "Validation: Loss: 1.1526, Accuracy: 56.31%\n",
      "\n",
      "Epoch 4/50\n"
     ]
    },
    {
     "name": "stderr",
     "output_type": "stream",
     "text": [
      "                                                                 \r"
     ]
    },
    {
     "name": "stdout",
     "output_type": "stream",
     "text": [
      "Train: Loss: 1.1710, Accuracy: 56.62%\n",
      "Validation: Loss: 1.1224, Accuracy: 57.70%\n",
      "\n",
      "Epoch 5/50\n"
     ]
    },
    {
     "name": "stderr",
     "output_type": "stream",
     "text": [
      "                                                                 \r"
     ]
    },
    {
     "name": "stdout",
     "output_type": "stream",
     "text": [
      "Train: Loss: 1.1369, Accuracy: 58.23%\n",
      "Validation: Loss: 1.1445, Accuracy: 56.95%\n",
      "\n",
      "Epoch 6/50\n"
     ]
    },
    {
     "name": "stderr",
     "output_type": "stream",
     "text": [
      "                                                                 \r"
     ]
    },
    {
     "name": "stdout",
     "output_type": "stream",
     "text": [
      "Train: Loss: 1.1088, Accuracy: 58.87%\n",
      "Validation: Loss: 1.0358, Accuracy: 60.85%\n",
      "\n",
      "Epoch 7/50\n"
     ]
    },
    {
     "name": "stderr",
     "output_type": "stream",
     "text": [
      "                                                                 \r"
     ]
    },
    {
     "name": "stdout",
     "output_type": "stream",
     "text": [
      "Train: Loss: 1.0859, Accuracy: 59.89%\n",
      "Validation: Loss: 1.0414, Accuracy: 59.93%\n",
      "\n",
      "Epoch 8/50\n"
     ]
    },
    {
     "name": "stderr",
     "output_type": "stream",
     "text": [
      "                                                                 \r"
     ]
    },
    {
     "name": "stdout",
     "output_type": "stream",
     "text": [
      "Train: Loss: 1.0683, Accuracy: 60.51%\n",
      "Validation: Loss: 1.0544, Accuracy: 60.94%\n",
      "\n",
      "Epoch 9/50\n"
     ]
    },
    {
     "name": "stderr",
     "output_type": "stream",
     "text": [
      "                                                                 \r"
     ]
    },
    {
     "name": "stdout",
     "output_type": "stream",
     "text": [
      "Train: Loss: 1.0451, Accuracy: 61.25%\n",
      "Validation: Loss: 1.0582, Accuracy: 60.82%\n",
      "\n",
      "Epoch 10/50\n"
     ]
    },
    {
     "name": "stderr",
     "output_type": "stream",
     "text": [
      "                                                                 \r"
     ]
    },
    {
     "name": "stdout",
     "output_type": "stream",
     "text": [
      "Train: Loss: 1.0292, Accuracy: 61.97%\n",
      "Validation: Loss: 1.0550, Accuracy: 62.11%\n",
      "\n",
      "Epoch 11/50\n"
     ]
    },
    {
     "name": "stderr",
     "output_type": "stream",
     "text": [
      "                                                                 \r"
     ]
    },
    {
     "name": "stdout",
     "output_type": "stream",
     "text": [
      "Train: Loss: 0.9655, Accuracy: 64.11%\n",
      "Validation: Loss: 1.0073, Accuracy: 63.39%\n",
      "\n",
      "Epoch 12/50\n"
     ]
    },
    {
     "name": "stderr",
     "output_type": "stream",
     "text": [
      "                                                                 \r"
     ]
    },
    {
     "name": "stdout",
     "output_type": "stream",
     "text": [
      "Train: Loss: 0.9413, Accuracy: 64.94%\n",
      "Validation: Loss: 0.9899, Accuracy: 64.08%\n",
      "\n",
      "Epoch 13/50\n"
     ]
    },
    {
     "name": "stderr",
     "output_type": "stream",
     "text": [
      "                                                                 \r"
     ]
    },
    {
     "name": "stdout",
     "output_type": "stream",
     "text": [
      "Train: Loss: 0.9325, Accuracy: 65.32%\n",
      "Validation: Loss: 0.9929, Accuracy: 64.06%\n",
      "\n",
      "Epoch 14/50\n"
     ]
    },
    {
     "name": "stderr",
     "output_type": "stream",
     "text": [
      "                                                                 \r"
     ]
    },
    {
     "name": "stdout",
     "output_type": "stream",
     "text": [
      "Train: Loss: 0.9214, Accuracy: 65.97%\n",
      "Validation: Loss: 0.9931, Accuracy: 64.14%\n",
      "\n",
      "Epoch 15/50\n"
     ]
    },
    {
     "name": "stderr",
     "output_type": "stream",
     "text": [
      "                                                                 \r"
     ]
    },
    {
     "name": "stdout",
     "output_type": "stream",
     "text": [
      "Train: Loss: 0.9158, Accuracy: 65.99%\n",
      "Validation: Loss: 0.9701, Accuracy: 64.17%\n",
      "\n",
      "Epoch 16/50\n"
     ]
    },
    {
     "name": "stderr",
     "output_type": "stream",
     "text": [
      "                                                                 \r"
     ]
    },
    {
     "name": "stdout",
     "output_type": "stream",
     "text": [
      "Train: Loss: 0.9056, Accuracy: 66.18%\n",
      "Validation: Loss: 0.9718, Accuracy: 64.61%\n",
      "\n",
      "Epoch 17/50\n"
     ]
    },
    {
     "name": "stderr",
     "output_type": "stream",
     "text": [
      "                                                                 \r"
     ]
    },
    {
     "name": "stdout",
     "output_type": "stream",
     "text": [
      "Train: Loss: 0.9008, Accuracy: 66.73%\n",
      "Validation: Loss: 0.9683, Accuracy: 64.95%\n",
      "\n",
      "Epoch 18/50\n"
     ]
    },
    {
     "name": "stderr",
     "output_type": "stream",
     "text": [
      "                                                                 \r"
     ]
    },
    {
     "name": "stdout",
     "output_type": "stream",
     "text": [
      "Train: Loss: 0.8970, Accuracy: 66.77%\n",
      "Validation: Loss: 0.9688, Accuracy: 64.67%\n",
      "\n",
      "Epoch 19/50\n"
     ]
    },
    {
     "name": "stderr",
     "output_type": "stream",
     "text": [
      "                                                                 \r"
     ]
    },
    {
     "name": "stdout",
     "output_type": "stream",
     "text": [
      "Train: Loss: 0.8894, Accuracy: 67.12%\n",
      "Validation: Loss: 0.9620, Accuracy: 64.86%\n",
      "\n",
      "Epoch 20/50\n"
     ]
    },
    {
     "name": "stderr",
     "output_type": "stream",
     "text": [
      "                                                                 \r"
     ]
    },
    {
     "name": "stdout",
     "output_type": "stream",
     "text": [
      "Train: Loss: 0.8868, Accuracy: 66.92%\n",
      "Validation: Loss: 0.9857, Accuracy: 64.56%\n",
      "\n",
      "Epoch 21/50\n"
     ]
    },
    {
     "name": "stderr",
     "output_type": "stream",
     "text": [
      "                                                                 \r"
     ]
    },
    {
     "name": "stdout",
     "output_type": "stream",
     "text": [
      "Train: Loss: 0.8786, Accuracy: 67.27%\n",
      "Validation: Loss: 0.9742, Accuracy: 65.09%\n",
      "\n",
      "Epoch 22/50\n"
     ]
    },
    {
     "name": "stderr",
     "output_type": "stream",
     "text": [
      "                                                                 \r"
     ]
    },
    {
     "name": "stdout",
     "output_type": "stream",
     "text": [
      "Train: Loss: 0.8771, Accuracy: 67.40%\n",
      "Validation: Loss: 0.9688, Accuracy: 64.59%\n",
      "\n",
      "Epoch 23/50\n"
     ]
    },
    {
     "name": "stderr",
     "output_type": "stream",
     "text": [
      "                                                                 \r"
     ]
    },
    {
     "name": "stdout",
     "output_type": "stream",
     "text": [
      "Train: Loss: 0.8708, Accuracy: 67.92%\n",
      "Validation: Loss: 0.9822, Accuracy: 64.59%\n",
      "\n",
      "Epoch 24/50\n"
     ]
    },
    {
     "name": "stderr",
     "output_type": "stream",
     "text": [
      "                                                                 \r"
     ]
    },
    {
     "name": "stdout",
     "output_type": "stream",
     "text": [
      "Train: Loss: 0.8619, Accuracy: 68.12%\n",
      "Validation: Loss: 0.9710, Accuracy: 64.89%\n",
      "\n",
      "Epoch 25/50\n"
     ]
    },
    {
     "name": "stderr",
     "output_type": "stream",
     "text": [
      "                                                                 \r"
     ]
    },
    {
     "name": "stdout",
     "output_type": "stream",
     "text": [
      "Train: Loss: 0.8575, Accuracy: 68.10%\n",
      "Validation: Loss: 0.9664, Accuracy: 64.95%\n",
      "\n",
      "Epoch 26/50\n"
     ]
    },
    {
     "name": "stderr",
     "output_type": "stream",
     "text": [
      "                                                                 \r"
     ]
    },
    {
     "name": "stdout",
     "output_type": "stream",
     "text": [
      "Train: Loss: 0.8566, Accuracy: 68.13%\n",
      "Validation: Loss: 0.9699, Accuracy: 65.14%\n",
      "\n",
      "Epoch 27/50\n"
     ]
    },
    {
     "name": "stderr",
     "output_type": "stream",
     "text": [
      "                                                                 \r"
     ]
    },
    {
     "name": "stdout",
     "output_type": "stream",
     "text": [
      "Train: Loss: 0.8537, Accuracy: 68.37%\n",
      "Validation: Loss: 0.9636, Accuracy: 65.34%\n",
      "\n",
      "Epoch 28/50\n"
     ]
    },
    {
     "name": "stderr",
     "output_type": "stream",
     "text": [
      "                                                                 \r"
     ]
    },
    {
     "name": "stdout",
     "output_type": "stream",
     "text": [
      "Train: Loss: 0.8505, Accuracy: 68.33%\n",
      "Validation: Loss: 0.9642, Accuracy: 64.98%\n",
      "\n",
      "Epoch 29/50\n"
     ]
    },
    {
     "name": "stderr",
     "output_type": "stream",
     "text": [
      "                                                                 \r"
     ]
    },
    {
     "name": "stdout",
     "output_type": "stream",
     "text": [
      "Train: Loss: 0.8509, Accuracy: 68.35%\n",
      "Validation: Loss: 0.9660, Accuracy: 64.95%\n",
      "\n",
      "Epoch 30/50\n"
     ]
    },
    {
     "name": "stderr",
     "output_type": "stream",
     "text": [
      "                                                                 \r"
     ]
    },
    {
     "name": "stdout",
     "output_type": "stream",
     "text": [
      "Train: Loss: 0.8545, Accuracy: 68.40%\n",
      "Validation: Loss: 0.9638, Accuracy: 65.31%\n",
      "\n",
      "Epoch 31/50\n"
     ]
    },
    {
     "name": "stderr",
     "output_type": "stream",
     "text": [
      "                                                                 \r"
     ]
    },
    {
     "name": "stdout",
     "output_type": "stream",
     "text": [
      "Train: Loss: 0.8538, Accuracy: 68.32%\n",
      "Validation: Loss: 0.9687, Accuracy: 64.75%\n",
      "\n",
      "Epoch 32/50\n"
     ]
    },
    {
     "name": "stderr",
     "output_type": "stream",
     "text": [
      "                                                                 \r"
     ]
    },
    {
     "name": "stdout",
     "output_type": "stream",
     "text": [
      "Train: Loss: 0.8488, Accuracy: 68.65%\n",
      "Validation: Loss: 0.9667, Accuracy: 65.03%\n",
      "\n",
      "Epoch 33/50\n"
     ]
    },
    {
     "name": "stderr",
     "output_type": "stream",
     "text": [
      "                                                                 \r"
     ]
    },
    {
     "name": "stdout",
     "output_type": "stream",
     "text": [
      "Train: Loss: 0.8544, Accuracy: 68.56%\n",
      "Validation: Loss: 0.9667, Accuracy: 64.92%\n",
      "\n",
      "Epoch 34/50\n"
     ]
    },
    {
     "name": "stderr",
     "output_type": "stream",
     "text": [
      "                                                                 \r"
     ]
    },
    {
     "name": "stdout",
     "output_type": "stream",
     "text": [
      "Train: Loss: 0.8571, Accuracy: 68.17%\n",
      "Validation: Loss: 0.9649, Accuracy: 65.23%\n",
      "Early stopping triggered.\n",
      "Treinando com hiperparâmetros: {'weight_decay': 0, 'patience': 3, 'optimizer': 'sgd', 'momentum': 0.95, 'lr': 0.001, 'epochs': 50, 'batch_size': 16, 'activation': 'relu'}\n",
      "\n",
      "Epoch 1/50\n"
     ]
    },
    {
     "name": "stderr",
     "output_type": "stream",
     "text": [
      "                                                                 \r"
     ]
    },
    {
     "name": "stdout",
     "output_type": "stream",
     "text": [
      "Train: Loss: 1.5136, Accuracy: 40.59%\n",
      "Validation: Loss: 1.2673, Accuracy: 51.46%\n",
      "\n",
      "Epoch 2/50\n"
     ]
    },
    {
     "name": "stderr",
     "output_type": "stream",
     "text": [
      "                                                                 \r"
     ]
    },
    {
     "name": "stdout",
     "output_type": "stream",
     "text": [
      "Train: Loss: 1.2679, Accuracy: 52.24%\n",
      "Validation: Loss: 1.1596, Accuracy: 55.92%\n",
      "\n",
      "Epoch 3/50\n"
     ]
    },
    {
     "name": "stderr",
     "output_type": "stream",
     "text": [
      "                                                                 \r"
     ]
    },
    {
     "name": "stdout",
     "output_type": "stream",
     "text": [
      "Train: Loss: 1.1797, Accuracy: 55.94%\n",
      "Validation: Loss: 1.0997, Accuracy: 58.96%\n",
      "\n",
      "Epoch 4/50\n"
     ]
    },
    {
     "name": "stderr",
     "output_type": "stream",
     "text": [
      "                                                                 \r"
     ]
    },
    {
     "name": "stdout",
     "output_type": "stream",
     "text": [
      "Train: Loss: 1.1250, Accuracy: 57.68%\n",
      "Validation: Loss: 1.0837, Accuracy: 59.04%\n",
      "\n",
      "Epoch 5/50\n"
     ]
    },
    {
     "name": "stderr",
     "output_type": "stream",
     "text": [
      "                                                                 \r"
     ]
    },
    {
     "name": "stdout",
     "output_type": "stream",
     "text": [
      "Train: Loss: 1.0995, Accuracy: 58.72%\n",
      "Validation: Loss: 1.0714, Accuracy: 59.85%\n",
      "\n",
      "Epoch 6/50\n"
     ]
    },
    {
     "name": "stderr",
     "output_type": "stream",
     "text": [
      "                                                                 \r"
     ]
    },
    {
     "name": "stdout",
     "output_type": "stream",
     "text": [
      "Train: Loss: 1.0690, Accuracy: 59.67%\n",
      "Validation: Loss: 1.0244, Accuracy: 61.80%\n",
      "\n",
      "Epoch 7/50\n"
     ]
    },
    {
     "name": "stderr",
     "output_type": "stream",
     "text": [
      "                                                                 \r"
     ]
    },
    {
     "name": "stdout",
     "output_type": "stream",
     "text": [
      "Train: Loss: 1.0363, Accuracy: 61.28%\n",
      "Validation: Loss: 1.0375, Accuracy: 60.35%\n",
      "\n",
      "Epoch 8/50\n"
     ]
    },
    {
     "name": "stderr",
     "output_type": "stream",
     "text": [
      "                                                                 \r"
     ]
    },
    {
     "name": "stdout",
     "output_type": "stream",
     "text": [
      "Train: Loss: 1.0185, Accuracy: 61.96%\n",
      "Validation: Loss: 1.0088, Accuracy: 61.69%\n",
      "\n",
      "Epoch 9/50\n"
     ]
    },
    {
     "name": "stderr",
     "output_type": "stream",
     "text": [
      "                                                                 \r"
     ]
    },
    {
     "name": "stdout",
     "output_type": "stream",
     "text": [
      "Train: Loss: 0.9989, Accuracy: 62.61%\n",
      "Validation: Loss: 1.0248, Accuracy: 62.33%\n",
      "\n",
      "Epoch 10/50\n"
     ]
    },
    {
     "name": "stderr",
     "output_type": "stream",
     "text": [
      "                                                                 \r"
     ]
    },
    {
     "name": "stdout",
     "output_type": "stream",
     "text": [
      "Train: Loss: 0.9814, Accuracy: 63.40%\n",
      "Validation: Loss: 1.0440, Accuracy: 61.80%\n",
      "\n",
      "Epoch 11/50\n"
     ]
    },
    {
     "name": "stderr",
     "output_type": "stream",
     "text": [
      "                                                                 \r"
     ]
    },
    {
     "name": "stdout",
     "output_type": "stream",
     "text": [
      "Train: Loss: 0.9633, Accuracy: 64.22%\n",
      "Validation: Loss: 0.9972, Accuracy: 63.28%\n",
      "\n",
      "Epoch 12/50\n"
     ]
    },
    {
     "name": "stderr",
     "output_type": "stream",
     "text": [
      "                                                                 \r"
     ]
    },
    {
     "name": "stdout",
     "output_type": "stream",
     "text": [
      "Train: Loss: 0.9443, Accuracy: 64.92%\n",
      "Validation: Loss: 1.0148, Accuracy: 63.05%\n",
      "\n",
      "Epoch 13/50\n"
     ]
    },
    {
     "name": "stderr",
     "output_type": "stream",
     "text": [
      "                                                                 \r"
     ]
    },
    {
     "name": "stdout",
     "output_type": "stream",
     "text": [
      "Train: Loss: 0.9279, Accuracy: 65.44%\n",
      "Validation: Loss: 0.9985, Accuracy: 62.89%\n",
      "\n",
      "Epoch 14/50\n"
     ]
    },
    {
     "name": "stderr",
     "output_type": "stream",
     "text": [
      "                                                                 \r"
     ]
    },
    {
     "name": "stdout",
     "output_type": "stream",
     "text": [
      "Train: Loss: 0.9158, Accuracy: 65.76%\n",
      "Validation: Loss: 0.9848, Accuracy: 63.33%\n",
      "\n",
      "Epoch 15/50\n"
     ]
    },
    {
     "name": "stderr",
     "output_type": "stream",
     "text": [
      "                                                                 \r"
     ]
    },
    {
     "name": "stdout",
     "output_type": "stream",
     "text": [
      "Train: Loss: 0.9022, Accuracy: 66.23%\n",
      "Validation: Loss: 1.0326, Accuracy: 63.14%\n",
      "\n",
      "Epoch 16/50\n"
     ]
    },
    {
     "name": "stderr",
     "output_type": "stream",
     "text": [
      "                                                                 \r"
     ]
    },
    {
     "name": "stdout",
     "output_type": "stream",
     "text": [
      "Train: Loss: 0.8920, Accuracy: 66.83%\n",
      "Validation: Loss: 1.0017, Accuracy: 64.75%\n",
      "\n",
      "Epoch 17/50\n"
     ]
    },
    {
     "name": "stderr",
     "output_type": "stream",
     "text": [
      "                                                                 \r"
     ]
    },
    {
     "name": "stdout",
     "output_type": "stream",
     "text": [
      "Train: Loss: 0.8802, Accuracy: 67.32%\n",
      "Validation: Loss: 0.9965, Accuracy: 63.75%\n",
      "\n",
      "Epoch 18/50\n"
     ]
    },
    {
     "name": "stderr",
     "output_type": "stream",
     "text": [
      "                                                                 \r"
     ]
    },
    {
     "name": "stdout",
     "output_type": "stream",
     "text": [
      "Train: Loss: 0.8661, Accuracy: 67.61%\n",
      "Validation: Loss: 0.9830, Accuracy: 65.59%\n",
      "\n",
      "Epoch 19/50\n"
     ]
    },
    {
     "name": "stderr",
     "output_type": "stream",
     "text": [
      "                                                                 \r"
     ]
    },
    {
     "name": "stdout",
     "output_type": "stream",
     "text": [
      "Train: Loss: 0.8454, Accuracy: 68.41%\n",
      "Validation: Loss: 1.0137, Accuracy: 64.86%\n",
      "\n",
      "Epoch 20/50\n"
     ]
    },
    {
     "name": "stderr",
     "output_type": "stream",
     "text": [
      "                                                                 \r"
     ]
    },
    {
     "name": "stdout",
     "output_type": "stream",
     "text": [
      "Train: Loss: 0.8410, Accuracy: 68.75%\n",
      "Validation: Loss: 1.0378, Accuracy: 63.72%\n",
      "\n",
      "Epoch 21/50\n"
     ]
    },
    {
     "name": "stderr",
     "output_type": "stream",
     "text": [
      "                                                                 \r"
     ]
    },
    {
     "name": "stdout",
     "output_type": "stream",
     "text": [
      "Train: Loss: 0.8305, Accuracy: 69.17%\n",
      "Validation: Loss: 1.0196, Accuracy: 65.17%\n",
      "Early stopping triggered.\n",
      "Treinando com hiperparâmetros: {'weight_decay': 0, 'patience': 3, 'optimizer': 'adam', 'momentum': 0.95, 'lr': 0.1, 'epochs': 50, 'batch_size': 16, 'activation': 'relu'}\n",
      "\n",
      "Epoch 1/50\n"
     ]
    },
    {
     "name": "stderr",
     "output_type": "stream",
     "text": [
      "                                                                 \r"
     ]
    },
    {
     "name": "stdout",
     "output_type": "stream",
     "text": [
      "Train: Loss: 3.4058, Accuracy: 24.31%\n",
      "Validation: Loss: 1.8387, Accuracy: 24.97%\n",
      "\n",
      "Epoch 2/50\n"
     ]
    },
    {
     "name": "stderr",
     "output_type": "stream",
     "text": [
      "                                                                 \r"
     ]
    },
    {
     "name": "stdout",
     "output_type": "stream",
     "text": [
      "Train: Loss: 1.8210, Accuracy: 24.75%\n",
      "Validation: Loss: 1.8159, Accuracy: 24.99%\n",
      "\n",
      "Epoch 3/50\n"
     ]
    },
    {
     "name": "stderr",
     "output_type": "stream",
     "text": [
      "                                                                 \r"
     ]
    },
    {
     "name": "stdout",
     "output_type": "stream",
     "text": [
      "Train: Loss: 1.8202, Accuracy: 24.88%\n",
      "Validation: Loss: 1.8166, Accuracy: 24.97%\n",
      "\n",
      "Epoch 4/50\n"
     ]
    },
    {
     "name": "stderr",
     "output_type": "stream",
     "text": [
      "                                                                 \r"
     ]
    },
    {
     "name": "stdout",
     "output_type": "stream",
     "text": [
      "Train: Loss: 1.8189, Accuracy: 24.62%\n",
      "Validation: Loss: 1.8193, Accuracy: 24.94%\n",
      "\n",
      "Epoch 5/50\n"
     ]
    },
    {
     "name": "stderr",
     "output_type": "stream",
     "text": [
      "                                                                 \r"
     ]
    },
    {
     "name": "stdout",
     "output_type": "stream",
     "text": [
      "Train: Loss: 1.8214, Accuracy: 24.66%\n",
      "Validation: Loss: 1.8180, Accuracy: 24.94%\n",
      "Early stopping triggered.\n",
      "Treinando com hiperparâmetros: {'weight_decay': 0, 'patience': 5, 'optimizer': 'sgd', 'momentum': 0.95, 'lr': 0.1, 'epochs': 20, 'batch_size': 32, 'activation': 'sigmoid'}\n",
      "\n",
      "Epoch 1/20\n"
     ]
    },
    {
     "name": "stderr",
     "output_type": "stream",
     "text": [
      "                                                                 \r"
     ]
    },
    {
     "name": "stdout",
     "output_type": "stream",
     "text": [
      "Train: Loss: 1.8284, Accuracy: 23.98%\n",
      "Validation: Loss: 1.8164, Accuracy: 24.94%\n",
      "\n",
      "Epoch 2/20\n"
     ]
    },
    {
     "name": "stderr",
     "output_type": "stream",
     "text": [
      "                                                                 \r"
     ]
    },
    {
     "name": "stdout",
     "output_type": "stream",
     "text": [
      "Train: Loss: 1.8231, Accuracy: 24.01%\n",
      "Validation: Loss: 1.8233, Accuracy: 24.94%\n",
      "\n",
      "Epoch 3/20\n"
     ]
    },
    {
     "name": "stderr",
     "output_type": "stream",
     "text": [
      "                                                                 \r"
     ]
    },
    {
     "name": "stdout",
     "output_type": "stream",
     "text": [
      "Train: Loss: 1.8219, Accuracy: 24.25%\n",
      "Validation: Loss: 1.8254, Accuracy: 24.94%\n",
      "\n",
      "Epoch 4/20\n"
     ]
    },
    {
     "name": "stderr",
     "output_type": "stream",
     "text": [
      "                                                                 \r"
     ]
    },
    {
     "name": "stdout",
     "output_type": "stream",
     "text": [
      "Train: Loss: 1.8216, Accuracy: 24.09%\n",
      "Validation: Loss: 1.8436, Accuracy: 18.19%\n",
      "\n",
      "Epoch 5/20\n"
     ]
    },
    {
     "name": "stderr",
     "output_type": "stream",
     "text": [
      "                                                                 \r"
     ]
    },
    {
     "name": "stdout",
     "output_type": "stream",
     "text": [
      "Train: Loss: 1.8210, Accuracy: 24.49%\n",
      "Validation: Loss: 1.8720, Accuracy: 24.94%\n",
      "\n",
      "Epoch 6/20\n"
     ]
    },
    {
     "name": "stderr",
     "output_type": "stream",
     "text": [
      "                                                                 "
     ]
    },
    {
     "name": "stdout",
     "output_type": "stream",
     "text": [
      "Train: Loss: 1.8127, Accuracy: 25.13%\n",
      "Validation: Loss: 1.8119, Accuracy: 24.94%\n",
      "Early stopping triggered.\n",
      "Melhores hiperparâmetros: {'weight_decay': 0.0001, 'patience': 5, 'optimizer': 'sgd', 'momentum': 0.9, 'lr': 0.01, 'epochs': 50, 'batch_size': 64, 'activation': 'sigmoid'}\n",
      "Melhor precisão de validação: 0.6754\n"
     ]
    },
    {
     "name": "stderr",
     "output_type": "stream",
     "text": [
      "\r"
     ]
    }
   ],
   "source": [
    "from sklearn.model_selection import ParameterSampler\n",
    "import json\n",
    "import random\n",
    "from tqdm import tqdm\n",
    "\n",
    "class RandomSearchTrainer:\n",
    "    def __init__(self, model_class, data_loader_treino, data_loader_validacao, num_imagens_treino, num_imagens_validacao, device, num_classes, param_dist, n_iter, checkpoint_dir='checkpoints'):\n",
    "        self.model_class = model_class\n",
    "        self.data_loader_treino = data_loader_treino\n",
    "        self.data_loader_validacao = data_loader_validacao\n",
    "        self.num_imagens_treino = num_imagens_treino\n",
    "        self.num_imagens_validacao = num_imagens_validacao\n",
    "        self.device = device\n",
    "        self.num_classes = num_classes\n",
    "        self.param_dist = param_dist\n",
    "        self.n_iter = n_iter\n",
    "        self.checkpoint_dir = checkpoint_dir\n",
    "        self.best_params = None\n",
    "        self.best_accuracy = 0.0\n",
    "\n",
    "        # Create directory for checkpoints\n",
    "        os.makedirs(self.checkpoint_dir, exist_ok=True)\n",
    "\n",
    "    def train_and_evaluate(self, hyperparams):\n",
    "        model = self.model_class(self.num_classes).get_model().to(self.device)\n",
    "        optimizer = self.get_optimizer(hyperparams, model)\n",
    "        criterion = nn.CrossEntropyLoss()\n",
    "        scheduler = ReduceLROnPlateau(optimizer, mode='min', factor=0.1, patience=3, verbose=True)\n",
    "\n",
    "        best_accuracy = 0.0\n",
    "        patience = hyperparams.get('patience', 5)\n",
    "        early_stop_counter = 0\n",
    "\n",
    "        for epoch in range(hyperparams['epochs']):\n",
    "            print(f\"\\nEpoch {epoch + 1}/{hyperparams['epochs']}\")\n",
    "            model.train()\n",
    "            train_loss, train_accuracy = self.run_epoch(model, criterion, optimizer, self.data_loader_treino, phase='train', epoch_progress=True)\n",
    "            model.eval()\n",
    "            val_loss, val_accuracy = self.run_epoch(model, criterion, optimizer, self.data_loader_validacao, phase='eval', epoch_progress=True)\n",
    "            print(f\"Train: Loss: {train_loss:.4f}, Accuracy: {train_accuracy * 100:.2f}%\")\n",
    "            print(f\"Validation: Loss: {val_loss:.4f}, Accuracy: {val_accuracy * 100:.2f}%\")\n",
    "            scheduler.step(val_loss)\n",
    "\n",
    "            if val_accuracy > best_accuracy:\n",
    "                best_accuracy = val_accuracy\n",
    "                early_stop_counter = 0\n",
    "                # Save checkpoint with hyperparameters\n",
    "                checkpoint_name = self.generate_checkpoint_name(hyperparams, epoch + 1, val_accuracy)\n",
    "                torch.save({'model_state_dict': model.state_dict(),\n",
    "                            'hyperparams': hyperparams,\n",
    "                            'accuracy': val_accuracy}, os.path.join(self.checkpoint_dir, checkpoint_name))\n",
    "            else:\n",
    "                early_stop_counter += 1\n",
    "\n",
    "            if early_stop_counter >= patience:\n",
    "                print(\"Early stopping triggered.\")\n",
    "                break\n",
    "\n",
    "        return best_accuracy\n",
    "\n",
    "    def run_epoch(self, model, criterion, optimizer, data_loader, phase, epoch_progress=False):\n",
    "        total_loss = 0.0\n",
    "        correct_predictions = 0\n",
    "\n",
    "        with tqdm(total=len(data_loader), desc=f\"{phase.capitalize()} Progress\", leave=False) as pbar:\n",
    "            for inputs, labels in data_loader:\n",
    "                inputs, labels = inputs.to(self.device), labels.to(self.device)\n",
    "\n",
    "                if phase == 'train':\n",
    "                    optimizer.zero_grad()\n",
    "\n",
    "                outputs = model(inputs)\n",
    "                loss = criterion(outputs, labels)\n",
    "                if phase == 'train':\n",
    "                    loss.backward()\n",
    "                    optimizer.step()\n",
    "\n",
    "                total_loss += loss.item() * inputs.size(0)\n",
    "                _, preds = torch.max(outputs, 1)\n",
    "                correct_predictions += torch.sum(preds == labels)\n",
    "\n",
    "                if epoch_progress:\n",
    "                    pbar.update(1)\n",
    "\n",
    "        epoch_loss = total_loss / len(data_loader.dataset)\n",
    "        epoch_accuracy = correct_predictions.double() / len(data_loader.dataset)\n",
    "\n",
    "        return epoch_loss, epoch_accuracy.item()\n",
    "\n",
    "    def perform_random_search(self):\n",
    "        sampled_params = list(ParameterSampler(self.param_dist, n_iter=self.n_iter, random_state=random.randint(1, 10000)))\n",
    "        for params in sampled_params:\n",
    "            print(f\"Treinando com hiperparâmetros: {params}\")\n",
    "            accuracy = self.train_and_evaluate(params)\n",
    "\n",
    "            if accuracy > self.best_accuracy:\n",
    "                self.best_accuracy = accuracy\n",
    "                self.best_params = params\n",
    "                print(f\"Novo melhor modelo encontrado com precisão: {accuracy:.4f}\")\n",
    "\n",
    "        print(f\"Melhores hiperparâmetros: {self.best_params}\")\n",
    "        print(f\"Melhor precisão de validação: {self.best_accuracy:.4f}\")\n",
    "\n",
    "    def generate_checkpoint_name(self, hyperparams, epoch, val_accuracy):\n",
    "        # Generate a unique name for each checkpoint\n",
    "        params_str = \"_\".join([f\"{key}={value}\" for key, value in hyperparams.items()])\n",
    "        return f\"checkpoint_{params_str}_epoch={epoch}_val_acc={val_accuracy:.4f}.pth\"\n",
    "\n",
    "    def get_optimizer(self, hyperparams, model):\n",
    "        if hyperparams['optimizer'] == 'adam':\n",
    "            return optim.Adam(model.parameters(), lr=hyperparams['lr'], weight_decay=hyperparams['weight_decay'])\n",
    "        elif hyperparams['optimizer'] == 'sgd':\n",
    "            return optim.SGD(model.parameters(), lr=hyperparams['lr'], weight_decay=hyperparams['weight_decay'], momentum=hyperparams.get('momentum', 0.9))\n",
    "        else:\n",
    "            raise ValueError(f\"Optimizer {hyperparams['optimizer']} not supported.\")\n",
    "\n",
    "param_dist = {\n",
    "    'lr': [0.0001, 0.001, 0.01, 0.1],\n",
    "    'weight_decay': [1e-4, 1e-5, 0],\n",
    "    'epochs': [20, 30, 50],\n",
    "    'patience': [3, 5, 7],\n",
    "    'batch_size': [16, 32, 64],\n",
    "    'optimizer': ['adam', 'sgd'],\n",
    "    'momentum': [0.9, 0.95],  # Only relevant if optimizer is 'sgd'\n",
    "    'activation': ['relu', 'tanh', 'sigmoid']  # Different activation functions to test\n",
    "}\n",
    "\n",
    "n_iter = 20\n",
    "\n",
    "# Treinamento com Random Search\n",
    "random_search_trainer = RandomSearchTrainer(CustomResNet50, data_loader_treino, data_loader_validacao, num_imagens_treino, num_imagens_validacao, device, num_classes, param_dist, n_iter)\n",
    "random_search_trainer.perform_random_search()\n"
   ]
  },
  {
   "cell_type": "markdown",
   "metadata": {},
   "source": [
    "# Essenciais"
   ]
  },
  {
   "cell_type": "code",
   "execution_count": 11,
   "metadata": {},
   "outputs": [],
   "source": [
    "# dataset_path = '../affectnet/affectnet_Essenciais/'\n",
    "# device = torch.device(\"cuda:0\" if torch.cuda.is_available() else \"cpu\")\n",
    "# print(f\"Dispositivo utilizado: {device}\")\n",
    "\n",
    "#     # Preparar DataLoaders\n",
    "# data_loader_setup = DataLoaderSetup(dataset_path, image_size=224, batch_size=32)\n",
    "# data_loader_treino, data_loader_validacao, num_imagens_treino, num_imagens_validacao, num_classes = data_loader_setup.get_data_loaders()\n",
    "\n",
    "#     # Carregar o modelo\n",
    "# modelo = CustomResNet50(num_classes).get_model().to(device)\n",
    "# nameModel = 'novosModels/affectnet_Essenciais.pt'\n",
    "#     # Treinar e validar\n",
    "# patience = 5\n",
    "# trainer = Trainer(modelo, data_loader_treino, data_loader_validacao, num_imagens_treino, num_imagens_validacao, device, num_classes, patience,nameModel)\n",
    "# historico = trainer.treinar_e_validar(epocas=30)\n"
   ]
  },
  {
   "cell_type": "markdown",
   "metadata": {},
   "source": [
    "Landmarks"
   ]
  },
  {
   "cell_type": "code",
   "execution_count": 12,
   "metadata": {},
   "outputs": [],
   "source": [
    "# dataset_path = '../affectnet/affectnet_landmarks/'\n",
    "# device = torch.device(\"cuda:0\" if torch.cuda.is_available() else \"cpu\")\n",
    "# print(f\"Dispositivo utilizado: {device}\")\n",
    "\n",
    "#     # Preparar DataLoaders\n",
    "# data_loader_setup = DataLoaderSetup(dataset_path, image_size=224, batch_size=32)\n",
    "# data_loader_treino, data_loader_validacao, num_imagens_treino, num_imagens_validacao, num_classes = data_loader_setup.get_data_loaders()\n",
    "\n",
    "#     # Carregar o modelo\n",
    "# modelo = CustomResNet50(num_classes).get_model().to(device)\n",
    "# nameModel = 'novosModels/affectnet_landmarks.pt'\n",
    "#     # Treinar e validar\n",
    "# patience = 5\n",
    "# trainer = Trainer(modelo, data_loader_treino, data_loader_validacao, num_imagens_treino, num_imagens_validacao, device, num_classes, patience,nameModel)\n",
    "# historico = trainer.treinar_e_validar(epocas=30)\n"
   ]
  },
  {
   "cell_type": "markdown",
   "metadata": {},
   "source": [
    "full connected"
   ]
  },
  {
   "cell_type": "code",
   "execution_count": 13,
   "metadata": {},
   "outputs": [],
   "source": [
    "# dataset_path = '../affectnet/affectnet_face_connected_landmarks/'\n",
    "# device = torch.device(\"cuda:0\" if torch.cuda.is_available() else \"cpu\")\n",
    "# print(f\"Dispositivo utilizado: {device}\")\n",
    "\n",
    "#     # Preparar DataLoaders\n",
    "# data_loader_setup = DataLoaderSetup(dataset_path, image_size=224, batch_size=32)\n",
    "# data_loader_treino, data_loader_validacao, num_imagens_treino, num_imagens_validacao, num_classes = data_loader_setup.get_data_loaders()\n",
    "\n",
    "#     # Carregar o modelo\n",
    "# modelo = CustomResNet50(num_classes).get_model().to(device)\n",
    "# nameModel = 'novosModels/affectnet_face_connected_landmarks.pt'\n",
    "#     # Treinar e validar\n",
    "# trainer = Trainer(modelo, data_loader_treino, data_loader_validacao, num_imagens_treino, num_imagens_validacao, device, num_classes, patience,nameModel)\n",
    "# historico = trainer.treinar_e_validar(epocas=30)\n"
   ]
  },
  {
   "cell_type": "markdown",
   "metadata": {},
   "source": [
    "# FER"
   ]
  },
  {
   "cell_type": "code",
   "execution_count": 14,
   "metadata": {},
   "outputs": [],
   "source": [
    "# dataset_path = '../dados1/'\n",
    "# device = torch.device(\"cuda:0\" if torch.cuda.is_available() else \"cpu\")\n",
    "# print(f\"Dispositivo utilizado: {device}\")\n",
    "\n",
    "#     # Preparar DataLoaders\n",
    "# data_loader_setup = DataLoaderSetup(dataset_path, image_size=224, batch_size=32)\n",
    "# data_loader_treino, data_loader_validacao, num_imagens_treino, num_imagens_validacao, num_classes = data_loader_setup.get_data_loaders()\n",
    "\n",
    "#     # Carregar o modelo\n",
    "# modelo = CustomResNet50(num_classes).get_model().to(device)\n",
    "# nameModel = 'novosModels/fer_dados1.pt'\n",
    "# patience = 5\n",
    "#     # Treinar e validar\n",
    "# trainer = Trainer(modelo, data_loader_treino, data_loader_validacao, num_imagens_treino, num_imagens_validacao, device, num_classes, patience,nameModel)\n",
    "# historico = trainer.treinar_e_validar(epocas=30)\n"
   ]
  },
  {
   "cell_type": "markdown",
   "metadata": {},
   "source": [
    "Essenciais"
   ]
  },
  {
   "cell_type": "code",
   "execution_count": 15,
   "metadata": {},
   "outputs": [],
   "source": [
    "# dataset_path = '../Essenciais2/'\n",
    "# device = torch.device(\"cuda:0\" if torch.cuda.is_available() else \"cpu\")\n",
    "# print(f\"Dispositivo utilizado: {device}\")\n",
    "\n",
    "#     # Preparar DataLoaders\n",
    "# data_loader_setup = DataLoaderSetup(dataset_path, image_size=224, batch_size=32)\n",
    "# data_loader_treino, data_loader_validacao, num_imagens_treino, num_imagens_validacao, num_classes = data_loader_setup.get_data_loaders()\n",
    "\n",
    "#     # Carregar o modelo\n",
    "# modelo = CustomResNet50(num_classes).get_model().to(device)\n",
    "# nameModel = 'novosModels/fer_Essenciais2.pt'\n",
    "# patience = 5\n",
    "#     # Treinar e validar\n",
    "# trainer = Trainer(modelo, data_loader_treino, data_loader_validacao, num_imagens_treino, num_imagens_validacao, device, num_classes, patience,nameModel)\n",
    "# historico = trainer.treinar_e_validar(epocas=30)\n"
   ]
  },
  {
   "cell_type": "code",
   "execution_count": 16,
   "metadata": {},
   "outputs": [],
   "source": [
    "# dataset_path = '../full_face_landmarks2/'\n",
    "# device = torch.device(\"cuda:0\" if torch.cuda.is_available() else \"cpu\")\n",
    "# print(f\"Dispositivo utilizado: {device}\")\n",
    "\n",
    "#     # Preparar DataLoaders\n",
    "# data_loader_setup = DataLoaderSetup(dataset_path, image_size=224, batch_size=32)\n",
    "# data_loader_treino, data_loader_validacao, num_imagens_treino, num_imagens_validacao, num_classes = data_loader_setup.get_data_loaders()\n",
    "\n",
    "#     # Carregar o modelo\n",
    "# modelo = CustomResNet50(num_classes).get_model().to(device)\n",
    "# nameModel = 'novosModels/fer_full_face_landmarks2.pt'\n",
    "# patience = 5\n",
    "#     # Treinar e validar\n",
    "# trainer = Trainer(modelo, data_loader_treino, data_loader_validacao, num_imagens_treino, num_imagens_validacao, device, num_classes, patience,nameModel)\n",
    "# historico = trainer.treinar_e_validar(epocas=30)\n"
   ]
  },
  {
   "cell_type": "code",
   "execution_count": 17,
   "metadata": {},
   "outputs": [
    {
     "name": "stdout",
     "output_type": "stream",
     "text": [
      "Dispositivo utilizado: cuda:0\n"
     ]
    },
    {
     "ename": "FileNotFoundError",
     "evalue": "[WinError 3] O sistema não pode encontrar o caminho especificado: '../full_face_connected_landmarks2/treino'",
     "output_type": "error",
     "traceback": [
      "\u001b[1;31m---------------------------------------------------------------------------\u001b[0m",
      "\u001b[1;31mFileNotFoundError\u001b[0m                         Traceback (most recent call last)",
      "Cell \u001b[1;32mIn[17], line 7\u001b[0m\n\u001b[0;32m      5\u001b[0m     \u001b[38;5;66;03m# Preparar DataLoaders\u001b[39;00m\n\u001b[0;32m      6\u001b[0m data_loader_setup \u001b[38;5;241m=\u001b[39m DataLoaderSetup(dataset_path, image_size\u001b[38;5;241m=\u001b[39m\u001b[38;5;241m224\u001b[39m, batch_size\u001b[38;5;241m=\u001b[39m\u001b[38;5;241m32\u001b[39m)\n\u001b[1;32m----> 7\u001b[0m data_loader_treino, data_loader_validacao, num_imagens_treino, num_imagens_validacao, num_classes \u001b[38;5;241m=\u001b[39m \u001b[43mdata_loader_setup\u001b[49m\u001b[38;5;241;43m.\u001b[39;49m\u001b[43mget_data_loaders\u001b[49m\u001b[43m(\u001b[49m\u001b[43m)\u001b[49m\n\u001b[0;32m      9\u001b[0m     \u001b[38;5;66;03m# Carregar o modelo\u001b[39;00m\n\u001b[0;32m     10\u001b[0m modelo \u001b[38;5;241m=\u001b[39m CustomResNet50(num_classes)\u001b[38;5;241m.\u001b[39mget_model()\u001b[38;5;241m.\u001b[39mto(device)\n",
      "Cell \u001b[1;32mIn[7], line 54\u001b[0m, in \u001b[0;36mDataLoaderSetup.get_data_loaders\u001b[1;34m(self)\u001b[0m\n\u001b[0;32m     53\u001b[0m \u001b[38;5;28;01mdef\u001b[39;00m \u001b[38;5;21mget_data_loaders\u001b[39m(\u001b[38;5;28mself\u001b[39m):\n\u001b[1;32m---> 54\u001b[0m     data \u001b[38;5;241m=\u001b[39m \u001b[38;5;28;43mself\u001b[39;49m\u001b[38;5;241;43m.\u001b[39;49m\u001b[43mload_data\u001b[49m\u001b[43m(\u001b[49m\u001b[43m)\u001b[49m\n\u001b[0;32m     55\u001b[0m     data_loader_treino \u001b[38;5;241m=\u001b[39m DataLoader(data[\u001b[38;5;124m'\u001b[39m\u001b[38;5;124mtreino\u001b[39m\u001b[38;5;124m'\u001b[39m], batch_size\u001b[38;5;241m=\u001b[39m\u001b[38;5;28mself\u001b[39m\u001b[38;5;241m.\u001b[39mbatch_size, shuffle\u001b[38;5;241m=\u001b[39m\u001b[38;5;28;01mTrue\u001b[39;00m)\n\u001b[0;32m     56\u001b[0m     data_loader_validacao \u001b[38;5;241m=\u001b[39m DataLoader(data[\u001b[38;5;124m'\u001b[39m\u001b[38;5;124mvalidacao\u001b[39m\u001b[38;5;124m'\u001b[39m], batch_size\u001b[38;5;241m=\u001b[39m\u001b[38;5;28mself\u001b[39m\u001b[38;5;241m.\u001b[39mbatch_size, shuffle\u001b[38;5;241m=\u001b[39m\u001b[38;5;28;01mTrue\u001b[39;00m)\n",
      "Cell \u001b[1;32mIn[7], line 48\u001b[0m, in \u001b[0;36mDataLoaderSetup.load_data\u001b[1;34m(self)\u001b[0m\n\u001b[0;32m     44\u001b[0m pasta_treino \u001b[38;5;241m=\u001b[39m os\u001b[38;5;241m.\u001b[39mpath\u001b[38;5;241m.\u001b[39mjoin(\u001b[38;5;28mself\u001b[39m\u001b[38;5;241m.\u001b[39mdataset_path, \u001b[38;5;124m'\u001b[39m\u001b[38;5;124mtreino\u001b[39m\u001b[38;5;124m'\u001b[39m)\n\u001b[0;32m     45\u001b[0m pasta_validacao \u001b[38;5;241m=\u001b[39m os\u001b[38;5;241m.\u001b[39mpath\u001b[38;5;241m.\u001b[39mjoin(\u001b[38;5;28mself\u001b[39m\u001b[38;5;241m.\u001b[39mdataset_path, \u001b[38;5;124m'\u001b[39m\u001b[38;5;124mvalidacao\u001b[39m\u001b[38;5;124m'\u001b[39m)\n\u001b[0;32m     47\u001b[0m data \u001b[38;5;241m=\u001b[39m {\n\u001b[1;32m---> 48\u001b[0m     \u001b[38;5;124m'\u001b[39m\u001b[38;5;124mtreino\u001b[39m\u001b[38;5;124m'\u001b[39m: \u001b[43mdatasets\u001b[49m\u001b[38;5;241;43m.\u001b[39;49m\u001b[43mImageFolder\u001b[49m\u001b[43m(\u001b[49m\u001b[43mroot\u001b[49m\u001b[38;5;241;43m=\u001b[39;49m\u001b[43mpasta_treino\u001b[49m\u001b[43m,\u001b[49m\u001b[43m \u001b[49m\u001b[43mtransform\u001b[49m\u001b[38;5;241;43m=\u001b[39;49m\u001b[43mtransformacoes\u001b[49m\u001b[43m[\u001b[49m\u001b[38;5;124;43m'\u001b[39;49m\u001b[38;5;124;43mtreino\u001b[39;49m\u001b[38;5;124;43m'\u001b[39;49m\u001b[43m]\u001b[49m\u001b[43m)\u001b[49m,\n\u001b[0;32m     49\u001b[0m     \u001b[38;5;124m'\u001b[39m\u001b[38;5;124mvalidacao\u001b[39m\u001b[38;5;124m'\u001b[39m: datasets\u001b[38;5;241m.\u001b[39mImageFolder(root\u001b[38;5;241m=\u001b[39mpasta_validacao, transform\u001b[38;5;241m=\u001b[39mtransformacoes[\u001b[38;5;124m'\u001b[39m\u001b[38;5;124mvalidacao\u001b[39m\u001b[38;5;124m'\u001b[39m])\n\u001b[0;32m     50\u001b[0m }\n\u001b[0;32m     51\u001b[0m \u001b[38;5;28;01mreturn\u001b[39;00m data\n",
      "File \u001b[1;32mc:\\Users\\Danil\\AppData\\Local\\Programs\\Python\\Python310\\lib\\site-packages\\torchvision\\datasets\\folder.py:328\u001b[0m, in \u001b[0;36mImageFolder.__init__\u001b[1;34m(self, root, transform, target_transform, loader, is_valid_file, allow_empty)\u001b[0m\n\u001b[0;32m    319\u001b[0m \u001b[38;5;28;01mdef\u001b[39;00m \u001b[38;5;21m__init__\u001b[39m(\n\u001b[0;32m    320\u001b[0m     \u001b[38;5;28mself\u001b[39m,\n\u001b[0;32m    321\u001b[0m     root: \u001b[38;5;28mstr\u001b[39m,\n\u001b[1;32m   (...)\u001b[0m\n\u001b[0;32m    326\u001b[0m     allow_empty: \u001b[38;5;28mbool\u001b[39m \u001b[38;5;241m=\u001b[39m \u001b[38;5;28;01mFalse\u001b[39;00m,\n\u001b[0;32m    327\u001b[0m ):\n\u001b[1;32m--> 328\u001b[0m     \u001b[38;5;28;43msuper\u001b[39;49m\u001b[43m(\u001b[49m\u001b[43m)\u001b[49m\u001b[38;5;241;43m.\u001b[39;49m\u001b[38;5;21;43m__init__\u001b[39;49m\u001b[43m(\u001b[49m\n\u001b[0;32m    329\u001b[0m \u001b[43m        \u001b[49m\u001b[43mroot\u001b[49m\u001b[43m,\u001b[49m\n\u001b[0;32m    330\u001b[0m \u001b[43m        \u001b[49m\u001b[43mloader\u001b[49m\u001b[43m,\u001b[49m\n\u001b[0;32m    331\u001b[0m \u001b[43m        \u001b[49m\u001b[43mIMG_EXTENSIONS\u001b[49m\u001b[43m \u001b[49m\u001b[38;5;28;43;01mif\u001b[39;49;00m\u001b[43m \u001b[49m\u001b[43mis_valid_file\u001b[49m\u001b[43m \u001b[49m\u001b[38;5;129;43;01mis\u001b[39;49;00m\u001b[43m \u001b[49m\u001b[38;5;28;43;01mNone\u001b[39;49;00m\u001b[43m \u001b[49m\u001b[38;5;28;43;01melse\u001b[39;49;00m\u001b[43m \u001b[49m\u001b[38;5;28;43;01mNone\u001b[39;49;00m\u001b[43m,\u001b[49m\n\u001b[0;32m    332\u001b[0m \u001b[43m        \u001b[49m\u001b[43mtransform\u001b[49m\u001b[38;5;241;43m=\u001b[39;49m\u001b[43mtransform\u001b[49m\u001b[43m,\u001b[49m\n\u001b[0;32m    333\u001b[0m \u001b[43m        \u001b[49m\u001b[43mtarget_transform\u001b[49m\u001b[38;5;241;43m=\u001b[39;49m\u001b[43mtarget_transform\u001b[49m\u001b[43m,\u001b[49m\n\u001b[0;32m    334\u001b[0m \u001b[43m        \u001b[49m\u001b[43mis_valid_file\u001b[49m\u001b[38;5;241;43m=\u001b[39;49m\u001b[43mis_valid_file\u001b[49m\u001b[43m,\u001b[49m\n\u001b[0;32m    335\u001b[0m \u001b[43m        \u001b[49m\u001b[43mallow_empty\u001b[49m\u001b[38;5;241;43m=\u001b[39;49m\u001b[43mallow_empty\u001b[49m\u001b[43m,\u001b[49m\n\u001b[0;32m    336\u001b[0m \u001b[43m    \u001b[49m\u001b[43m)\u001b[49m\n\u001b[0;32m    337\u001b[0m     \u001b[38;5;28mself\u001b[39m\u001b[38;5;241m.\u001b[39mimgs \u001b[38;5;241m=\u001b[39m \u001b[38;5;28mself\u001b[39m\u001b[38;5;241m.\u001b[39msamples\n",
      "File \u001b[1;32mc:\\Users\\Danil\\AppData\\Local\\Programs\\Python\\Python310\\lib\\site-packages\\torchvision\\datasets\\folder.py:149\u001b[0m, in \u001b[0;36mDatasetFolder.__init__\u001b[1;34m(self, root, loader, extensions, transform, target_transform, is_valid_file, allow_empty)\u001b[0m\n\u001b[0;32m    138\u001b[0m \u001b[38;5;28;01mdef\u001b[39;00m \u001b[38;5;21m__init__\u001b[39m(\n\u001b[0;32m    139\u001b[0m     \u001b[38;5;28mself\u001b[39m,\n\u001b[0;32m    140\u001b[0m     root: Union[\u001b[38;5;28mstr\u001b[39m, Path],\n\u001b[1;32m   (...)\u001b[0m\n\u001b[0;32m    146\u001b[0m     allow_empty: \u001b[38;5;28mbool\u001b[39m \u001b[38;5;241m=\u001b[39m \u001b[38;5;28;01mFalse\u001b[39;00m,\n\u001b[0;32m    147\u001b[0m ) \u001b[38;5;241m-\u001b[39m\u001b[38;5;241m>\u001b[39m \u001b[38;5;28;01mNone\u001b[39;00m:\n\u001b[0;32m    148\u001b[0m     \u001b[38;5;28msuper\u001b[39m()\u001b[38;5;241m.\u001b[39m\u001b[38;5;21m__init__\u001b[39m(root, transform\u001b[38;5;241m=\u001b[39mtransform, target_transform\u001b[38;5;241m=\u001b[39mtarget_transform)\n\u001b[1;32m--> 149\u001b[0m     classes, class_to_idx \u001b[38;5;241m=\u001b[39m \u001b[38;5;28;43mself\u001b[39;49m\u001b[38;5;241;43m.\u001b[39;49m\u001b[43mfind_classes\u001b[49m\u001b[43m(\u001b[49m\u001b[38;5;28;43mself\u001b[39;49m\u001b[38;5;241;43m.\u001b[39;49m\u001b[43mroot\u001b[49m\u001b[43m)\u001b[49m\n\u001b[0;32m    150\u001b[0m     samples \u001b[38;5;241m=\u001b[39m \u001b[38;5;28mself\u001b[39m\u001b[38;5;241m.\u001b[39mmake_dataset(\n\u001b[0;32m    151\u001b[0m         \u001b[38;5;28mself\u001b[39m\u001b[38;5;241m.\u001b[39mroot,\n\u001b[0;32m    152\u001b[0m         class_to_idx\u001b[38;5;241m=\u001b[39mclass_to_idx,\n\u001b[1;32m   (...)\u001b[0m\n\u001b[0;32m    155\u001b[0m         allow_empty\u001b[38;5;241m=\u001b[39mallow_empty,\n\u001b[0;32m    156\u001b[0m     )\n\u001b[0;32m    158\u001b[0m     \u001b[38;5;28mself\u001b[39m\u001b[38;5;241m.\u001b[39mloader \u001b[38;5;241m=\u001b[39m loader\n",
      "File \u001b[1;32mc:\\Users\\Danil\\AppData\\Local\\Programs\\Python\\Python310\\lib\\site-packages\\torchvision\\datasets\\folder.py:234\u001b[0m, in \u001b[0;36mDatasetFolder.find_classes\u001b[1;34m(self, directory)\u001b[0m\n\u001b[0;32m    207\u001b[0m \u001b[38;5;28;01mdef\u001b[39;00m \u001b[38;5;21mfind_classes\u001b[39m(\u001b[38;5;28mself\u001b[39m, directory: Union[\u001b[38;5;28mstr\u001b[39m, Path]) \u001b[38;5;241m-\u001b[39m\u001b[38;5;241m>\u001b[39m Tuple[List[\u001b[38;5;28mstr\u001b[39m], Dict[\u001b[38;5;28mstr\u001b[39m, \u001b[38;5;28mint\u001b[39m]]:\n\u001b[0;32m    208\u001b[0m \u001b[38;5;250m    \u001b[39m\u001b[38;5;124;03m\"\"\"Find the class folders in a dataset structured as follows::\u001b[39;00m\n\u001b[0;32m    209\u001b[0m \n\u001b[0;32m    210\u001b[0m \u001b[38;5;124;03m        directory/\u001b[39;00m\n\u001b[1;32m   (...)\u001b[0m\n\u001b[0;32m    232\u001b[0m \u001b[38;5;124;03m        (Tuple[List[str], Dict[str, int]]): List of all classes and dictionary mapping each class to an index.\u001b[39;00m\n\u001b[0;32m    233\u001b[0m \u001b[38;5;124;03m    \"\"\"\u001b[39;00m\n\u001b[1;32m--> 234\u001b[0m     \u001b[38;5;28;01mreturn\u001b[39;00m \u001b[43mfind_classes\u001b[49m\u001b[43m(\u001b[49m\u001b[43mdirectory\u001b[49m\u001b[43m)\u001b[49m\n",
      "File \u001b[1;32mc:\\Users\\Danil\\AppData\\Local\\Programs\\Python\\Python310\\lib\\site-packages\\torchvision\\datasets\\folder.py:41\u001b[0m, in \u001b[0;36mfind_classes\u001b[1;34m(directory)\u001b[0m\n\u001b[0;32m     36\u001b[0m \u001b[38;5;28;01mdef\u001b[39;00m \u001b[38;5;21mfind_classes\u001b[39m(directory: Union[\u001b[38;5;28mstr\u001b[39m, Path]) \u001b[38;5;241m-\u001b[39m\u001b[38;5;241m>\u001b[39m Tuple[List[\u001b[38;5;28mstr\u001b[39m], Dict[\u001b[38;5;28mstr\u001b[39m, \u001b[38;5;28mint\u001b[39m]]:\n\u001b[0;32m     37\u001b[0m \u001b[38;5;250m    \u001b[39m\u001b[38;5;124;03m\"\"\"Finds the class folders in a dataset.\u001b[39;00m\n\u001b[0;32m     38\u001b[0m \n\u001b[0;32m     39\u001b[0m \u001b[38;5;124;03m    See :class:`DatasetFolder` for details.\u001b[39;00m\n\u001b[0;32m     40\u001b[0m \u001b[38;5;124;03m    \"\"\"\u001b[39;00m\n\u001b[1;32m---> 41\u001b[0m     classes \u001b[38;5;241m=\u001b[39m \u001b[38;5;28msorted\u001b[39m(entry\u001b[38;5;241m.\u001b[39mname \u001b[38;5;28;01mfor\u001b[39;00m entry \u001b[38;5;129;01min\u001b[39;00m \u001b[43mos\u001b[49m\u001b[38;5;241;43m.\u001b[39;49m\u001b[43mscandir\u001b[49m\u001b[43m(\u001b[49m\u001b[43mdirectory\u001b[49m\u001b[43m)\u001b[49m \u001b[38;5;28;01mif\u001b[39;00m entry\u001b[38;5;241m.\u001b[39mis_dir())\n\u001b[0;32m     42\u001b[0m     \u001b[38;5;28;01mif\u001b[39;00m \u001b[38;5;129;01mnot\u001b[39;00m classes:\n\u001b[0;32m     43\u001b[0m         \u001b[38;5;28;01mraise\u001b[39;00m \u001b[38;5;167;01mFileNotFoundError\u001b[39;00m(\u001b[38;5;124mf\u001b[39m\u001b[38;5;124m\"\u001b[39m\u001b[38;5;124mCouldn\u001b[39m\u001b[38;5;124m'\u001b[39m\u001b[38;5;124mt find any class folder in \u001b[39m\u001b[38;5;132;01m{\u001b[39;00mdirectory\u001b[38;5;132;01m}\u001b[39;00m\u001b[38;5;124m.\u001b[39m\u001b[38;5;124m\"\u001b[39m)\n",
      "\u001b[1;31mFileNotFoundError\u001b[0m: [WinError 3] O sistema não pode encontrar o caminho especificado: '../full_face_connected_landmarks2/treino'"
     ]
    }
   ],
   "source": [
    "# dataset_path = '../full_face_connected_landmarks2/'\n",
    "# device = torch.device(\"cuda:0\" if torch.cuda.is_available() else \"cpu\")\n",
    "# print(f\"Dispositivo utilizado: {device}\")\n",
    "\n",
    "#     # Preparar DataLoaders\n",
    "# data_loader_setup = DataLoaderSetup(dataset_path, image_size=224, batch_size=32)\n",
    "# data_loader_treino, data_loader_validacao, num_imagens_treino, num_imagens_validacao, num_classes = data_loader_setup.get_data_loaders()\n",
    "\n",
    "#     # Carregar o modelo\n",
    "# modelo = CustomResNet50(num_classes).get_model().to(device)\n",
    "# nameModel = 'novosModels/fer_full_face_connected_landmarks2.pt'\n",
    "# patience = 5\n",
    "#     # Treinar e validar\n",
    "# trainer = Trainer(modelo, data_loader_treino, data_loader_validacao, num_imagens_treino, num_imagens_validacao, device, num_classes, patience,nameModel)\n",
    "# historico = trainer.treinar_e_validar(epocas=30)\n"
   ]
  }
 ],
 "metadata": {
  "kernelspec": {
   "display_name": "Python 3",
   "language": "python",
   "name": "python3"
  },
  "language_info": {
   "codemirror_mode": {
    "name": "ipython",
    "version": 3
   },
   "file_extension": ".py",
   "mimetype": "text/x-python",
   "name": "python",
   "nbconvert_exporter": "python",
   "pygments_lexer": "ipython3",
   "version": "3.10.0"
  }
 },
 "nbformat": 4,
 "nbformat_minor": 2
}
