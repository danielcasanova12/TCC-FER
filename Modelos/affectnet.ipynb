{
 "cells": [
  {
   "cell_type": "code",
   "execution_count": 22,
   "metadata": {},
   "outputs": [],
   "source": [
    "import numpy as np\n",
    "import torch\n",
    "import torchvision\n",
    "from torchvision import datasets, models, transforms\n",
    "from torch.utils.data import DataLoader\n",
    "import torch.optim as optim\n",
    "import time\n",
    "import torch\n",
    "import torch.nn as nn\n",
    "from torch.optim.lr_scheduler import ReduceLROnPlateau\n",
    "from matplotlib import pyplot as plt\n",
    "import os\n",
    "from sklearn.metrics import accuracy_score, precision_score, recall_score, f1_score, confusion_matrix, classification_report\n",
    "import seaborn as sns\n",
    "\n",
    "# Definir transformações e DataLoader\n",
    "class DataLoaderSetup:\n",
    "    def __init__(self, dataset_path, image_size=224, batch_size=32):\n",
    "        self.dataset_path = dataset_path\n",
    "        self.image_size = image_size\n",
    "        self.batch_size = batch_size\n",
    "\n",
    "    def get_transforms(self):\n",
    "        transformacoes_de_imagens = {\n",
    "            'treino': transforms.Compose([\n",
    "                transforms.RandomHorizontalFlip(),\n",
    "                transforms.RandomResizedCrop(self.image_size, scale=(0.8, 1.0)),\n",
    "                transforms.ColorJitter(brightness=0.2, contrast=0.2, saturation=0.2, hue=0.1),\n",
    "                transforms.RandomAffine(degrees=20, translate=(0.1, 0.1), scale=(0.8, 1.2)),\n",
    "                transforms.ToTensor(),\n",
    "                transforms.Normalize([0.485, 0.456, 0.406], [0.229, 0.224, 0.225])\n",
    "            ]),\n",
    "            'validacao': transforms.Compose([\n",
    "                transforms.Resize(self.image_size),\n",
    "                transforms.CenterCrop(self.image_size),\n",
    "                transforms.ToTensor(),\n",
    "                transforms.Normalize([0.485, 0.456, 0.406], [0.229, 0.224, 0.225])\n",
    "            ])\n",
    "        }\n",
    "        return transformacoes_de_imagens\n",
    "\n",
    "    def load_data(self):\n",
    "        transformacoes = self.get_transforms()\n",
    "        pasta_treino = os.path.join(self.dataset_path, 'treino')\n",
    "        pasta_validacao = os.path.join(self.dataset_path, 'validacao')\n",
    "\n",
    "        data = {\n",
    "            'treino': datasets.ImageFolder(root=pasta_treino, transform=transformacoes['treino']),\n",
    "            'validacao': datasets.ImageFolder(root=pasta_validacao, transform=transformacoes['validacao'])\n",
    "        }\n",
    "        return data\n",
    "\n",
    "    def get_data_loaders(self):\n",
    "        data = self.load_data()\n",
    "        data_loader_treino = DataLoader(data['treino'], batch_size=self.batch_size, shuffle=True)\n",
    "        data_loader_validacao = DataLoader(data['validacao'], batch_size=self.batch_size, shuffle=True)\n",
    "        return data_loader_treino, data_loader_validacao, len(data['treino']), len(data['validacao']), len(data['treino'].classes)\n",
    "\n",
    "# Classe para o modelo\n",
    "class CustomResNet50:\n",
    "    def __init__(self, num_classes):\n",
    "        self.model = models.resnet50(pretrained=True)\n",
    "        for param in self.model.parameters():\n",
    "            param.requires_grad = False  # Congelar as camadas\n",
    "        for param in self.model.layer4.parameters():  # Descongelar o bloco \"layer4\"\n",
    "            param.requires_grad = True\n",
    "\n",
    "        num_features = self.model.fc.in_features\n",
    "        self.model.fc = nn.Sequential(\n",
    "            nn.Linear(num_features, 512),\n",
    "            nn.ReLU(),\n",
    "            nn.Dropout(0.5),\n",
    "            nn.Linear(512, num_classes)\n",
    "        )\n",
    "\n",
    "    def get_model(self):\n",
    "        return self.model\n",
    "\n",
    "class Trainer:\n",
    "    def __init__(self, model, data_loader_treino, data_loader_validacao, num_imagens_treino, num_imagens_validacao, device, num_classes, patience=5, nameModel='model.pt'):\n",
    "        self.model = model\n",
    "        self.data_loader_treino = data_loader_treino\n",
    "        self.data_loader_validacao = data_loader_validacao\n",
    "        self.num_imagens_treino = num_imagens_treino\n",
    "        self.num_imagens_validacao = num_imagens_validacao\n",
    "        self.device = device\n",
    "        self.funcao_erro = nn.CrossEntropyLoss()\n",
    "        self.otimizador = optim.Adam(self.model.parameters(), lr=0.0001, weight_decay=1e-4)\n",
    "        self.scheduler = ReduceLROnPlateau(self.otimizador, mode='min', factor=0.1, patience=3, verbose=True)\n",
    "        self.patience = patience\n",
    "        self.nameModel = nameModel\n",
    "\n",
    "    def treinar_e_validar(self, epocas):\n",
    "        historico = []\n",
    "        melhor_acuracia = 0.0\n",
    "        early_stop_counter = 0\n",
    "\n",
    "        for epoca in range(epocas):\n",
    "            inicio_epoca = time.time()\n",
    "            print(f\"\\n\\nÉpoca: {epoca + 1}/{epocas}\")\n",
    "            erro_treino, acuracia_treino = self.executar_fase('treino')\n",
    "            erro_validacao, acuracia_validacao, predicoes_validacao, labels_validacao = self.executar_fase('validacao', return_predictions=True)\n",
    "\n",
    "            fim_epoca = time.time()\n",
    "            print(f\"Época {epoca + 1}/{epocas}, Treino: Erro: {erro_treino:.4f}, Acurácia: {acuracia_treino * 100:.2f}%, \"\n",
    "                  f\"Validação: Erro: {erro_validacao:.4f}, Acurácia: {acuracia_validacao * 100:.2f}%, Tempo: {fim_epoca - inicio_epoca:.2f}s\")\n",
    "\n",
    "            historico.append([erro_treino, erro_validacao, acuracia_treino, acuracia_validacao])\n",
    "            self.scheduler.step(erro_validacao)\n",
    "\n",
    "            # Early stopping\n",
    "            if acuracia_validacao > melhor_acuracia:\n",
    "                melhor_acuracia = acuracia_validacao\n",
    "                torch.save(self.model.state_dict(), self.nameModel)\n",
    "                early_stop_counter = 0\n",
    "            else:\n",
    "                early_stop_counter += 1\n",
    "\n",
    "            if early_stop_counter >= self.patience:\n",
    "                print(\"Parando o treinamento devido ao early stopping.\")\n",
    "                break\n",
    "\n",
    "        # Calcular métricas finais\n",
    "        self.calcular_metricas(predicoes_validacao, labels_validacao)\n",
    "        return historico\n",
    "\n",
    "    def executar_fase(self, fase, return_predictions=False):\n",
    "        if fase == 'treino':\n",
    "            self.model.train()\n",
    "            data_loader = self.data_loader_treino\n",
    "            num_imagens = self.num_imagens_treino\n",
    "        else:\n",
    "            self.model.eval()\n",
    "            data_loader = self.data_loader_validacao\n",
    "            num_imagens = self.num_imagens_validacao\n",
    "\n",
    "        erro_total = 0.0\n",
    "        acuracia_total = 0.0\n",
    "        todas_predicoes = []\n",
    "        todas_labels = []\n",
    "\n",
    "        with torch.set_grad_enabled(fase == 'treino'):\n",
    "            for entradas, labels in data_loader:\n",
    "                entradas, labels = entradas.to(self.device), labels.to(self.device)\n",
    "\n",
    "                if fase == 'treino':\n",
    "                    self.otimizador.zero_grad()\n",
    "\n",
    "                saidas = self.model(entradas)\n",
    "                erro = self.funcao_erro(saidas, labels)\n",
    "\n",
    "                if fase == 'treino':\n",
    "                    erro.backward()\n",
    "                    self.otimizador.step()\n",
    "\n",
    "                erro_total += erro.item() * entradas.size(0)\n",
    "                _, predicoes = torch.max(saidas, 1)\n",
    "                acuracia_total += (predicoes == labels).sum().item()\n",
    "\n",
    "                if return_predictions:\n",
    "                    todas_predicoes.extend(predicoes.cpu().numpy())\n",
    "                    todas_labels.extend(labels.cpu().numpy())\n",
    "\n",
    "        erro_medio = erro_total / num_imagens\n",
    "        acuracia_media = acuracia_total / num_imagens\n",
    "\n",
    "        if return_predictions:\n",
    "            return erro_medio, acuracia_media, todas_predicoes, todas_labels\n",
    "        else:\n",
    "            return erro_medio, acuracia_media\n",
    "\n",
    "    def calcular_metricas(self, predicoes, labels):\n",
    "        acuracia = accuracy_score(labels, predicoes)\n",
    "        precisao = precision_score(labels, predicoes, average='weighted')\n",
    "        recall = recall_score(labels, predicoes, average='weighted')\n",
    "        f1 = f1_score(labels, predicoes, average='weighted')\n",
    "\n",
    "        print(\"\\nMétricas de Validação:\")\n",
    "        print(f\"Acurácia: {acuracia:.4f}\")\n",
    "        print(f\"Precisão: {precisao:.4f}\")\n",
    "        print(f\"Recall: {recall:.4f}\")\n",
    "        print(f\"F1-Score: {f1:.4f}\")\n",
    "\n",
    "        print(\"\\nRelatório de Classificação:\")\n",
    "        print(classification_report(labels, predicoes))\n",
    "\n",
    "        self.plotar_matriz_confusao(labels, predicoes)\n",
    "\n",
    "    def plotar_matriz_confusao(self, labels, predicoes):\n",
    "        matriz_confusao = confusion_matrix(labels, predicoes)\n",
    "        plt.figure(figsize=(10, 8))\n",
    "        sns.heatmap(matriz_confusao, annot=True, fmt=\"d\", cmap=\"Blues\", xticklabels=self.data_loader_treino.dataset.classes, yticklabels=self.data_loader_treino.dataset.classes)\n",
    "        plt.ylabel('Classe Verdadeira')\n",
    "        plt.xlabel('Classe Prevista')\n",
    "        plt.title('Matriz de Confusão')\n",
    "        plt.show()\n"
   ]
  },
  {
   "cell_type": "markdown",
   "metadata": {},
   "source": [
    "# Dados puros"
   ]
  },
  {
   "cell_type": "code",
   "execution_count": 23,
   "metadata": {},
   "outputs": [
    {
     "name": "stdout",
     "output_type": "stream",
     "text": [
      "Dispositivo utilizado: cuda:0\n"
     ]
    },
    {
     "name": "stderr",
     "output_type": "stream",
     "text": [
      "c:\\Users\\Danil\\AppData\\Local\\Programs\\Python\\Python310\\lib\\site-packages\\torchvision\\models\\_utils.py:208: UserWarning: The parameter 'pretrained' is deprecated since 0.13 and may be removed in the future, please use 'weights' instead.\n",
      "  warnings.warn(\n",
      "c:\\Users\\Danil\\AppData\\Local\\Programs\\Python\\Python310\\lib\\site-packages\\torchvision\\models\\_utils.py:223: UserWarning: Arguments other than a weight enum or `None` for 'weights' are deprecated since 0.13 and may be removed in the future. The current behavior is equivalent to passing `weights=ResNet50_Weights.IMAGENET1K_V1`. You can also use `weights=ResNet50_Weights.DEFAULT` to get the most up-to-date weights.\n",
      "  warnings.warn(msg)\n"
     ]
    }
   ],
   "source": [
    "dataset_path = '../data/affectnet/processed/imagens_processed'\n",
    "device = torch.device(\"cuda:0\" if torch.cuda.is_available() else \"cpu\")\n",
    "print(f\"Dispositivo utilizado: {device}\")\n",
    "\n",
    "    # Preparar DataLoaders\n",
    "data_loader_setup = DataLoaderSetup(dataset_path, image_size=224, batch_size=32)\n",
    "data_loader_treino, data_loader_validacao, num_imagens_treino, num_imagens_validacao, num_classes = data_loader_setup.get_data_loaders()\n",
    "\n",
    "    # Carregar o modelo\n",
    "modelo = CustomResNet50(num_classes).get_model().to(device)\n",
    "nameModel = 'novosModels/fer_dados1.pt'\n",
    "    # Treinar e validar\n",
    "# trainer = Trainer(modelo, data_loader_treino, data_loader_validacao, num_imagens_treino, num_imagens_validacao, device, num_classes, patience,nameModel)\n",
    "# historico = trainer.treinar_e_validar(epocas=30)\n"
   ]
  },
  {
   "cell_type": "code",
   "execution_count": null,
   "metadata": {},
   "outputs": [
    {
     "name": "stdout",
     "output_type": "stream",
     "text": [
      "Treinando com hiperparâmetros: {'epochs': 20, 'lr': 0.0001, 'patience': 3, 'weight_decay': 0.0001}\n"
     ]
    },
    {
     "name": "stderr",
     "output_type": "stream",
     "text": [
      "c:\\Users\\Danil\\AppData\\Local\\Programs\\Python\\Python310\\lib\\site-packages\\torch\\optim\\lr_scheduler.py:60: UserWarning: The verbose parameter is deprecated. Please use get_last_lr() to access the learning rate.\n",
      "  warnings.warn(\n"
     ]
    },
    {
     "name": "stdout",
     "output_type": "stream",
     "text": [
      "\n",
      "Epoch 1/20\n"
     ]
    },
    {
     "name": "stderr",
     "output_type": "stream",
     "text": [
      "                                                                 \r"
     ]
    },
    {
     "name": "stdout",
     "output_type": "stream",
     "text": [
      "Train: Loss: 1.2675, Accuracy: 50.63%\n",
      "Validation: Loss: 1.0304, Accuracy: 59.49%\n",
      "\n",
      "Epoch 2/20\n"
     ]
    },
    {
     "name": "stderr",
     "output_type": "stream",
     "text": [
      "                                                                 \r"
     ]
    },
    {
     "name": "stdout",
     "output_type": "stream",
     "text": [
      "Train: Loss: 1.0560, Accuracy: 60.11%\n",
      "Validation: Loss: 0.9827, Accuracy: 62.45%\n",
      "\n",
      "Epoch 3/20\n"
     ]
    },
    {
     "name": "stderr",
     "output_type": "stream",
     "text": [
      "                                                                 \r"
     ]
    },
    {
     "name": "stdout",
     "output_type": "stream",
     "text": [
      "Train: Loss: 0.9809, Accuracy: 63.33%\n",
      "Validation: Loss: 0.9044, Accuracy: 65.58%\n",
      "\n",
      "Epoch 4/20\n"
     ]
    },
    {
     "name": "stderr",
     "output_type": "stream",
     "text": [
      "                                                                 \r"
     ]
    },
    {
     "name": "stdout",
     "output_type": "stream",
     "text": [
      "Train: Loss: 0.9407, Accuracy: 64.84%\n",
      "Validation: Loss: 0.8877, Accuracy: 66.99%\n",
      "\n",
      "Epoch 5/20\n"
     ]
    },
    {
     "name": "stderr",
     "output_type": "stream",
     "text": [
      "                                                                 \r"
     ]
    },
    {
     "name": "stdout",
     "output_type": "stream",
     "text": [
      "Train: Loss: 0.9017, Accuracy: 66.63%\n",
      "Validation: Loss: 0.9035, Accuracy: 65.89%\n",
      "\n",
      "Epoch 6/20\n"
     ]
    },
    {
     "name": "stderr",
     "output_type": "stream",
     "text": [
      "                                                                 \r"
     ]
    },
    {
     "name": "stdout",
     "output_type": "stream",
     "text": [
      "Train: Loss: 0.8772, Accuracy: 67.73%\n",
      "Validation: Loss: 0.9044, Accuracy: 67.13%\n",
      "\n",
      "Epoch 7/20\n"
     ]
    },
    {
     "name": "stderr",
     "output_type": "stream",
     "text": [
      "                                                                 \r"
     ]
    },
    {
     "name": "stdout",
     "output_type": "stream",
     "text": [
      "Train: Loss: 0.8482, Accuracy: 68.89%\n",
      "Validation: Loss: 0.8928, Accuracy: 67.47%\n",
      "\n",
      "Epoch 8/20\n"
     ]
    },
    {
     "name": "stderr",
     "output_type": "stream",
     "text": [
      "                                                                 \r"
     ]
    },
    {
     "name": "stdout",
     "output_type": "stream",
     "text": [
      "Train: Loss: 0.8252, Accuracy: 69.74%\n",
      "Validation: Loss: 0.9783, Accuracy: 65.82%\n",
      "\n",
      "Epoch 9/20\n"
     ]
    },
    {
     "name": "stderr",
     "output_type": "stream",
     "text": [
      "                                                                 \r"
     ]
    },
    {
     "name": "stdout",
     "output_type": "stream",
     "text": [
      "Train: Loss: 0.7577, Accuracy: 72.25%\n",
      "Validation: Loss: 0.8550, Accuracy: 68.71%\n",
      "\n",
      "Epoch 10/20\n"
     ]
    },
    {
     "name": "stderr",
     "output_type": "stream",
     "text": [
      "                                                                 \r"
     ]
    },
    {
     "name": "stdout",
     "output_type": "stream",
     "text": [
      "Train: Loss: 0.7355, Accuracy: 73.00%\n",
      "Validation: Loss: 0.8439, Accuracy: 68.81%\n",
      "\n",
      "Epoch 11/20\n"
     ]
    },
    {
     "name": "stderr",
     "output_type": "stream",
     "text": [
      "                                                                 \r"
     ]
    },
    {
     "name": "stdout",
     "output_type": "stream",
     "text": [
      "Train: Loss: 0.7269, Accuracy: 73.31%\n",
      "Validation: Loss: 0.8424, Accuracy: 69.57%\n",
      "\n",
      "Epoch 12/20\n"
     ]
    },
    {
     "name": "stderr",
     "output_type": "stream",
     "text": [
      "                                                                 \r"
     ]
    },
    {
     "name": "stdout",
     "output_type": "stream",
     "text": [
      "Train: Loss: 0.7149, Accuracy: 73.57%\n",
      "Validation: Loss: 0.8599, Accuracy: 69.09%\n",
      "\n",
      "Epoch 13/20\n"
     ]
    },
    {
     "name": "stderr",
     "output_type": "stream",
     "text": [
      "                                                                 \r"
     ]
    },
    {
     "name": "stdout",
     "output_type": "stream",
     "text": [
      "Train: Loss: 0.7065, Accuracy: 74.29%\n",
      "Validation: Loss: 0.8534, Accuracy: 69.15%\n",
      "\n",
      "Epoch 14/20\n"
     ]
    },
    {
     "name": "stderr",
     "output_type": "stream",
     "text": [
      "                                                                 \r"
     ]
    },
    {
     "name": "stdout",
     "output_type": "stream",
     "text": [
      "Train: Loss: 0.6977, Accuracy: 74.65%\n",
      "Validation: Loss: 0.8551, Accuracy: 69.77%\n",
      "\n",
      "Epoch 15/20\n"
     ]
    },
    {
     "name": "stderr",
     "output_type": "stream",
     "text": [
      "                                                                 \r"
     ]
    },
    {
     "name": "stdout",
     "output_type": "stream",
     "text": [
      "Train: Loss: 0.6966, Accuracy: 74.62%\n",
      "Validation: Loss: 0.8444, Accuracy: 69.43%\n",
      "\n",
      "Epoch 16/20\n"
     ]
    },
    {
     "name": "stderr",
     "output_type": "stream",
     "text": [
      "                                                                 \r"
     ]
    },
    {
     "name": "stdout",
     "output_type": "stream",
     "text": [
      "Train: Loss: 0.6743, Accuracy: 75.37%\n",
      "Validation: Loss: 0.8520, Accuracy: 69.19%\n",
      "\n",
      "Epoch 17/20\n"
     ]
    },
    {
     "name": "stderr",
     "output_type": "stream",
     "text": [
      "                                                                 \r"
     ]
    },
    {
     "name": "stdout",
     "output_type": "stream",
     "text": [
      "Train: Loss: 0.6753, Accuracy: 75.01%\n",
      "Validation: Loss: 0.8481, Accuracy: 69.22%\n",
      "Early stopping triggered.\n",
      "Novo melhor modelo encontrado com precisão: 0.6977\n",
      "Treinando com hiperparâmetros: {'epochs': 20, 'lr': 0.0001, 'patience': 3, 'weight_decay': 1e-05}\n",
      "\n",
      "Epoch 1/20\n"
     ]
    },
    {
     "name": "stderr",
     "output_type": "stream",
     "text": [
      "                                                                 \r"
     ]
    },
    {
     "name": "stdout",
     "output_type": "stream",
     "text": [
      "Train: Loss: 1.2714, Accuracy: 50.33%\n",
      "Validation: Loss: 1.0896, Accuracy: 59.04%\n",
      "\n",
      "Epoch 2/20\n"
     ]
    },
    {
     "name": "stderr",
     "output_type": "stream",
     "text": [
      "                                                                 \r"
     ]
    },
    {
     "name": "stdout",
     "output_type": "stream",
     "text": [
      "Train: Loss: 1.0550, Accuracy: 60.25%\n",
      "Validation: Loss: 0.9868, Accuracy: 62.86%\n",
      "\n",
      "Epoch 3/20\n"
     ]
    },
    {
     "name": "stderr",
     "output_type": "stream",
     "text": [
      "                                                                 \r"
     ]
    },
    {
     "name": "stdout",
     "output_type": "stream",
     "text": [
      "Train: Loss: 0.9753, Accuracy: 64.04%\n",
      "Validation: Loss: 0.9246, Accuracy: 65.23%\n",
      "\n",
      "Epoch 4/20\n"
     ]
    },
    {
     "name": "stderr",
     "output_type": "stream",
     "text": [
      "                                                                 \r"
     ]
    },
    {
     "name": "stdout",
     "output_type": "stream",
     "text": [
      "Train: Loss: 0.9333, Accuracy: 65.44%\n",
      "Validation: Loss: 0.9006, Accuracy: 66.99%\n",
      "\n",
      "Epoch 5/20\n"
     ]
    },
    {
     "name": "stderr",
     "output_type": "stream",
     "text": [
      "                                                                 \r"
     ]
    },
    {
     "name": "stdout",
     "output_type": "stream",
     "text": [
      "Train: Loss: 0.8991, Accuracy: 66.96%\n",
      "Validation: Loss: 0.9146, Accuracy: 65.65%\n",
      "\n",
      "Epoch 6/20\n"
     ]
    },
    {
     "name": "stderr",
     "output_type": "stream",
     "text": [
      "                                                                 \r"
     ]
    },
    {
     "name": "stdout",
     "output_type": "stream",
     "text": [
      "Train: Loss: 0.8641, Accuracy: 68.26%\n",
      "Validation: Loss: 0.9272, Accuracy: 64.96%\n",
      "\n",
      "Epoch 7/20\n"
     ]
    },
    {
     "name": "stderr",
     "output_type": "stream",
     "text": [
      "                                                                 \r"
     ]
    },
    {
     "name": "stdout",
     "output_type": "stream",
     "text": [
      "Train: Loss: 0.8529, Accuracy: 68.35%\n",
      "Validation: Loss: 0.8852, Accuracy: 67.64%\n",
      "\n",
      "Epoch 8/20\n"
     ]
    },
    {
     "name": "stderr",
     "output_type": "stream",
     "text": [
      "                                                                 \r"
     ]
    },
    {
     "name": "stdout",
     "output_type": "stream",
     "text": [
      "Train: Loss: 0.8267, Accuracy: 69.48%\n",
      "Validation: Loss: 0.8768, Accuracy: 68.81%\n",
      "\n",
      "Epoch 9/20\n"
     ]
    },
    {
     "name": "stderr",
     "output_type": "stream",
     "text": [
      "                                                                 \r"
     ]
    },
    {
     "name": "stdout",
     "output_type": "stream",
     "text": [
      "Train: Loss: 0.8079, Accuracy: 70.58%\n",
      "Validation: Loss: 0.9101, Accuracy: 66.64%\n",
      "\n",
      "Epoch 10/20\n"
     ]
    },
    {
     "name": "stderr",
     "output_type": "stream",
     "text": [
      "                                                                 \r"
     ]
    },
    {
     "name": "stdout",
     "output_type": "stream",
     "text": [
      "Train: Loss: 0.7957, Accuracy: 71.06%\n",
      "Validation: Loss: 0.8859, Accuracy: 68.33%\n",
      "\n",
      "Epoch 11/20\n"
     ]
    },
    {
     "name": "stderr",
     "output_type": "stream",
     "text": [
      "                                                                 \r"
     ]
    },
    {
     "name": "stdout",
     "output_type": "stream",
     "text": [
      "Train: Loss: 0.7691, Accuracy: 71.82%\n",
      "Validation: Loss: 0.8668, Accuracy: 68.02%\n",
      "Early stopping triggered.\n",
      "Treinando com hiperparâmetros: {'epochs': 20, 'lr': 0.0001, 'patience': 5, 'weight_decay': 0.0001}\n",
      "\n",
      "Epoch 1/20\n"
     ]
    },
    {
     "name": "stderr",
     "output_type": "stream",
     "text": [
      "                                                                 \r"
     ]
    },
    {
     "name": "stdout",
     "output_type": "stream",
     "text": [
      "Train: Loss: 1.2603, Accuracy: 50.92%\n",
      "Validation: Loss: 1.0773, Accuracy: 59.01%\n",
      "\n",
      "Epoch 2/20\n"
     ]
    },
    {
     "name": "stderr",
     "output_type": "stream",
     "text": [
      "                                                                 \r"
     ]
    },
    {
     "name": "stdout",
     "output_type": "stream",
     "text": [
      "Train: Loss: 1.0411, Accuracy: 60.98%\n",
      "Validation: Loss: 0.9890, Accuracy: 63.34%\n",
      "\n",
      "Epoch 3/20\n"
     ]
    },
    {
     "name": "stderr",
     "output_type": "stream",
     "text": [
      "                                                                 \r"
     ]
    },
    {
     "name": "stdout",
     "output_type": "stream",
     "text": [
      "Train: Loss: 0.9713, Accuracy: 63.52%\n",
      "Validation: Loss: 0.9009, Accuracy: 65.89%\n",
      "\n",
      "Epoch 4/20\n"
     ]
    },
    {
     "name": "stderr",
     "output_type": "stream",
     "text": [
      "                                                                 \r"
     ]
    },
    {
     "name": "stdout",
     "output_type": "stream",
     "text": [
      "Train: Loss: 0.9240, Accuracy: 65.51%\n",
      "Validation: Loss: 0.8883, Accuracy: 66.40%\n",
      "\n",
      "Epoch 5/20\n"
     ]
    },
    {
     "name": "stderr",
     "output_type": "stream",
     "text": [
      "                                                                 \r"
     ]
    },
    {
     "name": "stdout",
     "output_type": "stream",
     "text": [
      "Train: Loss: 0.8944, Accuracy: 66.88%\n",
      "Validation: Loss: 0.8915, Accuracy: 66.64%\n",
      "\n",
      "Epoch 6/20\n"
     ]
    },
    {
     "name": "stderr",
     "output_type": "stream",
     "text": [
      "                                                                 \r"
     ]
    },
    {
     "name": "stdout",
     "output_type": "stream",
     "text": [
      "Train: Loss: 0.8725, Accuracy: 68.02%\n",
      "Validation: Loss: 0.8705, Accuracy: 67.50%\n",
      "\n",
      "Epoch 7/20\n"
     ]
    },
    {
     "name": "stderr",
     "output_type": "stream",
     "text": [
      "                                                                 \r"
     ]
    },
    {
     "name": "stdout",
     "output_type": "stream",
     "text": [
      "Train: Loss: 0.8479, Accuracy: 68.60%\n",
      "Validation: Loss: 0.8531, Accuracy: 67.85%\n",
      "\n",
      "Epoch 8/20\n"
     ]
    },
    {
     "name": "stderr",
     "output_type": "stream",
     "text": [
      "                                                                 \r"
     ]
    },
    {
     "name": "stdout",
     "output_type": "stream",
     "text": [
      "Train: Loss: 0.8324, Accuracy: 69.51%\n",
      "Validation: Loss: 0.9012, Accuracy: 67.40%\n",
      "\n",
      "Epoch 9/20\n"
     ]
    },
    {
     "name": "stderr",
     "output_type": "stream",
     "text": [
      "                                                                 \r"
     ]
    },
    {
     "name": "stdout",
     "output_type": "stream",
     "text": [
      "Train: Loss: 0.8179, Accuracy: 69.94%\n",
      "Validation: Loss: 0.8889, Accuracy: 67.98%\n",
      "\n",
      "Epoch 10/20\n"
     ]
    },
    {
     "name": "stderr",
     "output_type": "stream",
     "text": [
      "                                                                 \r"
     ]
    },
    {
     "name": "stdout",
     "output_type": "stream",
     "text": [
      "Train: Loss: 0.7916, Accuracy: 70.94%\n",
      "Validation: Loss: 0.8941, Accuracy: 66.85%\n",
      "\n",
      "Epoch 11/20\n"
     ]
    },
    {
     "name": "stderr",
     "output_type": "stream",
     "text": [
      "                                                                 \r"
     ]
    },
    {
     "name": "stdout",
     "output_type": "stream",
     "text": [
      "Train: Loss: 0.7842, Accuracy: 71.42%\n",
      "Validation: Loss: 0.8942, Accuracy: 67.92%\n",
      "\n",
      "Epoch 12/20\n"
     ]
    },
    {
     "name": "stderr",
     "output_type": "stream",
     "text": [
      "                                                                 \r"
     ]
    },
    {
     "name": "stdout",
     "output_type": "stream",
     "text": [
      "Train: Loss: 0.7079, Accuracy: 74.26%\n",
      "Validation: Loss: 0.8435, Accuracy: 69.77%\n",
      "\n",
      "Epoch 13/20\n"
     ]
    },
    {
     "name": "stderr",
     "output_type": "stream",
     "text": [
      "                                                                 \r"
     ]
    },
    {
     "name": "stdout",
     "output_type": "stream",
     "text": [
      "Train: Loss: 0.6818, Accuracy: 75.16%\n",
      "Validation: Loss: 0.8476, Accuracy: 70.32%\n",
      "\n",
      "Epoch 14/20\n"
     ]
    },
    {
     "name": "stderr",
     "output_type": "stream",
     "text": [
      "                                                                 \r"
     ]
    },
    {
     "name": "stdout",
     "output_type": "stream",
     "text": [
      "Train: Loss: 0.6683, Accuracy: 75.60%\n",
      "Validation: Loss: 0.8438, Accuracy: 70.53%\n",
      "\n",
      "Epoch 15/20\n"
     ]
    },
    {
     "name": "stderr",
     "output_type": "stream",
     "text": [
      "                                                                 \r"
     ]
    },
    {
     "name": "stdout",
     "output_type": "stream",
     "text": [
      "Train: Loss: 0.6697, Accuracy: 75.75%\n",
      "Validation: Loss: 0.8651, Accuracy: 69.33%\n",
      "\n",
      "Epoch 16/20\n"
     ]
    },
    {
     "name": "stderr",
     "output_type": "stream",
     "text": [
      "                                                                 \r"
     ]
    },
    {
     "name": "stdout",
     "output_type": "stream",
     "text": [
      "Train: Loss: 0.6532, Accuracy: 76.33%\n",
      "Validation: Loss: 0.8578, Accuracy: 70.22%\n",
      "\n",
      "Epoch 17/20\n"
     ]
    },
    {
     "name": "stderr",
     "output_type": "stream",
     "text": [
      "                                                                 \r"
     ]
    },
    {
     "name": "stdout",
     "output_type": "stream",
     "text": [
      "Train: Loss: 0.6459, Accuracy: 76.55%\n",
      "Validation: Loss: 0.8627, Accuracy: 69.94%\n",
      "\n",
      "Epoch 18/20\n"
     ]
    },
    {
     "name": "stderr",
     "output_type": "stream",
     "text": [
      "                                                                 \r"
     ]
    },
    {
     "name": "stdout",
     "output_type": "stream",
     "text": [
      "Train: Loss: 0.6366, Accuracy: 76.73%\n",
      "Validation: Loss: 0.8680, Accuracy: 69.84%\n",
      "\n",
      "Epoch 19/20\n"
     ]
    },
    {
     "name": "stderr",
     "output_type": "stream",
     "text": [
      "                                                                 \r"
     ]
    },
    {
     "name": "stdout",
     "output_type": "stream",
     "text": [
      "Train: Loss: 0.6359, Accuracy: 76.94%\n",
      "Validation: Loss: 0.8687, Accuracy: 69.88%\n",
      "Early stopping triggered.\n",
      "Novo melhor modelo encontrado com precisão: 0.7053\n",
      "Treinando com hiperparâmetros: {'epochs': 20, 'lr': 0.0001, 'patience': 5, 'weight_decay': 1e-05}\n",
      "\n",
      "Epoch 1/20\n"
     ]
    },
    {
     "name": "stderr",
     "output_type": "stream",
     "text": [
      "                                                                 \r"
     ]
    },
    {
     "name": "stdout",
     "output_type": "stream",
     "text": [
      "Train: Loss: 1.2751, Accuracy: 50.16%\n",
      "Validation: Loss: 1.0590, Accuracy: 59.73%\n",
      "\n",
      "Epoch 2/20\n"
     ]
    },
    {
     "name": "stderr",
     "output_type": "stream",
     "text": [
      "                                                                 \r"
     ]
    },
    {
     "name": "stdout",
     "output_type": "stream",
     "text": [
      "Train: Loss: 1.0455, Accuracy: 60.86%\n",
      "Validation: Loss: 0.9314, Accuracy: 64.92%\n",
      "\n",
      "Epoch 3/20\n"
     ]
    },
    {
     "name": "stderr",
     "output_type": "stream",
     "text": [
      "                                                                 \r"
     ]
    },
    {
     "name": "stdout",
     "output_type": "stream",
     "text": [
      "Train: Loss: 0.9783, Accuracy: 63.55%\n",
      "Validation: Loss: 0.9274, Accuracy: 65.13%\n",
      "\n",
      "Epoch 4/20\n"
     ]
    },
    {
     "name": "stderr",
     "output_type": "stream",
     "text": [
      "                                                                 \r"
     ]
    },
    {
     "name": "stdout",
     "output_type": "stream",
     "text": [
      "Train: Loss: 0.9315, Accuracy: 65.52%\n",
      "Validation: Loss: 0.9409, Accuracy: 66.09%\n",
      "\n",
      "Epoch 5/20\n"
     ]
    },
    {
     "name": "stderr",
     "output_type": "stream",
     "text": [
      "                                                                 \r"
     ]
    },
    {
     "name": "stdout",
     "output_type": "stream",
     "text": [
      "Train: Loss: 0.9023, Accuracy: 66.47%\n",
      "Validation: Loss: 0.8916, Accuracy: 66.85%\n",
      "\n",
      "Epoch 6/20\n"
     ]
    },
    {
     "name": "stderr",
     "output_type": "stream",
     "text": [
      "                                                                 \r"
     ]
    },
    {
     "name": "stdout",
     "output_type": "stream",
     "text": [
      "Train: Loss: 0.8766, Accuracy: 67.71%\n",
      "Validation: Loss: 0.8888, Accuracy: 67.33%\n",
      "\n",
      "Epoch 7/20\n"
     ]
    },
    {
     "name": "stderr",
     "output_type": "stream",
     "text": [
      "                                                                 \r"
     ]
    },
    {
     "name": "stdout",
     "output_type": "stream",
     "text": [
      "Train: Loss: 0.8513, Accuracy: 68.69%\n",
      "Validation: Loss: 0.8767, Accuracy: 67.64%\n",
      "\n",
      "Epoch 8/20\n"
     ]
    },
    {
     "name": "stderr",
     "output_type": "stream",
     "text": [
      "                                                                 \r"
     ]
    },
    {
     "name": "stdout",
     "output_type": "stream",
     "text": [
      "Train: Loss: 0.8325, Accuracy: 69.34%\n",
      "Validation: Loss: 0.8881, Accuracy: 65.99%\n",
      "\n",
      "Epoch 9/20\n"
     ]
    },
    {
     "name": "stderr",
     "output_type": "stream",
     "text": [
      "                                                                 \r"
     ]
    },
    {
     "name": "stdout",
     "output_type": "stream",
     "text": [
      "Train: Loss: 0.8058, Accuracy: 70.18%\n",
      "Validation: Loss: 0.9029, Accuracy: 66.85%\n",
      "\n",
      "Epoch 10/20\n"
     ]
    },
    {
     "name": "stderr",
     "output_type": "stream",
     "text": [
      "                                                                 \r"
     ]
    },
    {
     "name": "stdout",
     "output_type": "stream",
     "text": [
      "Train: Loss: 0.7892, Accuracy: 71.01%\n",
      "Validation: Loss: 0.9255, Accuracy: 67.40%\n",
      "\n",
      "Epoch 11/20\n"
     ]
    },
    {
     "name": "stderr",
     "output_type": "stream",
     "text": [
      "                                                                 \r"
     ]
    },
    {
     "name": "stdout",
     "output_type": "stream",
     "text": [
      "Train: Loss: 0.7689, Accuracy: 71.48%\n",
      "Validation: Loss: 0.8721, Accuracy: 68.02%\n",
      "\n",
      "Epoch 12/20\n"
     ]
    },
    {
     "name": "stderr",
     "output_type": "stream",
     "text": [
      "                                                                 \r"
     ]
    },
    {
     "name": "stdout",
     "output_type": "stream",
     "text": [
      "Train: Loss: 0.7569, Accuracy: 72.27%\n",
      "Validation: Loss: 0.8825, Accuracy: 68.23%\n",
      "\n",
      "Epoch 13/20\n"
     ]
    },
    {
     "name": "stderr",
     "output_type": "stream",
     "text": [
      "                                                                 \r"
     ]
    },
    {
     "name": "stdout",
     "output_type": "stream",
     "text": [
      "Train: Loss: 0.7393, Accuracy: 72.77%\n",
      "Validation: Loss: 0.9086, Accuracy: 67.81%\n",
      "\n",
      "Epoch 14/20\n"
     ]
    },
    {
     "name": "stderr",
     "output_type": "stream",
     "text": [
      "                                                                 \r"
     ]
    },
    {
     "name": "stdout",
     "output_type": "stream",
     "text": [
      "Train: Loss: 0.7312, Accuracy: 73.17%\n",
      "Validation: Loss: 0.8821, Accuracy: 68.40%\n",
      "\n",
      "Epoch 15/20\n"
     ]
    },
    {
     "name": "stderr",
     "output_type": "stream",
     "text": [
      "                                                                 \r"
     ]
    },
    {
     "name": "stdout",
     "output_type": "stream",
     "text": [
      "Train: Loss: 0.7174, Accuracy: 73.98%\n",
      "Validation: Loss: 0.8708, Accuracy: 68.84%\n",
      "\n",
      "Epoch 16/20\n"
     ]
    },
    {
     "name": "stderr",
     "output_type": "stream",
     "text": [
      "                                                                 \r"
     ]
    },
    {
     "name": "stdout",
     "output_type": "stream",
     "text": [
      "Train: Loss: 0.6917, Accuracy: 74.76%\n",
      "Validation: Loss: 0.9059, Accuracy: 68.12%\n",
      "\n",
      "Epoch 17/20\n"
     ]
    },
    {
     "name": "stderr",
     "output_type": "stream",
     "text": [
      "                                                                 \r"
     ]
    },
    {
     "name": "stdout",
     "output_type": "stream",
     "text": [
      "Train: Loss: 0.6834, Accuracy: 75.30%\n",
      "Validation: Loss: 0.9016, Accuracy: 69.02%\n",
      "\n",
      "Epoch 18/20\n"
     ]
    },
    {
     "name": "stderr",
     "output_type": "stream",
     "text": [
      "                                                                 \r"
     ]
    },
    {
     "name": "stdout",
     "output_type": "stream",
     "text": [
      "Train: Loss: 0.6684, Accuracy: 75.60%\n",
      "Validation: Loss: 0.9159, Accuracy: 67.16%\n",
      "\n",
      "Epoch 19/20\n"
     ]
    },
    {
     "name": "stderr",
     "output_type": "stream",
     "text": [
      "                                                                 \r"
     ]
    },
    {
     "name": "stdout",
     "output_type": "stream",
     "text": [
      "Train: Loss: 0.6624, Accuracy: 75.79%\n",
      "Validation: Loss: 0.9372, Accuracy: 66.71%\n",
      "\n",
      "Epoch 20/20\n"
     ]
    },
    {
     "name": "stderr",
     "output_type": "stream",
     "text": [
      "                                                                 \r"
     ]
    },
    {
     "name": "stdout",
     "output_type": "stream",
     "text": [
      "Train: Loss: 0.5909, Accuracy: 78.50%\n",
      "Validation: Loss: 0.9101, Accuracy: 69.60%\n",
      "Treinando com hiperparâmetros: {'epochs': 20, 'lr': 0.001, 'patience': 3, 'weight_decay': 0.0001}\n",
      "\n",
      "Epoch 1/20\n"
     ]
    },
    {
     "name": "stderr",
     "output_type": "stream",
     "text": [
      "                                                                 \r"
     ]
    },
    {
     "name": "stdout",
     "output_type": "stream",
     "text": [
      "Train: Loss: 1.3434, Accuracy: 47.23%\n",
      "Validation: Loss: 1.1953, Accuracy: 52.99%\n",
      "\n",
      "Epoch 2/20\n"
     ]
    },
    {
     "name": "stderr",
     "output_type": "stream",
     "text": [
      "                                                                 \r"
     ]
    },
    {
     "name": "stdout",
     "output_type": "stream",
     "text": [
      "Train: Loss: 1.1863, Accuracy: 53.34%\n",
      "Validation: Loss: 1.0690, Accuracy: 55.85%\n",
      "\n",
      "Epoch 3/20\n"
     ]
    },
    {
     "name": "stderr",
     "output_type": "stream",
     "text": [
      "                                                                 \r"
     ]
    },
    {
     "name": "stdout",
     "output_type": "stream",
     "text": [
      "Train: Loss: 1.1188, Accuracy: 55.87%\n",
      "Validation: Loss: 1.1347, Accuracy: 55.88%\n",
      "\n",
      "Epoch 4/20\n"
     ]
    },
    {
     "name": "stderr",
     "output_type": "stream",
     "text": [
      "                                                                 \r"
     ]
    },
    {
     "name": "stdout",
     "output_type": "stream",
     "text": [
      "Train: Loss: 1.0954, Accuracy: 57.42%\n",
      "Validation: Loss: 1.0837, Accuracy: 58.36%\n",
      "\n",
      "Epoch 5/20\n"
     ]
    },
    {
     "name": "stderr",
     "output_type": "stream",
     "text": [
      "                                                                 \r"
     ]
    },
    {
     "name": "stdout",
     "output_type": "stream",
     "text": [
      "Train: Loss: 1.0503, Accuracy: 59.74%\n",
      "Validation: Loss: 1.0521, Accuracy: 59.77%\n",
      "\n",
      "Epoch 6/20\n"
     ]
    },
    {
     "name": "stderr",
     "output_type": "stream",
     "text": [
      "                                                                 \r"
     ]
    },
    {
     "name": "stdout",
     "output_type": "stream",
     "text": [
      "Train: Loss: 1.0105, Accuracy: 61.94%\n",
      "Validation: Loss: 1.0258, Accuracy: 62.35%\n",
      "\n",
      "Epoch 7/20\n"
     ]
    },
    {
     "name": "stderr",
     "output_type": "stream",
     "text": [
      "                                                                 \r"
     ]
    },
    {
     "name": "stdout",
     "output_type": "stream",
     "text": [
      "Train: Loss: 0.9800, Accuracy: 63.08%\n",
      "Validation: Loss: 0.9144, Accuracy: 65.10%\n",
      "\n",
      "Epoch 8/20\n"
     ]
    },
    {
     "name": "stderr",
     "output_type": "stream",
     "text": [
      "                                                                 \r"
     ]
    },
    {
     "name": "stdout",
     "output_type": "stream",
     "text": [
      "Train: Loss: 0.9439, Accuracy: 64.76%\n",
      "Validation: Loss: 0.9632, Accuracy: 65.13%\n",
      "\n",
      "Epoch 9/20\n"
     ]
    },
    {
     "name": "stderr",
     "output_type": "stream",
     "text": [
      "                                                                 \r"
     ]
    },
    {
     "name": "stdout",
     "output_type": "stream",
     "text": [
      "Train: Loss: 0.9328, Accuracy: 65.22%\n",
      "Validation: Loss: 0.9109, Accuracy: 66.95%\n",
      "\n",
      "Epoch 10/20\n"
     ]
    },
    {
     "name": "stderr",
     "output_type": "stream",
     "text": [
      "                                                                 \r"
     ]
    },
    {
     "name": "stdout",
     "output_type": "stream",
     "text": [
      "Train: Loss: 0.9193, Accuracy: 65.87%\n",
      "Validation: Loss: 0.8884, Accuracy: 67.23%\n",
      "\n",
      "Epoch 11/20\n"
     ]
    },
    {
     "name": "stderr",
     "output_type": "stream",
     "text": [
      "                                                                 \r"
     ]
    },
    {
     "name": "stdout",
     "output_type": "stream",
     "text": [
      "Train: Loss: 0.8978, Accuracy: 66.55%\n",
      "Validation: Loss: 0.8983, Accuracy: 66.33%\n",
      "\n",
      "Epoch 12/20\n"
     ]
    },
    {
     "name": "stderr",
     "output_type": "stream",
     "text": [
      "                                                                 \r"
     ]
    },
    {
     "name": "stdout",
     "output_type": "stream",
     "text": [
      "Train: Loss: 0.8818, Accuracy: 67.79%\n",
      "Validation: Loss: 0.8982, Accuracy: 66.71%\n",
      "\n",
      "Epoch 13/20\n"
     ]
    },
    {
     "name": "stderr",
     "output_type": "stream",
     "text": [
      "                                                                 \r"
     ]
    },
    {
     "name": "stdout",
     "output_type": "stream",
     "text": [
      "Train: Loss: 0.8709, Accuracy: 68.08%\n",
      "Validation: Loss: 0.9283, Accuracy: 65.75%\n",
      "Early stopping triggered.\n",
      "Treinando com hiperparâmetros: {'epochs': 20, 'lr': 0.001, 'patience': 3, 'weight_decay': 1e-05}\n",
      "\n",
      "Epoch 1/20\n"
     ]
    },
    {
     "name": "stderr",
     "output_type": "stream",
     "text": [
      "                                                                 \r"
     ]
    },
    {
     "name": "stdout",
     "output_type": "stream",
     "text": [
      "Train: Loss: 1.3419, Accuracy: 46.78%\n",
      "Validation: Loss: 1.1630, Accuracy: 54.75%\n",
      "\n",
      "Epoch 2/20\n"
     ]
    },
    {
     "name": "stderr",
     "output_type": "stream",
     "text": [
      "                                                                 \r"
     ]
    },
    {
     "name": "stdout",
     "output_type": "stream",
     "text": [
      "Train: Loss: 1.1699, Accuracy: 53.95%\n",
      "Validation: Loss: 1.0427, Accuracy: 57.46%\n",
      "\n",
      "Epoch 3/20\n"
     ]
    },
    {
     "name": "stderr",
     "output_type": "stream",
     "text": [
      "                                                                 \r"
     ]
    },
    {
     "name": "stdout",
     "output_type": "stream",
     "text": [
      "Train: Loss: 1.1039, Accuracy: 56.56%\n",
      "Validation: Loss: 1.0012, Accuracy: 61.24%\n",
      "\n",
      "Epoch 4/20\n"
     ]
    },
    {
     "name": "stderr",
     "output_type": "stream",
     "text": [
      "                                                                 \r"
     ]
    },
    {
     "name": "stdout",
     "output_type": "stream",
     "text": [
      "Train: Loss: 1.0612, Accuracy: 59.28%\n",
      "Validation: Loss: 0.9601, Accuracy: 62.96%\n",
      "\n",
      "Epoch 5/20\n"
     ]
    },
    {
     "name": "stderr",
     "output_type": "stream",
     "text": [
      "                                                                 \r"
     ]
    },
    {
     "name": "stdout",
     "output_type": "stream",
     "text": [
      "Train: Loss: 1.0044, Accuracy: 62.15%\n",
      "Validation: Loss: 0.9201, Accuracy: 64.92%\n",
      "\n",
      "Epoch 6/20\n"
     ]
    },
    {
     "name": "stderr",
     "output_type": "stream",
     "text": [
      "                                                                 \r"
     ]
    },
    {
     "name": "stdout",
     "output_type": "stream",
     "text": [
      "Train: Loss: 0.9737, Accuracy: 63.45%\n",
      "Validation: Loss: 0.9312, Accuracy: 64.86%\n",
      "\n",
      "Epoch 7/20\n"
     ]
    },
    {
     "name": "stderr",
     "output_type": "stream",
     "text": [
      "                                                                 \r"
     ]
    },
    {
     "name": "stdout",
     "output_type": "stream",
     "text": [
      "Train: Loss: 0.9434, Accuracy: 64.79%\n",
      "Validation: Loss: 0.9055, Accuracy: 66.20%\n",
      "\n",
      "Epoch 8/20\n"
     ]
    },
    {
     "name": "stderr",
     "output_type": "stream",
     "text": [
      "                                                                 \r"
     ]
    },
    {
     "name": "stdout",
     "output_type": "stream",
     "text": [
      "Train: Loss: 0.9152, Accuracy: 66.27%\n",
      "Validation: Loss: 0.8950, Accuracy: 67.09%\n",
      "\n",
      "Epoch 9/20\n"
     ]
    },
    {
     "name": "stderr",
     "output_type": "stream",
     "text": [
      "                                                                 \r"
     ]
    },
    {
     "name": "stdout",
     "output_type": "stream",
     "text": [
      "Train: Loss: 0.8931, Accuracy: 66.93%\n",
      "Validation: Loss: 0.8801, Accuracy: 66.27%\n",
      "\n",
      "Epoch 10/20\n"
     ]
    },
    {
     "name": "stderr",
     "output_type": "stream",
     "text": [
      "                                                                 \r"
     ]
    },
    {
     "name": "stdout",
     "output_type": "stream",
     "text": [
      "Train: Loss: 0.8825, Accuracy: 67.40%\n",
      "Validation: Loss: 0.9908, Accuracy: 64.34%\n",
      "\n",
      "Epoch 11/20\n"
     ]
    },
    {
     "name": "stderr",
     "output_type": "stream",
     "text": [
      "                                                                 \r"
     ]
    },
    {
     "name": "stdout",
     "output_type": "stream",
     "text": [
      "Train: Loss: 0.8566, Accuracy: 68.15%\n",
      "Validation: Loss: 0.8520, Accuracy: 68.09%\n",
      "\n",
      "Epoch 12/20\n"
     ]
    },
    {
     "name": "stderr",
     "output_type": "stream",
     "text": [
      "                                                                 \r"
     ]
    },
    {
     "name": "stdout",
     "output_type": "stream",
     "text": [
      "Train: Loss: 0.8449, Accuracy: 68.79%\n",
      "Validation: Loss: 0.9277, Accuracy: 65.99%\n",
      "\n",
      "Epoch 13/20\n"
     ]
    },
    {
     "name": "stderr",
     "output_type": "stream",
     "text": [
      "                                                                 \r"
     ]
    },
    {
     "name": "stdout",
     "output_type": "stream",
     "text": [
      "Train: Loss: 0.8325, Accuracy: 69.46%\n",
      "Validation: Loss: 0.8618, Accuracy: 68.60%\n",
      "\n",
      "Epoch 14/20\n"
     ]
    },
    {
     "name": "stderr",
     "output_type": "stream",
     "text": [
      "                                                                 \r"
     ]
    },
    {
     "name": "stdout",
     "output_type": "stream",
     "text": [
      "Train: Loss: 0.8147, Accuracy: 69.75%\n",
      "Validation: Loss: 0.8369, Accuracy: 69.50%\n",
      "\n",
      "Epoch 15/20\n"
     ]
    },
    {
     "name": "stderr",
     "output_type": "stream",
     "text": [
      "                                                                 \r"
     ]
    },
    {
     "name": "stdout",
     "output_type": "stream",
     "text": [
      "Train: Loss: 0.8001, Accuracy: 70.78%\n",
      "Validation: Loss: 0.8681, Accuracy: 68.54%\n",
      "\n",
      "Epoch 16/20\n"
     ]
    },
    {
     "name": "stderr",
     "output_type": "stream",
     "text": [
      "                                                                 \r"
     ]
    },
    {
     "name": "stdout",
     "output_type": "stream",
     "text": [
      "Train: Loss: 0.7923, Accuracy: 71.14%\n",
      "Validation: Loss: 0.9023, Accuracy: 66.82%\n",
      "\n",
      "Epoch 17/20\n"
     ]
    },
    {
     "name": "stderr",
     "output_type": "stream",
     "text": [
      "                                                                 \r"
     ]
    },
    {
     "name": "stdout",
     "output_type": "stream",
     "text": [
      "Train: Loss: 0.7845, Accuracy: 71.32%\n",
      "Validation: Loss: 0.8478, Accuracy: 69.70%\n",
      "\n",
      "Epoch 18/20\n"
     ]
    },
    {
     "name": "stderr",
     "output_type": "stream",
     "text": [
      "                                                                 \r"
     ]
    },
    {
     "name": "stdout",
     "output_type": "stream",
     "text": [
      "Train: Loss: 0.7770, Accuracy: 71.71%\n",
      "Validation: Loss: 0.9144, Accuracy: 67.26%\n",
      "\n",
      "Epoch 19/20\n"
     ]
    },
    {
     "name": "stderr",
     "output_type": "stream",
     "text": [
      "                                                                 \r"
     ]
    },
    {
     "name": "stdout",
     "output_type": "stream",
     "text": [
      "Train: Loss: 0.7172, Accuracy: 73.91%\n",
      "Validation: Loss: 0.8455, Accuracy: 69.57%\n",
      "\n",
      "Epoch 20/20\n"
     ]
    },
    {
     "name": "stderr",
     "output_type": "stream",
     "text": [
      "                                                                 \r"
     ]
    },
    {
     "name": "stdout",
     "output_type": "stream",
     "text": [
      "Train: Loss: 0.6919, Accuracy: 74.54%\n",
      "Validation: Loss: 0.8470, Accuracy: 69.50%\n",
      "Early stopping triggered.\n",
      "Treinando com hiperparâmetros: {'epochs': 20, 'lr': 0.001, 'patience': 5, 'weight_decay': 0.0001}\n",
      "\n",
      "Epoch 1/20\n"
     ]
    },
    {
     "name": "stderr",
     "output_type": "stream",
     "text": [
      "                                                                 \r"
     ]
    },
    {
     "name": "stdout",
     "output_type": "stream",
     "text": [
      "Train: Loss: 1.3421, Accuracy: 47.56%\n",
      "Validation: Loss: 1.1320, Accuracy: 55.19%\n",
      "\n",
      "Epoch 2/20\n"
     ]
    },
    {
     "name": "stderr",
     "output_type": "stream",
     "text": [
      "                                                                 \r"
     ]
    },
    {
     "name": "stdout",
     "output_type": "stream",
     "text": [
      "Train: Loss: 1.1780, Accuracy: 53.69%\n",
      "Validation: Loss: 1.1047, Accuracy: 57.19%\n",
      "\n",
      "Epoch 3/20\n"
     ]
    },
    {
     "name": "stderr",
     "output_type": "stream",
     "text": [
      "                                                                 \r"
     ]
    },
    {
     "name": "stdout",
     "output_type": "stream",
     "text": [
      "Train: Loss: 1.1164, Accuracy: 56.50%\n",
      "Validation: Loss: 1.0711, Accuracy: 58.25%\n",
      "\n",
      "Epoch 4/20\n"
     ]
    },
    {
     "name": "stderr",
     "output_type": "stream",
     "text": [
      "                                                                 \r"
     ]
    },
    {
     "name": "stdout",
     "output_type": "stream",
     "text": [
      "Train: Loss: 1.0714, Accuracy: 58.74%\n",
      "Validation: Loss: 1.1009, Accuracy: 57.91%\n",
      "\n",
      "Epoch 5/20\n"
     ]
    },
    {
     "name": "stderr",
     "output_type": "stream",
     "text": [
      "                                                                 \r"
     ]
    },
    {
     "name": "stdout",
     "output_type": "stream",
     "text": [
      "Train: Loss: 1.0247, Accuracy: 60.89%\n",
      "Validation: Loss: 0.9522, Accuracy: 62.93%\n",
      "\n",
      "Epoch 6/20\n"
     ]
    },
    {
     "name": "stderr",
     "output_type": "stream",
     "text": [
      "                                                                 \r"
     ]
    },
    {
     "name": "stdout",
     "output_type": "stream",
     "text": [
      "Train: Loss: 0.9900, Accuracy: 62.83%\n",
      "Validation: Loss: 0.9519, Accuracy: 64.24%\n",
      "\n",
      "Epoch 7/20\n"
     ]
    },
    {
     "name": "stderr",
     "output_type": "stream",
     "text": [
      "                                                                 \r"
     ]
    },
    {
     "name": "stdout",
     "output_type": "stream",
     "text": [
      "Train: Loss: 0.9602, Accuracy: 64.28%\n",
      "Validation: Loss: 1.0092, Accuracy: 63.76%\n",
      "\n",
      "Epoch 8/20\n"
     ]
    },
    {
     "name": "stderr",
     "output_type": "stream",
     "text": [
      "                                                                 \r"
     ]
    },
    {
     "name": "stdout",
     "output_type": "stream",
     "text": [
      "Train: Loss: 0.9358, Accuracy: 65.48%\n",
      "Validation: Loss: 0.8878, Accuracy: 66.88%\n",
      "\n",
      "Epoch 9/20\n"
     ]
    },
    {
     "name": "stderr",
     "output_type": "stream",
     "text": [
      "                                                                 \r"
     ]
    },
    {
     "name": "stdout",
     "output_type": "stream",
     "text": [
      "Train: Loss: 0.9194, Accuracy: 65.85%\n",
      "Validation: Loss: 0.9246, Accuracy: 65.17%\n",
      "\n",
      "Epoch 10/20\n"
     ]
    },
    {
     "name": "stderr",
     "output_type": "stream",
     "text": [
      "                                                                 \r"
     ]
    },
    {
     "name": "stdout",
     "output_type": "stream",
     "text": [
      "Train: Loss: 0.9006, Accuracy: 66.86%\n",
      "Validation: Loss: 0.8860, Accuracy: 67.19%\n",
      "\n",
      "Epoch 11/20\n"
     ]
    },
    {
     "name": "stderr",
     "output_type": "stream",
     "text": [
      "                                                                 \r"
     ]
    },
    {
     "name": "stdout",
     "output_type": "stream",
     "text": [
      "Train: Loss: 0.8866, Accuracy: 67.25%\n",
      "Validation: Loss: 0.9077, Accuracy: 67.06%\n",
      "\n",
      "Epoch 12/20\n"
     ]
    },
    {
     "name": "stderr",
     "output_type": "stream",
     "text": [
      "                                                                 \r"
     ]
    },
    {
     "name": "stdout",
     "output_type": "stream",
     "text": [
      "Train: Loss: 0.8776, Accuracy: 67.30%\n",
      "Validation: Loss: 0.8607, Accuracy: 68.16%\n",
      "\n",
      "Epoch 13/20\n"
     ]
    },
    {
     "name": "stderr",
     "output_type": "stream",
     "text": [
      "                                                                 \r"
     ]
    },
    {
     "name": "stdout",
     "output_type": "stream",
     "text": [
      "Train: Loss: 0.8716, Accuracy: 67.86%\n",
      "Validation: Loss: 0.9088, Accuracy: 66.85%\n",
      "\n",
      "Epoch 14/20\n"
     ]
    },
    {
     "name": "stderr",
     "output_type": "stream",
     "text": [
      "                                                                 \r"
     ]
    },
    {
     "name": "stdout",
     "output_type": "stream",
     "text": [
      "Train: Loss: 0.8485, Accuracy: 69.00%\n",
      "Validation: Loss: 0.8697, Accuracy: 67.78%\n",
      "\n",
      "Epoch 15/20\n"
     ]
    },
    {
     "name": "stderr",
     "output_type": "stream",
     "text": [
      "                                                                 \r"
     ]
    },
    {
     "name": "stdout",
     "output_type": "stream",
     "text": [
      "Train: Loss: 0.8438, Accuracy: 68.81%\n",
      "Validation: Loss: 0.8729, Accuracy: 67.50%\n",
      "\n",
      "Epoch 16/20\n"
     ]
    },
    {
     "name": "stderr",
     "output_type": "stream",
     "text": [
      "                                                                 \r"
     ]
    },
    {
     "name": "stdout",
     "output_type": "stream",
     "text": [
      "Train: Loss: 0.8380, Accuracy: 68.94%\n",
      "Validation: Loss: 0.8711, Accuracy: 67.47%\n",
      "\n",
      "Epoch 17/20\n"
     ]
    },
    {
     "name": "stderr",
     "output_type": "stream",
     "text": [
      "                                                                 \r"
     ]
    },
    {
     "name": "stdout",
     "output_type": "stream",
     "text": [
      "Train: Loss: 0.7803, Accuracy: 71.04%\n",
      "Validation: Loss: 0.8237, Accuracy: 69.67%\n",
      "\n",
      "Epoch 18/20\n"
     ]
    },
    {
     "name": "stderr",
     "output_type": "stream",
     "text": [
      "                                                                 \r"
     ]
    },
    {
     "name": "stdout",
     "output_type": "stream",
     "text": [
      "Train: Loss: 0.7544, Accuracy: 72.33%\n",
      "Validation: Loss: 0.8253, Accuracy: 69.84%\n",
      "\n",
      "Epoch 19/20\n"
     ]
    },
    {
     "name": "stderr",
     "output_type": "stream",
     "text": [
      "                                                                 \r"
     ]
    },
    {
     "name": "stdout",
     "output_type": "stream",
     "text": [
      "Train: Loss: 0.7496, Accuracy: 72.38%\n",
      "Validation: Loss: 0.8253, Accuracy: 70.12%\n",
      "\n",
      "Epoch 20/20\n"
     ]
    },
    {
     "name": "stderr",
     "output_type": "stream",
     "text": [
      "                                                                 \r"
     ]
    },
    {
     "name": "stdout",
     "output_type": "stream",
     "text": [
      "Train: Loss: 0.7416, Accuracy: 72.76%\n",
      "Validation: Loss: 0.8305, Accuracy: 69.81%\n",
      "Treinando com hiperparâmetros: {'epochs': 20, 'lr': 0.001, 'patience': 5, 'weight_decay': 1e-05}\n",
      "\n",
      "Epoch 1/20\n"
     ]
    },
    {
     "name": "stderr",
     "output_type": "stream",
     "text": [
      "                                                                 \r"
     ]
    },
    {
     "name": "stdout",
     "output_type": "stream",
     "text": [
      "Train: Loss: 1.3171, Accuracy: 47.91%\n",
      "Validation: Loss: 1.2579, Accuracy: 50.14%\n",
      "\n",
      "Epoch 2/20\n"
     ]
    },
    {
     "name": "stderr",
     "output_type": "stream",
     "text": [
      "                                                                 \r"
     ]
    },
    {
     "name": "stdout",
     "output_type": "stream",
     "text": [
      "Train: Loss: 1.1582, Accuracy: 54.79%\n",
      "Validation: Loss: 1.1831, Accuracy: 56.29%\n",
      "\n",
      "Epoch 3/20\n"
     ]
    },
    {
     "name": "stderr",
     "output_type": "stream",
     "text": [
      "                                                                 \r"
     ]
    },
    {
     "name": "stdout",
     "output_type": "stream",
     "text": [
      "Train: Loss: 1.1029, Accuracy: 57.39%\n",
      "Validation: Loss: 1.0317, Accuracy: 60.18%\n",
      "\n",
      "Epoch 4/20\n"
     ]
    },
    {
     "name": "stderr",
     "output_type": "stream",
     "text": [
      "                                                                 \r"
     ]
    },
    {
     "name": "stdout",
     "output_type": "stream",
     "text": [
      "Train: Loss: 1.0623, Accuracy: 59.59%\n",
      "Validation: Loss: 1.0235, Accuracy: 60.04%\n",
      "\n",
      "Epoch 5/20\n"
     ]
    },
    {
     "name": "stderr",
     "output_type": "stream",
     "text": [
      "                                                                 \r"
     ]
    },
    {
     "name": "stdout",
     "output_type": "stream",
     "text": [
      "Train: Loss: 1.0238, Accuracy: 61.69%\n",
      "Validation: Loss: 0.9752, Accuracy: 63.10%\n",
      "\n",
      "Epoch 6/20\n"
     ]
    },
    {
     "name": "stderr",
     "output_type": "stream",
     "text": [
      "                                                                 \r"
     ]
    },
    {
     "name": "stdout",
     "output_type": "stream",
     "text": [
      "Train: Loss: 0.9904, Accuracy: 63.02%\n",
      "Validation: Loss: 1.0361, Accuracy: 59.77%\n",
      "\n",
      "Epoch 7/20\n"
     ]
    },
    {
     "name": "stderr",
     "output_type": "stream",
     "text": [
      "                                                                 \r"
     ]
    },
    {
     "name": "stdout",
     "output_type": "stream",
     "text": [
      "Train: Loss: 0.9588, Accuracy: 64.47%\n",
      "Validation: Loss: 0.9612, Accuracy: 64.41%\n",
      "\n",
      "Epoch 8/20\n"
     ]
    },
    {
     "name": "stderr",
     "output_type": "stream",
     "text": [
      "                                                                 \r"
     ]
    },
    {
     "name": "stdout",
     "output_type": "stream",
     "text": [
      "Train: Loss: 0.9312, Accuracy: 65.44%\n",
      "Validation: Loss: 0.9107, Accuracy: 66.23%\n",
      "\n",
      "Epoch 9/20\n"
     ]
    },
    {
     "name": "stderr",
     "output_type": "stream",
     "text": [
      "                                                                 \r"
     ]
    },
    {
     "name": "stdout",
     "output_type": "stream",
     "text": [
      "Train: Loss: 0.9079, Accuracy: 66.23%\n",
      "Validation: Loss: 0.8894, Accuracy: 67.50%\n",
      "\n",
      "Epoch 10/20\n"
     ]
    },
    {
     "name": "stderr",
     "output_type": "stream",
     "text": [
      "                                                                 \r"
     ]
    },
    {
     "name": "stdout",
     "output_type": "stream",
     "text": [
      "Train: Loss: 0.8760, Accuracy: 67.92%\n",
      "Validation: Loss: 0.9630, Accuracy: 65.75%\n",
      "\n",
      "Epoch 11/20\n"
     ]
    },
    {
     "name": "stderr",
     "output_type": "stream",
     "text": [
      "                                                                 \r"
     ]
    },
    {
     "name": "stdout",
     "output_type": "stream",
     "text": [
      "Train: Loss: 0.8655, Accuracy: 68.07%\n",
      "Validation: Loss: 0.8906, Accuracy: 66.75%\n",
      "\n",
      "Epoch 12/20\n"
     ]
    },
    {
     "name": "stderr",
     "output_type": "stream",
     "text": [
      "                                                                 \r"
     ]
    },
    {
     "name": "stdout",
     "output_type": "stream",
     "text": [
      "Train: Loss: 0.8553, Accuracy: 68.65%\n",
      "Validation: Loss: 0.8748, Accuracy: 67.74%\n",
      "\n",
      "Epoch 13/20\n"
     ]
    },
    {
     "name": "stderr",
     "output_type": "stream",
     "text": [
      "                                                                 \r"
     ]
    },
    {
     "name": "stdout",
     "output_type": "stream",
     "text": [
      "Train: Loss: 0.8395, Accuracy: 69.15%\n",
      "Validation: Loss: 0.8464, Accuracy: 68.91%\n",
      "\n",
      "Epoch 14/20\n"
     ]
    },
    {
     "name": "stderr",
     "output_type": "stream",
     "text": [
      "                                                                 \r"
     ]
    },
    {
     "name": "stdout",
     "output_type": "stream",
     "text": [
      "Train: Loss: 0.8245, Accuracy: 69.90%\n",
      "Validation: Loss: 0.8646, Accuracy: 67.57%\n",
      "\n",
      "Epoch 15/20\n"
     ]
    },
    {
     "name": "stderr",
     "output_type": "stream",
     "text": [
      "                                                                 \r"
     ]
    },
    {
     "name": "stdout",
     "output_type": "stream",
     "text": [
      "Train: Loss: 0.8152, Accuracy: 70.10%\n",
      "Validation: Loss: 0.8891, Accuracy: 67.13%\n",
      "\n",
      "Epoch 16/20\n"
     ]
    },
    {
     "name": "stderr",
     "output_type": "stream",
     "text": [
      "                                                                 \r"
     ]
    },
    {
     "name": "stdout",
     "output_type": "stream",
     "text": [
      "Train: Loss: 0.8007, Accuracy: 70.45%\n",
      "Validation: Loss: 0.8593, Accuracy: 68.36%\n",
      "\n",
      "Epoch 17/20\n"
     ]
    },
    {
     "name": "stderr",
     "output_type": "stream",
     "text": [
      "                                                                 \r"
     ]
    },
    {
     "name": "stdout",
     "output_type": "stream",
     "text": [
      "Train: Loss: 0.7819, Accuracy: 71.54%\n",
      "Validation: Loss: 0.8747, Accuracy: 68.64%\n",
      "\n",
      "Epoch 18/20\n"
     ]
    },
    {
     "name": "stderr",
     "output_type": "stream",
     "text": [
      "                                                                 \r"
     ]
    },
    {
     "name": "stdout",
     "output_type": "stream",
     "text": [
      "Train: Loss: 0.7289, Accuracy: 73.15%\n",
      "Validation: Loss: 0.8359, Accuracy: 69.88%\n",
      "\n",
      "Epoch 19/20\n"
     ]
    },
    {
     "name": "stderr",
     "output_type": "stream",
     "text": [
      "                                                                 \r"
     ]
    },
    {
     "name": "stdout",
     "output_type": "stream",
     "text": [
      "Train: Loss: 0.7001, Accuracy: 74.46%\n",
      "Validation: Loss: 0.8355, Accuracy: 69.84%\n",
      "\n",
      "Epoch 20/20\n"
     ]
    },
    {
     "name": "stderr",
     "output_type": "stream",
     "text": [
      "                                                                 \r"
     ]
    },
    {
     "name": "stdout",
     "output_type": "stream",
     "text": [
      "Train: Loss: 0.6957, Accuracy: 74.41%\n",
      "Validation: Loss: 0.8439, Accuracy: 70.63%\n",
      "Novo melhor modelo encontrado com precisão: 0.7063\n",
      "Treinando com hiperparâmetros: {'epochs': 30, 'lr': 0.0001, 'patience': 3, 'weight_decay': 0.0001}\n",
      "\n",
      "Epoch 1/30\n"
     ]
    },
    {
     "name": "stderr",
     "output_type": "stream",
     "text": [
      "                                                                 \r"
     ]
    },
    {
     "name": "stdout",
     "output_type": "stream",
     "text": [
      "Train: Loss: 1.2646, Accuracy: 50.84%\n",
      "Validation: Loss: 1.0258, Accuracy: 60.21%\n",
      "\n",
      "Epoch 2/30\n"
     ]
    },
    {
     "name": "stderr",
     "output_type": "stream",
     "text": [
      "                                                                 \r"
     ]
    },
    {
     "name": "stdout",
     "output_type": "stream",
     "text": [
      "Train: Loss: 1.0433, Accuracy: 60.67%\n",
      "Validation: Loss: 0.9938, Accuracy: 61.66%\n",
      "\n",
      "Epoch 3/30\n"
     ]
    },
    {
     "name": "stderr",
     "output_type": "stream",
     "text": [
      "                                                                 \r"
     ]
    },
    {
     "name": "stdout",
     "output_type": "stream",
     "text": [
      "Train: Loss: 0.9787, Accuracy: 63.78%\n",
      "Validation: Loss: 0.9404, Accuracy: 64.31%\n",
      "\n",
      "Epoch 4/30\n"
     ]
    },
    {
     "name": "stderr",
     "output_type": "stream",
     "text": [
      "                                                                 \r"
     ]
    },
    {
     "name": "stdout",
     "output_type": "stream",
     "text": [
      "Train: Loss: 0.9312, Accuracy: 65.40%\n",
      "Validation: Loss: 0.9264, Accuracy: 64.55%\n",
      "\n",
      "Epoch 5/30\n"
     ]
    },
    {
     "name": "stderr",
     "output_type": "stream",
     "text": [
      "                                                                 \r"
     ]
    },
    {
     "name": "stdout",
     "output_type": "stream",
     "text": [
      "Train: Loss: 0.8943, Accuracy: 66.95%\n",
      "Validation: Loss: 0.9489, Accuracy: 64.55%\n",
      "\n",
      "Epoch 6/30\n"
     ]
    },
    {
     "name": "stderr",
     "output_type": "stream",
     "text": [
      "                                                                 \r"
     ]
    },
    {
     "name": "stdout",
     "output_type": "stream",
     "text": [
      "Train: Loss: 0.8753, Accuracy: 67.63%\n",
      "Validation: Loss: 0.8870, Accuracy: 65.68%\n",
      "\n",
      "Epoch 7/30\n"
     ]
    },
    {
     "name": "stderr",
     "output_type": "stream",
     "text": [
      "                                                                 \r"
     ]
    },
    {
     "name": "stdout",
     "output_type": "stream",
     "text": [
      "Train: Loss: 0.8509, Accuracy: 68.91%\n",
      "Validation: Loss: 0.8576, Accuracy: 68.47%\n",
      "\n",
      "Epoch 8/30\n"
     ]
    },
    {
     "name": "stderr",
     "output_type": "stream",
     "text": [
      "                                                                 \r"
     ]
    },
    {
     "name": "stdout",
     "output_type": "stream",
     "text": [
      "Train: Loss: 0.8305, Accuracy: 69.65%\n",
      "Validation: Loss: 0.8693, Accuracy: 68.67%\n",
      "\n",
      "Epoch 9/30\n"
     ]
    },
    {
     "name": "stderr",
     "output_type": "stream",
     "text": [
      "                                                                 \r"
     ]
    },
    {
     "name": "stdout",
     "output_type": "stream",
     "text": [
      "Train: Loss: 0.8111, Accuracy: 69.88%\n",
      "Validation: Loss: 0.8583, Accuracy: 67.09%\n",
      "\n",
      "Epoch 10/30\n"
     ]
    },
    {
     "name": "stderr",
     "output_type": "stream",
     "text": [
      "                                                                 \r"
     ]
    },
    {
     "name": "stdout",
     "output_type": "stream",
     "text": [
      "Train: Loss: 0.7916, Accuracy: 71.07%\n",
      "Validation: Loss: 0.8566, Accuracy: 68.60%\n",
      "\n",
      "Epoch 11/30\n"
     ]
    },
    {
     "name": "stderr",
     "output_type": "stream",
     "text": [
      "                                                                 \r"
     ]
    },
    {
     "name": "stdout",
     "output_type": "stream",
     "text": [
      "Train: Loss: 0.7857, Accuracy: 71.28%\n",
      "Validation: Loss: 0.8813, Accuracy: 68.16%\n",
      "Early stopping triggered.\n",
      "Treinando com hiperparâmetros: {'epochs': 30, 'lr': 0.0001, 'patience': 3, 'weight_decay': 1e-05}\n",
      "\n",
      "Epoch 1/30\n"
     ]
    },
    {
     "name": "stderr",
     "output_type": "stream",
     "text": [
      "                                                                 \r"
     ]
    },
    {
     "name": "stdout",
     "output_type": "stream",
     "text": [
      "Train: Loss: 1.2510, Accuracy: 51.33%\n",
      "Validation: Loss: 1.0180, Accuracy: 60.42%\n",
      "\n",
      "Epoch 2/30\n"
     ]
    },
    {
     "name": "stderr",
     "output_type": "stream",
     "text": [
      "                                                                 \r"
     ]
    },
    {
     "name": "stdout",
     "output_type": "stream",
     "text": [
      "Train: Loss: 1.0488, Accuracy: 60.72%\n",
      "Validation: Loss: 0.9643, Accuracy: 63.76%\n",
      "\n",
      "Epoch 3/30\n"
     ]
    },
    {
     "name": "stderr",
     "output_type": "stream",
     "text": [
      "                                                                 \r"
     ]
    },
    {
     "name": "stdout",
     "output_type": "stream",
     "text": [
      "Train: Loss: 0.9769, Accuracy: 63.74%\n",
      "Validation: Loss: 0.9379, Accuracy: 64.68%\n",
      "\n",
      "Epoch 4/30\n"
     ]
    },
    {
     "name": "stderr",
     "output_type": "stream",
     "text": [
      "                                                                 \r"
     ]
    },
    {
     "name": "stdout",
     "output_type": "stream",
     "text": [
      "Train: Loss: 0.9375, Accuracy: 65.25%\n",
      "Validation: Loss: 0.9343, Accuracy: 65.23%\n",
      "\n",
      "Epoch 5/30\n"
     ]
    },
    {
     "name": "stderr",
     "output_type": "stream",
     "text": [
      "                                                                 \r"
     ]
    },
    {
     "name": "stdout",
     "output_type": "stream",
     "text": [
      "Train: Loss: 0.8969, Accuracy: 66.69%\n",
      "Validation: Loss: 0.8858, Accuracy: 66.99%\n",
      "\n",
      "Epoch 6/30\n"
     ]
    },
    {
     "name": "stderr",
     "output_type": "stream",
     "text": [
      "                                                                 \r"
     ]
    },
    {
     "name": "stdout",
     "output_type": "stream",
     "text": [
      "Train: Loss: 0.8699, Accuracy: 67.71%\n",
      "Validation: Loss: 0.9217, Accuracy: 65.58%\n",
      "\n",
      "Epoch 7/30\n"
     ]
    },
    {
     "name": "stderr",
     "output_type": "stream",
     "text": [
      "                                                                 \r"
     ]
    },
    {
     "name": "stdout",
     "output_type": "stream",
     "text": [
      "Train: Loss: 0.8435, Accuracy: 68.92%\n",
      "Validation: Loss: 0.8602, Accuracy: 68.05%\n",
      "\n",
      "Epoch 8/30\n"
     ]
    },
    {
     "name": "stderr",
     "output_type": "stream",
     "text": [
      "                                                                 \r"
     ]
    },
    {
     "name": "stdout",
     "output_type": "stream",
     "text": [
      "Train: Loss: 0.8264, Accuracy: 69.09%\n",
      "Validation: Loss: 0.9144, Accuracy: 66.44%\n",
      "\n",
      "Epoch 9/30\n"
     ]
    },
    {
     "name": "stderr",
     "output_type": "stream",
     "text": [
      "                                                                 \r"
     ]
    },
    {
     "name": "stdout",
     "output_type": "stream",
     "text": [
      "Train: Loss: 0.8067, Accuracy: 70.46%\n",
      "Validation: Loss: 0.8832, Accuracy: 68.16%\n",
      "\n",
      "Epoch 10/30\n"
     ]
    },
    {
     "name": "stderr",
     "output_type": "stream",
     "text": [
      "                                                                 \r"
     ]
    },
    {
     "name": "stdout",
     "output_type": "stream",
     "text": [
      "Train: Loss: 0.7858, Accuracy: 71.03%\n",
      "Validation: Loss: 0.8695, Accuracy: 68.95%\n",
      "\n",
      "Epoch 11/30\n"
     ]
    },
    {
     "name": "stderr",
     "output_type": "stream",
     "text": [
      "                                                                 \r"
     ]
    },
    {
     "name": "stdout",
     "output_type": "stream",
     "text": [
      "Train: Loss: 0.7673, Accuracy: 71.81%\n",
      "Validation: Loss: 0.9316, Accuracy: 67.95%\n",
      "\n",
      "Epoch 12/30\n"
     ]
    },
    {
     "name": "stderr",
     "output_type": "stream",
     "text": [
      "                                                                 \r"
     ]
    },
    {
     "name": "stdout",
     "output_type": "stream",
     "text": [
      "Train: Loss: 0.6981, Accuracy: 74.54%\n",
      "Validation: Loss: 0.8569, Accuracy: 69.50%\n",
      "\n",
      "Epoch 13/30\n"
     ]
    },
    {
     "name": "stderr",
     "output_type": "stream",
     "text": [
      "                                                                 \r"
     ]
    },
    {
     "name": "stdout",
     "output_type": "stream",
     "text": [
      "Train: Loss: 0.6743, Accuracy: 75.10%\n",
      "Validation: Loss: 0.8602, Accuracy: 70.08%\n",
      "\n",
      "Epoch 14/30\n"
     ]
    },
    {
     "name": "stderr",
     "output_type": "stream",
     "text": [
      "                                                                 \r"
     ]
    },
    {
     "name": "stdout",
     "output_type": "stream",
     "text": [
      "Train: Loss: 0.6636, Accuracy: 75.66%\n",
      "Validation: Loss: 0.8750, Accuracy: 69.77%\n",
      "\n",
      "Epoch 15/30\n"
     ]
    },
    {
     "name": "stderr",
     "output_type": "stream",
     "text": [
      "                                                                 \r"
     ]
    },
    {
     "name": "stdout",
     "output_type": "stream",
     "text": [
      "Train: Loss: 0.6480, Accuracy: 76.20%\n",
      "Validation: Loss: 0.8829, Accuracy: 69.26%\n",
      "\n",
      "Epoch 16/30\n"
     ]
    },
    {
     "name": "stderr",
     "output_type": "stream",
     "text": [
      "                                                                 \r"
     ]
    },
    {
     "name": "stdout",
     "output_type": "stream",
     "text": [
      "Train: Loss: 0.6474, Accuracy: 76.22%\n",
      "Validation: Loss: 0.8830, Accuracy: 69.88%\n",
      "Early stopping triggered.\n",
      "Treinando com hiperparâmetros: {'epochs': 30, 'lr': 0.0001, 'patience': 5, 'weight_decay': 0.0001}\n",
      "\n",
      "Epoch 1/30\n"
     ]
    },
    {
     "name": "stderr",
     "output_type": "stream",
     "text": [
      "                                                                 \r"
     ]
    },
    {
     "name": "stdout",
     "output_type": "stream",
     "text": [
      "Train: Loss: 1.2606, Accuracy: 51.11%\n",
      "Validation: Loss: 1.1190, Accuracy: 58.98%\n",
      "\n",
      "Epoch 2/30\n"
     ]
    },
    {
     "name": "stderr",
     "output_type": "stream",
     "text": [
      "                                                                 \r"
     ]
    },
    {
     "name": "stdout",
     "output_type": "stream",
     "text": [
      "Train: Loss: 1.0424, Accuracy: 60.35%\n",
      "Validation: Loss: 0.9522, Accuracy: 64.58%\n",
      "\n",
      "Epoch 3/30\n"
     ]
    },
    {
     "name": "stderr",
     "output_type": "stream",
     "text": [
      "                                                                 \r"
     ]
    },
    {
     "name": "stdout",
     "output_type": "stream",
     "text": [
      "Train: Loss: 0.9820, Accuracy: 63.41%\n",
      "Validation: Loss: 0.9499, Accuracy: 64.31%\n",
      "\n",
      "Epoch 4/30\n"
     ]
    },
    {
     "name": "stderr",
     "output_type": "stream",
     "text": [
      "                                                                 \r"
     ]
    },
    {
     "name": "stdout",
     "output_type": "stream",
     "text": [
      "Train: Loss: 0.9299, Accuracy: 65.48%\n",
      "Validation: Loss: 0.9030, Accuracy: 66.68%\n",
      "\n",
      "Epoch 5/30\n"
     ]
    },
    {
     "name": "stderr",
     "output_type": "stream",
     "text": [
      "                                                                 \r"
     ]
    },
    {
     "name": "stdout",
     "output_type": "stream",
     "text": [
      "Train: Loss: 0.8980, Accuracy: 66.62%\n",
      "Validation: Loss: 0.8997, Accuracy: 66.85%\n",
      "\n",
      "Epoch 6/30\n"
     ]
    },
    {
     "name": "stderr",
     "output_type": "stream",
     "text": [
      "                                                                 \r"
     ]
    },
    {
     "name": "stdout",
     "output_type": "stream",
     "text": [
      "Train: Loss: 0.8707, Accuracy: 67.92%\n",
      "Validation: Loss: 0.8569, Accuracy: 67.74%\n",
      "\n",
      "Epoch 7/30\n"
     ]
    },
    {
     "name": "stderr",
     "output_type": "stream",
     "text": [
      "                                                                 \r"
     ]
    },
    {
     "name": "stdout",
     "output_type": "stream",
     "text": [
      "Train: Loss: 0.8466, Accuracy: 68.60%\n",
      "Validation: Loss: 0.8755, Accuracy: 67.64%\n",
      "\n",
      "Epoch 8/30\n"
     ]
    },
    {
     "name": "stderr",
     "output_type": "stream",
     "text": [
      "                                                                 \r"
     ]
    },
    {
     "name": "stdout",
     "output_type": "stream",
     "text": [
      "Train: Loss: 0.8243, Accuracy: 69.68%\n",
      "Validation: Loss: 0.8605, Accuracy: 68.26%\n",
      "\n",
      "Epoch 9/30\n"
     ]
    },
    {
     "name": "stderr",
     "output_type": "stream",
     "text": [
      "                                                                 \r"
     ]
    },
    {
     "name": "stdout",
     "output_type": "stream",
     "text": [
      "Train: Loss: 0.8163, Accuracy: 70.09%\n",
      "Validation: Loss: 0.8351, Accuracy: 68.84%\n",
      "\n",
      "Epoch 10/30\n"
     ]
    },
    {
     "name": "stderr",
     "output_type": "stream",
     "text": [
      "                                                                 \r"
     ]
    },
    {
     "name": "stdout",
     "output_type": "stream",
     "text": [
      "Train: Loss: 0.7977, Accuracy: 71.05%\n",
      "Validation: Loss: 0.9334, Accuracy: 65.89%\n",
      "\n",
      "Epoch 11/30\n"
     ]
    },
    {
     "name": "stderr",
     "output_type": "stream",
     "text": [
      "                                                                 \r"
     ]
    },
    {
     "name": "stdout",
     "output_type": "stream",
     "text": [
      "Train: Loss: 0.7792, Accuracy: 71.33%\n",
      "Validation: Loss: 0.8954, Accuracy: 67.40%\n",
      "\n",
      "Epoch 12/30\n"
     ]
    },
    {
     "name": "stderr",
     "output_type": "stream",
     "text": [
      "                                                                 \r"
     ]
    },
    {
     "name": "stdout",
     "output_type": "stream",
     "text": [
      "Train: Loss: 0.7636, Accuracy: 72.13%\n",
      "Validation: Loss: 0.8369, Accuracy: 69.94%\n",
      "\n",
      "Epoch 13/30\n"
     ]
    },
    {
     "name": "stderr",
     "output_type": "stream",
     "text": [
      "                                                                 \r"
     ]
    },
    {
     "name": "stdout",
     "output_type": "stream",
     "text": [
      "Train: Loss: 0.7445, Accuracy: 72.67%\n",
      "Validation: Loss: 0.9066, Accuracy: 66.57%\n",
      "\n",
      "Epoch 14/30\n"
     ]
    },
    {
     "name": "stderr",
     "output_type": "stream",
     "text": [
      "                                                                 \r"
     ]
    },
    {
     "name": "stdout",
     "output_type": "stream",
     "text": [
      "Train: Loss: 0.6765, Accuracy: 75.10%\n",
      "Validation: Loss: 0.8417, Accuracy: 69.91%\n",
      "\n",
      "Epoch 15/30\n"
     ]
    },
    {
     "name": "stderr",
     "output_type": "stream",
     "text": [
      "                                                                 \r"
     ]
    },
    {
     "name": "stdout",
     "output_type": "stream",
     "text": [
      "Train: Loss: 0.6487, Accuracy: 76.22%\n",
      "Validation: Loss: 0.8512, Accuracy: 69.91%\n",
      "\n",
      "Epoch 16/30\n"
     ]
    },
    {
     "name": "stderr",
     "output_type": "stream",
     "text": [
      "                                                                 \r"
     ]
    },
    {
     "name": "stdout",
     "output_type": "stream",
     "text": [
      "Train: Loss: 0.6340, Accuracy: 76.98%\n",
      "Validation: Loss: 0.8614, Accuracy: 70.53%\n",
      "\n",
      "Epoch 17/30\n"
     ]
    },
    {
     "name": "stderr",
     "output_type": "stream",
     "text": [
      "                                                                 \r"
     ]
    },
    {
     "name": "stdout",
     "output_type": "stream",
     "text": [
      "Train: Loss: 0.6270, Accuracy: 76.97%\n",
      "Validation: Loss: 0.8558, Accuracy: 70.22%\n",
      "\n",
      "Epoch 18/30\n"
     ]
    },
    {
     "name": "stderr",
     "output_type": "stream",
     "text": [
      "                                                                 \r"
     ]
    },
    {
     "name": "stdout",
     "output_type": "stream",
     "text": [
      "Train: Loss: 0.6159, Accuracy: 77.48%\n",
      "Validation: Loss: 0.8535, Accuracy: 70.19%\n",
      "\n",
      "Epoch 19/30\n"
     ]
    },
    {
     "name": "stderr",
     "output_type": "stream",
     "text": [
      "                                                                 \r"
     ]
    },
    {
     "name": "stdout",
     "output_type": "stream",
     "text": [
      "Train: Loss: 0.6145, Accuracy: 77.41%\n",
      "Validation: Loss: 0.8618, Accuracy: 69.84%\n",
      "\n",
      "Epoch 20/30\n"
     ]
    },
    {
     "name": "stderr",
     "output_type": "stream",
     "text": [
      "                                                                 \r"
     ]
    },
    {
     "name": "stdout",
     "output_type": "stream",
     "text": [
      "Train: Loss: 0.6082, Accuracy: 77.94%\n",
      "Validation: Loss: 0.8543, Accuracy: 70.08%\n",
      "\n",
      "Epoch 21/30\n"
     ]
    },
    {
     "name": "stderr",
     "output_type": "stream",
     "text": [
      "                                                                 \r"
     ]
    },
    {
     "name": "stdout",
     "output_type": "stream",
     "text": [
      "Train: Loss: 0.6120, Accuracy: 77.53%\n",
      "Validation: Loss: 0.8648, Accuracy: 69.67%\n",
      "Early stopping triggered.\n",
      "Treinando com hiperparâmetros: {'epochs': 30, 'lr': 0.0001, 'patience': 5, 'weight_decay': 1e-05}\n",
      "\n",
      "Epoch 1/30\n"
     ]
    },
    {
     "name": "stderr",
     "output_type": "stream",
     "text": [
      "                                                                 \r"
     ]
    },
    {
     "name": "stdout",
     "output_type": "stream",
     "text": [
      "Train: Loss: 1.2491, Accuracy: 51.29%\n",
      "Validation: Loss: 0.9974, Accuracy: 61.11%\n",
      "\n",
      "Epoch 2/30\n"
     ]
    },
    {
     "name": "stderr",
     "output_type": "stream",
     "text": [
      "                                                                 \r"
     ]
    },
    {
     "name": "stdout",
     "output_type": "stream",
     "text": [
      "Train: Loss: 1.0506, Accuracy: 60.74%\n",
      "Validation: Loss: 1.0084, Accuracy: 62.28%\n",
      "\n",
      "Epoch 3/30\n"
     ]
    },
    {
     "name": "stderr",
     "output_type": "stream",
     "text": [
      "                                                                 \r"
     ]
    },
    {
     "name": "stdout",
     "output_type": "stream",
     "text": [
      "Train: Loss: 0.9721, Accuracy: 63.62%\n",
      "Validation: Loss: 0.9466, Accuracy: 64.72%\n",
      "\n",
      "Epoch 4/30\n"
     ]
    },
    {
     "name": "stderr",
     "output_type": "stream",
     "text": [
      "                                                                 \r"
     ]
    },
    {
     "name": "stdout",
     "output_type": "stream",
     "text": [
      "Train: Loss: 0.9320, Accuracy: 65.30%\n",
      "Validation: Loss: 0.9253, Accuracy: 65.65%\n",
      "\n",
      "Epoch 5/30\n"
     ]
    },
    {
     "name": "stderr",
     "output_type": "stream",
     "text": [
      "                                                                 \r"
     ]
    },
    {
     "name": "stdout",
     "output_type": "stream",
     "text": [
      "Train: Loss: 0.8886, Accuracy: 66.96%\n",
      "Validation: Loss: 0.9136, Accuracy: 64.96%\n",
      "\n",
      "Epoch 6/30\n"
     ]
    },
    {
     "name": "stderr",
     "output_type": "stream",
     "text": [
      "                                                                 \r"
     ]
    },
    {
     "name": "stdout",
     "output_type": "stream",
     "text": [
      "Train: Loss: 0.8648, Accuracy: 68.37%\n",
      "Validation: Loss: 0.8836, Accuracy: 67.19%\n",
      "\n",
      "Epoch 7/30\n"
     ]
    },
    {
     "name": "stderr",
     "output_type": "stream",
     "text": [
      "                                                                 \r"
     ]
    },
    {
     "name": "stdout",
     "output_type": "stream",
     "text": [
      "Train: Loss: 0.8497, Accuracy: 68.63%\n",
      "Validation: Loss: 0.8513, Accuracy: 68.05%\n",
      "\n",
      "Epoch 8/30\n"
     ]
    },
    {
     "name": "stderr",
     "output_type": "stream",
     "text": [
      "                                                                 \r"
     ]
    },
    {
     "name": "stdout",
     "output_type": "stream",
     "text": [
      "Train: Loss: 0.8248, Accuracy: 69.66%\n",
      "Validation: Loss: 0.8531, Accuracy: 67.88%\n",
      "\n",
      "Epoch 9/30\n"
     ]
    },
    {
     "name": "stderr",
     "output_type": "stream",
     "text": [
      "                                                                 \r"
     ]
    },
    {
     "name": "stdout",
     "output_type": "stream",
     "text": [
      "Train: Loss: 0.8079, Accuracy: 70.31%\n",
      "Validation: Loss: 0.8551, Accuracy: 68.54%\n",
      "\n",
      "Epoch 10/30\n"
     ]
    },
    {
     "name": "stderr",
     "output_type": "stream",
     "text": [
      "                                                                 \r"
     ]
    },
    {
     "name": "stdout",
     "output_type": "stream",
     "text": [
      "Train: Loss: 0.7879, Accuracy: 71.23%\n",
      "Validation: Loss: 0.8438, Accuracy: 69.53%\n",
      "\n",
      "Epoch 11/30\n"
     ]
    },
    {
     "name": "stderr",
     "output_type": "stream",
     "text": [
      "                                                                 \r"
     ]
    },
    {
     "name": "stdout",
     "output_type": "stream",
     "text": [
      "Train: Loss: 0.7700, Accuracy: 71.84%\n",
      "Validation: Loss: 0.8690, Accuracy: 67.98%\n",
      "\n",
      "Epoch 12/30\n"
     ]
    },
    {
     "name": "stderr",
     "output_type": "stream",
     "text": [
      "                                                                 \r"
     ]
    },
    {
     "name": "stdout",
     "output_type": "stream",
     "text": [
      "Train: Loss: 0.7529, Accuracy: 72.34%\n",
      "Validation: Loss: 0.8865, Accuracy: 67.68%\n",
      "\n",
      "Epoch 13/30\n"
     ]
    },
    {
     "name": "stderr",
     "output_type": "stream",
     "text": [
      "                                                                 \r"
     ]
    },
    {
     "name": "stdout",
     "output_type": "stream",
     "text": [
      "Train: Loss: 0.7400, Accuracy: 72.77%\n",
      "Validation: Loss: 0.9423, Accuracy: 66.78%\n",
      "\n",
      "Epoch 14/30\n"
     ]
    },
    {
     "name": "stderr",
     "output_type": "stream",
     "text": [
      "                                                                 \r"
     ]
    },
    {
     "name": "stdout",
     "output_type": "stream",
     "text": [
      "Train: Loss: 0.7250, Accuracy: 73.52%\n",
      "Validation: Loss: 0.9046, Accuracy: 69.26%\n",
      "\n",
      "Epoch 15/30\n"
     ]
    },
    {
     "name": "stderr",
     "output_type": "stream",
     "text": [
      "                                                                 \r"
     ]
    },
    {
     "name": "stdout",
     "output_type": "stream",
     "text": [
      "Train: Loss: 0.6493, Accuracy: 76.16%\n",
      "Validation: Loss: 0.8738, Accuracy: 70.05%\n",
      "\n",
      "Epoch 16/30\n"
     ]
    },
    {
     "name": "stderr",
     "output_type": "stream",
     "text": [
      "                                                                 \r"
     ]
    },
    {
     "name": "stdout",
     "output_type": "stream",
     "text": [
      "Train: Loss: 0.6301, Accuracy: 77.08%\n",
      "Validation: Loss: 0.8790, Accuracy: 69.88%\n",
      "\n",
      "Epoch 17/30\n"
     ]
    },
    {
     "name": "stderr",
     "output_type": "stream",
     "text": [
      "                                                                 \r"
     ]
    },
    {
     "name": "stdout",
     "output_type": "stream",
     "text": [
      "Train: Loss: 0.6184, Accuracy: 77.48%\n",
      "Validation: Loss: 0.8852, Accuracy: 70.12%\n",
      "\n",
      "Epoch 18/30\n"
     ]
    },
    {
     "name": "stderr",
     "output_type": "stream",
     "text": [
      "                                                                 \r"
     ]
    },
    {
     "name": "stdout",
     "output_type": "stream",
     "text": [
      "Train: Loss: 0.6056, Accuracy: 77.92%\n",
      "Validation: Loss: 0.8809, Accuracy: 70.43%\n",
      "\n",
      "Epoch 19/30\n"
     ]
    },
    {
     "name": "stderr",
     "output_type": "stream",
     "text": [
      "                                                                 \r"
     ]
    },
    {
     "name": "stdout",
     "output_type": "stream",
     "text": [
      "Train: Loss: 0.5983, Accuracy: 78.14%\n",
      "Validation: Loss: 0.8833, Accuracy: 70.01%\n",
      "\n",
      "Epoch 20/30\n"
     ]
    },
    {
     "name": "stderr",
     "output_type": "stream",
     "text": [
      "                                                                 \r"
     ]
    },
    {
     "name": "stdout",
     "output_type": "stream",
     "text": [
      "Train: Loss: 0.5922, Accuracy: 78.30%\n",
      "Validation: Loss: 0.8790, Accuracy: 69.67%\n",
      "\n",
      "Epoch 21/30\n"
     ]
    },
    {
     "name": "stderr",
     "output_type": "stream",
     "text": [
      "                                                                 \r"
     ]
    },
    {
     "name": "stdout",
     "output_type": "stream",
     "text": [
      "Train: Loss: 0.5930, Accuracy: 78.46%\n",
      "Validation: Loss: 0.8793, Accuracy: 69.98%\n",
      "\n",
      "Epoch 22/30\n"
     ]
    },
    {
     "name": "stderr",
     "output_type": "stream",
     "text": [
      "                                                                 \r"
     ]
    },
    {
     "name": "stdout",
     "output_type": "stream",
     "text": [
      "Train: Loss: 0.5926, Accuracy: 78.50%\n",
      "Validation: Loss: 0.8879, Accuracy: 70.15%\n",
      "\n",
      "Epoch 23/30\n"
     ]
    },
    {
     "name": "stderr",
     "output_type": "stream",
     "text": [
      "                                                                 \r"
     ]
    },
    {
     "name": "stdout",
     "output_type": "stream",
     "text": [
      "Train: Loss: 0.5908, Accuracy: 78.56%\n",
      "Validation: Loss: 0.8848, Accuracy: 70.01%\n",
      "Early stopping triggered.\n",
      "Treinando com hiperparâmetros: {'epochs': 30, 'lr': 0.001, 'patience': 3, 'weight_decay': 0.0001}\n",
      "\n",
      "Epoch 1/30\n"
     ]
    },
    {
     "name": "stderr",
     "output_type": "stream",
     "text": [
      "                                                                 \r"
     ]
    },
    {
     "name": "stdout",
     "output_type": "stream",
     "text": [
      "Train: Loss: 1.3755, Accuracy: 45.03%\n",
      "Validation: Loss: 1.1643, Accuracy: 53.09%\n",
      "\n",
      "Epoch 2/30\n"
     ]
    },
    {
     "name": "stderr",
     "output_type": "stream",
     "text": [
      "                                                                 \r"
     ]
    },
    {
     "name": "stdout",
     "output_type": "stream",
     "text": [
      "Train: Loss: 1.2001, Accuracy: 53.02%\n",
      "Validation: Loss: 1.1947, Accuracy: 54.30%\n",
      "\n",
      "Epoch 3/30\n"
     ]
    },
    {
     "name": "stderr",
     "output_type": "stream",
     "text": [
      "                                                                 \r"
     ]
    },
    {
     "name": "stdout",
     "output_type": "stream",
     "text": [
      "Train: Loss: 1.1302, Accuracy: 55.76%\n",
      "Validation: Loss: 1.0770, Accuracy: 58.77%\n",
      "\n",
      "Epoch 4/30\n"
     ]
    },
    {
     "name": "stderr",
     "output_type": "stream",
     "text": [
      "                                                                 \r"
     ]
    },
    {
     "name": "stdout",
     "output_type": "stream",
     "text": [
      "Train: Loss: 1.0950, Accuracy: 57.76%\n",
      "Validation: Loss: 1.0650, Accuracy: 59.66%\n",
      "\n",
      "Epoch 5/30\n"
     ]
    },
    {
     "name": "stderr",
     "output_type": "stream",
     "text": [
      "                                                                 \r"
     ]
    },
    {
     "name": "stdout",
     "output_type": "stream",
     "text": [
      "Train: Loss: 1.0510, Accuracy: 59.44%\n",
      "Validation: Loss: 1.0019, Accuracy: 61.14%\n",
      "\n",
      "Epoch 6/30\n"
     ]
    },
    {
     "name": "stderr",
     "output_type": "stream",
     "text": [
      "                                                                 \r"
     ]
    },
    {
     "name": "stdout",
     "output_type": "stream",
     "text": [
      "Train: Loss: 1.0237, Accuracy: 61.16%\n",
      "Validation: Loss: 0.9358, Accuracy: 64.72%\n",
      "\n",
      "Epoch 7/30\n"
     ]
    },
    {
     "name": "stderr",
     "output_type": "stream",
     "text": [
      "                                                                 \r"
     ]
    },
    {
     "name": "stdout",
     "output_type": "stream",
     "text": [
      "Train: Loss: 0.9841, Accuracy: 63.17%\n",
      "Validation: Loss: 1.0012, Accuracy: 63.45%\n",
      "\n",
      "Epoch 8/30\n"
     ]
    },
    {
     "name": "stderr",
     "output_type": "stream",
     "text": [
      "                                                                 \r"
     ]
    },
    {
     "name": "stdout",
     "output_type": "stream",
     "text": [
      "Train: Loss: 0.9636, Accuracy: 64.08%\n",
      "Validation: Loss: 0.9290, Accuracy: 64.86%\n",
      "\n",
      "Epoch 9/30\n"
     ]
    },
    {
     "name": "stderr",
     "output_type": "stream",
     "text": [
      "                                                                 \r"
     ]
    },
    {
     "name": "stdout",
     "output_type": "stream",
     "text": [
      "Train: Loss: 0.9390, Accuracy: 65.28%\n",
      "Validation: Loss: 0.9179, Accuracy: 65.82%\n",
      "\n",
      "Epoch 10/30\n"
     ]
    },
    {
     "name": "stderr",
     "output_type": "stream",
     "text": [
      "                                                                 \r"
     ]
    },
    {
     "name": "stdout",
     "output_type": "stream",
     "text": [
      "Train: Loss: 0.9215, Accuracy: 66.03%\n",
      "Validation: Loss: 0.9035, Accuracy: 65.68%\n",
      "\n",
      "Epoch 11/30\n"
     ]
    },
    {
     "name": "stderr",
     "output_type": "stream",
     "text": [
      "                                                                 \r"
     ]
    },
    {
     "name": "stdout",
     "output_type": "stream",
     "text": [
      "Train: Loss: 0.9023, Accuracy: 66.74%\n",
      "Validation: Loss: 0.9000, Accuracy: 66.92%\n",
      "\n",
      "Epoch 12/30\n"
     ]
    },
    {
     "name": "stderr",
     "output_type": "stream",
     "text": [
      "                                                                 \r"
     ]
    },
    {
     "name": "stdout",
     "output_type": "stream",
     "text": [
      "Train: Loss: 0.8840, Accuracy: 67.14%\n",
      "Validation: Loss: 0.9000, Accuracy: 67.02%\n",
      "\n",
      "Epoch 13/30\n"
     ]
    },
    {
     "name": "stderr",
     "output_type": "stream",
     "text": [
      "                                                                 \r"
     ]
    },
    {
     "name": "stdout",
     "output_type": "stream",
     "text": [
      "Train: Loss: 0.8819, Accuracy: 67.48%\n",
      "Validation: Loss: 0.9302, Accuracy: 66.51%\n",
      "\n",
      "Epoch 14/30\n"
     ]
    },
    {
     "name": "stderr",
     "output_type": "stream",
     "text": [
      "                                                                 \r"
     ]
    },
    {
     "name": "stdout",
     "output_type": "stream",
     "text": [
      "Train: Loss: 0.8661, Accuracy: 68.23%\n",
      "Validation: Loss: 0.9065, Accuracy: 66.37%\n",
      "\n",
      "Epoch 15/30\n"
     ]
    },
    {
     "name": "stderr",
     "output_type": "stream",
     "text": [
      "                                                                 \r"
     ]
    },
    {
     "name": "stdout",
     "output_type": "stream",
     "text": [
      "Train: Loss: 0.8521, Accuracy: 68.64%\n",
      "Validation: Loss: 0.9046, Accuracy: 65.23%\n",
      "Early stopping triggered.\n",
      "Treinando com hiperparâmetros: {'epochs': 30, 'lr': 0.001, 'patience': 3, 'weight_decay': 1e-05}\n",
      "\n",
      "Epoch 1/30\n"
     ]
    },
    {
     "name": "stderr",
     "output_type": "stream",
     "text": [
      "                                                                 \r"
     ]
    },
    {
     "name": "stdout",
     "output_type": "stream",
     "text": [
      "Train: Loss: 1.3293, Accuracy: 47.20%\n",
      "Validation: Loss: 1.1155, Accuracy: 54.81%\n",
      "\n",
      "Epoch 2/30\n"
     ]
    },
    {
     "name": "stderr",
     "output_type": "stream",
     "text": [
      "                                                                 \r"
     ]
    },
    {
     "name": "stdout",
     "output_type": "stream",
     "text": [
      "Train: Loss: 1.1628, Accuracy: 54.25%\n",
      "Validation: Loss: 1.0602, Accuracy: 58.36%\n",
      "\n",
      "Epoch 3/30\n"
     ]
    },
    {
     "name": "stderr",
     "output_type": "stream",
     "text": [
      "                                                                 \r"
     ]
    },
    {
     "name": "stdout",
     "output_type": "stream",
     "text": [
      "Train: Loss: 1.1035, Accuracy: 57.04%\n",
      "Validation: Loss: 1.0370, Accuracy: 60.49%\n",
      "\n",
      "Epoch 4/30\n"
     ]
    },
    {
     "name": "stderr",
     "output_type": "stream",
     "text": [
      "Train Progress:  61%|██████    | 441/726 [03:28<02:11,  2.17it/s]"
     ]
    }
   ],
   "source": [
    "from sklearn.model_selection import ParameterGrid\n",
    "import json\n",
    "from tqdm import tqdm\n",
    "\n",
    "class GridSearchTrainer:\n",
    "    def __init__(self, model_class, data_loader_treino, data_loader_validacao, num_imagens_treino, num_imagens_validacao, device, num_classes, param_grid, checkpoint_dir='checkpoints'):\n",
    "        self.model_class = model_class\n",
    "        self.data_loader_treino = data_loader_treino\n",
    "        self.data_loader_validacao = data_loader_validacao\n",
    "        self.num_imagens_treino = num_imagens_treino\n",
    "        self.num_imagens_validacao = num_imagens_validacao\n",
    "        self.device = device\n",
    "        self.num_classes = num_classes\n",
    "        self.param_grid = param_grid\n",
    "        self.checkpoint_dir = checkpoint_dir\n",
    "        self.best_params = None\n",
    "        self.best_accuracy = 0.0\n",
    "\n",
    "        # Create directory for checkpoints\n",
    "        os.makedirs(self.checkpoint_dir, exist_ok=True)\n",
    "\n",
    "    def train_and_evaluate(self, hyperparams):\n",
    "        model = self.model_class(self.num_classes).get_model().to(self.device)\n",
    "        optimizer = optim.Adam(model.parameters(), lr=hyperparams['lr'], weight_decay=hyperparams['weight_decay'])\n",
    "        criterion = nn.CrossEntropyLoss()\n",
    "        scheduler = ReduceLROnPlateau(optimizer, mode='min', factor=0.1, patience=3, verbose=True)\n",
    "\n",
    "        best_accuracy = 0.0\n",
    "        patience = hyperparams.get('patience', 5)\n",
    "        early_stop_counter = 0\n",
    "\n",
    "        for epoch in range(hyperparams['epochs']):\n",
    "            print(f\"\\nEpoch {epoch + 1}/{hyperparams['epochs']}\")\n",
    "            model.train()\n",
    "            train_loss, train_accuracy = self.run_epoch(model, criterion, optimizer, self.data_loader_treino, phase='train', epoch_progress=True)\n",
    "            model.eval()\n",
    "            val_loss, val_accuracy = self.run_epoch(model, criterion, optimizer, self.data_loader_validacao, phase='eval', epoch_progress=True)\n",
    "            print(f\"Train: Loss: {train_loss:.4f}, Accuracy: {train_accuracy * 100:.2f}%\")\n",
    "            print(f\"Validation: Loss: {val_loss:.4f}, Accuracy: {val_accuracy * 100:.2f}%\")\n",
    "            scheduler.step(val_loss)\n",
    "\n",
    "            if val_accuracy > best_accuracy:\n",
    "                best_accuracy = val_accuracy\n",
    "                early_stop_counter = 0\n",
    "                # Save checkpoint with hyperparameters\n",
    "                checkpoint_name = self.generate_checkpoint_name(hyperparams, epoch + 1, val_accuracy)\n",
    "                torch.save({'model_state_dict': model.state_dict(),\n",
    "                            'hyperparams': hyperparams,\n",
    "                            'accuracy': val_accuracy}, os.path.join(self.checkpoint_dir, checkpoint_name))\n",
    "            else:\n",
    "                early_stop_counter += 1\n",
    "\n",
    "            if early_stop_counter >= patience:\n",
    "                print(\"Early stopping triggered.\")\n",
    "                break\n",
    "\n",
    "        return best_accuracy\n",
    "\n",
    "    def run_epoch(self, model, criterion, optimizer, data_loader, phase, epoch_progress=False):\n",
    "        total_loss = 0.0\n",
    "        correct_predictions = 0\n",
    "\n",
    "        with tqdm(total=len(data_loader), desc=f\"{phase.capitalize()} Progress\", leave=False) as pbar:\n",
    "            for inputs, labels in data_loader:\n",
    "                inputs, labels = inputs.to(self.device), labels.to(self.device)\n",
    "\n",
    "                if phase == 'train':\n",
    "                    optimizer.zero_grad()\n",
    "\n",
    "                outputs = model(inputs)\n",
    "                loss = criterion(outputs, labels)\n",
    "                if phase == 'train':\n",
    "                    loss.backward()\n",
    "                    optimizer.step()\n",
    "\n",
    "                total_loss += loss.item() * inputs.size(0)\n",
    "                _, preds = torch.max(outputs, 1)\n",
    "                correct_predictions += torch.sum(preds == labels)\n",
    "\n",
    "                if epoch_progress:\n",
    "                    pbar.update(1)\n",
    "\n",
    "        epoch_loss = total_loss / len(data_loader.dataset)\n",
    "        epoch_accuracy = correct_predictions.double() / len(data_loader.dataset)\n",
    "\n",
    "        return epoch_loss, epoch_accuracy.item()\n",
    "\n",
    "    def perform_grid_search(self):\n",
    "        grid = ParameterGrid(self.param_grid)\n",
    "        for params in grid:\n",
    "            print(f\"Treinando com hiperparâmetros: {params}\")\n",
    "            accuracy = self.train_and_evaluate(params)\n",
    "\n",
    "            if accuracy > self.best_accuracy:\n",
    "                self.best_accuracy = accuracy\n",
    "                self.best_params = params\n",
    "                print(f\"Novo melhor modelo encontrado com precisão: {accuracy:.4f}\")\n",
    "\n",
    "        print(f\"Melhores hiperparâmetros: {self.best_params}\")\n",
    "        print(f\"Melhor precisão de validação: {self.best_accuracy:.4f}\")\n",
    "\n",
    "    def generate_checkpoint_name(self, hyperparams, epoch, val_accuracy):\n",
    "        # Generate a unique name for each checkpoint\n",
    "        params_str = \"_\".join([f\"{key}={value}\" for key, value in hyperparams.items()])\n",
    "        return f\"checkpoint_{params_str}_epoch={epoch}_val_acc={val_accuracy:.4f}.pth\"\n",
    "\n",
    "# Configuração dos hiperparâmetros\n",
    "param_grid = {\n",
    "    'lr': [0.0001, 0.001],\n",
    "    'weight_decay': [1e-4, 1e-5],\n",
    "    'epochs': [20, 30],\n",
    "    'patience': [3, 5]\n",
    "}\n",
    "\n",
    "# Treinamento com GridSearch\n",
    "grid_search_trainer = GridSearchTrainer(CustomResNet50, data_loader_treino, data_loader_validacao, num_imagens_treino, num_imagens_validacao, device, num_classes, param_grid)\n",
    "grid_search_trainer.perform_grid_search()\n"
   ]
  },
  {
   "cell_type": "code",
   "execution_count": null,
   "metadata": {},
   "outputs": [],
   "source": [
    "from sklearn.model_selection import ParameterSampler\n",
    "import json\n",
    "import random\n",
    "from tqdm import tqdm\n",
    "\n",
    "class RandomSearchTrainer:\n",
    "    def __init__(self, model_class, data_loader_treino, data_loader_validacao, num_imagens_treino, num_imagens_validacao, device, num_classes, param_dist, n_iter, checkpoint_dir='checkpoints'):\n",
    "        self.model_class = model_class\n",
    "        self.data_loader_treino = data_loader_treino\n",
    "        self.data_loader_validacao = data_loader_validacao\n",
    "        self.num_imagens_treino = num_imagens_treino\n",
    "        self.num_imagens_validacao = num_imagens_validacao\n",
    "        self.device = device\n",
    "        self.num_classes = num_classes\n",
    "        self.param_dist = param_dist\n",
    "        self.n_iter = n_iter\n",
    "        self.checkpoint_dir = checkpoint_dir\n",
    "        self.best_params = None\n",
    "        self.best_accuracy = 0.0\n",
    "\n",
    "        # Create directory for checkpoints\n",
    "        os.makedirs(self.checkpoint_dir, exist_ok=True)\n",
    "\n",
    "    def train_and_evaluate(self, hyperparams):\n",
    "        model = self.model_class(self.num_classes).get_model().to(self.device)\n",
    "        optimizer = self.get_optimizer(hyperparams, model)\n",
    "        criterion = nn.CrossEntropyLoss()\n",
    "        scheduler = ReduceLROnPlateau(optimizer, mode='min', factor=0.1, patience=3, verbose=True)\n",
    "\n",
    "        best_accuracy = 0.0\n",
    "        patience = hyperparams.get('patience', 5)\n",
    "        early_stop_counter = 0\n",
    "\n",
    "        for epoch in range(hyperparams['epochs']):\n",
    "            print(f\"\\nEpoch {epoch + 1}/{hyperparams['epochs']}\")\n",
    "            model.train()\n",
    "            train_loss, train_accuracy = self.run_epoch(model, criterion, optimizer, self.data_loader_treino, phase='train', epoch_progress=True)\n",
    "            model.eval()\n",
    "            val_loss, val_accuracy = self.run_epoch(model, criterion, optimizer, self.data_loader_validacao, phase='eval', epoch_progress=True)\n",
    "            print(f\"Train: Loss: {train_loss:.4f}, Accuracy: {train_accuracy * 100:.2f}%\")\n",
    "            print(f\"Validation: Loss: {val_loss:.4f}, Accuracy: {val_accuracy * 100:.2f}%\")\n",
    "            scheduler.step(val_loss)\n",
    "\n",
    "            if val_accuracy > best_accuracy:\n",
    "                best_accuracy = val_accuracy\n",
    "                early_stop_counter = 0\n",
    "                # Save checkpoint with hyperparameters\n",
    "                checkpoint_name = self.generate_checkpoint_name(hyperparams, epoch + 1, val_accuracy)\n",
    "                torch.save({'model_state_dict': model.state_dict(),\n",
    "                            'hyperparams': hyperparams,\n",
    "                            'accuracy': val_accuracy}, os.path.join(self.checkpoint_dir, checkpoint_name))\n",
    "            else:\n",
    "                early_stop_counter += 1\n",
    "\n",
    "            if early_stop_counter >= patience:\n",
    "                print(\"Early stopping triggered.\")\n",
    "                break\n",
    "\n",
    "        return best_accuracy\n",
    "\n",
    "    def run_epoch(self, model, criterion, optimizer, data_loader, phase, epoch_progress=False):\n",
    "        total_loss = 0.0\n",
    "        correct_predictions = 0\n",
    "\n",
    "        with tqdm(total=len(data_loader), desc=f\"{phase.capitalize()} Progress\", leave=False) as pbar:\n",
    "            for inputs, labels in data_loader:\n",
    "                inputs, labels = inputs.to(self.device), labels.to(self.device)\n",
    "\n",
    "                if phase == 'train':\n",
    "                    optimizer.zero_grad()\n",
    "\n",
    "                outputs = model(inputs)\n",
    "                loss = criterion(outputs, labels)\n",
    "                if phase == 'train':\n",
    "                    loss.backward()\n",
    "                    optimizer.step()\n",
    "\n",
    "                total_loss += loss.item() * inputs.size(0)\n",
    "                _, preds = torch.max(outputs, 1)\n",
    "                correct_predictions += torch.sum(preds == labels)\n",
    "\n",
    "                if epoch_progress:\n",
    "                    pbar.update(1)\n",
    "\n",
    "        epoch_loss = total_loss / len(data_loader.dataset)\n",
    "        epoch_accuracy = correct_predictions.double() / len(data_loader.dataset)\n",
    "\n",
    "        return epoch_loss, epoch_accuracy.item()\n",
    "\n",
    "    def perform_random_search(self):\n",
    "        sampled_params = list(ParameterSampler(self.param_dist, n_iter=self.n_iter, random_state=random.randint(1, 10000)))\n",
    "        for params in sampled_params:\n",
    "            print(f\"Treinando com hiperparâmetros: {params}\")\n",
    "            accuracy = self.train_and_evaluate(params)\n",
    "\n",
    "            if accuracy > self.best_accuracy:\n",
    "                self.best_accuracy = accuracy\n",
    "                self.best_params = params\n",
    "                print(f\"Novo melhor modelo encontrado com precisão: {accuracy:.4f}\")\n",
    "\n",
    "        print(f\"Melhores hiperparâmetros: {self.best_params}\")\n",
    "        print(f\"Melhor precisão de validação: {self.best_accuracy:.4f}\")\n",
    "\n",
    "    def generate_checkpoint_name(self, hyperparams, epoch, val_accuracy):\n",
    "        # Generate a unique name for each checkpoint\n",
    "        params_str = \"_\".join([f\"{key}={value}\" for key, value in hyperparams.items()])\n",
    "        return f\"checkpoint_{params_str}_epoch={epoch}_val_acc={val_accuracy:.4f}.pth\"\n",
    "\n",
    "    def get_optimizer(self, hyperparams, model):\n",
    "        if hyperparams['optimizer'] == 'adam':\n",
    "            return optim.Adam(model.parameters(), lr=hyperparams['lr'], weight_decay=hyperparams['weight_decay'])\n",
    "        elif hyperparams['optimizer'] == 'sgd':\n",
    "            return optim.SGD(model.parameters(), lr=hyperparams['lr'], weight_decay=hyperparams['weight_decay'], momentum=hyperparams.get('momentum', 0.9))\n",
    "        else:\n",
    "            raise ValueError(f\"Optimizer {hyperparams['optimizer']} not supported.\")\n",
    "\n",
    "param_dist = {\n",
    "    'lr': [0.0001, 0.001, 0.01, 0.1],\n",
    "    'weight_decay': [1e-4, 1e-5, 0],\n",
    "    'epochs': [20, 30, 50],\n",
    "    'patience': [3, 5, 7],\n",
    "    'batch_size': [16, 32, 64],\n",
    "    'optimizer': ['adam', 'sgd'],\n",
    "    'momentum': [0.9, 0.95],  # Only relevant if optimizer is 'sgd'\n",
    "    'activation': ['relu', 'tanh', 'sigmoid']  # Different activation functions to test\n",
    "}\n",
    "\n",
    "n_iter = 20\n",
    "\n",
    "# Treinamento com Random Search\n",
    "random_search_trainer = RandomSearchTrainer(CustomResNet50, data_loader_treino, data_loader_validacao, num_imagens_treino, num_imagens_validacao, device, num_classes, param_dist, n_iter)\n",
    "random_search_trainer.perform_random_search()\n"
   ]
  },
  {
   "cell_type": "markdown",
   "metadata": {},
   "source": [
    "# Essenciais"
   ]
  },
  {
   "cell_type": "code",
   "execution_count": 3,
   "metadata": {},
   "outputs": [],
   "source": [
    "# dataset_path = '../affectnet/affectnet_Essenciais/'\n",
    "# device = torch.device(\"cuda:0\" if torch.cuda.is_available() else \"cpu\")\n",
    "# print(f\"Dispositivo utilizado: {device}\")\n",
    "\n",
    "#     # Preparar DataLoaders\n",
    "# data_loader_setup = DataLoaderSetup(dataset_path, image_size=224, batch_size=32)\n",
    "# data_loader_treino, data_loader_validacao, num_imagens_treino, num_imagens_validacao, num_classes = data_loader_setup.get_data_loaders()\n",
    "\n",
    "#     # Carregar o modelo\n",
    "# modelo = CustomResNet50(num_classes).get_model().to(device)\n",
    "# nameModel = 'novosModels/affectnet_Essenciais.pt'\n",
    "#     # Treinar e validar\n",
    "# patience = 5\n",
    "# trainer = Trainer(modelo, data_loader_treino, data_loader_validacao, num_imagens_treino, num_imagens_validacao, device, num_classes, patience,nameModel)\n",
    "# historico = trainer.treinar_e_validar(epocas=30)\n"
   ]
  },
  {
   "cell_type": "markdown",
   "metadata": {},
   "source": [
    "Landmarks"
   ]
  },
  {
   "cell_type": "code",
   "execution_count": 4,
   "metadata": {},
   "outputs": [],
   "source": [
    "# dataset_path = '../affectnet/affectnet_landmarks/'\n",
    "# device = torch.device(\"cuda:0\" if torch.cuda.is_available() else \"cpu\")\n",
    "# print(f\"Dispositivo utilizado: {device}\")\n",
    "\n",
    "#     # Preparar DataLoaders\n",
    "# data_loader_setup = DataLoaderSetup(dataset_path, image_size=224, batch_size=32)\n",
    "# data_loader_treino, data_loader_validacao, num_imagens_treino, num_imagens_validacao, num_classes = data_loader_setup.get_data_loaders()\n",
    "\n",
    "#     # Carregar o modelo\n",
    "# modelo = CustomResNet50(num_classes).get_model().to(device)\n",
    "# nameModel = 'novosModels/affectnet_landmarks.pt'\n",
    "#     # Treinar e validar\n",
    "# patience = 5\n",
    "# trainer = Trainer(modelo, data_loader_treino, data_loader_validacao, num_imagens_treino, num_imagens_validacao, device, num_classes, patience,nameModel)\n",
    "# historico = trainer.treinar_e_validar(epocas=30)\n"
   ]
  },
  {
   "cell_type": "markdown",
   "metadata": {},
   "source": [
    "full connected"
   ]
  },
  {
   "cell_type": "code",
   "execution_count": 5,
   "metadata": {},
   "outputs": [],
   "source": [
    "# dataset_path = '../affectnet/affectnet_face_connected_landmarks/'\n",
    "# device = torch.device(\"cuda:0\" if torch.cuda.is_available() else \"cpu\")\n",
    "# print(f\"Dispositivo utilizado: {device}\")\n",
    "\n",
    "#     # Preparar DataLoaders\n",
    "# data_loader_setup = DataLoaderSetup(dataset_path, image_size=224, batch_size=32)\n",
    "# data_loader_treino, data_loader_validacao, num_imagens_treino, num_imagens_validacao, num_classes = data_loader_setup.get_data_loaders()\n",
    "\n",
    "#     # Carregar o modelo\n",
    "# modelo = CustomResNet50(num_classes).get_model().to(device)\n",
    "# nameModel = 'novosModels/affectnet_face_connected_landmarks.pt'\n",
    "#     # Treinar e validar\n",
    "# trainer = Trainer(modelo, data_loader_treino, data_loader_validacao, num_imagens_treino, num_imagens_validacao, device, num_classes, patience,nameModel)\n",
    "# historico = trainer.treinar_e_validar(epocas=30)\n"
   ]
  },
  {
   "cell_type": "markdown",
   "metadata": {},
   "source": [
    "# FER"
   ]
  },
  {
   "cell_type": "code",
   "execution_count": 6,
   "metadata": {},
   "outputs": [],
   "source": [
    "# dataset_path = '../dados1/'\n",
    "# device = torch.device(\"cuda:0\" if torch.cuda.is_available() else \"cpu\")\n",
    "# print(f\"Dispositivo utilizado: {device}\")\n",
    "\n",
    "#     # Preparar DataLoaders\n",
    "# data_loader_setup = DataLoaderSetup(dataset_path, image_size=224, batch_size=32)\n",
    "# data_loader_treino, data_loader_validacao, num_imagens_treino, num_imagens_validacao, num_classes = data_loader_setup.get_data_loaders()\n",
    "\n",
    "#     # Carregar o modelo\n",
    "# modelo = CustomResNet50(num_classes).get_model().to(device)\n",
    "# nameModel = 'novosModels/fer_dados1.pt'\n",
    "# patience = 5\n",
    "#     # Treinar e validar\n",
    "# trainer = Trainer(modelo, data_loader_treino, data_loader_validacao, num_imagens_treino, num_imagens_validacao, device, num_classes, patience,nameModel)\n",
    "# historico = trainer.treinar_e_validar(epocas=30)\n"
   ]
  },
  {
   "cell_type": "markdown",
   "metadata": {},
   "source": [
    "Essenciais"
   ]
  },
  {
   "cell_type": "code",
   "execution_count": 7,
   "metadata": {},
   "outputs": [],
   "source": [
    "# dataset_path = '../Essenciais2/'\n",
    "# device = torch.device(\"cuda:0\" if torch.cuda.is_available() else \"cpu\")\n",
    "# print(f\"Dispositivo utilizado: {device}\")\n",
    "\n",
    "#     # Preparar DataLoaders\n",
    "# data_loader_setup = DataLoaderSetup(dataset_path, image_size=224, batch_size=32)\n",
    "# data_loader_treino, data_loader_validacao, num_imagens_treino, num_imagens_validacao, num_classes = data_loader_setup.get_data_loaders()\n",
    "\n",
    "#     # Carregar o modelo\n",
    "# modelo = CustomResNet50(num_classes).get_model().to(device)\n",
    "# nameModel = 'novosModels/fer_Essenciais2.pt'\n",
    "# patience = 5\n",
    "#     # Treinar e validar\n",
    "# trainer = Trainer(modelo, data_loader_treino, data_loader_validacao, num_imagens_treino, num_imagens_validacao, device, num_classes, patience,nameModel)\n",
    "# historico = trainer.treinar_e_validar(epocas=30)\n"
   ]
  },
  {
   "cell_type": "code",
   "execution_count": 8,
   "metadata": {},
   "outputs": [],
   "source": [
    "# dataset_path = '../full_face_landmarks2/'\n",
    "# device = torch.device(\"cuda:0\" if torch.cuda.is_available() else \"cpu\")\n",
    "# print(f\"Dispositivo utilizado: {device}\")\n",
    "\n",
    "#     # Preparar DataLoaders\n",
    "# data_loader_setup = DataLoaderSetup(dataset_path, image_size=224, batch_size=32)\n",
    "# data_loader_treino, data_loader_validacao, num_imagens_treino, num_imagens_validacao, num_classes = data_loader_setup.get_data_loaders()\n",
    "\n",
    "#     # Carregar o modelo\n",
    "# modelo = CustomResNet50(num_classes).get_model().to(device)\n",
    "# nameModel = 'novosModels/fer_full_face_landmarks2.pt'\n",
    "# patience = 5\n",
    "#     # Treinar e validar\n",
    "# trainer = Trainer(modelo, data_loader_treino, data_loader_validacao, num_imagens_treino, num_imagens_validacao, device, num_classes, patience,nameModel)\n",
    "# historico = trainer.treinar_e_validar(epocas=30)\n"
   ]
  },
  {
   "cell_type": "code",
   "execution_count": null,
   "metadata": {},
   "outputs": [],
   "source": [
    "dataset_path = '../full_face_connected_landmarks2/'\n",
    "device = torch.device(\"cuda:0\" if torch.cuda.is_available() else \"cpu\")\n",
    "print(f\"Dispositivo utilizado: {device}\")\n",
    "\n",
    "    # Preparar DataLoaders\n",
    "data_loader_setup = DataLoaderSetup(dataset_path, image_size=224, batch_size=32)\n",
    "data_loader_treino, data_loader_validacao, num_imagens_treino, num_imagens_validacao, num_classes = data_loader_setup.get_data_loaders()\n",
    "\n",
    "    # Carregar o modelo\n",
    "modelo = CustomResNet50(num_classes).get_model().to(device)\n",
    "nameModel = 'novosModels/fer_full_face_connected_landmarks2.pt'\n",
    "patience = 5\n",
    "    # Treinar e validar\n",
    "trainer = Trainer(modelo, data_loader_treino, data_loader_validacao, num_imagens_treino, num_imagens_validacao, device, num_classes, patience,nameModel)\n",
    "historico = trainer.treinar_e_validar(epocas=30)\n"
   ]
  }
 ],
 "metadata": {
  "kernelspec": {
   "display_name": "Python 3",
   "language": "python",
   "name": "python3"
  },
  "language_info": {
   "codemirror_mode": {
    "name": "ipython",
    "version": 3
   },
   "file_extension": ".py",
   "mimetype": "text/x-python",
   "name": "python",
   "nbconvert_exporter": "python",
   "pygments_lexer": "ipython3",
   "version": "3.10.0"
  }
 },
 "nbformat": 4,
 "nbformat_minor": 2
}
