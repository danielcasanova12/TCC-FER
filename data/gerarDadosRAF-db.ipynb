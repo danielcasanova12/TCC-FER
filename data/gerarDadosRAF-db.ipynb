{
 "cells": [
  {
   "cell_type": "markdown",
   "metadata": {},
   "source": [
    "# Instalando as bibliotecas nescesarias"
   ]
  },
  {
   "cell_type": "code",
   "execution_count": 5,
   "metadata": {},
   "outputs": [],
   "source": [
    "# %pip install kagglehub kaggle pandas numpy pillow"
   ]
  },
  {
   "cell_type": "markdown",
   "metadata": {},
   "source": [
    "Fazendo dowload do dataset fer-2013 no formato .csv"
   ]
  },
  {
   "cell_type": "code",
   "execution_count": 6,
   "metadata": {},
   "outputs": [
    {
     "name": "stdout",
     "output_type": "stream",
     "text": [
      "Path to dataset files: C:\\Users\\Danil\\.cache\\kagglehub\\datasets\\shuvoalok\\raf-db-dataset\\versions\\2\n"
     ]
    }
   ],
   "source": [
    "import kagglehub\n",
    "\n",
    "# Download latest version\n",
    "path = kagglehub.dataset_download(\"shuvoalok/raf-db-dataset\")\n",
    "\n",
    "print(\"Path to dataset files:\", path)"
   ]
  },
  {
   "cell_type": "markdown",
   "metadata": {},
   "source": [
    "Criando as pastas de treino teste e "
   ]
  },
  {
   "cell_type": "code",
   "execution_count": 7,
   "metadata": {},
   "outputs": [],
   "source": [
    "import os\n",
    "import random\n",
    "import shutil\n",
    "\n",
    "def move_half_of_test_data(source_test_dir, target_dir):\n",
    "    # Verifica se o diretório de destino existe, caso contrário, cria-o\n",
    "    os.makedirs(target_dir, exist_ok=True)\n",
    "\n",
    "    # Itera sobre as subpastas (classes) no diretório de teste\n",
    "    for class_name in os.listdir(source_test_dir):\n",
    "        class_source_dir = os.path.join(source_test_dir, class_name)\n",
    "        class_target_dir = os.path.join(target_dir, class_name)\n",
    "\n",
    "        # Certifica-se de que estamos lidando com uma pasta\n",
    "        if not os.path.isdir(class_source_dir):\n",
    "            continue\n",
    "\n",
    "        # Cria o diretório de destino para a classe, se ainda não existir\n",
    "        os.makedirs(class_target_dir, exist_ok=True)\n",
    "\n",
    "        # Obtém todos os arquivos da classe\n",
    "        files = os.listdir(class_source_dir)\n",
    "\n",
    "        # Embaralha os arquivos aleatoriamente\n",
    "        random.shuffle(files)\n",
    "\n",
    "        # Seleciona 50% dos arquivos\n",
    "        num_files_to_move = len(files) // 2\n",
    "        files_to_move = files[:num_files_to_move]\n",
    "\n",
    "        # Move os arquivos selecionados para o diretório de destino\n",
    "        for file_name in files_to_move:\n",
    "            source_file = os.path.join(class_source_dir, file_name)\n",
    "            target_file = os.path.join(class_target_dir, file_name)\n",
    "\n",
    "            shutil.move(source_file, target_file)\n",
    "\n",
    "        print(f\"Movidos {num_files_to_move} arquivos da classe '{class_name}'.\")\n",
    "\n",
    "\n"
   ]
  },
  {
   "cell_type": "code",
   "execution_count": 8,
   "metadata": {},
   "outputs": [
    {
     "name": "stdout",
     "output_type": "stream",
     "text": [
      "Movidos 164 arquivos da classe '1'.\n",
      "Movidos 37 arquivos da classe '2'.\n",
      "Movidos 80 arquivos da classe '3'.\n",
      "Movidos 592 arquivos da classe '4'.\n",
      "Movidos 239 arquivos da classe '5'.\n",
      "Movidos 81 arquivos da classe '6'.\n",
      "Movidos 340 arquivos da classe '7'.\n",
      "Processo concluído!\n"
     ]
    }
   ],
   "source": [
    "source_test_dir = \"./RAF-DB/test\"  # Substitua pelo caminho da pasta 'test'\n",
    "target_dir = \"./RAF-DB/val\"  # Substitua pelo caminho da pasta de destino\n",
    "\n",
    "move_half_of_test_data(source_test_dir, target_dir)\n",
    "print(\"Processo concluído!\")"
   ]
  },
  {
   "cell_type": "code",
   "execution_count": 9,
   "metadata": {},
   "outputs": [],
   "source": [
    "def rename_and_move_directories(base_dir, target_names):\n",
    "    \"\"\"\n",
    "    Renomeia as pastas de 1 a 7 para os nomes especificados em target_names.\n",
    "    \"\"\"\n",
    "    for subdir in os.listdir(base_dir):\n",
    "        subdir_path = os.path.join(base_dir, subdir)\n",
    "\n",
    "        # Verifica se o subdiretório é um número válido para renomeação\n",
    "        if subdir.isdigit() and int(subdir) in target_names:\n",
    "            new_name = target_names[int(subdir)]\n",
    "            new_path = os.path.join(base_dir, new_name)\n",
    "\n",
    "            # Renomeia a pasta\n",
    "            os.rename(subdir_path, new_path)\n",
    "            print(f\"Renomeado: {subdir_path} -> {new_path}\")"
   ]
  },
  {
   "cell_type": "code",
   "execution_count": 10,
   "metadata": {},
   "outputs": [
    {
     "name": "stdout",
     "output_type": "stream",
     "text": [
      "Renomeado: ./RAF-DB/train\\1 -> ./RAF-DB/train\\angry\n",
      "Renomeado: ./RAF-DB/train\\2 -> ./RAF-DB/train\\disgust\n",
      "Renomeado: ./RAF-DB/train\\3 -> ./RAF-DB/train\\fear\n",
      "Renomeado: ./RAF-DB/train\\4 -> ./RAF-DB/train\\happy\n",
      "Renomeado: ./RAF-DB/train\\5 -> ./RAF-DB/train\\neutral\n",
      "Renomeado: ./RAF-DB/train\\6 -> ./RAF-DB/train\\sad\n",
      "Renomeado: ./RAF-DB/train\\7 -> ./RAF-DB/train\\surprise\n",
      "Renomeado: ./RAF-DB/test\\1 -> ./RAF-DB/test\\angry\n",
      "Renomeado: ./RAF-DB/test\\2 -> ./RAF-DB/test\\disgust\n",
      "Renomeado: ./RAF-DB/test\\3 -> ./RAF-DB/test\\fear\n",
      "Renomeado: ./RAF-DB/test\\4 -> ./RAF-DB/test\\happy\n",
      "Renomeado: ./RAF-DB/test\\5 -> ./RAF-DB/test\\neutral\n",
      "Renomeado: ./RAF-DB/test\\6 -> ./RAF-DB/test\\sad\n",
      "Renomeado: ./RAF-DB/test\\7 -> ./RAF-DB/test\\surprise\n",
      "Renomeado: ./RAF-DB/val\\1 -> ./RAF-DB/val\\angry\n",
      "Renomeado: ./RAF-DB/val\\2 -> ./RAF-DB/val\\disgust\n",
      "Renomeado: ./RAF-DB/val\\3 -> ./RAF-DB/val\\fear\n",
      "Renomeado: ./RAF-DB/val\\4 -> ./RAF-DB/val\\happy\n",
      "Renomeado: ./RAF-DB/val\\5 -> ./RAF-DB/val\\neutral\n",
      "Renomeado: ./RAF-DB/val\\6 -> ./RAF-DB/val\\sad\n",
      "Renomeado: ./RAF-DB/val\\7 -> ./RAF-DB/val\\surprise\n"
     ]
    }
   ],
   "source": [
    "target_names = {\n",
    "        1: 'angry',\n",
    "        2: 'disgust',\n",
    "        3: 'fear',\n",
    "        4: 'happy',\n",
    "        5: 'neutral',\n",
    "        6: 'sad',\n",
    "        7: 'surprise'\n",
    "    }\n",
    "\n",
    "    # Diretórios base\n",
    "base_dirs = ['./RAF-DB/train', './RAF-DB/test', './RAF-DB/val']\n",
    "\n",
    "    # Renomear as pastas\n",
    "for base_dir in base_dirs:\n",
    "    rename_and_move_directories(base_dir, target_names)\n"
   ]
  }
 ],
 "metadata": {
  "kernelspec": {
   "display_name": "Python 3",
   "language": "python",
   "name": "python3"
  },
  "language_info": {
   "codemirror_mode": {
    "name": "ipython",
    "version": 3
   },
   "file_extension": ".py",
   "mimetype": "text/x-python",
   "name": "python",
   "nbconvert_exporter": "python",
   "pygments_lexer": "ipython3",
   "version": "3.10.0"
  }
 },
 "nbformat": 4,
 "nbformat_minor": 2
}
