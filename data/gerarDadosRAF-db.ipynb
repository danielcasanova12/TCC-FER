{
 "cells": [
  {
   "cell_type": "markdown",
   "metadata": {},
   "source": [
    "# Instalando as bibliotecas nescesarias"
   ]
  },
  {
   "cell_type": "code",
   "execution_count": null,
   "metadata": {},
   "outputs": [],
   "source": [
    "%pip install kagglehub kaggle pandas numpy pillow"
   ]
  },
  {
   "cell_type": "markdown",
   "metadata": {},
   "source": [
    "Fazendo dowload do dataset fer-2013 no formato .csv"
   ]
  },
  {
   "cell_type": "code",
   "execution_count": null,
   "metadata": {},
   "outputs": [],
   "source": [
    "import kagglehub\n",
    "\n",
    "# Download latest version\n",
    "path = kagglehub.dataset_download(\"shuvoalok/raf-db-dataset\")\n",
    "\n",
    "print(\"Path to dataset files:\", path)"
   ]
  },
  {
   "cell_type": "markdown",
   "metadata": {},
   "source": [
    "Criando as pastas de treino teste e "
   ]
  },
  {
   "cell_type": "code",
   "execution_count": null,
   "metadata": {},
   "outputs": [],
   "source": [
    "import os\n",
    "import random\n",
    "import shutil\n",
    "\n",
    "def move_half_of_test_data(source_test_dir, target_dir):\n",
    "    # Verifica se o diretório de destino existe, caso contrário, cria-o\n",
    "    os.makedirs(target_dir, exist_ok=True)\n",
    "\n",
    "    # Itera sobre as subpastas (classes) no diretório de teste\n",
    "    for class_name in os.listdir(source_test_dir):\n",
    "        class_source_dir = os.path.join(source_test_dir, class_name)\n",
    "        class_target_dir = os.path.join(target_dir, class_name)\n",
    "\n",
    "        # Certifica-se de que estamos lidando com uma pasta\n",
    "        if not os.path.isdir(class_source_dir):\n",
    "            continue\n",
    "\n",
    "        # Cria o diretório de destino para a classe, se ainda não existir\n",
    "        os.makedirs(class_target_dir, exist_ok=True)\n",
    "\n",
    "        # Obtém todos os arquivos da classe\n",
    "        files = os.listdir(class_source_dir)\n",
    "\n",
    "        # Embaralha os arquivos aleatoriamente\n",
    "        random.shuffle(files)\n",
    "\n",
    "        # Seleciona 50% dos arquivos\n",
    "        num_files_to_move = len(files) // 2\n",
    "        files_to_move = files[:num_files_to_move]\n",
    "\n",
    "        # Move os arquivos selecionados para o diretório de destino\n",
    "        for file_name in files_to_move:\n",
    "            source_file = os.path.join(class_source_dir, file_name)\n",
    "            target_file = os.path.join(class_target_dir, file_name)\n",
    "\n",
    "            shutil.move(source_file, target_file)\n",
    "\n",
    "        print(f\"Movidos {num_files_to_move} arquivos da classe '{class_name}'.\")\n",
    "\n",
    "\n"
   ]
  },
  {
   "cell_type": "code",
   "execution_count": null,
   "metadata": {},
   "outputs": [],
   "source": [
    "source_test_dir = \"./RAF-DB/test\"  # Substitua pelo caminho da pasta 'test'\n",
    "target_dir = \"./RAF-DB/val\"  # Substitua pelo caminho da pasta de destino\n",
    "\n",
    "move_half_of_test_data(source_test_dir, target_dir)\n",
    "print(\"Processo concluído!\")"
   ]
  },
  {
   "cell_type": "code",
   "execution_count": 4,
   "metadata": {},
   "outputs": [],
   "source": [
    "def rename_and_move_directories(base_dir, target_names):\n",
    "    \"\"\"\n",
    "    Renomeia as pastas de 1 a 7 para os nomes especificados em target_names.\n",
    "    \"\"\"\n",
    "    for subdir in os.listdir(base_dir):\n",
    "        subdir_path = os.path.join(base_dir, subdir)\n",
    "\n",
    "        # Verifica se o subdiretório é um número válido para renomeação\n",
    "        if subdir.isdigit() and int(subdir) in target_names:\n",
    "            new_name = target_names[int(subdir)]\n",
    "            new_path = os.path.join(base_dir, new_name)\n",
    "\n",
    "            # Renomeia a pasta\n",
    "            os.rename(subdir_path, new_path)\n",
    "            print(f\"Renomeado: {subdir_path} -> {new_path}\")"
   ]
  },
  {
   "cell_type": "code",
   "execution_count": null,
   "metadata": {},
   "outputs": [],
   "source": [
    "target_names = {\n",
    "        1: 'angry',\n",
    "        2: 'disgust',\n",
    "        3: 'fear',\n",
    "        4: 'happy',\n",
    "        5: 'neutral',\n",
    "        6: 'sad',\n",
    "        7: 'surprise'\n",
    "    }\n",
    "\n",
    "    # Diretórios base\n",
    "base_dirs = ['./RAF-DB/train', './RAF-DB/test', './RAF-DB/val']\n",
    "\n",
    "    # Renomear as pastas\n",
    "for base_dir in base_dirs:\n",
    "    rename_and_move_directories(base_dir, target_names)\n"
   ]
  }
 ],
 "metadata": {
  "kernelspec": {
   "display_name": "Python 3",
   "language": "python",
   "name": "python3"
  },
  "language_info": {
   "codemirror_mode": {
    "name": "ipython",
    "version": 3
   },
   "file_extension": ".py",
   "mimetype": "text/x-python",
   "name": "python",
   "nbconvert_exporter": "python",
   "pygments_lexer": "ipython3",
   "version": "3.10.0"
  }
 },
 "nbformat": 4,
 "nbformat_minor": 2
}
