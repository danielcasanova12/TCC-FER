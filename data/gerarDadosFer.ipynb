{
 "cells": [
  {
   "cell_type": "markdown",
   "metadata": {},
   "source": [
    "# Instalando as bibliotecas nescesarias"
   ]
  },
  {
   "cell_type": "code",
   "execution_count": null,
   "metadata": {},
   "outputs": [],
   "source": [
    "%pip install kagglehub kaggle pandas numpy pillow"
   ]
  },
  {
   "cell_type": "markdown",
   "metadata": {},
   "source": [
    "Fazendo dowload do dataset fer-2013 no formato .csv"
   ]
  },
  {
   "cell_type": "code",
   "execution_count": null,
   "metadata": {},
   "outputs": [],
   "source": [
    "import kagglehub\n",
    "\n",
    "# Download latest version\n",
    "path = kagglehub.dataset_download(\"pranavvinodh/fer-2013\")\n",
    "\n",
    "print(\"Path to dataset files:\", path)"
   ]
  },
  {
   "cell_type": "markdown",
   "metadata": {},
   "source": [
    "Criando as pastas de treino teste e validação com as emoçoes"
   ]
  },
  {
   "cell_type": "code",
   "execution_count": 6,
   "metadata": {},
   "outputs": [
    {
     "name": "stdout",
     "output_type": "stream",
     "text": [
      "Imagens salvas em Fer-2013.\n"
     ]
    }
   ],
   "source": [
    "import os\n",
    "import pandas as pd\n",
    "import numpy as np\n",
    "from PIL import Image\n",
    "\n",
    "# Mapeamento de USAGE\n",
    "USAGE_MAPPING = {\n",
    "    'Training': 'train',\n",
    "    'PublicTest': 'val',\n",
    "    'PrivateTest': 'test'\n",
    "}\n",
    "\n",
    "# Mapeamento de emoções\n",
    "EMOTION_MAPPING = {\n",
    "    0: 'Angry',\n",
    "    1: 'Disgust',\n",
    "    2: 'Fear',\n",
    "    3: 'Happy',\n",
    "    4: 'Sad',\n",
    "    5: 'Surprise',\n",
    "    6: 'Neutral'\n",
    "}\n",
    "\n",
    "# Carrega o arquivo CSV\n",
    "def load_csv(file_path):\n",
    "    return pd.read_csv(file_path)\n",
    "\n",
    "# Cria diretórios de saída\n",
    "def create_directories(base_dir, categories, usages):\n",
    "    for usage in usages:\n",
    "        usage_dir = os.path.join(base_dir, USAGE_MAPPING.get(usage, usage))\n",
    "        os.makedirs(usage_dir, exist_ok=True)\n",
    "        for category in categories:\n",
    "            category_name = EMOTION_MAPPING.get(category, str(category))\n",
    "            os.makedirs(os.path.join(usage_dir, category_name), exist_ok=True)\n",
    "\n",
    "# Salva imagens de acordo com os dados do CSV\n",
    "def save_images_from_csv(df, base_dir):\n",
    "    for index, row in df.iterrows():\n",
    "        try:\n",
    "            pixels = np.array(row['pixels'].split(), dtype=np.uint8).reshape(48, 48)\n",
    "            category = row['emotion']\n",
    "            usage = row['Usage']\n",
    "\n",
    "            category_name = EMOTION_MAPPING.get(category, str(category))\n",
    "            usage_name = USAGE_MAPPING.get(usage, usage)\n",
    "\n",
    "            img = Image.fromarray(pixels, mode='L')  # L para escala de cinza\n",
    "\n",
    "            output_dir = os.path.join(base_dir, usage_name, category_name)\n",
    "            output_path = os.path.join(output_dir, f\"img_{index}.png\")\n",
    "\n",
    "            img.save(output_path)\n",
    "        except Exception as e:\n",
    "            print(f\"Erro ao processar a imagem {index}: {e}\")\n",
    "\n",
    "# Função principal\n",
    "def main():\n",
    "    csv_file = 'fer2013.csv'  # Substitua pelo caminho correto do arquivo\n",
    "    base_output_dir = 'Fer-2013'  # Diretório base de saída\n",
    "\n",
    "    df = load_csv(csv_file)\n",
    "\n",
    "    categories = df['emotion'].unique()\n",
    "    usages = df['Usage'].unique()\n",
    "\n",
    "    create_directories(base_output_dir, categories, usages)\n",
    "    save_images_from_csv(df, base_output_dir)\n",
    "\n",
    "    print(f\"Imagens salvas em {base_output_dir}.\")\n",
    "\n",
    "if __name__ == \"__main__\":\n",
    "    main()\n"
   ]
  }
 ],
 "metadata": {
  "kernelspec": {
   "display_name": "Python 3",
   "language": "python",
   "name": "python3"
  },
  "language_info": {
   "codemirror_mode": {
    "name": "ipython",
    "version": 3
   },
   "file_extension": ".py",
   "mimetype": "text/x-python",
   "name": "python",
   "nbconvert_exporter": "python",
   "pygments_lexer": "ipython3",
   "version": "3.10.0"
  }
 },
 "nbformat": 4,
 "nbformat_minor": 2
}
