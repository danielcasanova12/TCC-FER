{
 "cells": [
  {
   "cell_type": "code",
   "execution_count": 6,
   "metadata": {},
   "outputs": [
    {
     "name": "stdout",
     "output_type": "stream",
     "text": [
      "{0: 'Angry', 1: 'Disgust', 2: 'Fear', 3: 'Happy', 4: 'Neutral', 5: 'Sad', 6: 'Surprise'}\n",
      "cuda:0\n",
      "\n"
     ]
    }
   ],
   "source": [
    "import numpy as np\n",
    "import PIL.Image\n",
    "\n",
    "import torch, torchvision\n",
    "from torchvision import datasets, models, transforms\n",
    "from torch.utils.data import DataLoader\n",
    "import torch.optim as optim\n",
    "import time\n",
    "import torch\n",
    "import torch.nn as nn\n",
    "import torch.optim as optim\n",
    "from torch.optim.lr_scheduler import ReduceLROnPlateau\n",
    "from matplotlib import pyplot as plt\n",
    "\n",
    "import os\n",
    "\n",
    "\n",
    "numero_de_epocas = 20\n",
    "bs = 32\n",
    "dataset = r'./data/Fer-2013/'\n",
    "pasta_treino = os.path.join(dataset, 'treino')\n",
    "pasta_validacao = os.path.join(dataset, 'validacao')\n",
    "pasta_teste = os.path.join(dataset, 'teste')\n",
    "numero_de_classes = len(os.listdir(pasta_validacao))\n",
    "\n",
    "from torchvision import transforms\n",
    "image_size = 48\n",
    "transformacoes_de_imagens = { \n",
    "    'treino': transforms.Compose([\n",
    "        transforms.RandomHorizontalFlip(),\n",
    "        transforms.Resize(size=[image_size, image_size]),\n",
    "        transforms.RandomRotation(20),\n",
    "        transforms.Grayscale(num_output_channels=3), \n",
    "        transforms.ToTensor()\n",
    "    ]),\n",
    "\n",
    "    'validacao': transforms.Compose([\n",
    "        transforms.Resize(size=[image_size, image_size]),\n",
    "        transforms.Grayscale(num_output_channels=3),  \n",
    "        transforms.ToTensor(),\n",
    "    ])\n",
    "}\n",
    "\n",
    "\n",
    "data = {\n",
    "    'treino': datasets.ImageFolder(root=pasta_treino, transform=transformacoes_de_imagens['treino']),\n",
    "    'validacao': datasets.ImageFolder(root=pasta_validacao, transform=transformacoes_de_imagens['validacao'])\n",
    "}\n",
    "\n",
    "# Mapear os índices com os nomes das classes\n",
    "indice_para_classe = {v: k for k, v in data['treino'].class_to_idx.items()}\n",
    "print(indice_para_classe)\n",
    "\n",
    "# Quantidade de imagens para serem utilizadas para calcular erro médio e acurácia\n",
    "num_imagens_treino = len(data['treino'])\n",
    "num_imagens_validacao = len(data['validacao'])\n",
    "\n",
    "# Cria os DataLoaders para treino e validação\n",
    "data_loader_treino = DataLoader(data['treino'], batch_size=bs, shuffle=True)\n",
    "data_loader_validacao = DataLoader(data['validacao'], batch_size=bs, shuffle=True)\n",
    "\n",
    "# Carregar o modelo ResNet-50 pré-treinado\n",
    "resnet50 = models.resnet50(pretrained=True)\n",
    "\n",
    "# Congelar os parâmetros da rede pré-treinada\n",
    "for param in list(resnet50.parameters())[-4:]:\n",
    "    param.requires_grad = True\n",
    "\n",
    "# Modificar a última camada totalmente conectada (fc) para o número de classes do problema\n",
    "num_features = resnet50.fc.in_features\n",
    "resnet50.fc = nn.Sequential(\n",
    "    nn.Linear(num_features, 512),\n",
    "    nn.ReLU(),\n",
    "    nn.Dropout(0.3),\n",
    "    nn.Linear(512, numero_de_classes),\n",
    "    nn.LogSoftmax(dim=1)\n",
    ")\n",
    "\n",
    "# Definir algoritmo de otimização e função de erro\n",
    "funcao_erro = nn.NLLLoss()  # Negative Log Likelihood Loss\n",
    "otimizador = optim.Adam(resnet50.parameters(), lr=0.0001)\n",
    "\n",
    "# Função para treinamento e validação\n",
    "from tqdm import tqdm\n",
    "\n",
    "def treinar_e_validar(modelo, metrica_erro, otimizador_sgd, epocas=25):\n",
    "    historico = []\n",
    "    melhor_acuracia = 0.0\n",
    "    melhor_modelo = None\n",
    "\n",
    "    for epoca in range(epocas):\n",
    "        inicio_epoca = time.time()\n",
    "        print(\"\\n\\nÉpoca: {}/{}\".format(epoca + 1, epocas))\n",
    "\n",
    "        modelo.train()\n",
    "        erro_treino = 0.0\n",
    "        acuracia_treino = 0.0\n",
    "        erro_validacao = 0.0\n",
    "        acuracia_validacao = 0.0\n",
    "\n",
    "        for i, (entradas, labels) in enumerate(tqdm(data_loader_treino, desc=\"Treinando\")):\n",
    "            entradas = entradas.to(device)\n",
    "            labels = labels.to(device)\n",
    "\n",
    "            otimizador_sgd.zero_grad()\n",
    "            saidas = modelo(entradas)\n",
    "            erro = metrica_erro(saidas, labels)\n",
    "            erro.backward()\n",
    "            otimizador_sgd.step()\n",
    "\n",
    "            erro_treino += erro.item() * entradas.size(0)\n",
    "            valores_maximos, indices_dos_valores_maximos = torch.max(saidas.data, 1)\n",
    "            predicoes_corretas = indices_dos_valores_maximos.eq(labels.data.view_as(indices_dos_valores_maximos))\n",
    "            acuracia = torch.mean(predicoes_corretas.type(torch.FloatTensor))\n",
    "            acuracia_treino += acuracia.item() * entradas.size(0)\n",
    "\n",
    "        # Dicionários para armazenar acertos e totais por classe\n",
    "        acertos_por_classe = {classe: 0 for classe in indice_para_classe.values()}\n",
    "        totais_por_classe = {classe: 0 for classe in indice_para_classe.values()}\n",
    "\n",
    "        with torch.no_grad():\n",
    "            modelo.eval()\n",
    "            for j, (entradas, labels) in enumerate(tqdm(data_loader_validacao, desc=\"Validando\")):\n",
    "                entradas = entradas.to(device)\n",
    "                labels = labels.to(device)\n",
    "                saidas = modelo(entradas)\n",
    "                erro = metrica_erro(saidas, labels)\n",
    "                erro_validacao += erro.item() * entradas.size(0)\n",
    "\n",
    "                valores_maximos, indices_dos_valores_maximos = torch.max(saidas.data, 1)\n",
    "                predicoes_corretas = indices_dos_valores_maximos.eq(labels.data.view_as(indices_dos_valores_maximos))\n",
    "                acuracia = torch.mean(predicoes_corretas.type(torch.FloatTensor))\n",
    "                acuracia_validacao += acuracia.item() * entradas.size(0)\n",
    "\n",
    "                # Atualizar contadores por classe\n",
    "                for label, predicao in zip(labels, indices_dos_valores_maximos):\n",
    "                    classe_real = indice_para_classe[label.item()]\n",
    "                    totais_por_classe[classe_real] += 1\n",
    "                    if label == predicao:\n",
    "                        acertos_por_classe[classe_real] += 1\n",
    "\n",
    "        erro_medio_treino = erro_treino / num_imagens_treino\n",
    "        acuracia_media_treino = acuracia_treino / num_imagens_treino\n",
    "        erro_medio_validacao = erro_validacao / num_imagens_validacao\n",
    "        acuracia_media_validacao = acuracia_validacao / num_imagens_validacao\n",
    "\n",
    "        historico.append([erro_medio_treino, erro_medio_validacao, acuracia_media_treino, acuracia_media_validacao])\n",
    "\n",
    "        fim_epoca = time.time()\n",
    "\n",
    "        print(\"Época : {:03d}, Treino: Erro: {:.4f}, Acurácia: {:.4f}%, \\n\\t\\tValidação : Erro : {:.4f}, Acurácia: {:.4f}%, Tempo: {:.4f}s\".format(\n",
    "            epoca + 1, erro_medio_treino, acuracia_media_treino * 100, erro_medio_validacao, acuracia_media_validacao * 100, fim_epoca - inicio_epoca))\n",
    "\n",
    "\n",
    "\n",
    "        print(\"\\nAcurácia por classe na validação:\")\n",
    "        for classe, total in totais_por_classe.items():\n",
    "            if total > 0:\n",
    "                acuracia_classe = (acertos_por_classe[classe] / total) * 100\n",
    "                print(f\"Classe '{classe}': {acuracia_classe:.2f}%\")\n",
    "            else:\n",
    "                print(f\"Classe '{classe}': Sem exemplos na validação\")\n",
    "\n",
    "        if acuracia_media_validacao > melhor_acuracia:\n",
    "            melhor_acuracia = acuracia_media_validacao\n",
    "            torch.save(modelo, './melhores_modelos/melhor_modelo01k.pt')\n",
    "            melhor_modelo = modelo\n",
    "\n",
    "    return melhor_modelo, historico\n",
    "\n",
    "\n",
    "# Se você for rico e tiver uma RTX 3080 (que sonho!!)\n",
    "# Mas se não for, sem problemas, sua CPU provavelmente vai dar conta do recado!\n",
    "device = torch.device(\"cuda:0\" if torch.cuda.is_available() else \"cpu\")\n",
    "\n",
    "# Imprime se vai ser CPU ou alguma GPU\n",
    "print(f'{device}\\n')\n",
    "\n",
    "# Define o número de épocas\n",
    "numero_de_epocas = 20\n",
    "\n",
    "# treina o modelo! Finalmente!!\n",
    "resnet50 = resnet50.to(device)\n",
    "# modelo_treinado, historico = treinar_e_validar(resnet50, funcao_erro, otimizador, numero_de_epocas)\n"
   ]
  },
  {
   "cell_type": "code",
   "execution_count": null,
   "metadata": {},
   "outputs": [
    {
     "name": "stdout",
     "output_type": "stream",
     "text": [
      "{0: 'Angry', 1: 'Disgust', 2: 'Fear', 3: 'Happy', 4: 'Neutral', 5: 'Sad', 6: 'Surprise'}\n"
     ]
    },
    {
     "name": "stderr",
     "output_type": "stream",
     "text": [
      "c:\\Users\\Danil\\AppData\\Local\\Programs\\Python\\Python310\\lib\\site-packages\\torchvision\\models\\_utils.py:208: UserWarning: The parameter 'pretrained' is deprecated since 0.13 and may be removed in the future, please use 'weights' instead.\n",
      "  warnings.warn(\n",
      "c:\\Users\\Danil\\AppData\\Local\\Programs\\Python\\Python310\\lib\\site-packages\\torchvision\\models\\_utils.py:223: UserWarning: Arguments other than a weight enum or `None` for 'weights' are deprecated since 0.13 and may be removed in the future. The current behavior is equivalent to passing `weights=ResNet50_Weights.IMAGENET1K_V1`. You can also use `weights=ResNet50_Weights.DEFAULT` to get the most up-to-date weights.\n",
      "  warnings.warn(msg)\n",
      "C:\\Users\\Danil\\AppData\\Local\\Temp\\ipykernel_15184\\678801155.py:177: FutureWarning: You are using `torch.load` with `weights_only=False` (the current default value), which uses the default pickle module implicitly. It is possible to construct malicious pickle data which will execute arbitrary code during unpickling (See https://github.com/pytorch/pytorch/blob/main/SECURITY.md#untrusted-models for more details). In a future release, the default value for `weights_only` will be flipped to `True`. This limits the functions that could be executed during unpickling. Arbitrary objects will no longer be allowed to be loaded via this mode unless they are explicitly allowlisted by the user via `torch.serialization.add_safe_globals`. We recommend you start setting `weights_only=True` for any use case where you don't have full control of the loaded file. Please open an issue on GitHub for any issues related to this experimental feature.\n",
      "  estado = torch.load(caminho)\n"
     ]
    },
    {
     "name": "stdout",
     "output_type": "stream",
     "text": [
      "Checkpoint carregado: retomando do treinamento da época 33\n"
     ]
    }
   ],
   "source": [
    "import numpy as np\n",
    "import PIL.Image\n",
    "\n",
    "import torch, torchvision\n",
    "from torchvision import datasets, models, transforms\n",
    "from torch.utils.data import DataLoader\n",
    "import torch.optim as optim\n",
    "import time\n",
    "import torch\n",
    "import torch.nn as nn\n",
    "import torch.optim as optim\n",
    "from torch.optim.lr_scheduler import ReduceLROnPlateau\n",
    "from matplotlib import pyplot as plt\n",
    "\n",
    "import os\n",
    "\n",
    "\n",
    "image_size = 48\n",
    "numero_de_epocas = 80\n",
    "bs = 32\n",
    "dataset = r'./data/Fer-2013/'\n",
    "pasta_treino = os.path.join(dataset, 'treino')\n",
    "pasta_validacao = os.path.join(dataset, 'validacao')\n",
    "pasta_teste = os.path.join(dataset, 'teste')\n",
    "numero_de_classes = len(os.listdir(pasta_validacao))\n",
    "\n",
    "from tqdm import tqdm\n",
    "\n",
    "# Atualização das transformações para melhorar a generalização\n",
    "definicoes_de_transformacoes = {\n",
    "    'treino': transforms.Compose([\n",
    "        transforms.RandomHorizontalFlip(p=0.5),\n",
    "        transforms.RandomVerticalFlip(p=0.2),\n",
    "        transforms.RandomRotation(degrees=30),\n",
    "        transforms.RandomResizedCrop(size=image_size, scale=(0.8, 1.0)),\n",
    "        transforms.ColorJitter(brightness=0.2, contrast=0.2, saturation=0.2, hue=0.1),\n",
    "        transforms.Grayscale(num_output_channels=3),\n",
    "        transforms.ToTensor(),\n",
    "        transforms.Normalize(mean=[0.485, 0.456, 0.406], std=[0.229, 0.224, 0.225])\n",
    "    ]),\n",
    "\n",
    "    'validacao': transforms.Compose([\n",
    "        transforms.Resize(size=(image_size, image_size)),\n",
    "        transforms.Grayscale(num_output_channels=3),\n",
    "        transforms.ToTensor(),\n",
    "        transforms.Normalize(mean=[0.485, 0.456, 0.406], std=[0.229, 0.224, 0.225])\n",
    "    ])\n",
    "}\n",
    "\n",
    "# Aplicação das transformações atualizadas no carregamento dos dados\n",
    "transformacoes_de_imagens = definicoes_de_transformacoes\n",
    "\n",
    "\n",
    "data = {\n",
    "    'treino': datasets.ImageFolder(root=pasta_treino, transform=transformacoes_de_imagens['treino']),\n",
    "    'validacao': datasets.ImageFolder(root=pasta_validacao, transform=transformacoes_de_imagens['validacao'])\n",
    "}\n",
    "\n",
    "# Mapear os índices com os nomes das classes\n",
    "indice_para_classe = {v: k for k, v in data['treino'].class_to_idx.items()}\n",
    "print(indice_para_classe)\n",
    "\n",
    "# Quantidade de imagens para serem utilizadas para calcular erro médio e acurácia\n",
    "num_imagens_treino = len(data['treino'])\n",
    "num_imagens_validacao = len(data['validacao'])\n",
    "\n",
    "# Cria os DataLoaders para treino e validação\n",
    "data_loader_treino = DataLoader(data['treino'], batch_size=bs, shuffle=True)\n",
    "data_loader_validacao = DataLoader(data['validacao'], batch_size=bs, shuffle=True)\n",
    "\n",
    "# Carregar o modelo ResNet-50 pré-treinado\n",
    "resnet50 = models.resnet50(pretrained=True)\n",
    "\n",
    "# Descongelar mais camadas do modelo pré-treinado\n",
    "for param in list(resnet50.parameters())[:-10]:\n",
    "    param.requires_grad = True\n",
    "\n",
    "# Modificar a última camada totalmente conectada (fc) para o número de classes do problema\n",
    "num_features = resnet50.fc.in_features\n",
    "resnet50.fc = nn.Sequential(\n",
    "    nn.Linear(num_features, 1024),\n",
    "    nn.ReLU(),\n",
    "    nn.Dropout(0.4),\n",
    "    nn.Linear(1024, 512),\n",
    "    nn.ReLU(),\n",
    "    nn.Dropout(0.4),\n",
    "    nn.Linear(512, numero_de_classes),\n",
    "    nn.LogSoftmax(dim=1)\n",
    ")\n",
    "\n",
    "# Definir algoritmo de otimização e função de erro\n",
    "funcao_erro = nn.NLLLoss()  # Negative Log Likelihood Loss\n",
    "otimizador = optim.Adam(resnet50.parameters(), lr=0.0001)\n",
    "\n",
    "# Função principal de treinamento e validação\n",
    "def treinar_e_validar_com_checkpoint(modelo, metrica_erro, otimizador_sgd, epocas=25, epoca_inicial=0):\n",
    "    historico = []\n",
    "    melhor_acuracia = 0.0\n",
    "    melhor_modelo = None\n",
    "\n",
    "    for epoca in range(epoca_inicial, epocas):\n",
    "        inicio_epoca = time.time()\n",
    "        print(f\"\\n\\nÉpoca: {epoca + 1}/{epocas}\")\n",
    "\n",
    "        modelo.train()\n",
    "        erro_treino = 0.0\n",
    "        acuracia_treino = 0.0\n",
    "        erro_validacao = 0.0\n",
    "        acuracia_validacao = 0.0\n",
    "\n",
    "        for i, (entradas, labels) in enumerate(tqdm(data_loader_treino, desc=\"Treinando\")):\n",
    "            entradas = entradas.to(device)\n",
    "            labels = labels.to(device)\n",
    "\n",
    "            otimizador_sgd.zero_grad()\n",
    "            saidas = modelo(entradas)\n",
    "            erro = metrica_erro(saidas, labels)\n",
    "            erro.backward()\n",
    "            otimizador_sgd.step()\n",
    "\n",
    "            erro_treino += erro.item() * entradas.size(0)\n",
    "            valores_maximos, indices_dos_valores_maximos = torch.max(saidas.data, 1)\n",
    "            predicoes_corretas = indices_dos_valores_maximos.eq(labels.data.view_as(indices_dos_valores_maximos))\n",
    "            acuracia = torch.mean(predicoes_corretas.type(torch.FloatTensor))\n",
    "            acuracia_treino += acuracia.item() * entradas.size(0)\n",
    "\n",
    "        with torch.no_grad():\n",
    "            modelo.eval()\n",
    "            for j, (entradas, labels) in enumerate(tqdm(data_loader_validacao, desc=\"Validando\")):\n",
    "                entradas = entradas.to(device)\n",
    "                labels = labels.to(device)\n",
    "                saidas = modelo(entradas)\n",
    "                erro = metrica_erro(saidas, labels)\n",
    "                erro_validacao += erro.item() * entradas.size(0)\n",
    "\n",
    "                valores_maximos, indices_dos_valores_maximos = torch.max(saidas.data, 1)\n",
    "                predicoes_corretas = indices_dos_valores_maximos.eq(labels.data.view_as(indices_dos_valores_maximos))\n",
    "                acuracia = torch.mean(predicoes_corretas.type(torch.FloatTensor))\n",
    "                acuracia_validacao += acuracia.item() * entradas.size(0)\n",
    "\n",
    "        erro_medio_treino = erro_treino / num_imagens_treino\n",
    "        acuracia_media_treino = acuracia_treino / num_imagens_treino\n",
    "        erro_medio_validacao = erro_validacao / num_imagens_validacao\n",
    "        acuracia_media_validacao = acuracia_validacao / num_imagens_validacao\n",
    "\n",
    "        historico.append([erro_medio_treino, erro_medio_validacao, acuracia_media_treino, acuracia_media_validacao])\n",
    "\n",
    "        fim_epoca = time.time()\n",
    "\n",
    "        print(f\"Época : {epoca + 1:03d}, Treino: Erro: {erro_medio_treino:.4f}, Acurácia: {acuracia_media_treino * 100:.4f}%, \\n\\t\\tValidação : Erro : {erro_medio_validacao:.4f}, Acurácia: {acuracia_media_validacao * 100:.4f}%, Tempo: {fim_epoca - inicio_epoca:.4f}s\")\n",
    "\n",
    "        if acuracia_media_validacao > melhor_acuracia:\n",
    "            melhor_acuracia = acuracia_media_validacao\n",
    "            torch.save(modelo, './melhores_modelos/melhor_modelo001k.pt')\n",
    "            melhor_modelo = modelo\n",
    "\n",
    "        # Salvar o checkpoint ao final de cada época\n",
    "        salvar_checkpoint(modelo, otimizador_sgd, epoca, caminho_checkpoint)\n",
    "\n",
    "    return melhor_modelo, historico\n",
    "\n",
    "import os\n",
    "import torch\n",
    "\n",
    "# Função para salvar o checkpoint\n",
    "def salvar_checkpoint(modelo, otimizador, epoca, caminho):\n",
    "    estado = {\n",
    "        'epoca': epoca,\n",
    "        'modelo_state_dict': modelo.state_dict(),\n",
    "        'otimizador_state_dict': otimizador.state_dict()\n",
    "    }\n",
    "    torch.save(estado, caminho)\n",
    "\n",
    "# Função para carregar o checkpoint\n",
    "def carregar_checkpoint(caminho, modelo, otimizador):\n",
    "    if os.path.exists(caminho):\n",
    "        estado = torch.load(caminho)\n",
    "        modelo.load_state_dict(estado['modelo_state_dict'])\n",
    "        otimizador.load_state_dict(estado['otimizador_state_dict'])\n",
    "        epoca_inicial = estado['epoca'] + 1\n",
    "        print(f\"Checkpoint carregado: retomando do treinamento da época {epoca_inicial}\")\n",
    "        return epoca_inicial\n",
    "    else:\n",
    "        print(\"Nenhum checkpoint encontrado. Iniciando treinamento do zero.\")\n",
    "        return 0\n",
    "\n",
    "# Caminho do arquivo de checkpoint\n",
    "caminho_checkpoint = './melhores_modelos/last_melhor001k.pt'\n",
    "\n",
    "# Carregar o checkpoint se existir\n",
    "epoca_inicial = carregar_checkpoint(caminho_checkpoint, resnet50, otimizador)\n",
    "device = torch.device(\"cuda\" if torch.cuda.is_available() else \"cpu\")\n",
    "resnet50 = resnet50.to(device)\n",
    "# Treina o modelo, retomando do checkpoint se necessário\n",
    "# modelo_treinado, historico = treinar_e_validar_com_checkpoint(resnet50, funcao_erro, otimizador, numero_de_epocas, epoca_inicial)\n"
   ]
  },
  {
   "cell_type": "code",
   "execution_count": 9,
   "metadata": {},
   "outputs": [
    {
     "name": "stdout",
     "output_type": "stream",
     "text": [
      "{0: 'Angry', 1: 'Disgust', 2: 'Fear', 3: 'Happy', 4: 'Neutral', 5: 'Sad', 6: 'Surprise'}\n"
     ]
    },
    {
     "name": "stderr",
     "output_type": "stream",
     "text": [
      "c:\\Users\\Danil\\AppData\\Local\\Programs\\Python\\Python310\\lib\\site-packages\\torchvision\\models\\_utils.py:208: UserWarning: The parameter 'pretrained' is deprecated since 0.13 and may be removed in the future, please use 'weights' instead.\n",
      "  warnings.warn(\n",
      "c:\\Users\\Danil\\AppData\\Local\\Programs\\Python\\Python310\\lib\\site-packages\\torchvision\\models\\_utils.py:223: UserWarning: Arguments other than a weight enum or `None` for 'weights' are deprecated since 0.13 and may be removed in the future. The current behavior is equivalent to passing `weights=ResNet50_Weights.IMAGENET1K_V1`. You can also use `weights=ResNet50_Weights.DEFAULT` to get the most up-to-date weights.\n",
      "  warnings.warn(msg)\n"
     ]
    },
    {
     "name": "stdout",
     "output_type": "stream",
     "text": [
      "cuda:0\n",
      "\n"
     ]
    },
    {
     "name": "stderr",
     "output_type": "stream",
     "text": [
      "C:\\Users\\Danil\\AppData\\Local\\Temp\\ipykernel_19860\\2332882134.py:114: FutureWarning: You are using `torch.load` with `weights_only=False` (the current default value), which uses the default pickle module implicitly. It is possible to construct malicious pickle data which will execute arbitrary code during unpickling (See https://github.com/pytorch/pytorch/blob/main/SECURITY.md#untrusted-models for more details). In a future release, the default value for `weights_only` will be flipped to `True`. This limits the functions that could be executed during unpickling. Arbitrary objects will no longer be allowed to be loaded via this mode unless they are explicitly allowlisted by the user via `torch.serialization.add_safe_globals`. We recommend you start setting `weights_only=True` for any use case where you don't have full control of the loaded file. Please open an issue on GitHub for any issues related to this experimental feature.\n",
      "  estado = torch.load(caminho)\n"
     ]
    },
    {
     "name": "stdout",
     "output_type": "stream",
     "text": [
      "Checkpoint carregado: retomando do treinamento da época 72\n"
     ]
    }
   ],
   "source": [
    "import numpy as np\n",
    "import PIL.Image\n",
    "\n",
    "import torch, torchvision\n",
    "from torchvision import datasets, models, transforms\n",
    "from torch.utils.data import DataLoader\n",
    "import torch.optim as optim\n",
    "import time\n",
    "import torch\n",
    "import torch.nn as nn\n",
    "import torch.optim as optim\n",
    "from torch.optim.lr_scheduler import ReduceLROnPlateau\n",
    "from matplotlib import pyplot as plt\n",
    "from sklearn.utils.class_weight import compute_class_weight\n",
    "from sklearn.model_selection import KFold\n",
    "\n",
    "import os\n",
    "\n",
    "\n",
    "image_size = 48\n",
    "numero_de_epocas = 20\n",
    "bs = 32\n",
    "dataset = r'./data/Fer-2013/'\n",
    "pasta_treino = os.path.join(dataset, 'treino')\n",
    "pasta_validacao = os.path.join(dataset, 'validacao')\n",
    "pasta_teste = os.path.join(dataset, 'teste')\n",
    "numero_de_classes = len(os.listdir(pasta_validacao))\n",
    "\n",
    "from tqdm import tqdm\n",
    "\n",
    "# Atualização das transformações para melhorar a generalização\n",
    "definicoes_de_transformacoes = {\n",
    "    'treino': transforms.Compose([\n",
    "        transforms.RandomHorizontalFlip(p=0.5),\n",
    "        transforms.RandomVerticalFlip(p=0.2),\n",
    "        transforms.RandomRotation(degrees=30),\n",
    "        transforms.RandomResizedCrop(size=image_size, scale=(0.8, 1.0)),\n",
    "        transforms.ColorJitter(brightness=0.2, contrast=0.2, saturation=0.2, hue=0.1),\n",
    "        transforms.Grayscale(num_output_channels=3),\n",
    "        transforms.ToTensor(),\n",
    "        transforms.Normalize(mean=[0.485, 0.456, 0.406], std=[0.229, 0.224, 0.225])\n",
    "    ]),\n",
    "\n",
    "    'validacao': transforms.Compose([\n",
    "        transforms.Resize(size=(image_size, image_size)),\n",
    "        transforms.Grayscale(num_output_channels=3),\n",
    "        transforms.ToTensor(),\n",
    "        transforms.Normalize(mean=[0.485, 0.456, 0.406], std=[0.229, 0.224, 0.225])\n",
    "    ])\n",
    "}\n",
    "\n",
    "# Aplicação das transformações atualizadas no carregamento dos dados\n",
    "transformacoes_de_imagens = definicoes_de_transformacoes\n",
    "\n",
    "\n",
    "data = {\n",
    "    'treino': datasets.ImageFolder(root=pasta_treino, transform=transformacoes_de_imagens['treino']),\n",
    "    'validacao': datasets.ImageFolder(root=pasta_validacao, transform=transformacoes_de_imagens['validacao'])\n",
    "}\n",
    "\n",
    "# Mapear os índices com os nomes das classes\n",
    "indice_para_classe = {v: k for k, v in data['treino'].class_to_idx.items()}\n",
    "print(indice_para_classe)\n",
    "\n",
    "# Quantidade de imagens para serem utilizadas para calcular erro médio e acurácia\n",
    "num_imagens_treino = len(data['treino'])\n",
    "num_imagens_validacao = len(data['validacao'])\n",
    "\n",
    "# Calcular pesos para lidar com classes desbalanceadas\n",
    "train_labels = [label for _, label in data['treino'].imgs]\n",
    "class_weights = compute_class_weight('balanced', classes=np.arange(numero_de_classes), y=train_labels)\n",
    "weights = torch.tensor(class_weights, dtype=torch.float).to(device)\n",
    "\n",
    "# Criar os DataLoaders para treino e validação\n",
    "data_loader_treino = DataLoader(data['treino'], batch_size=bs, shuffle=True)\n",
    "data_loader_validacao = DataLoader(data['validacao'], batch_size=bs, shuffle=True)\n",
    "\n",
    "# Carregar o modelo ResNet-50 pré-treinado\n",
    "resnet50 = models.resnet50(pretrained=True)\n",
    "\n",
    "# Descongelar mais camadas do modelo pré-treinado\n",
    "for param in list(resnet50.parameters())[:-10]:\n",
    "    param.requires_grad = True\n",
    "\n",
    "# Modificar a última camada totalmente conectada (fc) para o número de classes do problema\n",
    "num_features = resnet50.fc.in_features\n",
    "resnet50.fc = nn.Sequential(\n",
    "    nn.Linear(num_features, 1024),\n",
    "    nn.ReLU(),\n",
    "    nn.Dropout(0.4),\n",
    "    nn.Linear(1024, 512),\n",
    "    nn.ReLU(),\n",
    "    nn.Dropout(0.4),\n",
    "    nn.Linear(512, numero_de_classes),\n",
    "    nn.LogSoftmax(dim=1)\n",
    ")\n",
    "\n",
    "# Definir algoritmo de otimização e função de erro\n",
    "funcao_erro = nn.CrossEntropyLoss(weight=weights)\n",
    "otimizador = optim.Adam(resnet50.parameters(), lr=0.0001)\n",
    "\n",
    "# Função para salvar o checkpoint\n",
    "def salvar_checkpoint(modelo, otimizador, epoca, caminho):\n",
    "    estado = {\n",
    "        'epoca': epoca,\n",
    "        'modelo_state_dict': modelo.state_dict(),\n",
    "        'otimizador_state_dict': otimizador.state_dict()\n",
    "    }\n",
    "    torch.save(estado, caminho)\n",
    "\n",
    "# Função para carregar o checkpoint\n",
    "def carregar_checkpoint(caminho, modelo, otimizador):\n",
    "    if os.path.exists(caminho):\n",
    "        estado = torch.load(caminho)\n",
    "        modelo.load_state_dict(estado['modelo_state_dict'])\n",
    "        otimizador.load_state_dict(estado['otimizador_state_dict'])\n",
    "        epoca_inicial = estado['epoca'] + 1\n",
    "        print(f\"Checkpoint carregado: retomando do treinamento da época {epoca_inicial}\")\n",
    "        return epoca_inicial\n",
    "    else:\n",
    "        print(\"Nenhum checkpoint encontrado. Iniciando treinamento do zero.\")\n",
    "        return 0\n",
    "\n",
    "# Função principal de treinamento e validação\n",
    "\n",
    "def treinar_e_validar_cross_validation(modelo, metrica_erro, otimizador_sgd, epocas=25, folds=5):\n",
    "    kf = KFold(n_splits=folds, shuffle=True, random_state=42)\n",
    "    fold_results = []\n",
    "\n",
    "    for fold, (train_idx, val_idx) in enumerate(kf.split(data['treino'])):\n",
    "        print(f\"\\nIniciando Fold {fold + 1}/{folds}\")\n",
    "\n",
    "        # Divisão dos dados por fold\n",
    "        train_sampler = torch.utils.data.SubsetRandomSampler(train_idx)\n",
    "        val_sampler = torch.utils.data.SubsetRandomSampler(val_idx)\n",
    "        \n",
    "        data_loader_train_fold = DataLoader(data['treino'], batch_size=bs, sampler=train_sampler)\n",
    "        data_loader_val_fold = DataLoader(data['treino'], batch_size=bs, sampler=val_sampler)\n",
    "\n",
    "        melhor_acuracia = 0.0\n",
    "        melhor_modelo = None\n",
    "\n",
    "        for epoca in range(epocas):\n",
    "            inicio_epoca = time.time()\n",
    "            print(f\"\\nFold {fold + 1}, Época {epoca + 1}/{epocas}\")\n",
    "\n",
    "            modelo.train()\n",
    "            erro_treino = 0.0\n",
    "            acuracia_treino = 0.0\n",
    "\n",
    "            for entradas, labels in tqdm(data_loader_train_fold, desc=\"Treinando\"):\n",
    "                entradas = entradas.to(device)\n",
    "                labels = labels.to(device)\n",
    "\n",
    "                otimizador_sgd.zero_grad()\n",
    "                saidas = modelo(entradas)\n",
    "                erro = metrica_erro(saidas, labels)\n",
    "                erro.backward()\n",
    "                otimizador_sgd.step()\n",
    "\n",
    "                erro_treino += erro.item() * entradas.size(0)\n",
    "\n",
    "            erro_medio_treino = erro_treino / len(train_idx)\n",
    "\n",
    "            modelo.eval()\n",
    "            erro_validacao = 0.0\n",
    "            acuracia_validacao = 0.0\n",
    "\n",
    "            with torch.no_grad():\n",
    "                for entradas, labels in tqdm(data_loader_val_fold, desc=\"Validando\"):\n",
    "                    entradas = entradas.to(device)\n",
    "                    labels = labels.to(device)\n",
    "                    saidas = modelo(entradas)\n",
    "                    erro = metrica_erro(saidas, labels)\n",
    "                    erro_validacao += erro.item() * entradas.size(0)\n",
    "\n",
    "                erro_medio_validacao = erro_validacao / len(val_idx)\n",
    "\n",
    "                print(f\"\\nFold {fold + 1}, Época {epoca + 1}: Erro Treino {erro_medio_treino:.4f}, Erro Validação {erro_medio_validacao:.4f}\")\n",
    "                # Salvar o melhor modelo baseado na validação\n",
    "                if erro_medio_validacao < melhor_acuracia or melhor_modelo is None:\n",
    "                    melhor_acuracia = erro_medio_validacao\n",
    "                    melhor_modelo = modelo.state_dict()\n",
    "                    torch.save(melhor_modelo, f'./melhores_modelos/melhor_modelo_a{fold}.pt')\n",
    "                salvar_checkpoint(modelo, otimizador_sgd, epoca, caminho_checkpoint)\n",
    "\n",
    "\n",
    "        fold_results.append(erro_medio_validacao)\n",
    "\n",
    "    print(f\"\\nErro Médio Validação (Cross-Validation): {np.mean(fold_results):.4f}\")\n",
    "\n",
    "# Se você for rico e tiver uma RTX 3080 (que sonho!!)\n",
    "# Mas se não for, sem problemas, sua CPU provavelmente vai dar conta do recado!\n",
    "device = torch.device(\"cuda:0\" if torch.cuda.is_available() else \"cpu\")\n",
    "\n",
    "# Imprime se vai ser CPU ou alguma GPU\n",
    "print(f'{device}\\n')\n",
    "\n",
    "# Define o número de épocas\n",
    "numero_de_epocas = 80\n",
    "caminho_checkpoint = './melhores_modelos/last_melhor_modelo_folda01.pt'\n",
    "\n",
    "# Carregar o checkpoint se existir\n",
    "epoca_inicial = carregar_checkpoint(caminho_checkpoint, resnet50, otimizador)\n",
    "\n",
    "\n",
    "# # treina o modelo! Finalmente!!\n",
    "# resnet50 = resnet50.to(device)\n",
    "# treinar_e_validar_cross_validation(resnet50, funcao_erro, otimizador, numero_de_epocas, folds=5)\n"
   ]
  },
  {
   "cell_type": "code",
   "execution_count": 10,
   "metadata": {},
   "outputs": [
    {
     "name": "stdout",
     "output_type": "stream",
     "text": [
      "{0: 'Angry', 1: 'Disgust', 2: 'Fear', 3: 'Happy', 4: 'Neutral', 5: 'Sad', 6: 'Surprise'}\n"
     ]
    },
    {
     "name": "stderr",
     "output_type": "stream",
     "text": [
      "c:\\Users\\Danil\\AppData\\Local\\Programs\\Python\\Python310\\lib\\site-packages\\torchvision\\models\\_utils.py:208: UserWarning: The parameter 'pretrained' is deprecated since 0.13 and may be removed in the future, please use 'weights' instead.\n",
      "  warnings.warn(\n",
      "c:\\Users\\Danil\\AppData\\Local\\Programs\\Python\\Python310\\lib\\site-packages\\torchvision\\models\\_utils.py:223: UserWarning: Arguments other than a weight enum or `None` for 'weights' are deprecated since 0.13 and may be removed in the future. The current behavior is equivalent to passing `weights=ResNet50_Weights.IMAGENET1K_V1`. You can also use `weights=ResNet50_Weights.DEFAULT` to get the most up-to-date weights.\n",
      "  warnings.warn(msg)\n"
     ]
    },
    {
     "name": "stdout",
     "output_type": "stream",
     "text": [
      "cuda:0\n",
      "\n",
      "\n",
      "Iniciando Fold 1/5\n",
      "\n",
      "Fold 1, Época 1/20\n"
     ]
    },
    {
     "name": "stderr",
     "output_type": "stream",
     "text": [
      "Treinando: 100%|██████████| 718/718 [02:40<00:00,  4.47it/s]\n",
      "Validando: 100%|██████████| 180/180 [00:22<00:00,  8.15it/s]\n"
     ]
    },
    {
     "name": "stdout",
     "output_type": "stream",
     "text": [
      "\n",
      "Fold 1, Época 1: Erro Treino 1.6557, Erro Validação 1.5847\n",
      "\n",
      "Fold 1, Época 2/20\n"
     ]
    },
    {
     "name": "stderr",
     "output_type": "stream",
     "text": [
      "Treinando: 100%|██████████| 718/718 [02:42<00:00,  4.41it/s]\n",
      "Validando: 100%|██████████| 180/180 [00:21<00:00,  8.46it/s]\n"
     ]
    },
    {
     "name": "stdout",
     "output_type": "stream",
     "text": [
      "\n",
      "Fold 1, Época 2: Erro Treino 1.4447, Erro Validação 1.3806\n",
      "\n",
      "Fold 1, Época 3/20\n"
     ]
    },
    {
     "name": "stderr",
     "output_type": "stream",
     "text": [
      "Treinando: 100%|██████████| 718/718 [02:45<00:00,  4.35it/s]\n",
      "Validando: 100%|██████████| 180/180 [00:20<00:00,  8.77it/s]\n"
     ]
    },
    {
     "name": "stdout",
     "output_type": "stream",
     "text": [
      "\n",
      "Fold 1, Época 3: Erro Treino 1.3587, Erro Validação 1.3379\n",
      "\n",
      "Fold 1, Época 4/20\n"
     ]
    },
    {
     "name": "stderr",
     "output_type": "stream",
     "text": [
      "Treinando: 100%|██████████| 718/718 [02:43<00:00,  4.38it/s]\n",
      "Validando: 100%|██████████| 180/180 [00:20<00:00,  8.80it/s]\n"
     ]
    },
    {
     "name": "stdout",
     "output_type": "stream",
     "text": [
      "\n",
      "Fold 1, Época 4: Erro Treino 1.2968, Erro Validação 1.2522\n",
      "\n",
      "Fold 1, Época 5/20\n"
     ]
    },
    {
     "name": "stderr",
     "output_type": "stream",
     "text": [
      "Treinando: 100%|██████████| 718/718 [02:42<00:00,  4.41it/s]\n",
      "Validando: 100%|██████████| 180/180 [00:21<00:00,  8.32it/s]\n"
     ]
    },
    {
     "name": "stdout",
     "output_type": "stream",
     "text": [
      "\n",
      "Fold 1, Época 5: Erro Treino 1.2572, Erro Validação 1.2371\n",
      "\n",
      "Fold 1, Época 6/20\n"
     ]
    },
    {
     "name": "stderr",
     "output_type": "stream",
     "text": [
      "Treinando: 100%|██████████| 718/718 [02:42<00:00,  4.43it/s]\n",
      "Validando: 100%|██████████| 180/180 [00:21<00:00,  8.54it/s]\n"
     ]
    },
    {
     "name": "stdout",
     "output_type": "stream",
     "text": [
      "\n",
      "Fold 1, Época 6: Erro Treino 1.2243, Erro Validação 1.1857\n",
      "\n",
      "Fold 1, Época 7/20\n"
     ]
    },
    {
     "name": "stderr",
     "output_type": "stream",
     "text": [
      "Treinando: 100%|██████████| 718/718 [02:48<00:00,  4.26it/s]\n",
      "Validando: 100%|██████████| 180/180 [00:20<00:00,  8.61it/s]\n"
     ]
    },
    {
     "name": "stdout",
     "output_type": "stream",
     "text": [
      "\n",
      "Fold 1, Época 7: Erro Treino 1.1977, Erro Validação 1.2046\n",
      "\n",
      "Fold 1, Época 8/20\n"
     ]
    },
    {
     "name": "stderr",
     "output_type": "stream",
     "text": [
      "Treinando: 100%|██████████| 718/718 [02:46<00:00,  4.32it/s]\n",
      "Validando: 100%|██████████| 180/180 [00:20<00:00,  8.58it/s]\n"
     ]
    },
    {
     "name": "stdout",
     "output_type": "stream",
     "text": [
      "\n",
      "Fold 1, Época 8: Erro Treino 1.1577, Erro Validação 1.1538\n",
      "\n",
      "Fold 1, Época 9/20\n"
     ]
    },
    {
     "name": "stderr",
     "output_type": "stream",
     "text": [
      "Treinando: 100%|██████████| 718/718 [02:48<00:00,  4.27it/s]\n",
      "Validando: 100%|██████████| 180/180 [00:21<00:00,  8.31it/s]\n"
     ]
    },
    {
     "name": "stdout",
     "output_type": "stream",
     "text": [
      "\n",
      "Fold 1, Época 9: Erro Treino 1.1407, Erro Validação 1.1845\n",
      "\n",
      "Fold 1, Época 10/20\n"
     ]
    },
    {
     "name": "stderr",
     "output_type": "stream",
     "text": [
      "Treinando: 100%|██████████| 718/718 [02:49<00:00,  4.23it/s]\n",
      "Validando: 100%|██████████| 180/180 [00:21<00:00,  8.37it/s]\n"
     ]
    },
    {
     "name": "stdout",
     "output_type": "stream",
     "text": [
      "\n",
      "Fold 1, Época 10: Erro Treino 1.1243, Erro Validação 1.1813\n",
      "\n",
      "Fold 1, Época 11/20\n"
     ]
    },
    {
     "name": "stderr",
     "output_type": "stream",
     "text": [
      "Treinando: 100%|██████████| 718/718 [02:48<00:00,  4.25it/s]\n",
      "Validando: 100%|██████████| 180/180 [00:22<00:00,  7.86it/s]\n"
     ]
    },
    {
     "name": "stdout",
     "output_type": "stream",
     "text": [
      "\n",
      "Fold 1, Época 11: Erro Treino 1.1108, Erro Validação 1.1226\n",
      "\n",
      "Fold 1, Época 12/20\n"
     ]
    },
    {
     "name": "stderr",
     "output_type": "stream",
     "text": [
      "Treinando: 100%|██████████| 718/718 [02:57<00:00,  4.05it/s]\n",
      "Validando: 100%|██████████| 180/180 [00:22<00:00,  7.94it/s]\n"
     ]
    },
    {
     "name": "stdout",
     "output_type": "stream",
     "text": [
      "\n",
      "Fold 1, Época 12: Erro Treino 1.0998, Erro Validação 1.1575\n",
      "\n",
      "Fold 1, Época 13/20\n"
     ]
    },
    {
     "name": "stderr",
     "output_type": "stream",
     "text": [
      "Treinando: 100%|██████████| 718/718 [02:54<00:00,  4.12it/s]\n",
      "Validando: 100%|██████████| 180/180 [00:22<00:00,  8.17it/s]\n"
     ]
    },
    {
     "name": "stdout",
     "output_type": "stream",
     "text": [
      "\n",
      "Fold 1, Época 13: Erro Treino 1.0612, Erro Validação 1.1147\n",
      "\n",
      "Fold 1, Época 14/20\n"
     ]
    },
    {
     "name": "stderr",
     "output_type": "stream",
     "text": [
      "Treinando: 100%|██████████| 718/718 [02:53<00:00,  4.14it/s]\n",
      "Validando: 100%|██████████| 180/180 [00:20<00:00,  8.59it/s]\n"
     ]
    },
    {
     "name": "stdout",
     "output_type": "stream",
     "text": [
      "\n",
      "Fold 1, Época 14: Erro Treino 1.0525, Erro Validação 1.1147\n",
      "\n",
      "Fold 1, Época 15/20\n"
     ]
    },
    {
     "name": "stderr",
     "output_type": "stream",
     "text": [
      "Treinando: 100%|██████████| 718/718 [02:46<00:00,  4.32it/s]\n",
      "Validando: 100%|██████████| 180/180 [00:20<00:00,  8.73it/s]\n"
     ]
    },
    {
     "name": "stdout",
     "output_type": "stream",
     "text": [
      "\n",
      "Fold 1, Época 15: Erro Treino 1.0232, Erro Validação 1.1142\n",
      "\n",
      "Fold 1, Época 16/20\n"
     ]
    },
    {
     "name": "stderr",
     "output_type": "stream",
     "text": [
      "Treinando: 100%|██████████| 718/718 [02:46<00:00,  4.32it/s]\n",
      "Validando: 100%|██████████| 180/180 [00:20<00:00,  8.83it/s]\n"
     ]
    },
    {
     "name": "stdout",
     "output_type": "stream",
     "text": [
      "\n",
      "Fold 1, Época 16: Erro Treino 1.0252, Erro Validação 1.1114\n",
      "\n",
      "Fold 1, Época 17/20\n"
     ]
    },
    {
     "name": "stderr",
     "output_type": "stream",
     "text": [
      "Treinando: 100%|██████████| 718/718 [02:40<00:00,  4.46it/s]\n",
      "Validando: 100%|██████████| 180/180 [00:20<00:00,  8.90it/s]\n"
     ]
    },
    {
     "name": "stdout",
     "output_type": "stream",
     "text": [
      "\n",
      "Fold 1, Época 17: Erro Treino 0.9971, Erro Validação 1.1077\n",
      "\n",
      "Fold 1, Época 18/20\n"
     ]
    },
    {
     "name": "stderr",
     "output_type": "stream",
     "text": [
      "Treinando: 100%|██████████| 718/718 [02:40<00:00,  4.48it/s]\n",
      "Validando: 100%|██████████| 180/180 [00:20<00:00,  8.81it/s]\n"
     ]
    },
    {
     "name": "stdout",
     "output_type": "stream",
     "text": [
      "\n",
      "Fold 1, Época 18: Erro Treino 0.9994, Erro Validação 1.0913\n",
      "\n",
      "Fold 1, Época 19/20\n"
     ]
    },
    {
     "name": "stderr",
     "output_type": "stream",
     "text": [
      "Treinando: 100%|██████████| 718/718 [02:40<00:00,  4.48it/s]\n",
      "Validando: 100%|██████████| 180/180 [00:21<00:00,  8.31it/s]\n"
     ]
    },
    {
     "name": "stdout",
     "output_type": "stream",
     "text": [
      "\n",
      "Fold 1, Época 19: Erro Treino 0.9612, Erro Validação 1.0867\n",
      "\n",
      "Fold 1, Época 20/20\n"
     ]
    },
    {
     "name": "stderr",
     "output_type": "stream",
     "text": [
      "Treinando: 100%|██████████| 718/718 [02:43<00:00,  4.38it/s]\n",
      "Validando: 100%|██████████| 180/180 [00:21<00:00,  8.32it/s]\n"
     ]
    },
    {
     "name": "stdout",
     "output_type": "stream",
     "text": [
      "\n",
      "Fold 1, Época 20: Erro Treino 0.9606, Erro Validação 1.1399\n",
      "\n",
      "Iniciando Fold 2/5\n",
      "\n",
      "Fold 2, Época 1/20\n"
     ]
    },
    {
     "name": "stderr",
     "output_type": "stream",
     "text": [
      "Treinando: 100%|██████████| 718/718 [02:41<00:00,  4.45it/s]\n",
      "Validando: 100%|██████████| 180/180 [00:20<00:00,  8.92it/s]\n"
     ]
    },
    {
     "name": "stdout",
     "output_type": "stream",
     "text": [
      "\n",
      "Fold 2, Época 1: Erro Treino 0.9991, Erro Validação 0.9414\n",
      "\n",
      "Fold 2, Época 2/20\n"
     ]
    },
    {
     "name": "stderr",
     "output_type": "stream",
     "text": [
      "Treinando: 100%|██████████| 718/718 [02:37<00:00,  4.55it/s]\n",
      "Validando: 100%|██████████| 180/180 [00:20<00:00,  8.76it/s]\n"
     ]
    },
    {
     "name": "stdout",
     "output_type": "stream",
     "text": [
      "\n",
      "Fold 2, Época 2: Erro Treino 0.9613, Erro Validação 0.9220\n",
      "\n",
      "Fold 2, Época 3/20\n"
     ]
    },
    {
     "name": "stderr",
     "output_type": "stream",
     "text": [
      "Treinando: 100%|██████████| 718/718 [02:41<00:00,  4.46it/s]\n",
      "Validando: 100%|██████████| 180/180 [00:20<00:00,  8.67it/s]\n"
     ]
    },
    {
     "name": "stdout",
     "output_type": "stream",
     "text": [
      "\n",
      "Fold 2, Época 3: Erro Treino 0.9617, Erro Validação 0.9575\n",
      "\n",
      "Fold 2, Época 4/20\n"
     ]
    },
    {
     "name": "stderr",
     "output_type": "stream",
     "text": [
      "Treinando: 100%|██████████| 718/718 [02:41<00:00,  4.44it/s]\n",
      "Validando: 100%|██████████| 180/180 [00:22<00:00,  8.17it/s]\n"
     ]
    },
    {
     "name": "stdout",
     "output_type": "stream",
     "text": [
      "\n",
      "Fold 2, Época 4: Erro Treino 0.9386, Erro Validação 0.9152\n",
      "\n",
      "Fold 2, Época 5/20\n"
     ]
    },
    {
     "name": "stderr",
     "output_type": "stream",
     "text": [
      "Treinando: 100%|██████████| 718/718 [02:49<00:00,  4.23it/s]\n",
      "Validando: 100%|██████████| 180/180 [00:22<00:00,  8.02it/s]\n"
     ]
    },
    {
     "name": "stdout",
     "output_type": "stream",
     "text": [
      "\n",
      "Fold 2, Época 5: Erro Treino 0.9304, Erro Validação 0.9769\n",
      "\n",
      "Fold 2, Época 6/20\n"
     ]
    },
    {
     "name": "stderr",
     "output_type": "stream",
     "text": [
      "Treinando: 100%|██████████| 718/718 [02:45<00:00,  4.34it/s]\n",
      "Validando: 100%|██████████| 180/180 [00:20<00:00,  8.66it/s]\n"
     ]
    },
    {
     "name": "stdout",
     "output_type": "stream",
     "text": [
      "\n",
      "Fold 2, Época 6: Erro Treino 0.9195, Erro Validação 0.9607\n",
      "\n",
      "Fold 2, Época 7/20\n"
     ]
    },
    {
     "name": "stderr",
     "output_type": "stream",
     "text": [
      "Treinando: 100%|██████████| 718/718 [02:43<00:00,  4.38it/s]\n",
      "Validando: 100%|██████████| 180/180 [00:20<00:00,  8.89it/s]\n"
     ]
    },
    {
     "name": "stdout",
     "output_type": "stream",
     "text": [
      "\n",
      "Fold 2, Época 7: Erro Treino 0.8933, Erro Validação 0.9936\n",
      "\n",
      "Fold 2, Época 8/20\n"
     ]
    },
    {
     "name": "stderr",
     "output_type": "stream",
     "text": [
      "Treinando: 100%|██████████| 718/718 [02:40<00:00,  4.47it/s]\n",
      "Validando: 100%|██████████| 180/180 [00:19<00:00,  9.17it/s]\n"
     ]
    },
    {
     "name": "stdout",
     "output_type": "stream",
     "text": [
      "\n",
      "Fold 2, Época 8: Erro Treino 0.8947, Erro Validação 1.0375\n",
      "\n",
      "Fold 2, Época 9/20\n"
     ]
    },
    {
     "name": "stderr",
     "output_type": "stream",
     "text": [
      "Treinando: 100%|██████████| 718/718 [02:39<00:00,  4.49it/s]\n",
      "Validando: 100%|██████████| 180/180 [00:20<00:00,  8.94it/s]\n"
     ]
    },
    {
     "name": "stdout",
     "output_type": "stream",
     "text": [
      "\n",
      "Fold 2, Época 9: Erro Treino 0.8374, Erro Validação 0.8992\n",
      "\n",
      "Fold 2, Época 10/20\n"
     ]
    },
    {
     "name": "stderr",
     "output_type": "stream",
     "text": [
      "Treinando: 100%|██████████| 718/718 [02:40<00:00,  4.48it/s]\n",
      "Validando: 100%|██████████| 180/180 [00:20<00:00,  8.93it/s]\n"
     ]
    },
    {
     "name": "stdout",
     "output_type": "stream",
     "text": [
      "\n",
      "Fold 2, Época 10: Erro Treino 0.7894, Erro Validação 0.8977\n",
      "\n",
      "Fold 2, Época 11/20\n"
     ]
    },
    {
     "name": "stderr",
     "output_type": "stream",
     "text": [
      "Treinando: 100%|██████████| 718/718 [02:41<00:00,  4.46it/s]\n",
      "Validando: 100%|██████████| 180/180 [00:21<00:00,  8.35it/s]\n"
     ]
    },
    {
     "name": "stdout",
     "output_type": "stream",
     "text": [
      "\n",
      "Fold 2, Época 11: Erro Treino 0.7659, Erro Validação 0.8931\n",
      "\n",
      "Fold 2, Época 12/20\n"
     ]
    },
    {
     "name": "stderr",
     "output_type": "stream",
     "text": [
      "Treinando: 100%|██████████| 718/718 [02:46<00:00,  4.31it/s]\n",
      "Validando: 100%|██████████| 180/180 [00:20<00:00,  8.61it/s]\n"
     ]
    },
    {
     "name": "stdout",
     "output_type": "stream",
     "text": [
      "\n",
      "Fold 2, Época 12: Erro Treino 0.7451, Erro Validação 0.8790\n",
      "\n",
      "Fold 2, Época 13/20\n"
     ]
    },
    {
     "name": "stderr",
     "output_type": "stream",
     "text": [
      "Treinando: 100%|██████████| 718/718 [02:41<00:00,  4.45it/s]\n",
      "Validando: 100%|██████████| 180/180 [00:20<00:00,  8.83it/s]\n"
     ]
    },
    {
     "name": "stdout",
     "output_type": "stream",
     "text": [
      "\n",
      "Fold 2, Época 13: Erro Treino 0.7450, Erro Validação 0.8599\n",
      "\n",
      "Fold 2, Época 14/20\n"
     ]
    },
    {
     "name": "stderr",
     "output_type": "stream",
     "text": [
      "Treinando: 100%|██████████| 718/718 [02:38<00:00,  4.52it/s]\n",
      "Validando: 100%|██████████| 180/180 [00:20<00:00,  8.86it/s]\n"
     ]
    },
    {
     "name": "stdout",
     "output_type": "stream",
     "text": [
      "\n",
      "Fold 2, Época 14: Erro Treino 0.7340, Erro Validação 0.8971\n",
      "\n",
      "Fold 2, Época 15/20\n"
     ]
    },
    {
     "name": "stderr",
     "output_type": "stream",
     "text": [
      "Treinando: 100%|██████████| 718/718 [02:38<00:00,  4.53it/s]\n",
      "Validando: 100%|██████████| 180/180 [00:20<00:00,  8.77it/s]\n"
     ]
    },
    {
     "name": "stdout",
     "output_type": "stream",
     "text": [
      "\n",
      "Fold 2, Época 15: Erro Treino 0.7234, Erro Validação 0.8696\n",
      "\n",
      "Fold 2, Época 16/20\n"
     ]
    },
    {
     "name": "stderr",
     "output_type": "stream",
     "text": [
      "Treinando: 100%|██████████| 718/718 [02:38<00:00,  4.52it/s]\n",
      "Validando: 100%|██████████| 180/180 [00:20<00:00,  8.86it/s]\n"
     ]
    },
    {
     "name": "stdout",
     "output_type": "stream",
     "text": [
      "\n",
      "Fold 2, Época 16: Erro Treino 0.7078, Erro Validação 0.8540\n",
      "\n",
      "Fold 2, Época 17/20\n"
     ]
    },
    {
     "name": "stderr",
     "output_type": "stream",
     "text": [
      "Treinando: 100%|██████████| 718/718 [02:38<00:00,  4.54it/s]\n",
      "Validando: 100%|██████████| 180/180 [00:20<00:00,  8.70it/s]\n"
     ]
    },
    {
     "name": "stdout",
     "output_type": "stream",
     "text": [
      "\n",
      "Fold 2, Época 17: Erro Treino 0.7121, Erro Validação 0.8492\n",
      "\n",
      "Fold 2, Época 18/20\n"
     ]
    },
    {
     "name": "stderr",
     "output_type": "stream",
     "text": [
      "Treinando: 100%|██████████| 718/718 [02:38<00:00,  4.54it/s]\n",
      "Validando: 100%|██████████| 180/180 [00:20<00:00,  8.91it/s]\n"
     ]
    },
    {
     "name": "stdout",
     "output_type": "stream",
     "text": [
      "\n",
      "Fold 2, Época 18: Erro Treino 0.7017, Erro Validação 0.8813\n",
      "\n",
      "Fold 2, Época 19/20\n"
     ]
    },
    {
     "name": "stderr",
     "output_type": "stream",
     "text": [
      "Treinando: 100%|██████████| 718/718 [02:38<00:00,  4.53it/s]\n",
      "Validando: 100%|██████████| 180/180 [00:20<00:00,  8.84it/s]\n"
     ]
    },
    {
     "name": "stdout",
     "output_type": "stream",
     "text": [
      "\n",
      "Fold 2, Época 19: Erro Treino 0.6907, Erro Validação 0.8491\n",
      "\n",
      "Fold 2, Época 20/20\n"
     ]
    },
    {
     "name": "stderr",
     "output_type": "stream",
     "text": [
      "Treinando: 100%|██████████| 718/718 [02:38<00:00,  4.54it/s]\n",
      "Validando: 100%|██████████| 180/180 [00:20<00:00,  8.84it/s]\n"
     ]
    },
    {
     "name": "stdout",
     "output_type": "stream",
     "text": [
      "\n",
      "Fold 2, Época 20: Erro Treino 0.6903, Erro Validação 0.8693\n",
      "\n",
      "Iniciando Fold 3/5\n",
      "\n",
      "Fold 3, Época 1/20\n"
     ]
    },
    {
     "name": "stderr",
     "output_type": "stream",
     "text": [
      "Treinando: 100%|██████████| 718/718 [02:38<00:00,  4.54it/s]\n",
      "Validando: 100%|██████████| 180/180 [00:20<00:00,  8.90it/s]\n"
     ]
    },
    {
     "name": "stdout",
     "output_type": "stream",
     "text": [
      "\n",
      "Fold 3, Época 1: Erro Treino 0.7491, Erro Validação 0.6434\n",
      "\n",
      "Fold 3, Época 2/20\n"
     ]
    },
    {
     "name": "stderr",
     "output_type": "stream",
     "text": [
      "Treinando: 100%|██████████| 718/718 [02:38<00:00,  4.54it/s]\n",
      "Validando: 100%|██████████| 180/180 [00:20<00:00,  8.87it/s]\n"
     ]
    },
    {
     "name": "stdout",
     "output_type": "stream",
     "text": [
      "\n",
      "Fold 3, Época 2: Erro Treino 0.7399, Erro Validação 0.6345\n",
      "\n",
      "Fold 3, Época 3/20\n"
     ]
    },
    {
     "name": "stderr",
     "output_type": "stream",
     "text": [
      "Treinando: 100%|██████████| 718/718 [02:38<00:00,  4.53it/s]\n",
      "Validando: 100%|██████████| 180/180 [00:20<00:00,  8.85it/s]\n"
     ]
    },
    {
     "name": "stdout",
     "output_type": "stream",
     "text": [
      "\n",
      "Fold 3, Época 3: Erro Treino 0.7129, Erro Validação 0.6331\n",
      "\n",
      "Fold 3, Época 4/20\n"
     ]
    },
    {
     "name": "stderr",
     "output_type": "stream",
     "text": [
      "Treinando: 100%|██████████| 718/718 [02:39<00:00,  4.50it/s]\n",
      "Validando: 100%|██████████| 180/180 [00:21<00:00,  8.54it/s]\n"
     ]
    },
    {
     "name": "stdout",
     "output_type": "stream",
     "text": [
      "\n",
      "Fold 3, Época 4: Erro Treino 0.7145, Erro Validação 0.6277\n",
      "\n",
      "Fold 3, Época 5/20\n"
     ]
    },
    {
     "name": "stderr",
     "output_type": "stream",
     "text": [
      "Treinando: 100%|██████████| 718/718 [02:40<00:00,  4.47it/s]\n",
      "Validando: 100%|██████████| 180/180 [00:20<00:00,  8.66it/s]\n"
     ]
    },
    {
     "name": "stdout",
     "output_type": "stream",
     "text": [
      "\n",
      "Fold 3, Época 5: Erro Treino 0.7123, Erro Validação 0.6264\n",
      "\n",
      "Fold 3, Época 6/20\n"
     ]
    },
    {
     "name": "stderr",
     "output_type": "stream",
     "text": [
      "Treinando: 100%|██████████| 718/718 [02:39<00:00,  4.51it/s]\n",
      "Validando: 100%|██████████| 180/180 [00:20<00:00,  8.79it/s]\n"
     ]
    },
    {
     "name": "stdout",
     "output_type": "stream",
     "text": [
      "\n",
      "Fold 3, Época 6: Erro Treino 0.7061, Erro Validação 0.6404\n",
      "\n",
      "Fold 3, Época 7/20\n"
     ]
    },
    {
     "name": "stderr",
     "output_type": "stream",
     "text": [
      "Treinando: 100%|██████████| 718/718 [02:38<00:00,  4.54it/s]\n",
      "Validando: 100%|██████████| 180/180 [00:20<00:00,  8.92it/s]\n"
     ]
    },
    {
     "name": "stdout",
     "output_type": "stream",
     "text": [
      "\n",
      "Fold 3, Época 7: Erro Treino 0.6970, Erro Validação 0.6443\n",
      "\n",
      "Fold 3, Época 8/20\n"
     ]
    },
    {
     "name": "stderr",
     "output_type": "stream",
     "text": [
      "Treinando: 100%|██████████| 718/718 [02:38<00:00,  4.54it/s]\n",
      "Validando: 100%|██████████| 180/180 [00:20<00:00,  8.88it/s]\n"
     ]
    },
    {
     "name": "stdout",
     "output_type": "stream",
     "text": [
      "\n",
      "Fold 3, Época 8: Erro Treino 0.6843, Erro Validação 0.6403\n",
      "\n",
      "Fold 3, Época 9/20\n"
     ]
    },
    {
     "name": "stderr",
     "output_type": "stream",
     "text": [
      "Treinando: 100%|██████████| 718/718 [02:38<00:00,  4.54it/s]\n",
      "Validando: 100%|██████████| 180/180 [00:20<00:00,  8.88it/s]\n"
     ]
    },
    {
     "name": "stdout",
     "output_type": "stream",
     "text": [
      "\n",
      "Fold 3, Época 9: Erro Treino 0.6861, Erro Validação 0.6478\n",
      "\n",
      "Fold 3, Época 10/20\n"
     ]
    },
    {
     "name": "stderr",
     "output_type": "stream",
     "text": [
      "Treinando: 100%|██████████| 718/718 [02:38<00:00,  4.53it/s]\n",
      "Validando: 100%|██████████| 180/180 [00:20<00:00,  8.90it/s]\n"
     ]
    },
    {
     "name": "stdout",
     "output_type": "stream",
     "text": [
      "\n",
      "Fold 3, Época 10: Erro Treino 0.6799, Erro Validação 0.6522\n",
      "\n",
      "Fold 3, Época 11/20\n"
     ]
    },
    {
     "name": "stderr",
     "output_type": "stream",
     "text": [
      "Treinando: 100%|██████████| 718/718 [02:38<00:00,  4.54it/s]\n",
      "Validando: 100%|██████████| 180/180 [00:20<00:00,  8.93it/s]\n"
     ]
    },
    {
     "name": "stdout",
     "output_type": "stream",
     "text": [
      "\n",
      "Fold 3, Época 11: Erro Treino 0.6764, Erro Validação 0.6415\n",
      "\n",
      "Fold 3, Época 12/20\n"
     ]
    },
    {
     "name": "stderr",
     "output_type": "stream",
     "text": [
      "Treinando: 100%|██████████| 718/718 [02:37<00:00,  4.55it/s]\n",
      "Validando: 100%|██████████| 180/180 [00:20<00:00,  8.89it/s]\n"
     ]
    },
    {
     "name": "stdout",
     "output_type": "stream",
     "text": [
      "\n",
      "Fold 3, Época 12: Erro Treino 0.6735, Erro Validação 0.6434\n",
      "\n",
      "Fold 3, Época 13/20\n"
     ]
    },
    {
     "name": "stderr",
     "output_type": "stream",
     "text": [
      "Treinando: 100%|██████████| 718/718 [02:37<00:00,  4.55it/s]\n",
      "Validando: 100%|██████████| 180/180 [00:20<00:00,  8.88it/s]\n"
     ]
    },
    {
     "name": "stdout",
     "output_type": "stream",
     "text": [
      "\n",
      "Fold 3, Época 13: Erro Treino 0.6662, Erro Validação 0.6105\n",
      "\n",
      "Fold 3, Época 14/20\n"
     ]
    },
    {
     "name": "stderr",
     "output_type": "stream",
     "text": [
      "Treinando: 100%|██████████| 718/718 [02:38<00:00,  4.53it/s]\n",
      "Validando: 100%|██████████| 180/180 [00:20<00:00,  8.89it/s]\n"
     ]
    },
    {
     "name": "stdout",
     "output_type": "stream",
     "text": [
      "\n",
      "Fold 3, Época 14: Erro Treino 0.6603, Erro Validação 0.6399\n",
      "\n",
      "Fold 3, Época 15/20\n"
     ]
    },
    {
     "name": "stderr",
     "output_type": "stream",
     "text": [
      "Treinando: 100%|██████████| 718/718 [02:37<00:00,  4.55it/s]\n",
      "Validando: 100%|██████████| 180/180 [00:20<00:00,  8.89it/s]\n"
     ]
    },
    {
     "name": "stdout",
     "output_type": "stream",
     "text": [
      "\n",
      "Fold 3, Época 15: Erro Treino 0.6700, Erro Validação 0.6263\n",
      "\n",
      "Fold 3, Época 16/20\n"
     ]
    },
    {
     "name": "stderr",
     "output_type": "stream",
     "text": [
      "Treinando: 100%|██████████| 718/718 [02:38<00:00,  4.54it/s]\n",
      "Validando: 100%|██████████| 180/180 [00:20<00:00,  8.92it/s]\n"
     ]
    },
    {
     "name": "stdout",
     "output_type": "stream",
     "text": [
      "\n",
      "Fold 3, Época 16: Erro Treino 0.6725, Erro Validação 0.6250\n",
      "\n",
      "Fold 3, Época 17/20\n"
     ]
    },
    {
     "name": "stderr",
     "output_type": "stream",
     "text": [
      "Treinando: 100%|██████████| 718/718 [02:37<00:00,  4.55it/s]\n",
      "Validando: 100%|██████████| 180/180 [00:20<00:00,  8.86it/s]\n"
     ]
    },
    {
     "name": "stdout",
     "output_type": "stream",
     "text": [
      "\n",
      "Fold 3, Época 17: Erro Treino 0.6641, Erro Validação 0.6376\n",
      "\n",
      "Fold 3, Época 18/20\n"
     ]
    },
    {
     "name": "stderr",
     "output_type": "stream",
     "text": [
      "Treinando: 100%|██████████| 718/718 [02:37<00:00,  4.55it/s]\n",
      "Validando: 100%|██████████| 180/180 [00:20<00:00,  8.94it/s]\n"
     ]
    },
    {
     "name": "stdout",
     "output_type": "stream",
     "text": [
      "\n",
      "Fold 3, Época 18: Erro Treino 0.6609, Erro Validação 0.6186\n",
      "\n",
      "Fold 3, Época 19/20\n"
     ]
    },
    {
     "name": "stderr",
     "output_type": "stream",
     "text": [
      "Treinando: 100%|██████████| 718/718 [02:37<00:00,  4.55it/s]\n",
      "Validando: 100%|██████████| 180/180 [00:20<00:00,  8.91it/s]\n"
     ]
    },
    {
     "name": "stdout",
     "output_type": "stream",
     "text": [
      "\n",
      "Fold 3, Época 19: Erro Treino 0.6604, Erro Validação 0.6385\n",
      "\n",
      "Fold 3, Época 20/20\n"
     ]
    },
    {
     "name": "stderr",
     "output_type": "stream",
     "text": [
      "Treinando: 100%|██████████| 718/718 [02:37<00:00,  4.55it/s]\n",
      "Validando: 100%|██████████| 180/180 [00:20<00:00,  8.89it/s]\n"
     ]
    },
    {
     "name": "stdout",
     "output_type": "stream",
     "text": [
      "\n",
      "Fold 3, Época 20: Erro Treino 0.6691, Erro Validação 0.6393\n",
      "\n",
      "Iniciando Fold 4/5\n",
      "\n",
      "Fold 4, Época 1/20\n"
     ]
    },
    {
     "name": "stderr",
     "output_type": "stream",
     "text": [
      "Treinando: 100%|██████████| 718/718 [02:37<00:00,  4.55it/s]\n",
      "Validando: 100%|██████████| 180/180 [00:20<00:00,  8.90it/s]\n"
     ]
    },
    {
     "name": "stdout",
     "output_type": "stream",
     "text": [
      "\n",
      "Fold 4, Época 1: Erro Treino 0.6754, Erro Validação 0.5631\n",
      "\n",
      "Fold 4, Época 2/20\n"
     ]
    },
    {
     "name": "stderr",
     "output_type": "stream",
     "text": [
      "Treinando: 100%|██████████| 718/718 [02:37<00:00,  4.55it/s]\n",
      "Validando: 100%|██████████| 180/180 [00:20<00:00,  8.88it/s]\n"
     ]
    },
    {
     "name": "stdout",
     "output_type": "stream",
     "text": [
      "\n",
      "Fold 4, Época 2: Erro Treino 0.6762, Erro Validação 0.5660\n",
      "\n",
      "Fold 4, Época 3/20\n"
     ]
    },
    {
     "name": "stderr",
     "output_type": "stream",
     "text": [
      "Treinando: 100%|██████████| 718/718 [02:37<00:00,  4.55it/s]\n",
      "Validando: 100%|██████████| 180/180 [00:20<00:00,  8.94it/s]\n"
     ]
    },
    {
     "name": "stdout",
     "output_type": "stream",
     "text": [
      "\n",
      "Fold 4, Época 3: Erro Treino 0.6801, Erro Validação 0.5646\n",
      "\n",
      "Fold 4, Época 4/20\n"
     ]
    },
    {
     "name": "stderr",
     "output_type": "stream",
     "text": [
      "Treinando: 100%|██████████| 718/718 [02:37<00:00,  4.55it/s]\n",
      "Validando: 100%|██████████| 180/180 [00:20<00:00,  8.75it/s]\n"
     ]
    },
    {
     "name": "stdout",
     "output_type": "stream",
     "text": [
      "\n",
      "Fold 4, Época 4: Erro Treino 0.6839, Erro Validação 0.5737\n",
      "\n",
      "Fold 4, Época 5/20\n"
     ]
    },
    {
     "name": "stderr",
     "output_type": "stream",
     "text": [
      "Treinando: 100%|██████████| 718/718 [02:39<00:00,  4.49it/s]\n",
      "Validando: 100%|██████████| 180/180 [00:20<00:00,  8.74it/s]\n"
     ]
    },
    {
     "name": "stdout",
     "output_type": "stream",
     "text": [
      "\n",
      "Fold 4, Época 5: Erro Treino 0.6700, Erro Validação 0.5671\n",
      "\n",
      "Fold 4, Época 6/20\n"
     ]
    },
    {
     "name": "stderr",
     "output_type": "stream",
     "text": [
      "Treinando: 100%|██████████| 718/718 [02:39<00:00,  4.50it/s]\n",
      "Validando: 100%|██████████| 180/180 [00:20<00:00,  8.74it/s]\n"
     ]
    },
    {
     "name": "stdout",
     "output_type": "stream",
     "text": [
      "\n",
      "Fold 4, Época 6: Erro Treino 0.6821, Erro Validação 0.5822\n",
      "\n",
      "Fold 4, Época 7/20\n"
     ]
    },
    {
     "name": "stderr",
     "output_type": "stream",
     "text": [
      "Treinando: 100%|██████████| 718/718 [02:39<00:00,  4.51it/s]\n",
      "Validando: 100%|██████████| 180/180 [00:20<00:00,  8.85it/s]\n"
     ]
    },
    {
     "name": "stdout",
     "output_type": "stream",
     "text": [
      "\n",
      "Fold 4, Época 7: Erro Treino 0.6765, Erro Validação 0.5700\n",
      "\n",
      "Fold 4, Época 8/20\n"
     ]
    },
    {
     "name": "stderr",
     "output_type": "stream",
     "text": [
      "Treinando: 100%|██████████| 718/718 [02:37<00:00,  4.56it/s]\n",
      "Validando: 100%|██████████| 180/180 [00:20<00:00,  8.94it/s]\n"
     ]
    },
    {
     "name": "stdout",
     "output_type": "stream",
     "text": [
      "\n",
      "Fold 4, Época 8: Erro Treino 0.6794, Erro Validação 0.5612\n",
      "\n",
      "Fold 4, Época 9/20\n"
     ]
    },
    {
     "name": "stderr",
     "output_type": "stream",
     "text": [
      "Treinando: 100%|██████████| 718/718 [02:37<00:00,  4.56it/s]\n",
      "Validando: 100%|██████████| 180/180 [00:20<00:00,  8.98it/s]\n"
     ]
    },
    {
     "name": "stdout",
     "output_type": "stream",
     "text": [
      "\n",
      "Fold 4, Época 9: Erro Treino 0.6853, Erro Validação 0.5680\n",
      "\n",
      "Fold 4, Época 10/20\n"
     ]
    },
    {
     "name": "stderr",
     "output_type": "stream",
     "text": [
      "Treinando: 100%|██████████| 718/718 [02:37<00:00,  4.56it/s]\n",
      "Validando: 100%|██████████| 180/180 [00:20<00:00,  8.96it/s]\n"
     ]
    },
    {
     "name": "stdout",
     "output_type": "stream",
     "text": [
      "\n",
      "Fold 4, Época 10: Erro Treino 0.6744, Erro Validação 0.5705\n",
      "\n",
      "Fold 4, Época 11/20\n"
     ]
    },
    {
     "name": "stderr",
     "output_type": "stream",
     "text": [
      "Treinando: 100%|██████████| 718/718 [02:37<00:00,  4.56it/s]\n",
      "Validando: 100%|██████████| 180/180 [00:20<00:00,  8.93it/s]\n"
     ]
    },
    {
     "name": "stdout",
     "output_type": "stream",
     "text": [
      "\n",
      "Fold 4, Época 11: Erro Treino 0.6832, Erro Validação 0.5697\n",
      "\n",
      "Fold 4, Época 12/20\n"
     ]
    },
    {
     "name": "stderr",
     "output_type": "stream",
     "text": [
      "Treinando: 100%|██████████| 718/718 [02:37<00:00,  4.56it/s]\n",
      "Validando: 100%|██████████| 180/180 [00:20<00:00,  8.93it/s]\n"
     ]
    },
    {
     "name": "stdout",
     "output_type": "stream",
     "text": [
      "\n",
      "Fold 4, Época 12: Erro Treino 0.6792, Erro Validação 0.5708\n",
      "\n",
      "Fold 4, Época 13/20\n"
     ]
    },
    {
     "name": "stderr",
     "output_type": "stream",
     "text": [
      "Treinando: 100%|██████████| 718/718 [02:37<00:00,  4.55it/s]\n",
      "Validando: 100%|██████████| 180/180 [00:20<00:00,  8.92it/s]\n"
     ]
    },
    {
     "name": "stdout",
     "output_type": "stream",
     "text": [
      "\n",
      "Fold 4, Época 13: Erro Treino 0.6805, Erro Validação 0.5655\n",
      "\n",
      "Fold 4, Época 14/20\n"
     ]
    },
    {
     "name": "stderr",
     "output_type": "stream",
     "text": [
      "Treinando: 100%|██████████| 718/718 [02:37<00:00,  4.55it/s]\n",
      "Validando: 100%|██████████| 180/180 [00:20<00:00,  8.94it/s]\n"
     ]
    },
    {
     "name": "stdout",
     "output_type": "stream",
     "text": [
      "\n",
      "Fold 4, Época 14: Erro Treino 0.6805, Erro Validação 0.5634\n",
      "\n",
      "Fold 4, Época 15/20\n"
     ]
    },
    {
     "name": "stderr",
     "output_type": "stream",
     "text": [
      "Treinando: 100%|██████████| 718/718 [02:37<00:00,  4.57it/s]\n",
      "Validando: 100%|██████████| 180/180 [00:20<00:00,  8.98it/s]\n"
     ]
    },
    {
     "name": "stdout",
     "output_type": "stream",
     "text": [
      "\n",
      "Fold 4, Época 15: Erro Treino 0.6816, Erro Validação 0.5716\n",
      "\n",
      "Fold 4, Época 16/20\n"
     ]
    },
    {
     "name": "stderr",
     "output_type": "stream",
     "text": [
      "Treinando: 100%|██████████| 718/718 [02:37<00:00,  4.56it/s]\n",
      "Validando: 100%|██████████| 180/180 [00:20<00:00,  8.94it/s]\n"
     ]
    },
    {
     "name": "stdout",
     "output_type": "stream",
     "text": [
      "\n",
      "Fold 4, Época 16: Erro Treino 0.6787, Erro Validação 0.5754\n",
      "\n",
      "Fold 4, Época 17/20\n"
     ]
    },
    {
     "name": "stderr",
     "output_type": "stream",
     "text": [
      "Treinando: 100%|██████████| 718/718 [02:37<00:00,  4.57it/s]\n",
      "Validando: 100%|██████████| 180/180 [00:20<00:00,  8.95it/s]\n"
     ]
    },
    {
     "name": "stdout",
     "output_type": "stream",
     "text": [
      "\n",
      "Fold 4, Época 17: Erro Treino 0.6790, Erro Validação 0.5816\n",
      "\n",
      "Fold 4, Época 18/20\n"
     ]
    },
    {
     "name": "stderr",
     "output_type": "stream",
     "text": [
      "Treinando: 100%|██████████| 718/718 [02:37<00:00,  4.55it/s]\n",
      "Validando: 100%|██████████| 180/180 [00:20<00:00,  8.93it/s]\n"
     ]
    },
    {
     "name": "stdout",
     "output_type": "stream",
     "text": [
      "\n",
      "Fold 4, Época 18: Erro Treino 0.6757, Erro Validação 0.5719\n",
      "\n",
      "Fold 4, Época 19/20\n"
     ]
    },
    {
     "name": "stderr",
     "output_type": "stream",
     "text": [
      "Treinando: 100%|██████████| 718/718 [02:37<00:00,  4.56it/s]\n",
      "Validando: 100%|██████████| 180/180 [00:20<00:00,  8.88it/s]\n"
     ]
    },
    {
     "name": "stdout",
     "output_type": "stream",
     "text": [
      "\n",
      "Fold 4, Época 19: Erro Treino 0.6841, Erro Validação 0.5805\n",
      "\n",
      "Fold 4, Época 20/20\n"
     ]
    },
    {
     "name": "stderr",
     "output_type": "stream",
     "text": [
      "Treinando: 100%|██████████| 718/718 [02:37<00:00,  4.55it/s]\n",
      "Validando: 100%|██████████| 180/180 [00:20<00:00,  8.95it/s]\n"
     ]
    },
    {
     "name": "stdout",
     "output_type": "stream",
     "text": [
      "\n",
      "Fold 4, Época 20: Erro Treino 0.6773, Erro Validação 0.5715\n",
      "\n",
      "Iniciando Fold 5/5\n",
      "\n",
      "Fold 5, Época 1/20\n"
     ]
    },
    {
     "name": "stderr",
     "output_type": "stream",
     "text": [
      "Treinando: 100%|██████████| 718/718 [02:37<00:00,  4.56it/s]\n",
      "Validando: 100%|██████████| 180/180 [00:20<00:00,  8.95it/s]\n"
     ]
    },
    {
     "name": "stdout",
     "output_type": "stream",
     "text": [
      "\n",
      "Fold 5, Época 1: Erro Treino 0.6843, Erro Validação 0.5850\n",
      "\n",
      "Fold 5, Época 2/20\n"
     ]
    },
    {
     "name": "stderr",
     "output_type": "stream",
     "text": [
      "Treinando: 100%|██████████| 718/718 [02:37<00:00,  4.55it/s]\n",
      "Validando: 100%|██████████| 180/180 [00:20<00:00,  8.94it/s]\n"
     ]
    },
    {
     "name": "stdout",
     "output_type": "stream",
     "text": [
      "\n",
      "Fold 5, Época 2: Erro Treino 0.6714, Erro Validação 0.5843\n",
      "\n",
      "Fold 5, Época 3/20\n"
     ]
    },
    {
     "name": "stderr",
     "output_type": "stream",
     "text": [
      "Treinando: 100%|██████████| 718/718 [02:37<00:00,  4.55it/s]\n",
      "Validando: 100%|██████████| 180/180 [00:20<00:00,  8.95it/s]\n"
     ]
    },
    {
     "name": "stdout",
     "output_type": "stream",
     "text": [
      "\n",
      "Fold 5, Época 3: Erro Treino 0.6789, Erro Validação 0.5859\n",
      "\n",
      "Fold 5, Época 4/20\n"
     ]
    },
    {
     "name": "stderr",
     "output_type": "stream",
     "text": [
      "Treinando: 100%|██████████| 718/718 [02:37<00:00,  4.56it/s]\n",
      "Validando: 100%|██████████| 180/180 [00:20<00:00,  8.94it/s]\n"
     ]
    },
    {
     "name": "stdout",
     "output_type": "stream",
     "text": [
      "\n",
      "Fold 5, Época 4: Erro Treino 0.6788, Erro Validação 0.5817\n",
      "\n",
      "Fold 5, Época 5/20\n"
     ]
    },
    {
     "name": "stderr",
     "output_type": "stream",
     "text": [
      "Treinando: 100%|██████████| 718/718 [02:37<00:00,  4.56it/s]\n",
      "Validando: 100%|██████████| 180/180 [00:20<00:00,  8.77it/s]\n"
     ]
    },
    {
     "name": "stdout",
     "output_type": "stream",
     "text": [
      "\n",
      "Fold 5, Época 5: Erro Treino 0.6645, Erro Validação 0.5864\n",
      "\n",
      "Fold 5, Época 6/20\n"
     ]
    },
    {
     "name": "stderr",
     "output_type": "stream",
     "text": [
      "Treinando: 100%|██████████| 718/718 [02:38<00:00,  4.52it/s]\n",
      "Validando: 100%|██████████| 180/180 [00:20<00:00,  8.71it/s]\n"
     ]
    },
    {
     "name": "stdout",
     "output_type": "stream",
     "text": [
      "\n",
      "Fold 5, Época 6: Erro Treino 0.6789, Erro Validação 0.5920\n",
      "\n",
      "Fold 5, Época 7/20\n"
     ]
    },
    {
     "name": "stderr",
     "output_type": "stream",
     "text": [
      "Treinando: 100%|██████████| 718/718 [02:39<00:00,  4.51it/s]\n",
      "Validando: 100%|██████████| 180/180 [00:20<00:00,  8.77it/s]\n"
     ]
    },
    {
     "name": "stdout",
     "output_type": "stream",
     "text": [
      "\n",
      "Fold 5, Época 7: Erro Treino 0.6685, Erro Validação 0.5888\n",
      "\n",
      "Fold 5, Época 8/20\n"
     ]
    },
    {
     "name": "stderr",
     "output_type": "stream",
     "text": [
      "Treinando: 100%|██████████| 718/718 [02:38<00:00,  4.52it/s]\n",
      "Validando: 100%|██████████| 180/180 [00:20<00:00,  8.84it/s]\n"
     ]
    },
    {
     "name": "stdout",
     "output_type": "stream",
     "text": [
      "\n",
      "Fold 5, Época 8: Erro Treino 0.6724, Erro Validação 0.5838\n",
      "\n",
      "Fold 5, Época 9/20\n"
     ]
    },
    {
     "name": "stderr",
     "output_type": "stream",
     "text": [
      "Treinando: 100%|██████████| 718/718 [02:37<00:00,  4.55it/s]\n",
      "Validando: 100%|██████████| 180/180 [00:20<00:00,  8.93it/s]\n"
     ]
    },
    {
     "name": "stdout",
     "output_type": "stream",
     "text": [
      "\n",
      "Fold 5, Época 9: Erro Treino 0.6794, Erro Validação 0.5977\n",
      "\n",
      "Fold 5, Época 10/20\n"
     ]
    },
    {
     "name": "stderr",
     "output_type": "stream",
     "text": [
      "Treinando: 100%|██████████| 718/718 [02:37<00:00,  4.55it/s]\n",
      "Validando: 100%|██████████| 180/180 [00:20<00:00,  8.93it/s]\n"
     ]
    },
    {
     "name": "stdout",
     "output_type": "stream",
     "text": [
      "\n",
      "Fold 5, Época 10: Erro Treino 0.6748, Erro Validação 0.5793\n",
      "\n",
      "Fold 5, Época 11/20\n"
     ]
    },
    {
     "name": "stderr",
     "output_type": "stream",
     "text": [
      "Treinando: 100%|██████████| 718/718 [02:37<00:00,  4.56it/s]\n",
      "Validando: 100%|██████████| 180/180 [00:20<00:00,  8.85it/s]\n"
     ]
    },
    {
     "name": "stdout",
     "output_type": "stream",
     "text": [
      "\n",
      "Fold 5, Época 11: Erro Treino 0.6694, Erro Validação 0.5863\n",
      "\n",
      "Fold 5, Época 12/20\n"
     ]
    },
    {
     "name": "stderr",
     "output_type": "stream",
     "text": [
      "Treinando: 100%|██████████| 718/718 [02:37<00:00,  4.57it/s]\n",
      "Validando: 100%|██████████| 180/180 [00:20<00:00,  8.94it/s]\n"
     ]
    },
    {
     "name": "stdout",
     "output_type": "stream",
     "text": [
      "\n",
      "Fold 5, Época 12: Erro Treino 0.6700, Erro Validação 0.5782\n",
      "\n",
      "Fold 5, Época 13/20\n"
     ]
    },
    {
     "name": "stderr",
     "output_type": "stream",
     "text": [
      "Treinando: 100%|██████████| 718/718 [02:37<00:00,  4.56it/s]\n",
      "Validando: 100%|██████████| 180/180 [00:20<00:00,  8.91it/s]\n"
     ]
    },
    {
     "name": "stdout",
     "output_type": "stream",
     "text": [
      "\n",
      "Fold 5, Época 13: Erro Treino 0.6822, Erro Validação 0.5895\n",
      "\n",
      "Fold 5, Época 14/20\n"
     ]
    },
    {
     "name": "stderr",
     "output_type": "stream",
     "text": [
      "Treinando: 100%|██████████| 718/718 [02:37<00:00,  4.57it/s]\n",
      "Validando: 100%|██████████| 180/180 [00:19<00:00,  9.00it/s]\n"
     ]
    },
    {
     "name": "stdout",
     "output_type": "stream",
     "text": [
      "\n",
      "Fold 5, Época 14: Erro Treino 0.6770, Erro Validação 0.5949\n",
      "\n",
      "Fold 5, Época 15/20\n"
     ]
    },
    {
     "name": "stderr",
     "output_type": "stream",
     "text": [
      "Treinando: 100%|██████████| 718/718 [02:37<00:00,  4.56it/s]\n",
      "Validando: 100%|██████████| 180/180 [00:20<00:00,  8.94it/s]\n"
     ]
    },
    {
     "name": "stdout",
     "output_type": "stream",
     "text": [
      "\n",
      "Fold 5, Época 15: Erro Treino 0.6695, Erro Validação 0.5794\n",
      "\n",
      "Fold 5, Época 16/20\n"
     ]
    },
    {
     "name": "stderr",
     "output_type": "stream",
     "text": [
      "Treinando: 100%|██████████| 718/718 [02:37<00:00,  4.57it/s]\n",
      "Validando: 100%|██████████| 180/180 [00:20<00:00,  8.97it/s]\n"
     ]
    },
    {
     "name": "stdout",
     "output_type": "stream",
     "text": [
      "\n",
      "Fold 5, Época 16: Erro Treino 0.6753, Erro Validação 0.5835\n",
      "\n",
      "Fold 5, Época 17/20\n"
     ]
    },
    {
     "name": "stderr",
     "output_type": "stream",
     "text": [
      "Treinando: 100%|██████████| 718/718 [02:37<00:00,  4.56it/s]\n",
      "Validando: 100%|██████████| 180/180 [00:20<00:00,  8.95it/s]\n"
     ]
    },
    {
     "name": "stdout",
     "output_type": "stream",
     "text": [
      "\n",
      "Fold 5, Época 17: Erro Treino 0.6688, Erro Validação 0.5760\n",
      "\n",
      "Fold 5, Época 18/20\n"
     ]
    },
    {
     "name": "stderr",
     "output_type": "stream",
     "text": [
      "Treinando: 100%|██████████| 718/718 [02:37<00:00,  4.56it/s]\n",
      "Validando: 100%|██████████| 180/180 [00:20<00:00,  8.98it/s]\n"
     ]
    },
    {
     "name": "stdout",
     "output_type": "stream",
     "text": [
      "\n",
      "Fold 5, Época 18: Erro Treino 0.6859, Erro Validação 0.5901\n",
      "\n",
      "Fold 5, Época 19/20\n"
     ]
    },
    {
     "name": "stderr",
     "output_type": "stream",
     "text": [
      "Treinando: 100%|██████████| 718/718 [02:37<00:00,  4.57it/s]\n",
      "Validando: 100%|██████████| 180/180 [00:20<00:00,  8.94it/s]\n"
     ]
    },
    {
     "name": "stdout",
     "output_type": "stream",
     "text": [
      "\n",
      "Fold 5, Época 19: Erro Treino 0.6753, Erro Validação 0.5888\n",
      "\n",
      "Fold 5, Época 20/20\n"
     ]
    },
    {
     "name": "stderr",
     "output_type": "stream",
     "text": [
      "Treinando: 100%|██████████| 718/718 [02:37<00:00,  4.56it/s]\n",
      "Validando: 100%|██████████| 180/180 [00:20<00:00,  8.96it/s]"
     ]
    },
    {
     "name": "stdout",
     "output_type": "stream",
     "text": [
      "\n",
      "Fold 5, Época 20: Erro Treino 0.6649, Erro Validação 0.5938\n",
      "\n",
      "Erro Médio Validação (Cross-Validation): 0.7628\n"
     ]
    },
    {
     "name": "stderr",
     "output_type": "stream",
     "text": [
      "\n"
     ]
    }
   ],
   "source": [
    "import numpy as np\n",
    "import PIL.Image\n",
    "\n",
    "import torch, torchvision\n",
    "from torchvision import datasets, models, transforms\n",
    "from torch.utils.data import DataLoader\n",
    "import torch.optim as optim\n",
    "import time\n",
    "import torch\n",
    "import torch.nn as nn\n",
    "import torch.optim as optim\n",
    "from torch.optim.lr_scheduler import ReduceLROnPlateau\n",
    "from matplotlib import pyplot as plt\n",
    "from sklearn.utils.class_weight import compute_class_weight\n",
    "from sklearn.model_selection import KFold\n",
    "\n",
    "import os\n",
    "\n",
    "\n",
    "image_size = 48\n",
    "numero_de_epocas = 20\n",
    "bs = 32\n",
    "dataset = r'./data/Fer-2013/'\n",
    "pasta_treino = os.path.join(dataset, 'treino')\n",
    "pasta_validacao = os.path.join(dataset, 'validacao')\n",
    "pasta_teste = os.path.join(dataset, 'teste')\n",
    "numero_de_classes = len(os.listdir(pasta_validacao))\n",
    "\n",
    "from tqdm import tqdm\n",
    "\n",
    "definicoes_de_transformacoes = {\n",
    "    'treino': transforms.Compose([\n",
    "        transforms.RandomHorizontalFlip(p=0.5),\n",
    "        transforms.RandomVerticalFlip(p=0.2),\n",
    "        transforms.RandomRotation(degrees=30),\n",
    "        transforms.RandomResizedCrop(size=image_size, scale=(0.8, 1.0)),\n",
    "        transforms.ColorJitter(brightness=0.2, contrast=0.2, saturation=0.2, hue=0.1),\n",
    "        transforms.Grayscale(num_output_channels=3),\n",
    "        transforms.ToTensor(),\n",
    "        transforms.Normalize(mean=[0.485, 0.456, 0.406], std=[0.229, 0.224, 0.225])\n",
    "    ]),\n",
    "\n",
    "    'validacao': transforms.Compose([\n",
    "        transforms.Resize(size=(image_size, image_size)),\n",
    "        transforms.Grayscale(num_output_channels=3),\n",
    "        transforms.ToTensor(),\n",
    "        transforms.Normalize(mean=[0.485, 0.456, 0.406], std=[0.229, 0.224, 0.225])\n",
    "    ])\n",
    "}\n",
    "\n",
    "transformacoes_de_imagens = definicoes_de_transformacoes\n",
    "\n",
    "\n",
    "data = {\n",
    "    'treino': datasets.ImageFolder(root=pasta_treino, transform=transformacoes_de_imagens['treino']),\n",
    "    'validacao': datasets.ImageFolder(root=pasta_validacao, transform=transformacoes_de_imagens['validacao'])\n",
    "}\n",
    "\n",
    "indice_para_classe = {v: k for k, v in data['treino'].class_to_idx.items()}\n",
    "print(indice_para_classe)\n",
    "\n",
    "num_imagens_treino = len(data['treino'])\n",
    "num_imagens_validacao = len(data['validacao'])\n",
    "\n",
    "train_labels = [label for _, label in data['treino'].imgs]\n",
    "class_weights = compute_class_weight('balanced', classes=np.arange(numero_de_classes), y=train_labels)\n",
    "weights = torch.tensor(class_weights, dtype=torch.float).to(device)\n",
    "\n",
    "data_loader_treino = DataLoader(data['treino'], batch_size=bs, shuffle=True)\n",
    "data_loader_validacao = DataLoader(data['validacao'], batch_size=bs, shuffle=True)\n",
    "\n",
    "resnet50 = models.resnet50(pretrained=True)\n",
    "\n",
    "for param in list(resnet50.parameters())[:-10]:\n",
    "    param.requires_grad = True\n",
    "\n",
    "num_features = resnet50.fc.in_features\n",
    "resnet50.fc = nn.Sequential(\n",
    "    nn.Linear(num_features, 1024),\n",
    "    nn.ReLU(),\n",
    "    nn.Dropout(0.4),\n",
    "    nn.Linear(1024, 512),\n",
    "    nn.ReLU(),\n",
    "    nn.Dropout(0.4),\n",
    "    nn.Linear(512, numero_de_classes),\n",
    "    nn.LogSoftmax(dim=1)\n",
    ")\n",
    "\n",
    "funcao_erro = nn.CrossEntropyLoss(weight=weights)\n",
    "otimizador = optim.AdamW(resnet50.parameters(), lr=0.0001)\n",
    "scheduler = ReduceLROnPlateau(otimizador, mode='min', factor=0.1, patience=3)\n",
    "\n",
    "\n",
    "def treinar_e_validar_cross_validation(modelo, metrica_erro, otimizador_sgd, scheduler, epocas=25, folds=5):\n",
    "    kf = KFold(n_splits=folds, shuffle=True, random_state=42)\n",
    "    fold_results = []\n",
    "\n",
    "    for fold, (train_idx, val_idx) in enumerate(kf.split(data['treino'])):\n",
    "        print(f\"\\nIniciando Fold {fold + 1}/{folds}\")\n",
    "\n",
    "        train_sampler = torch.utils.data.SubsetRandomSampler(train_idx)\n",
    "        val_sampler = torch.utils.data.SubsetRandomSampler(val_idx)\n",
    "        \n",
    "        data_loader_train_fold = DataLoader(data['treino'], batch_size=bs, sampler=train_sampler)\n",
    "        data_loader_val_fold = DataLoader(data['treino'], batch_size=bs, sampler=val_sampler)\n",
    "\n",
    "        melhor_acuracia = 0.0\n",
    "        melhor_modelo = None\n",
    "\n",
    "        for epoca in range(epocas):\n",
    "            inicio_epoca = time.time()\n",
    "            print(f\"\\nFold {fold + 1}, Época {epoca + 1}/{epocas}\")\n",
    "\n",
    "            modelo.train()\n",
    "            erro_treino = 0.0\n",
    "            acuracia_treino = 0.0\n",
    "\n",
    "            for entradas, labels in tqdm(data_loader_train_fold, desc=\"Treinando\"):\n",
    "                entradas = entradas.to(device)\n",
    "                labels = labels.to(device)\n",
    "\n",
    "                otimizador_sgd.zero_grad()\n",
    "                saidas = modelo(entradas)\n",
    "                erro = metrica_erro(saidas, labels)\n",
    "                erro.backward()\n",
    "                otimizador_sgd.step()\n",
    "\n",
    "                erro_treino += erro.item() * entradas.size(0)\n",
    "\n",
    "            erro_medio_treino = erro_treino / len(train_idx)\n",
    "\n",
    "            modelo.eval()\n",
    "            erro_validacao = 0.0\n",
    "            acuracia_validacao = 0.0\n",
    "\n",
    "            with torch.no_grad():\n",
    "                for entradas, labels in tqdm(data_loader_val_fold, desc=\"Validando\"):\n",
    "                    entradas = entradas.to(device)\n",
    "                    labels = labels.to(device)\n",
    "                    saidas = modelo(entradas)\n",
    "                    erro = metrica_erro(saidas, labels)\n",
    "                    erro_validacao += erro.item() * entradas.size(0)\n",
    "\n",
    "                erro_medio_validacao = erro_validacao / len(val_idx)\n",
    "\n",
    "                print(f\"\\nFold {fold + 1}, Época {epoca + 1}: Erro Treino {erro_medio_treino:.4f}, Erro Validação {erro_medio_validacao:.4f}\")\n",
    "                # Salvar o melhor modelo baseado na validação\n",
    "                if erro_medio_validacao < melhor_acuracia or melhor_modelo is None:\n",
    "                    melhor_acuracia = erro_medio_validacao\n",
    "                    melhor_modelo = modelo.state_dict()\n",
    "                    torch.save(melhor_modelo, f'./melhores_modelos/melhor_modelo_fold02{fold + 1}.pt')\n",
    "\n",
    "            scheduler.step(erro_medio_validacao)\n",
    "\n",
    "        fold_results.append(erro_medio_validacao)\n",
    "\n",
    "    print(f\"\\nErro Médio Validação (Cross-Validation): {np.mean(fold_results):.4f}\")\n",
    "\n",
    "device = torch.device(\"cuda:0\" if torch.cuda.is_available() else \"cpu\")\n",
    "\n",
    "print(f'{device}\\n')\n",
    "\n",
    "numero_de_epocas = 20\n",
    "\n",
    "resnet50 = resnet50.to(device)\n",
    "treinar_e_validar_cross_validation(resnet50, funcao_erro, otimizador, scheduler, numero_de_epocas, folds=5)\n"
   ]
  }
 ],
 "metadata": {
  "kernelspec": {
   "display_name": "Python 3",
   "language": "python",
   "name": "python3"
  },
  "language_info": {
   "codemirror_mode": {
    "name": "ipython",
    "version": 3
   },
   "file_extension": ".py",
   "mimetype": "text/x-python",
   "name": "python",
   "nbconvert_exporter": "python",
   "pygments_lexer": "ipython3",
   "version": "3.10.0"
  }
 },
 "nbformat": 4,
 "nbformat_minor": 2
}
