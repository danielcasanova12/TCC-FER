{
 "cells": [
  {
   "cell_type": "code",
   "execution_count": 4,
   "metadata": {},
   "outputs": [
    {
     "name": "stdout",
     "output_type": "stream",
     "text": [
      "cuda:0\n",
      "\n",
      "{0: 'Angry', 1: 'Disgust', 2: 'Fear', 3: 'Happy', 4: 'Neutral', 5: 'Sad', 6: 'Surprise'}\n"
     ]
    },
    {
     "name": "stderr",
     "output_type": "stream",
     "text": [
      "c:\\Users\\Danil\\AppData\\Local\\Programs\\Python\\Python310\\lib\\site-packages\\torchvision\\models\\_utils.py:208: UserWarning: The parameter 'pretrained' is deprecated since 0.13 and may be removed in the future, please use 'weights' instead.\n",
      "  warnings.warn(\n",
      "c:\\Users\\Danil\\AppData\\Local\\Programs\\Python\\Python310\\lib\\site-packages\\torchvision\\models\\_utils.py:223: UserWarning: Arguments other than a weight enum or `None` for 'weights' are deprecated since 0.13 and may be removed in the future. The current behavior is equivalent to passing `weights=ResNet50_Weights.IMAGENET1K_V1`. You can also use `weights=ResNet50_Weights.DEFAULT` to get the most up-to-date weights.\n",
      "  warnings.warn(msg)\n"
     ]
    },
    {
     "name": "stdout",
     "output_type": "stream",
     "text": [
      "cuda:0\n",
      "\n",
      "\n",
      "Iniciando Fold 1/5\n",
      "\n",
      "Fold 1, Época 1/20\n"
     ]
    },
    {
     "name": "stderr",
     "output_type": "stream",
     "text": [
      "Treinando: 100%|██████████| 718/718 [01:16<00:00,  9.38it/s]\n",
      "Validando: 100%|██████████| 180/180 [00:11<00:00, 16.27it/s]\n"
     ]
    },
    {
     "name": "stdout",
     "output_type": "stream",
     "text": [
      "\n",
      "Fold 1, Época 1:\n",
      "Erro Treino: 1.7341, Acurácia Treino: 0.3255\n",
      "Erro Validação: 1.5831, Acurácia Validação: 0.4117\n",
      "\n",
      "Fold 1, Época 2/20\n"
     ]
    },
    {
     "name": "stderr",
     "output_type": "stream",
     "text": [
      "Treinando: 100%|██████████| 718/718 [01:17<00:00,  9.30it/s]\n",
      "Validando: 100%|██████████| 180/180 [00:11<00:00, 15.52it/s]\n"
     ]
    },
    {
     "name": "stdout",
     "output_type": "stream",
     "text": [
      "\n",
      "Fold 1, Época 2:\n",
      "Erro Treino: 1.5473, Acurácia Treino: 0.4150\n",
      "Erro Validação: 1.4748, Acurácia Validação: 0.4469\n",
      "\n",
      "Fold 1, Época 3/20\n"
     ]
    },
    {
     "name": "stderr",
     "output_type": "stream",
     "text": [
      "Treinando: 100%|██████████| 718/718 [01:13<00:00,  9.71it/s]\n",
      "Validando: 100%|██████████| 180/180 [00:11<00:00, 15.17it/s]\n"
     ]
    },
    {
     "name": "stdout",
     "output_type": "stream",
     "text": [
      "\n",
      "Fold 1, Época 3:\n",
      "Erro Treino: 1.4564, Acurácia Treino: 0.4587\n",
      "Erro Validação: 1.4086, Acurácia Validação: 0.4638\n",
      "\n",
      "Fold 1, Época 4/20\n"
     ]
    },
    {
     "name": "stderr",
     "output_type": "stream",
     "text": [
      "Treinando: 100%|██████████| 718/718 [01:15<00:00,  9.56it/s]\n",
      "Validando: 100%|██████████| 180/180 [00:11<00:00, 16.21it/s]\n"
     ]
    },
    {
     "name": "stdout",
     "output_type": "stream",
     "text": [
      "\n",
      "Fold 1, Época 4:\n",
      "Erro Treino: 1.3961, Acurácia Treino: 0.4863\n",
      "Erro Validação: 1.3964, Acurácia Validação: 0.4852\n",
      "\n",
      "Fold 1, Época 5/20\n"
     ]
    },
    {
     "name": "stderr",
     "output_type": "stream",
     "text": [
      "Treinando: 100%|██████████| 718/718 [01:11<00:00, 10.04it/s]\n",
      "Validando: 100%|██████████| 180/180 [00:11<00:00, 16.14it/s]\n"
     ]
    },
    {
     "name": "stdout",
     "output_type": "stream",
     "text": [
      "\n",
      "Fold 1, Época 5:\n",
      "Erro Treino: 1.3486, Acurácia Treino: 0.4996\n",
      "Erro Validação: 1.3376, Acurácia Validação: 0.5145\n",
      "\n",
      "Fold 1, Época 6/20\n"
     ]
    },
    {
     "name": "stderr",
     "output_type": "stream",
     "text": [
      "Treinando: 100%|██████████| 718/718 [01:11<00:00, 10.06it/s]\n",
      "Validando: 100%|██████████| 180/180 [00:10<00:00, 16.43it/s]\n"
     ]
    },
    {
     "name": "stdout",
     "output_type": "stream",
     "text": [
      "\n",
      "Fold 1, Época 6:\n",
      "Erro Treino: 1.3004, Acurácia Treino: 0.5148\n",
      "Erro Validação: 1.3026, Acurácia Validação: 0.5178\n",
      "\n",
      "Fold 1, Época 7/20\n"
     ]
    },
    {
     "name": "stderr",
     "output_type": "stream",
     "text": [
      "Treinando: 100%|██████████| 718/718 [01:10<00:00, 10.17it/s]\n",
      "Validando: 100%|██████████| 180/180 [00:10<00:00, 16.71it/s]\n"
     ]
    },
    {
     "name": "stdout",
     "output_type": "stream",
     "text": [
      "\n",
      "Fold 1, Época 7:\n",
      "Erro Treino: 1.2746, Acurácia Treino: 0.5261\n",
      "Erro Validação: 1.2938, Acurácia Validação: 0.5232\n",
      "\n",
      "Fold 1, Época 8/20\n"
     ]
    },
    {
     "name": "stderr",
     "output_type": "stream",
     "text": [
      "Treinando: 100%|██████████| 718/718 [01:18<00:00,  9.17it/s]\n",
      "Validando: 100%|██████████| 180/180 [00:12<00:00, 14.74it/s]\n"
     ]
    },
    {
     "name": "stdout",
     "output_type": "stream",
     "text": [
      "\n",
      "Fold 1, Época 8:\n",
      "Erro Treino: 1.2478, Acurácia Treino: 0.5348\n",
      "Erro Validação: 1.3167, Acurácia Validação: 0.5007\n",
      "\n",
      "Fold 1, Época 9/20\n"
     ]
    },
    {
     "name": "stderr",
     "output_type": "stream",
     "text": [
      "Treinando: 100%|██████████| 718/718 [01:12<00:00,  9.94it/s]\n",
      "Validando: 100%|██████████| 180/180 [00:11<00:00, 15.70it/s]\n"
     ]
    },
    {
     "name": "stdout",
     "output_type": "stream",
     "text": [
      "\n",
      "Fold 1, Época 9:\n",
      "Erro Treino: 1.2172, Acurácia Treino: 0.5470\n",
      "Erro Validação: 1.2665, Acurácia Validação: 0.5442\n",
      "\n",
      "Fold 1, Época 10/20\n"
     ]
    },
    {
     "name": "stderr",
     "output_type": "stream",
     "text": [
      "Treinando: 100%|██████████| 718/718 [01:14<00:00,  9.66it/s]\n",
      "Validando: 100%|██████████| 180/180 [00:13<00:00, 13.53it/s]\n"
     ]
    },
    {
     "name": "stdout",
     "output_type": "stream",
     "text": [
      "\n",
      "Fold 1, Época 10:\n",
      "Erro Treino: 1.1764, Acurácia Treino: 0.5609\n",
      "Erro Validação: 1.2433, Acurácia Validação: 0.5500\n",
      "\n",
      "Fold 1, Época 11/20\n"
     ]
    },
    {
     "name": "stderr",
     "output_type": "stream",
     "text": [
      "Treinando: 100%|██████████| 718/718 [01:20<00:00,  8.91it/s]\n",
      "Validando: 100%|██████████| 180/180 [00:12<00:00, 14.64it/s]\n"
     ]
    },
    {
     "name": "stdout",
     "output_type": "stream",
     "text": [
      "\n",
      "Fold 1, Época 11:\n",
      "Erro Treino: 1.1524, Acurácia Treino: 0.5656\n",
      "Erro Validação: 1.2631, Acurácia Validação: 0.5293\n",
      "\n",
      "Fold 1, Época 12/20\n"
     ]
    },
    {
     "name": "stderr",
     "output_type": "stream",
     "text": [
      "Treinando: 100%|██████████| 718/718 [01:17<00:00,  9.31it/s]\n",
      "Validando: 100%|██████████| 180/180 [00:11<00:00, 15.20it/s]\n"
     ]
    },
    {
     "name": "stdout",
     "output_type": "stream",
     "text": [
      "\n",
      "Fold 1, Época 12:\n",
      "Erro Treino: 1.1285, Acurácia Treino: 0.5743\n",
      "Erro Validação: 1.2567, Acurácia Validação: 0.5315\n",
      "\n",
      "Fold 1, Época 13/20\n"
     ]
    },
    {
     "name": "stderr",
     "output_type": "stream",
     "text": [
      "Treinando: 100%|██████████| 718/718 [01:15<00:00,  9.56it/s]\n",
      "Validando: 100%|██████████| 180/180 [00:11<00:00, 15.31it/s]\n"
     ]
    },
    {
     "name": "stdout",
     "output_type": "stream",
     "text": [
      "\n",
      "Fold 1, Época 13:\n",
      "Erro Treino: 1.1147, Acurácia Treino: 0.5825\n",
      "Erro Validação: 1.2081, Acurácia Validação: 0.5540\n",
      "\n",
      "Fold 1, Época 14/20\n"
     ]
    },
    {
     "name": "stderr",
     "output_type": "stream",
     "text": [
      "Treinando: 100%|██████████| 718/718 [01:15<00:00,  9.55it/s]\n",
      "Validando: 100%|██████████| 180/180 [00:11<00:00, 15.21it/s]\n"
     ]
    },
    {
     "name": "stdout",
     "output_type": "stream",
     "text": [
      "\n",
      "Fold 1, Época 14:\n",
      "Erro Treino: 1.0940, Acurácia Treino: 0.5848\n",
      "Erro Validação: 1.2150, Acurácia Validação: 0.5709\n",
      "\n",
      "Fold 1, Época 15/20\n"
     ]
    },
    {
     "name": "stderr",
     "output_type": "stream",
     "text": [
      "Treinando: 100%|██████████| 718/718 [01:15<00:00,  9.52it/s]\n",
      "Validando: 100%|██████████| 180/180 [00:11<00:00, 15.52it/s]\n"
     ]
    },
    {
     "name": "stdout",
     "output_type": "stream",
     "text": [
      "\n",
      "Fold 1, Época 15:\n",
      "Erro Treino: 1.0703, Acurácia Treino: 0.5952\n",
      "Erro Validação: 1.2276, Acurácia Validação: 0.5711\n",
      "\n",
      "Fold 1, Época 16/20\n"
     ]
    },
    {
     "name": "stderr",
     "output_type": "stream",
     "text": [
      "Treinando: 100%|██████████| 718/718 [01:14<00:00,  9.58it/s]\n",
      "Validando: 100%|██████████| 180/180 [00:11<00:00, 15.50it/s]\n"
     ]
    },
    {
     "name": "stdout",
     "output_type": "stream",
     "text": [
      "\n",
      "Fold 1, Época 16:\n",
      "Erro Treino: 1.0492, Acurácia Treino: 0.6012\n",
      "Erro Validação: 1.2099, Acurácia Validação: 0.5651\n",
      "\n",
      "Fold 1, Época 17/20\n"
     ]
    },
    {
     "name": "stderr",
     "output_type": "stream",
     "text": [
      "Treinando: 100%|██████████| 718/718 [01:14<00:00,  9.63it/s]\n",
      "Validando: 100%|██████████| 180/180 [00:11<00:00, 15.50it/s]\n"
     ]
    },
    {
     "name": "stdout",
     "output_type": "stream",
     "text": [
      "\n",
      "Fold 1, Época 17:\n",
      "Erro Treino: 1.0303, Acurácia Treino: 0.6098\n",
      "Erro Validação: 1.1795, Acurácia Validação: 0.5709\n",
      "\n",
      "Fold 1, Época 18/20\n"
     ]
    },
    {
     "name": "stderr",
     "output_type": "stream",
     "text": [
      "Treinando: 100%|██████████| 718/718 [01:15<00:00,  9.49it/s]\n",
      "Validando: 100%|██████████| 180/180 [00:11<00:00, 15.17it/s]\n"
     ]
    },
    {
     "name": "stdout",
     "output_type": "stream",
     "text": [
      "\n",
      "Fold 1, Época 18:\n",
      "Erro Treino: 1.0213, Acurácia Treino: 0.6133\n",
      "Erro Validação: 1.2406, Acurácia Validação: 0.5669\n",
      "\n",
      "Fold 1, Época 19/20\n"
     ]
    },
    {
     "name": "stderr",
     "output_type": "stream",
     "text": [
      "Treinando: 100%|██████████| 718/718 [01:15<00:00,  9.48it/s]\n",
      "Validando: 100%|██████████| 180/180 [00:11<00:00, 16.09it/s]\n"
     ]
    },
    {
     "name": "stdout",
     "output_type": "stream",
     "text": [
      "\n",
      "Fold 1, Época 19:\n",
      "Erro Treino: 0.9845, Acurácia Treino: 0.6230\n",
      "Erro Validação: 1.1939, Acurácia Validação: 0.5819\n",
      "\n",
      "Fold 1, Época 20/20\n"
     ]
    },
    {
     "name": "stderr",
     "output_type": "stream",
     "text": [
      "Treinando: 100%|██████████| 718/718 [01:10<00:00, 10.13it/s]\n",
      "Validando: 100%|██████████| 180/180 [00:10<00:00, 16.72it/s]\n"
     ]
    },
    {
     "name": "stdout",
     "output_type": "stream",
     "text": [
      "\n",
      "Fold 1, Época 20:\n",
      "Erro Treino: 0.9911, Acurácia Treino: 0.6215\n",
      "Erro Validação: 1.2119, Acurácia Validação: 0.5578\n",
      "\n",
      "Iniciando Fold 2/5\n",
      "\n",
      "Fold 2, Época 1/20\n"
     ]
    },
    {
     "name": "stderr",
     "output_type": "stream",
     "text": [
      "Treinando: 100%|██████████| 718/718 [01:10<00:00, 10.23it/s]\n",
      "Validando: 100%|██████████| 180/180 [00:10<00:00, 16.42it/s]\n"
     ]
    },
    {
     "name": "stdout",
     "output_type": "stream",
     "text": [
      "\n",
      "Fold 2, Época 1:\n",
      "Erro Treino: 1.0359, Acurácia Treino: 0.6124\n",
      "Erro Validação: 0.9401, Acurácia Validação: 0.6466\n",
      "\n",
      "Fold 2, Época 2/20\n"
     ]
    },
    {
     "name": "stderr",
     "output_type": "stream",
     "text": [
      "Treinando: 100%|██████████| 718/718 [01:10<00:00, 10.14it/s]\n",
      "Validando: 100%|██████████| 180/180 [00:11<00:00, 16.24it/s]\n"
     ]
    },
    {
     "name": "stdout",
     "output_type": "stream",
     "text": [
      "\n",
      "Fold 2, Época 2:\n",
      "Erro Treino: 1.0086, Acurácia Treino: 0.6199\n",
      "Erro Validação: 0.9539, Acurácia Validação: 0.6365\n",
      "\n",
      "Fold 2, Época 3/20\n"
     ]
    },
    {
     "name": "stderr",
     "output_type": "stream",
     "text": [
      "Treinando: 100%|██████████| 718/718 [01:13<00:00,  9.75it/s]\n",
      "Validando: 100%|██████████| 180/180 [00:11<00:00, 15.44it/s]\n"
     ]
    },
    {
     "name": "stdout",
     "output_type": "stream",
     "text": [
      "\n",
      "Fold 2, Época 3:\n",
      "Erro Treino: 0.9879, Acurácia Treino: 0.6228\n",
      "Erro Validação: 0.9766, Acurácia Validação: 0.6278\n",
      "\n",
      "Fold 2, Época 4/20\n"
     ]
    },
    {
     "name": "stderr",
     "output_type": "stream",
     "text": [
      "Treinando: 100%|██████████| 718/718 [01:15<00:00,  9.51it/s]\n",
      "Validando: 100%|██████████| 180/180 [00:11<00:00, 15.43it/s]\n"
     ]
    },
    {
     "name": "stdout",
     "output_type": "stream",
     "text": [
      "\n",
      "Fold 2, Época 4:\n",
      "Erro Treino: 0.9611, Acurácia Treino: 0.6387\n",
      "Erro Validação: 0.9761, Acurácia Validação: 0.6252\n",
      "\n",
      "Fold 2, Época 5/20\n"
     ]
    },
    {
     "name": "stderr",
     "output_type": "stream",
     "text": [
      "Treinando: 100%|██████████| 718/718 [01:14<00:00,  9.66it/s]\n",
      "Validando: 100%|██████████| 180/180 [00:11<00:00, 15.28it/s]\n"
     ]
    },
    {
     "name": "stdout",
     "output_type": "stream",
     "text": [
      "\n",
      "Fold 2, Época 5:\n",
      "Erro Treino: 0.9470, Acurácia Treino: 0.6382\n",
      "Erro Validação: 0.9823, Acurácia Validação: 0.6177\n",
      "\n",
      "Fold 2, Época 6/20\n"
     ]
    },
    {
     "name": "stderr",
     "output_type": "stream",
     "text": [
      "Treinando: 100%|██████████| 718/718 [01:17<00:00,  9.27it/s]\n",
      "Validando: 100%|██████████| 180/180 [00:12<00:00, 14.62it/s]\n"
     ]
    },
    {
     "name": "stdout",
     "output_type": "stream",
     "text": [
      "\n",
      "Fold 2, Época 6:\n",
      "Erro Treino: 0.8680, Acurácia Treino: 0.6679\n",
      "Erro Validação: 0.9324, Acurácia Validação: 0.6552\n",
      "\n",
      "Fold 2, Época 7/20\n"
     ]
    },
    {
     "name": "stderr",
     "output_type": "stream",
     "text": [
      "Treinando: 100%|██████████| 718/718 [01:14<00:00,  9.67it/s]\n",
      "Validando: 100%|██████████| 180/180 [00:11<00:00, 15.66it/s]\n"
     ]
    },
    {
     "name": "stdout",
     "output_type": "stream",
     "text": [
      "\n",
      "Fold 2, Época 7:\n",
      "Erro Treino: 0.8342, Acurácia Treino: 0.6797\n",
      "Erro Validação: 0.9156, Acurácia Validação: 0.6454\n",
      "\n",
      "Fold 2, Época 8/20\n"
     ]
    },
    {
     "name": "stderr",
     "output_type": "stream",
     "text": [
      "Treinando: 100%|██████████| 718/718 [01:15<00:00,  9.55it/s]\n",
      "Validando: 100%|██████████| 180/180 [00:11<00:00, 15.79it/s]\n"
     ]
    },
    {
     "name": "stdout",
     "output_type": "stream",
     "text": [
      "\n",
      "Fold 2, Época 8:\n",
      "Erro Treino: 0.8099, Acurácia Treino: 0.6904\n",
      "Erro Validação: 0.8986, Acurácia Validação: 0.6595\n",
      "\n",
      "Fold 2, Época 9/20\n"
     ]
    },
    {
     "name": "stderr",
     "output_type": "stream",
     "text": [
      "Treinando: 100%|██████████| 718/718 [01:15<00:00,  9.55it/s]\n",
      "Validando: 100%|██████████| 180/180 [00:11<00:00, 15.96it/s]\n"
     ]
    },
    {
     "name": "stdout",
     "output_type": "stream",
     "text": [
      "\n",
      "Fold 2, Época 9:\n",
      "Erro Treino: 0.7948, Acurácia Treino: 0.6948\n",
      "Erro Validação: 0.8897, Acurácia Validação: 0.6566\n",
      "\n",
      "Fold 2, Época 10/20\n"
     ]
    },
    {
     "name": "stderr",
     "output_type": "stream",
     "text": [
      "Treinando: 100%|██████████| 718/718 [01:15<00:00,  9.51it/s]\n",
      "Validando: 100%|██████████| 180/180 [00:10<00:00, 17.07it/s]\n"
     ]
    },
    {
     "name": "stdout",
     "output_type": "stream",
     "text": [
      "\n",
      "Fold 2, Época 10:\n",
      "Erro Treino: 0.7842, Acurácia Treino: 0.6964\n",
      "Erro Validação: 0.8889, Acurácia Validação: 0.6630\n",
      "\n",
      "Fold 2, Época 11/20\n"
     ]
    },
    {
     "name": "stderr",
     "output_type": "stream",
     "text": [
      "Treinando: 100%|██████████| 718/718 [01:09<00:00, 10.32it/s]\n",
      "Validando: 100%|██████████| 180/180 [00:10<00:00, 17.10it/s]\n"
     ]
    },
    {
     "name": "stdout",
     "output_type": "stream",
     "text": [
      "\n",
      "Fold 2, Época 11:\n",
      "Erro Treino: 0.7704, Acurácia Treino: 0.6974\n",
      "Erro Validação: 0.8944, Acurácia Validação: 0.6639\n",
      "\n",
      "Fold 2, Época 12/20\n"
     ]
    },
    {
     "name": "stderr",
     "output_type": "stream",
     "text": [
      "Treinando: 100%|██████████| 718/718 [01:09<00:00, 10.37it/s]\n",
      "Validando: 100%|██████████| 180/180 [00:10<00:00, 17.08it/s]\n"
     ]
    },
    {
     "name": "stdout",
     "output_type": "stream",
     "text": [
      "\n",
      "Fold 2, Época 12:\n",
      "Erro Treino: 0.7632, Acurácia Treino: 0.7054\n",
      "Erro Validação: 0.9262, Acurácia Validação: 0.6609\n",
      "\n",
      "Fold 2, Época 13/20\n"
     ]
    },
    {
     "name": "stderr",
     "output_type": "stream",
     "text": [
      "Treinando: 100%|██████████| 718/718 [01:09<00:00, 10.38it/s]\n",
      "Validando: 100%|██████████| 180/180 [00:10<00:00, 17.09it/s]\n"
     ]
    },
    {
     "name": "stdout",
     "output_type": "stream",
     "text": [
      "\n",
      "Fold 2, Época 13:\n",
      "Erro Treino: 0.7455, Acurácia Treino: 0.7083\n",
      "Erro Validação: 0.8954, Acurácia Validação: 0.6656\n",
      "\n",
      "Fold 2, Época 14/20\n"
     ]
    },
    {
     "name": "stderr",
     "output_type": "stream",
     "text": [
      "Treinando: 100%|██████████| 718/718 [01:15<00:00,  9.53it/s]\n",
      "Validando: 100%|██████████| 180/180 [00:11<00:00, 15.71it/s]\n"
     ]
    },
    {
     "name": "stdout",
     "output_type": "stream",
     "text": [
      "\n",
      "Fold 2, Época 14:\n",
      "Erro Treino: 0.7373, Acurácia Treino: 0.7125\n",
      "Erro Validação: 0.8941, Acurácia Validação: 0.6607\n",
      "\n",
      "Fold 2, Época 15/20\n"
     ]
    },
    {
     "name": "stderr",
     "output_type": "stream",
     "text": [
      "Treinando: 100%|██████████| 718/718 [01:18<00:00,  9.19it/s]\n",
      "Validando: 100%|██████████| 180/180 [00:12<00:00, 14.94it/s]\n"
     ]
    },
    {
     "name": "stdout",
     "output_type": "stream",
     "text": [
      "\n",
      "Fold 2, Época 15:\n",
      "Erro Treino: 0.7279, Acurácia Treino: 0.7156\n",
      "Erro Validação: 0.8900, Acurácia Validação: 0.6599\n",
      "\n",
      "Fold 2, Época 16/20\n"
     ]
    },
    {
     "name": "stderr",
     "output_type": "stream",
     "text": [
      "Treinando: 100%|██████████| 718/718 [01:21<00:00,  8.86it/s]\n",
      "Validando: 100%|██████████| 180/180 [00:11<00:00, 15.29it/s]\n"
     ]
    },
    {
     "name": "stdout",
     "output_type": "stream",
     "text": [
      "\n",
      "Fold 2, Época 16:\n",
      "Erro Treino: 0.7144, Acurácia Treino: 0.7203\n",
      "Erro Validação: 0.9358, Acurácia Validação: 0.6534\n",
      "\n",
      "Fold 2, Época 17/20\n"
     ]
    },
    {
     "name": "stderr",
     "output_type": "stream",
     "text": [
      "Treinando: 100%|██████████| 718/718 [01:14<00:00,  9.67it/s]\n",
      "Validando: 100%|██████████| 180/180 [00:12<00:00, 14.75it/s]\n"
     ]
    },
    {
     "name": "stdout",
     "output_type": "stream",
     "text": [
      "\n",
      "Fold 2, Época 17:\n",
      "Erro Treino: 0.7183, Acurácia Treino: 0.7171\n",
      "Erro Validação: 0.9102, Acurácia Validação: 0.6628\n",
      "\n",
      "Fold 2, Época 18/20\n"
     ]
    },
    {
     "name": "stderr",
     "output_type": "stream",
     "text": [
      "Treinando: 100%|██████████| 718/718 [01:16<00:00,  9.39it/s]\n",
      "Validando: 100%|██████████| 180/180 [00:11<00:00, 15.03it/s]\n"
     ]
    },
    {
     "name": "stdout",
     "output_type": "stream",
     "text": [
      "\n",
      "Fold 2, Época 18:\n",
      "Erro Treino: 0.7294, Acurácia Treino: 0.7165\n",
      "Erro Validação: 0.9217, Acurácia Validação: 0.6625\n",
      "\n",
      "Fold 2, Época 19/20\n"
     ]
    },
    {
     "name": "stderr",
     "output_type": "stream",
     "text": [
      "Treinando: 100%|██████████| 718/718 [01:15<00:00,  9.56it/s]\n",
      "Validando: 100%|██████████| 180/180 [00:11<00:00, 15.98it/s]\n"
     ]
    },
    {
     "name": "stdout",
     "output_type": "stream",
     "text": [
      "\n",
      "Fold 2, Época 19:\n",
      "Erro Treino: 0.7213, Acurácia Treino: 0.7182\n",
      "Erro Validação: 0.9078, Acurácia Validação: 0.6642\n",
      "\n",
      "Fold 2, Época 20/20\n"
     ]
    },
    {
     "name": "stderr",
     "output_type": "stream",
     "text": [
      "Treinando: 100%|██████████| 718/718 [01:17<00:00,  9.28it/s]\n",
      "Validando: 100%|██████████| 180/180 [00:11<00:00, 15.29it/s]\n"
     ]
    },
    {
     "name": "stdout",
     "output_type": "stream",
     "text": [
      "\n",
      "Fold 2, Época 20:\n",
      "Erro Treino: 0.7194, Acurácia Treino: 0.7213\n",
      "Erro Validação: 0.8963, Acurácia Validação: 0.6635\n",
      "\n",
      "Iniciando Fold 3/5\n",
      "\n",
      "Fold 3, Época 1/20\n"
     ]
    },
    {
     "name": "stderr",
     "output_type": "stream",
     "text": [
      "Treinando: 100%|██████████| 718/718 [01:15<00:00,  9.49it/s]\n",
      "Validando: 100%|██████████| 180/180 [00:11<00:00, 15.89it/s]\n"
     ]
    },
    {
     "name": "stdout",
     "output_type": "stream",
     "text": [
      "\n",
      "Fold 3, Época 1:\n",
      "Erro Treino: 0.7819, Acurácia Treino: 0.7029\n",
      "Erro Validação: 0.6579, Acurácia Validação: 0.7386\n",
      "\n",
      "Fold 3, Época 2/20\n"
     ]
    },
    {
     "name": "stderr",
     "output_type": "stream",
     "text": [
      "Treinando: 100%|██████████| 718/718 [01:16<00:00,  9.37it/s]\n",
      "Validando: 100%|██████████| 180/180 [00:11<00:00, 15.65it/s]\n"
     ]
    },
    {
     "name": "stdout",
     "output_type": "stream",
     "text": [
      "\n",
      "Fold 3, Época 2:\n",
      "Erro Treino: 0.7848, Acurácia Treino: 0.6981\n",
      "Erro Validação: 0.6417, Acurácia Validação: 0.7369\n",
      "\n",
      "Fold 3, Época 3/20\n"
     ]
    },
    {
     "name": "stderr",
     "output_type": "stream",
     "text": [
      "Treinando: 100%|██████████| 718/718 [01:16<00:00,  9.36it/s]\n",
      "Validando: 100%|██████████| 180/180 [00:11<00:00, 15.65it/s]\n"
     ]
    },
    {
     "name": "stdout",
     "output_type": "stream",
     "text": [
      "\n",
      "Fold 3, Época 3:\n",
      "Erro Treino: 0.7862, Acurácia Treino: 0.6981\n",
      "Erro Validação: 0.6523, Acurácia Validação: 0.7337\n",
      "\n",
      "Fold 3, Época 4/20\n"
     ]
    },
    {
     "name": "stderr",
     "output_type": "stream",
     "text": [
      "Treinando: 100%|██████████| 718/718 [01:16<00:00,  9.37it/s]\n",
      "Validando: 100%|██████████| 180/180 [00:11<00:00, 15.59it/s]\n"
     ]
    },
    {
     "name": "stdout",
     "output_type": "stream",
     "text": [
      "\n",
      "Fold 3, Época 4:\n",
      "Erro Treino: 0.7726, Acurácia Treino: 0.7032\n",
      "Erro Validação: 0.6547, Acurácia Validação: 0.7295\n",
      "\n",
      "Fold 3, Época 5/20\n"
     ]
    },
    {
     "name": "stderr",
     "output_type": "stream",
     "text": [
      "Treinando: 100%|██████████| 718/718 [01:20<00:00,  8.92it/s]\n",
      "Validando: 100%|██████████| 180/180 [00:12<00:00, 14.87it/s]\n"
     ]
    },
    {
     "name": "stdout",
     "output_type": "stream",
     "text": [
      "\n",
      "Fold 3, Época 5:\n",
      "Erro Treino: 0.7849, Acurácia Treino: 0.6970\n",
      "Erro Validação: 0.6595, Acurácia Validação: 0.7419\n",
      "\n",
      "Fold 3, Época 6/20\n"
     ]
    },
    {
     "name": "stderr",
     "output_type": "stream",
     "text": [
      "Treinando: 100%|██████████| 718/718 [01:26<00:00,  8.29it/s]\n",
      "Validando: 100%|██████████| 180/180 [00:12<00:00, 14.20it/s]\n"
     ]
    },
    {
     "name": "stdout",
     "output_type": "stream",
     "text": [
      "\n",
      "Fold 3, Época 6:\n",
      "Erro Treino: 0.7901, Acurácia Treino: 0.6987\n",
      "Erro Validação: 0.6433, Acurácia Validação: 0.7369\n",
      "\n",
      "Fold 3, Época 7/20\n"
     ]
    },
    {
     "name": "stderr",
     "output_type": "stream",
     "text": [
      "Treinando: 100%|██████████| 718/718 [01:26<00:00,  8.35it/s]\n",
      "Validando: 100%|██████████| 180/180 [00:13<00:00, 13.39it/s]\n"
     ]
    },
    {
     "name": "stdout",
     "output_type": "stream",
     "text": [
      "\n",
      "Fold 3, Época 7:\n",
      "Erro Treino: 0.7851, Acurácia Treino: 0.7008\n",
      "Erro Validação: 0.6455, Acurácia Validação: 0.7452\n",
      "\n",
      "Fold 3, Época 8/20\n"
     ]
    },
    {
     "name": "stderr",
     "output_type": "stream",
     "text": [
      "Treinando: 100%|██████████| 718/718 [01:25<00:00,  8.45it/s]\n",
      "Validando: 100%|██████████| 180/180 [00:12<00:00, 14.14it/s]\n"
     ]
    },
    {
     "name": "stdout",
     "output_type": "stream",
     "text": [
      "\n",
      "Fold 3, Época 8:\n",
      "Erro Treino: 0.7807, Acurácia Treino: 0.7004\n",
      "Erro Validação: 0.6475, Acurácia Validação: 0.7433\n",
      "\n",
      "Fold 3, Época 9/20\n"
     ]
    },
    {
     "name": "stderr",
     "output_type": "stream",
     "text": [
      "Treinando: 100%|██████████| 718/718 [01:20<00:00,  8.93it/s]\n",
      "Validando: 100%|██████████| 180/180 [00:12<00:00, 14.34it/s]\n"
     ]
    },
    {
     "name": "stdout",
     "output_type": "stream",
     "text": [
      "\n",
      "Fold 3, Época 9:\n",
      "Erro Treino: 0.7726, Acurácia Treino: 0.7044\n",
      "Erro Validação: 0.6466, Acurácia Validação: 0.7358\n",
      "\n",
      "Fold 3, Época 10/20\n"
     ]
    },
    {
     "name": "stderr",
     "output_type": "stream",
     "text": [
      "Treinando: 100%|██████████| 718/718 [01:22<00:00,  8.70it/s]\n",
      "Validando: 100%|██████████| 180/180 [00:12<00:00, 14.69it/s]\n"
     ]
    },
    {
     "name": "stdout",
     "output_type": "stream",
     "text": [
      "\n",
      "Fold 3, Época 10:\n",
      "Erro Treino: 0.7711, Acurácia Treino: 0.6994\n",
      "Erro Validação: 0.6458, Acurácia Validação: 0.7379\n",
      "\n",
      "Fold 3, Época 11/20\n"
     ]
    },
    {
     "name": "stderr",
     "output_type": "stream",
     "text": [
      "Treinando: 100%|██████████| 718/718 [01:21<00:00,  8.78it/s]\n",
      "Validando: 100%|██████████| 180/180 [00:13<00:00, 13.68it/s]\n"
     ]
    },
    {
     "name": "stdout",
     "output_type": "stream",
     "text": [
      "\n",
      "Fold 3, Época 11:\n",
      "Erro Treino: 0.7759, Acurácia Treino: 0.6984\n",
      "Erro Validação: 0.6483, Acurácia Validação: 0.7424\n",
      "\n",
      "Fold 3, Época 12/20\n"
     ]
    },
    {
     "name": "stderr",
     "output_type": "stream",
     "text": [
      "Treinando: 100%|██████████| 718/718 [01:21<00:00,  8.86it/s]\n",
      "Validando: 100%|██████████| 180/180 [00:12<00:00, 14.87it/s]\n"
     ]
    },
    {
     "name": "stdout",
     "output_type": "stream",
     "text": [
      "\n",
      "Fold 3, Época 12:\n",
      "Erro Treino: 0.7771, Acurácia Treino: 0.7017\n",
      "Erro Validação: 0.6516, Acurácia Validação: 0.7414\n",
      "\n",
      "Fold 3, Época 13/20\n"
     ]
    },
    {
     "name": "stderr",
     "output_type": "stream",
     "text": [
      "Treinando: 100%|██████████| 718/718 [01:19<00:00,  9.03it/s]\n",
      "Validando: 100%|██████████| 180/180 [00:12<00:00, 13.93it/s]\n"
     ]
    },
    {
     "name": "stdout",
     "output_type": "stream",
     "text": [
      "\n",
      "Fold 3, Época 13:\n",
      "Erro Treino: 0.7856, Acurácia Treino: 0.7030\n",
      "Erro Validação: 0.6570, Acurácia Validação: 0.7402\n",
      "\n",
      "Fold 3, Época 14/20\n"
     ]
    },
    {
     "name": "stderr",
     "output_type": "stream",
     "text": [
      "Treinando: 100%|██████████| 718/718 [01:17<00:00,  9.28it/s]\n",
      "Validando: 100%|██████████| 180/180 [00:11<00:00, 15.39it/s]\n"
     ]
    },
    {
     "name": "stdout",
     "output_type": "stream",
     "text": [
      "\n",
      "Fold 3, Época 14:\n",
      "Erro Treino: 0.7855, Acurácia Treino: 0.7000\n",
      "Erro Validação: 0.6575, Acurácia Validação: 0.7316\n",
      "\n",
      "Fold 3, Época 15/20\n"
     ]
    },
    {
     "name": "stderr",
     "output_type": "stream",
     "text": [
      "Treinando: 100%|██████████| 718/718 [01:21<00:00,  8.85it/s]\n",
      "Validando: 100%|██████████| 180/180 [00:12<00:00, 14.21it/s]\n"
     ]
    },
    {
     "name": "stdout",
     "output_type": "stream",
     "text": [
      "\n",
      "Fold 3, Época 15:\n",
      "Erro Treino: 0.7839, Acurácia Treino: 0.7030\n",
      "Erro Validação: 0.6418, Acurácia Validação: 0.7407\n",
      "\n",
      "Fold 3, Época 16/20\n"
     ]
    },
    {
     "name": "stderr",
     "output_type": "stream",
     "text": [
      "Treinando: 100%|██████████| 718/718 [01:20<00:00,  8.90it/s]\n",
      "Validando: 100%|██████████| 180/180 [00:11<00:00, 15.03it/s]\n"
     ]
    },
    {
     "name": "stdout",
     "output_type": "stream",
     "text": [
      "\n",
      "Fold 3, Época 16:\n",
      "Erro Treino: 0.7852, Acurácia Treino: 0.6993\n",
      "Erro Validação: 0.6445, Acurácia Validação: 0.7416\n",
      "\n",
      "Fold 3, Época 17/20\n"
     ]
    },
    {
     "name": "stderr",
     "output_type": "stream",
     "text": [
      "Treinando: 100%|██████████| 718/718 [01:20<00:00,  8.95it/s]\n",
      "Validando: 100%|██████████| 180/180 [00:12<00:00, 14.50it/s]\n"
     ]
    },
    {
     "name": "stdout",
     "output_type": "stream",
     "text": [
      "\n",
      "Fold 3, Época 17:\n",
      "Erro Treino: 0.7885, Acurácia Treino: 0.6983\n",
      "Erro Validação: 0.6331, Acurácia Validação: 0.7480\n",
      "\n",
      "Fold 3, Época 18/20\n"
     ]
    },
    {
     "name": "stderr",
     "output_type": "stream",
     "text": [
      "Treinando: 100%|██████████| 718/718 [01:19<00:00,  8.99it/s]\n",
      "Validando: 100%|██████████| 180/180 [00:12<00:00, 14.45it/s]\n"
     ]
    },
    {
     "name": "stdout",
     "output_type": "stream",
     "text": [
      "\n",
      "Fold 3, Época 18:\n",
      "Erro Treino: 0.7841, Acurácia Treino: 0.6982\n",
      "Erro Validação: 0.6645, Acurácia Validação: 0.7339\n",
      "\n",
      "Fold 3, Época 19/20\n"
     ]
    },
    {
     "name": "stderr",
     "output_type": "stream",
     "text": [
      "Treinando: 100%|██████████| 718/718 [01:21<00:00,  8.81it/s]\n",
      "Validando: 100%|██████████| 180/180 [00:12<00:00, 14.19it/s]\n"
     ]
    },
    {
     "name": "stdout",
     "output_type": "stream",
     "text": [
      "\n",
      "Fold 3, Época 19:\n",
      "Erro Treino: 0.7856, Acurácia Treino: 0.7031\n",
      "Erro Validação: 0.6293, Acurácia Validação: 0.7409\n",
      "\n",
      "Fold 3, Época 20/20\n"
     ]
    },
    {
     "name": "stderr",
     "output_type": "stream",
     "text": [
      "Treinando: 100%|██████████| 718/718 [01:21<00:00,  8.82it/s]\n",
      "Validando: 100%|██████████| 180/180 [00:12<00:00, 14.34it/s]\n"
     ]
    },
    {
     "name": "stdout",
     "output_type": "stream",
     "text": [
      "\n",
      "Fold 3, Época 20:\n",
      "Erro Treino: 0.7840, Acurácia Treino: 0.7024\n",
      "Erro Validação: 0.6609, Acurácia Validação: 0.7353\n",
      "\n",
      "Iniciando Fold 4/5\n",
      "\n",
      "Fold 4, Época 1/20\n"
     ]
    },
    {
     "name": "stderr",
     "output_type": "stream",
     "text": [
      "Treinando: 100%|██████████| 718/718 [01:20<00:00,  8.90it/s]\n",
      "Validando: 100%|██████████| 180/180 [00:12<00:00, 14.78it/s]\n"
     ]
    },
    {
     "name": "stdout",
     "output_type": "stream",
     "text": [
      "\n",
      "Fold 4, Época 1:\n",
      "Erro Treino: 0.7817, Acurácia Treino: 0.6951\n",
      "Erro Validação: 0.6564, Acurácia Validação: 0.7429\n",
      "\n",
      "Fold 4, Época 2/20\n"
     ]
    },
    {
     "name": "stderr",
     "output_type": "stream",
     "text": [
      "Treinando: 100%|██████████| 718/718 [01:21<00:00,  8.81it/s]\n",
      "Validando: 100%|██████████| 180/180 [00:12<00:00, 14.71it/s]\n"
     ]
    },
    {
     "name": "stdout",
     "output_type": "stream",
     "text": [
      "\n",
      "Fold 4, Época 2:\n",
      "Erro Treino: 0.7961, Acurácia Treino: 0.6944\n",
      "Erro Validação: 0.6537, Acurácia Validação: 0.7423\n",
      "\n",
      "Fold 4, Época 3/20\n"
     ]
    },
    {
     "name": "stderr",
     "output_type": "stream",
     "text": [
      "Treinando: 100%|██████████| 718/718 [01:13<00:00,  9.76it/s]\n",
      "Validando: 100%|██████████| 180/180 [00:10<00:00, 16.66it/s]\n"
     ]
    },
    {
     "name": "stdout",
     "output_type": "stream",
     "text": [
      "\n",
      "Fold 4, Época 3:\n",
      "Erro Treino: 0.7801, Acurácia Treino: 0.7008\n",
      "Erro Validação: 0.6327, Acurácia Validação: 0.7517\n",
      "\n",
      "Fold 4, Época 4/20\n"
     ]
    },
    {
     "name": "stderr",
     "output_type": "stream",
     "text": [
      "Treinando: 100%|██████████| 718/718 [01:10<00:00, 10.19it/s]\n",
      "Validando: 100%|██████████| 180/180 [00:10<00:00, 16.59it/s]\n"
     ]
    },
    {
     "name": "stdout",
     "output_type": "stream",
     "text": [
      "\n",
      "Fold 4, Época 4:\n",
      "Erro Treino: 0.7850, Acurácia Treino: 0.7000\n",
      "Erro Validação: 0.6389, Acurácia Validação: 0.7525\n",
      "\n",
      "Fold 4, Época 5/20\n"
     ]
    },
    {
     "name": "stderr",
     "output_type": "stream",
     "text": [
      "Treinando: 100%|██████████| 718/718 [01:10<00:00, 10.20it/s]\n",
      "Validando: 100%|██████████| 180/180 [00:11<00:00, 16.14it/s]\n"
     ]
    },
    {
     "name": "stdout",
     "output_type": "stream",
     "text": [
      "\n",
      "Fold 4, Época 5:\n",
      "Erro Treino: 0.7867, Acurácia Treino: 0.6973\n",
      "Erro Validação: 0.6540, Acurácia Validação: 0.7497\n",
      "\n",
      "Fold 4, Época 6/20\n"
     ]
    },
    {
     "name": "stderr",
     "output_type": "stream",
     "text": [
      "Treinando: 100%|██████████| 718/718 [01:13<00:00,  9.76it/s]\n",
      "Validando: 100%|██████████| 180/180 [00:11<00:00, 15.68it/s]\n"
     ]
    },
    {
     "name": "stdout",
     "output_type": "stream",
     "text": [
      "\n",
      "Fold 4, Época 6:\n",
      "Erro Treino: 0.7822, Acurácia Treino: 0.6986\n",
      "Erro Validação: 0.6485, Acurácia Validação: 0.7475\n",
      "\n",
      "Fold 4, Época 7/20\n"
     ]
    },
    {
     "name": "stderr",
     "output_type": "stream",
     "text": [
      "Treinando: 100%|██████████| 718/718 [01:13<00:00,  9.83it/s]\n",
      "Validando: 100%|██████████| 180/180 [00:10<00:00, 17.81it/s]\n"
     ]
    },
    {
     "name": "stdout",
     "output_type": "stream",
     "text": [
      "\n",
      "Fold 4, Época 7:\n",
      "Erro Treino: 0.7763, Acurácia Treino: 0.6977\n",
      "Erro Validação: 0.6390, Acurácia Validação: 0.7456\n",
      "\n",
      "Fold 4, Época 8/20\n"
     ]
    },
    {
     "name": "stderr",
     "output_type": "stream",
     "text": [
      "Treinando: 100%|██████████| 718/718 [01:08<00:00, 10.53it/s]\n",
      "Validando: 100%|██████████| 180/180 [00:10<00:00, 17.15it/s]\n"
     ]
    },
    {
     "name": "stdout",
     "output_type": "stream",
     "text": [
      "\n",
      "Fold 4, Época 8:\n",
      "Erro Treino: 0.7862, Acurácia Treino: 0.6994\n",
      "Erro Validação: 0.6494, Acurácia Validação: 0.7398\n",
      "\n",
      "Fold 4, Época 9/20\n"
     ]
    },
    {
     "name": "stderr",
     "output_type": "stream",
     "text": [
      "Treinando: 100%|██████████| 718/718 [01:08<00:00, 10.43it/s]\n",
      "Validando: 100%|██████████| 180/180 [00:10<00:00, 17.22it/s]\n"
     ]
    },
    {
     "name": "stdout",
     "output_type": "stream",
     "text": [
      "\n",
      "Fold 4, Época 9:\n",
      "Erro Treino: 0.7818, Acurácia Treino: 0.6997\n",
      "Erro Validação: 0.6531, Acurácia Validação: 0.7428\n",
      "\n",
      "Fold 4, Época 10/20\n"
     ]
    },
    {
     "name": "stderr",
     "output_type": "stream",
     "text": [
      "Treinando: 100%|██████████| 718/718 [01:09<00:00, 10.30it/s]\n",
      "Validando: 100%|██████████| 180/180 [00:11<00:00, 16.22it/s]\n"
     ]
    },
    {
     "name": "stdout",
     "output_type": "stream",
     "text": [
      "\n",
      "Fold 4, Época 10:\n",
      "Erro Treino: 0.7762, Acurácia Treino: 0.7004\n",
      "Erro Validação: 0.6398, Acurácia Validação: 0.7529\n",
      "\n",
      "Fold 4, Época 11/20\n"
     ]
    },
    {
     "name": "stderr",
     "output_type": "stream",
     "text": [
      "Treinando: 100%|██████████| 718/718 [01:08<00:00, 10.52it/s]\n",
      "Validando: 100%|██████████| 180/180 [00:10<00:00, 17.57it/s]\n"
     ]
    },
    {
     "name": "stdout",
     "output_type": "stream",
     "text": [
      "\n",
      "Fold 4, Época 11:\n",
      "Erro Treino: 0.7789, Acurácia Treino: 0.6989\n",
      "Erro Validação: 0.6537, Acurácia Validação: 0.7410\n",
      "\n",
      "Fold 4, Época 12/20\n"
     ]
    },
    {
     "name": "stderr",
     "output_type": "stream",
     "text": [
      "Treinando: 100%|██████████| 718/718 [01:09<00:00, 10.40it/s]\n",
      "Validando: 100%|██████████| 180/180 [00:10<00:00, 17.07it/s]\n"
     ]
    },
    {
     "name": "stdout",
     "output_type": "stream",
     "text": [
      "\n",
      "Fold 4, Época 12:\n",
      "Erro Treino: 0.7787, Acurácia Treino: 0.6978\n",
      "Erro Validação: 0.6600, Acurácia Validação: 0.7400\n",
      "\n",
      "Fold 4, Época 13/20\n"
     ]
    },
    {
     "name": "stderr",
     "output_type": "stream",
     "text": [
      "Treinando: 100%|██████████| 718/718 [01:10<00:00, 10.25it/s]\n",
      "Validando: 100%|██████████| 180/180 [00:10<00:00, 16.96it/s]\n"
     ]
    },
    {
     "name": "stdout",
     "output_type": "stream",
     "text": [
      "\n",
      "Fold 4, Época 13:\n",
      "Erro Treino: 0.7759, Acurácia Treino: 0.6985\n",
      "Erro Validação: 0.6449, Acurácia Validação: 0.7470\n",
      "\n",
      "Fold 4, Época 14/20\n"
     ]
    },
    {
     "name": "stderr",
     "output_type": "stream",
     "text": [
      "Treinando: 100%|██████████| 718/718 [01:09<00:00, 10.29it/s]\n",
      "Validando: 100%|██████████| 180/180 [00:10<00:00, 17.13it/s]\n"
     ]
    },
    {
     "name": "stdout",
     "output_type": "stream",
     "text": [
      "\n",
      "Fold 4, Época 14:\n",
      "Erro Treino: 0.7807, Acurácia Treino: 0.7013\n",
      "Erro Validação: 0.6478, Acurácia Validação: 0.7487\n",
      "\n",
      "Fold 4, Época 15/20\n"
     ]
    },
    {
     "name": "stderr",
     "output_type": "stream",
     "text": [
      "Treinando: 100%|██████████| 718/718 [01:12<00:00,  9.90it/s]\n",
      "Validando: 100%|██████████| 180/180 [00:10<00:00, 17.61it/s]\n"
     ]
    },
    {
     "name": "stdout",
     "output_type": "stream",
     "text": [
      "\n",
      "Fold 4, Época 15:\n",
      "Erro Treino: 0.7751, Acurácia Treino: 0.7000\n",
      "Erro Validação: 0.6555, Acurácia Validação: 0.7473\n",
      "\n",
      "Fold 4, Época 16/20\n"
     ]
    },
    {
     "name": "stderr",
     "output_type": "stream",
     "text": [
      "Treinando: 100%|██████████| 718/718 [01:09<00:00, 10.31it/s]\n",
      "Validando: 100%|██████████| 180/180 [00:10<00:00, 17.27it/s]\n"
     ]
    },
    {
     "name": "stdout",
     "output_type": "stream",
     "text": [
      "\n",
      "Fold 4, Época 16:\n",
      "Erro Treino: 0.7771, Acurácia Treino: 0.6989\n",
      "Erro Validação: 0.6544, Acurácia Validação: 0.7499\n",
      "\n",
      "Fold 4, Época 17/20\n"
     ]
    },
    {
     "name": "stderr",
     "output_type": "stream",
     "text": [
      "Treinando: 100%|██████████| 718/718 [01:09<00:00, 10.28it/s]\n",
      "Validando: 100%|██████████| 180/180 [00:10<00:00, 16.73it/s]\n"
     ]
    },
    {
     "name": "stdout",
     "output_type": "stream",
     "text": [
      "\n",
      "Fold 4, Época 17:\n",
      "Erro Treino: 0.7804, Acurácia Treino: 0.6973\n",
      "Erro Validação: 0.6509, Acurácia Validação: 0.7475\n",
      "\n",
      "Fold 4, Época 18/20\n"
     ]
    },
    {
     "name": "stderr",
     "output_type": "stream",
     "text": [
      "Treinando: 100%|██████████| 718/718 [01:09<00:00, 10.36it/s]\n",
      "Validando: 100%|██████████| 180/180 [00:10<00:00, 17.17it/s]\n"
     ]
    },
    {
     "name": "stdout",
     "output_type": "stream",
     "text": [
      "\n",
      "Fold 4, Época 18:\n",
      "Erro Treino: 0.7811, Acurácia Treino: 0.7022\n",
      "Erro Validação: 0.6416, Acurácia Validação: 0.7402\n",
      "\n",
      "Fold 4, Época 19/20\n"
     ]
    },
    {
     "name": "stderr",
     "output_type": "stream",
     "text": [
      "Treinando: 100%|██████████| 718/718 [01:08<00:00, 10.45it/s]\n",
      "Validando: 100%|██████████| 180/180 [00:10<00:00, 16.89it/s]\n"
     ]
    },
    {
     "name": "stdout",
     "output_type": "stream",
     "text": [
      "\n",
      "Fold 4, Época 19:\n",
      "Erro Treino: 0.7816, Acurácia Treino: 0.7013\n",
      "Erro Validação: 0.6579, Acurácia Validação: 0.7438\n",
      "\n",
      "Fold 4, Época 20/20\n"
     ]
    },
    {
     "name": "stderr",
     "output_type": "stream",
     "text": [
      "Treinando: 100%|██████████| 718/718 [01:08<00:00, 10.49it/s]\n",
      "Validando: 100%|██████████| 180/180 [00:10<00:00, 16.92it/s]\n"
     ]
    },
    {
     "name": "stdout",
     "output_type": "stream",
     "text": [
      "\n",
      "Fold 4, Época 20:\n",
      "Erro Treino: 0.7800, Acurácia Treino: 0.7014\n",
      "Erro Validação: 0.6445, Acurácia Validação: 0.7490\n",
      "\n",
      "Iniciando Fold 5/5\n",
      "\n",
      "Fold 5, Época 1/20\n"
     ]
    },
    {
     "name": "stderr",
     "output_type": "stream",
     "text": [
      "Treinando: 100%|██████████| 718/718 [01:12<00:00,  9.90it/s]\n",
      "Validando: 100%|██████████| 180/180 [00:10<00:00, 16.97it/s]\n"
     ]
    },
    {
     "name": "stdout",
     "output_type": "stream",
     "text": [
      "\n",
      "Fold 5, Época 1:\n",
      "Erro Treino: 0.7799, Acurácia Treino: 0.6994\n",
      "Erro Validação: 0.6592, Acurácia Validação: 0.7450\n",
      "\n",
      "Fold 5, Época 2/20\n"
     ]
    },
    {
     "name": "stderr",
     "output_type": "stream",
     "text": [
      "Treinando: 100%|██████████| 718/718 [01:10<00:00, 10.25it/s]\n",
      "Validando: 100%|██████████| 180/180 [00:10<00:00, 16.94it/s]\n"
     ]
    },
    {
     "name": "stdout",
     "output_type": "stream",
     "text": [
      "\n",
      "Fold 5, Época 2:\n",
      "Erro Treino: 0.7734, Acurácia Treino: 0.7013\n",
      "Erro Validação: 0.6428, Acurácia Validação: 0.7420\n",
      "\n",
      "Fold 5, Época 3/20\n"
     ]
    },
    {
     "name": "stderr",
     "output_type": "stream",
     "text": [
      "Treinando: 100%|██████████| 718/718 [01:10<00:00, 10.18it/s]\n",
      "Validando: 100%|██████████| 180/180 [00:10<00:00, 17.02it/s]\n"
     ]
    },
    {
     "name": "stdout",
     "output_type": "stream",
     "text": [
      "\n",
      "Fold 5, Época 3:\n",
      "Erro Treino: 0.7882, Acurácia Treino: 0.6981\n",
      "Erro Validação: 0.6634, Acurácia Validação: 0.7349\n",
      "\n",
      "Fold 5, Época 4/20\n"
     ]
    },
    {
     "name": "stderr",
     "output_type": "stream",
     "text": [
      "Treinando: 100%|██████████| 718/718 [01:08<00:00, 10.46it/s]\n",
      "Validando: 100%|██████████| 180/180 [00:10<00:00, 17.36it/s]\n"
     ]
    },
    {
     "name": "stdout",
     "output_type": "stream",
     "text": [
      "\n",
      "Fold 5, Época 4:\n",
      "Erro Treino: 0.7775, Acurácia Treino: 0.7007\n",
      "Erro Validação: 0.6520, Acurácia Validação: 0.7406\n",
      "\n",
      "Fold 5, Época 5/20\n"
     ]
    },
    {
     "name": "stderr",
     "output_type": "stream",
     "text": [
      "Treinando: 100%|██████████| 718/718 [01:08<00:00, 10.52it/s]\n",
      "Validando: 100%|██████████| 180/180 [00:10<00:00, 16.54it/s]\n"
     ]
    },
    {
     "name": "stdout",
     "output_type": "stream",
     "text": [
      "\n",
      "Fold 5, Época 5:\n",
      "Erro Treino: 0.7804, Acurácia Treino: 0.6993\n",
      "Erro Validação: 0.6494, Acurácia Validação: 0.7466\n",
      "\n",
      "Fold 5, Época 6/20\n"
     ]
    },
    {
     "name": "stderr",
     "output_type": "stream",
     "text": [
      "Treinando: 100%|██████████| 718/718 [01:09<00:00, 10.32it/s]\n",
      "Validando: 100%|██████████| 180/180 [00:10<00:00, 17.14it/s]\n"
     ]
    },
    {
     "name": "stdout",
     "output_type": "stream",
     "text": [
      "\n",
      "Fold 5, Época 6:\n",
      "Erro Treino: 0.7670, Acurácia Treino: 0.7004\n",
      "Erro Validação: 0.6401, Acurácia Validação: 0.7492\n",
      "\n",
      "Fold 5, Época 7/20\n"
     ]
    },
    {
     "name": "stderr",
     "output_type": "stream",
     "text": [
      "Treinando: 100%|██████████| 718/718 [01:11<00:00, 10.03it/s]\n",
      "Validando: 100%|██████████| 180/180 [00:10<00:00, 16.98it/s]\n"
     ]
    },
    {
     "name": "stdout",
     "output_type": "stream",
     "text": [
      "\n",
      "Fold 5, Época 7:\n",
      "Erro Treino: 0.7779, Acurácia Treino: 0.7023\n",
      "Erro Validação: 0.6569, Acurácia Validação: 0.7410\n",
      "\n",
      "Fold 5, Época 8/20\n"
     ]
    },
    {
     "name": "stderr",
     "output_type": "stream",
     "text": [
      "Treinando: 100%|██████████| 718/718 [01:08<00:00, 10.51it/s]\n",
      "Validando: 100%|██████████| 180/180 [00:10<00:00, 17.46it/s]\n"
     ]
    },
    {
     "name": "stdout",
     "output_type": "stream",
     "text": [
      "\n",
      "Fold 5, Época 8:\n",
      "Erro Treino: 0.7774, Acurácia Treino: 0.7027\n",
      "Erro Validação: 0.6465, Acurácia Validação: 0.7511\n",
      "\n",
      "Fold 5, Época 9/20\n"
     ]
    },
    {
     "name": "stderr",
     "output_type": "stream",
     "text": [
      "Treinando: 100%|██████████| 718/718 [01:09<00:00, 10.33it/s]\n",
      "Validando: 100%|██████████| 180/180 [00:10<00:00, 16.68it/s]\n"
     ]
    },
    {
     "name": "stdout",
     "output_type": "stream",
     "text": [
      "\n",
      "Fold 5, Época 9:\n",
      "Erro Treino: 0.7772, Acurácia Treino: 0.7015\n",
      "Erro Validação: 0.6545, Acurácia Validação: 0.7377\n",
      "\n",
      "Fold 5, Época 10/20\n"
     ]
    },
    {
     "name": "stderr",
     "output_type": "stream",
     "text": [
      "Treinando: 100%|██████████| 718/718 [01:07<00:00, 10.58it/s]\n",
      "Validando: 100%|██████████| 180/180 [00:10<00:00, 17.47it/s]\n"
     ]
    },
    {
     "name": "stdout",
     "output_type": "stream",
     "text": [
      "\n",
      "Fold 5, Época 10:\n",
      "Erro Treino: 0.7852, Acurácia Treino: 0.7004\n",
      "Erro Validação: 0.6538, Acurácia Validação: 0.7345\n",
      "\n",
      "Fold 5, Época 11/20\n"
     ]
    },
    {
     "name": "stderr",
     "output_type": "stream",
     "text": [
      "Treinando: 100%|██████████| 718/718 [01:07<00:00, 10.62it/s]\n",
      "Validando: 100%|██████████| 180/180 [00:10<00:00, 17.45it/s]\n"
     ]
    },
    {
     "name": "stdout",
     "output_type": "stream",
     "text": [
      "\n",
      "Fold 5, Época 11:\n",
      "Erro Treino: 0.7774, Acurácia Treino: 0.7026\n",
      "Erro Validação: 0.6503, Acurácia Validação: 0.7429\n",
      "\n",
      "Fold 5, Época 12/20\n"
     ]
    },
    {
     "name": "stderr",
     "output_type": "stream",
     "text": [
      "Treinando: 100%|██████████| 718/718 [01:07<00:00, 10.62it/s]\n",
      "Validando: 100%|██████████| 180/180 [00:10<00:00, 17.38it/s]\n"
     ]
    },
    {
     "name": "stdout",
     "output_type": "stream",
     "text": [
      "\n",
      "Fold 5, Época 12:\n",
      "Erro Treino: 0.7764, Acurácia Treino: 0.6968\n",
      "Erro Validação: 0.6593, Acurácia Validação: 0.7427\n",
      "\n",
      "Fold 5, Época 13/20\n"
     ]
    },
    {
     "name": "stderr",
     "output_type": "stream",
     "text": [
      "Treinando: 100%|██████████| 718/718 [01:09<00:00, 10.36it/s]\n",
      "Validando: 100%|██████████| 180/180 [00:10<00:00, 17.07it/s]\n"
     ]
    },
    {
     "name": "stdout",
     "output_type": "stream",
     "text": [
      "\n",
      "Fold 5, Época 13:\n",
      "Erro Treino: 0.7758, Acurácia Treino: 0.7007\n",
      "Erro Validação: 0.6557, Acurácia Validação: 0.7368\n",
      "\n",
      "Fold 5, Época 14/20\n"
     ]
    },
    {
     "name": "stderr",
     "output_type": "stream",
     "text": [
      "Treinando: 100%|██████████| 718/718 [01:13<00:00,  9.81it/s]\n",
      "Validando: 100%|██████████| 180/180 [00:11<00:00, 15.74it/s]\n"
     ]
    },
    {
     "name": "stdout",
     "output_type": "stream",
     "text": [
      "\n",
      "Fold 5, Época 14:\n",
      "Erro Treino: 0.7662, Acurácia Treino: 0.7022\n",
      "Erro Validação: 0.6546, Acurácia Validação: 0.7452\n",
      "\n",
      "Fold 5, Época 15/20\n"
     ]
    },
    {
     "name": "stderr",
     "output_type": "stream",
     "text": [
      "Treinando: 100%|██████████| 718/718 [01:12<00:00,  9.89it/s]\n",
      "Validando: 100%|██████████| 180/180 [00:10<00:00, 16.58it/s]\n"
     ]
    },
    {
     "name": "stdout",
     "output_type": "stream",
     "text": [
      "\n",
      "Fold 5, Época 15:\n",
      "Erro Treino: 0.7713, Acurácia Treino: 0.7031\n",
      "Erro Validação: 0.6506, Acurácia Validação: 0.7389\n",
      "\n",
      "Fold 5, Época 16/20\n"
     ]
    },
    {
     "name": "stderr",
     "output_type": "stream",
     "text": [
      "Treinando: 100%|██████████| 718/718 [01:10<00:00, 10.16it/s]\n",
      "Validando: 100%|██████████| 180/180 [00:10<00:00, 17.05it/s]\n"
     ]
    },
    {
     "name": "stdout",
     "output_type": "stream",
     "text": [
      "\n",
      "Fold 5, Época 16:\n",
      "Erro Treino: 0.7740, Acurácia Treino: 0.7012\n",
      "Erro Validação: 0.6485, Acurácia Validação: 0.7429\n",
      "\n",
      "Fold 5, Época 17/20\n"
     ]
    },
    {
     "name": "stderr",
     "output_type": "stream",
     "text": [
      "Treinando: 100%|██████████| 718/718 [01:10<00:00, 10.20it/s]\n",
      "Validando: 100%|██████████| 180/180 [00:10<00:00, 17.07it/s]\n"
     ]
    },
    {
     "name": "stdout",
     "output_type": "stream",
     "text": [
      "\n",
      "Fold 5, Época 17:\n",
      "Erro Treino: 0.7789, Acurácia Treino: 0.7005\n",
      "Erro Validação: 0.6469, Acurácia Validação: 0.7419\n",
      "\n",
      "Fold 5, Época 18/20\n"
     ]
    },
    {
     "name": "stderr",
     "output_type": "stream",
     "text": [
      "Treinando: 100%|██████████| 718/718 [01:09<00:00, 10.31it/s]\n",
      "Validando: 100%|██████████| 180/180 [00:10<00:00, 16.59it/s]\n"
     ]
    },
    {
     "name": "stdout",
     "output_type": "stream",
     "text": [
      "\n",
      "Fold 5, Época 18:\n",
      "Erro Treino: 0.7829, Acurácia Treino: 0.6995\n",
      "Erro Validação: 0.6543, Acurácia Validação: 0.7372\n",
      "\n",
      "Fold 5, Época 19/20\n"
     ]
    },
    {
     "name": "stderr",
     "output_type": "stream",
     "text": [
      "Treinando: 100%|██████████| 718/718 [01:10<00:00, 10.23it/s]\n",
      "Validando: 100%|██████████| 180/180 [00:10<00:00, 16.49it/s]\n"
     ]
    },
    {
     "name": "stdout",
     "output_type": "stream",
     "text": [
      "\n",
      "Fold 5, Época 19:\n",
      "Erro Treino: 0.7827, Acurácia Treino: 0.7006\n",
      "Erro Validação: 0.6452, Acurácia Validação: 0.7478\n",
      "\n",
      "Fold 5, Época 20/20\n"
     ]
    },
    {
     "name": "stderr",
     "output_type": "stream",
     "text": [
      "Treinando: 100%|██████████| 718/718 [01:12<00:00,  9.90it/s]\n",
      "Validando: 100%|██████████| 180/180 [00:10<00:00, 16.74it/s]"
     ]
    },
    {
     "name": "stdout",
     "output_type": "stream",
     "text": [
      "\n",
      "Fold 5, Época 20:\n",
      "Erro Treino: 0.7761, Acurácia Treino: 0.6997\n",
      "Erro Validação: 0.6624, Acurácia Validação: 0.7507\n",
      "\n",
      "Acurácia Média Validação (Cross-Validation): 0.6913\n"
     ]
    },
    {
     "name": "stderr",
     "output_type": "stream",
     "text": [
      "\n"
     ]
    }
   ],
   "source": [
    "import numpy as np\n",
    "import PIL.Image\n",
    "\n",
    "import torch, torchvision\n",
    "from torchvision import datasets, models, transforms\n",
    "from torch.utils.data import DataLoader\n",
    "import torch.optim as optim\n",
    "import time\n",
    "import torch\n",
    "import torch.nn as nn\n",
    "import torch.optim as optim\n",
    "from torch.optim.lr_scheduler import ReduceLROnPlateau\n",
    "from matplotlib import pyplot as plt\n",
    "from sklearn.utils.class_weight import compute_class_weight\n",
    "from sklearn.model_selection import KFold\n",
    "\n",
    "import os\n",
    "\n",
    "device = torch.device(\"cuda:0\" if torch.cuda.is_available() else \"cpu\")\n",
    "\n",
    "# Imprime se vai ser CPU ou alguma GPU\n",
    "print(f'{device}\\n')\n",
    "image_size = 48\n",
    "numero_de_epocas = 20\n",
    "bs = 32\n",
    "dataset = r'./data/Fer-2013/'\n",
    "pasta_treino = os.path.join(dataset, 'treino')\n",
    "pasta_validacao = os.path.join(dataset, 'validacao')\n",
    "pasta_teste = os.path.join(dataset, 'teste')\n",
    "numero_de_classes = len(os.listdir(pasta_validacao))\n",
    "\n",
    "from tqdm import tqdm\n",
    "\n",
    "definicoes_de_transformacoes = {\n",
    "    'treino': transforms.Compose([\n",
    "        transforms.RandomHorizontalFlip(p=0.5),\n",
    "        transforms.RandomVerticalFlip(p=0.2),\n",
    "        transforms.RandomRotation(degrees=30),\n",
    "        transforms.ColorJitter(brightness=0.2, contrast=0.2, saturation=0.2, hue=0.1),\n",
    "        transforms.Grayscale(num_output_channels=3),\n",
    "        transforms.ToTensor(),\n",
    "        transforms.Normalize(mean=[0.485, 0.456, 0.406], std=[0.229, 0.224, 0.225])\n",
    "    ]),\n",
    "\n",
    "    'validacao': transforms.Compose([\n",
    "        transforms.Grayscale(num_output_channels=3),\n",
    "        transforms.ToTensor(),\n",
    "        transforms.Normalize(mean=[0.485, 0.456, 0.406], std=[0.229, 0.224, 0.225])\n",
    "    ])\n",
    "}\n",
    "\n",
    "transformacoes_de_imagens = definicoes_de_transformacoes\n",
    "\n",
    "\n",
    "data = {\n",
    "    'treino': datasets.ImageFolder(root=pasta_treino, transform=transformacoes_de_imagens['treino']),\n",
    "    'validacao': datasets.ImageFolder(root=pasta_validacao, transform=transformacoes_de_imagens['validacao'])\n",
    "}\n",
    "\n",
    "indice_para_classe = {v: k for k, v in data['treino'].class_to_idx.items()}\n",
    "print(indice_para_classe)\n",
    "\n",
    "num_imagens_treino = len(data['treino'])\n",
    "num_imagens_validacao = len(data['validacao'])\n",
    "\n",
    "train_labels = [label for _, label in data['treino'].imgs]\n",
    "class_weights = compute_class_weight('balanced', classes=np.arange(numero_de_classes), y=train_labels)\n",
    "weights = torch.tensor(class_weights, dtype=torch.float).to(device)\n",
    "\n",
    "data_loader_treino = DataLoader(data['treino'], batch_size=bs, shuffle=True)\n",
    "data_loader_validacao = DataLoader(data['validacao'], batch_size=bs, shuffle=True)\n",
    "\n",
    "resnet50 = models.resnet50(pretrained=True)\n",
    "\n",
    "for param in list(resnet50.parameters())[:-10]:\n",
    "    param.requires_grad = True\n",
    "\n",
    "num_features = resnet50.fc.in_features\n",
    "resnet50.fc = nn.Sequential(\n",
    "    nn.Linear(num_features, 1024),\n",
    "    nn.ReLU(),\n",
    "    nn.Dropout(0.4),\n",
    "    nn.Linear(1024, 512),\n",
    "    nn.ReLU(),\n",
    "    nn.Dropout(0.4),\n",
    "    nn.Linear(512, numero_de_classes),\n",
    "    nn.LogSoftmax(dim=1)\n",
    ")\n",
    "\n",
    "funcao_erro = nn.CrossEntropyLoss(weight=weights)\n",
    "otimizador = optim.AdamW(resnet50.parameters(), lr=0.0001)\n",
    "scheduler = ReduceLROnPlateau(otimizador, mode='min', factor=0.1, patience=3)\n",
    "\n",
    "\n",
    "def treinar_e_validar_cross_validation(modelo, metrica_erro, otimizador_sgd, scheduler, epocas=25, folds=5):\n",
    "    kf = KFold(n_splits=folds, shuffle=True, random_state=42)\n",
    "    fold_results = []\n",
    "\n",
    "    for fold, (train_idx, val_idx) in enumerate(kf.split(data['treino'])):\n",
    "        print(f\"\\nIniciando Fold {fold + 1}/{folds}\")\n",
    "\n",
    "        train_sampler = torch.utils.data.SubsetRandomSampler(train_idx)\n",
    "        val_sampler = torch.utils.data.SubsetRandomSampler(val_idx)\n",
    "        \n",
    "        data_loader_train_fold = DataLoader(data['treino'], batch_size=bs, sampler=train_sampler)\n",
    "        data_loader_val_fold = DataLoader(data['treino'], batch_size=bs, sampler=val_sampler)\n",
    "\n",
    "        melhor_acuracia = 0.0\n",
    "        melhor_modelo = None\n",
    "\n",
    "        for epoca in range(epocas):\n",
    "            inicio_epoca = time.time()\n",
    "            print(f\"\\nFold {fold + 1}, Época {epoca + 1}/{epocas}\")\n",
    "\n",
    "            # Treinamento\n",
    "            modelo.train()\n",
    "            erro_treino = 0.0\n",
    "            acuracia_treino = 0.0\n",
    "            total_treino = 0\n",
    "\n",
    "            for entradas, labels in tqdm(data_loader_train_fold, desc=\"Treinando\"):\n",
    "                entradas = entradas.to(device)\n",
    "                labels = labels.to(device)\n",
    "\n",
    "                otimizador_sgd.zero_grad()\n",
    "                saidas = modelo(entradas)\n",
    "                erro = metrica_erro(saidas, labels)\n",
    "                erro.backward()\n",
    "                otimizador_sgd.step()\n",
    "\n",
    "                erro_treino += erro.item() * entradas.size(0)\n",
    "\n",
    "                _, preds = torch.max(saidas, 1)\n",
    "                acuracia_treino += torch.sum(preds == labels).item()\n",
    "                total_treino += labels.size(0)\n",
    "\n",
    "            erro_medio_treino = erro_treino / len(train_idx)\n",
    "            acuracia_treino = acuracia_treino / total_treino\n",
    "\n",
    "            # Validação\n",
    "            modelo.eval()\n",
    "            erro_validacao = 0.0\n",
    "            acuracia_validacao = 0.0\n",
    "            total_validacao = 0\n",
    "\n",
    "            with torch.no_grad():\n",
    "                for entradas, labels in tqdm(data_loader_val_fold, desc=\"Validando\"):\n",
    "                    entradas = entradas.to(device)\n",
    "                    labels = labels.to(device)\n",
    "                    saidas = modelo(entradas)\n",
    "                    erro = metrica_erro(saidas, labels)\n",
    "                    erro_validacao += erro.item() * entradas.size(0)\n",
    "\n",
    "                    _, preds = torch.max(saidas, 1)\n",
    "                    acuracia_validacao += torch.sum(preds == labels).item()\n",
    "                    total_validacao += labels.size(0)\n",
    "\n",
    "                erro_medio_validacao = erro_validacao / len(val_idx)\n",
    "                acuracia_validacao = acuracia_validacao / total_validacao\n",
    "\n",
    "            print(f\"\\nFold {fold + 1}, Época {epoca + 1}:\")\n",
    "            print(f\"Erro Treino: {erro_medio_treino:.4f}, Acurácia Treino: {acuracia_treino:.4f}\")\n",
    "            print(f\"Erro Validação: {erro_medio_validacao:.4f}, Acurácia Validação: {acuracia_validacao:.4f}\")\n",
    "\n",
    "            # Salvar o melhor modelo baseado na validação\n",
    "            if acuracia_validacao > melhor_acuracia:\n",
    "                melhor_acuracia = acuracia_validacao\n",
    "                melhor_modelo = modelo.state_dict()\n",
    "                torch.save(melhor_modelo, f'./melhores_modelos/melhor_modelo_fold_{fold + 1}.pt')\n",
    "\n",
    "            scheduler.step(erro_medio_validacao)\n",
    "\n",
    "        fold_results.append(acuracia_validacao)\n",
    "\n",
    "    print(f\"\\nAcurácia Média Validação (Cross-Validation): {np.mean(fold_results):.4f}\")\n",
    "\n",
    "device = torch.device(\"cuda:0\" if torch.cuda.is_available() else \"cpu\")\n",
    "\n",
    "print(f'{device}\\n')\n",
    "\n",
    "numero_de_epocas = 20\n",
    "\n",
    "resnet50 = resnet50.to(device)\n",
    "treinar_e_validar_cross_validation(resnet50, funcao_erro, otimizador, scheduler, numero_de_epocas, folds=5)\n"
   ]
  },
  {
   "cell_type": "code",
   "execution_count": null,
   "metadata": {},
   "outputs": [],
   "source": []
  }
 ],
 "metadata": {
  "kernelspec": {
   "display_name": "Python 3",
   "language": "python",
   "name": "python3"
  },
  "language_info": {
   "codemirror_mode": {
    "name": "ipython",
    "version": 3
   },
   "file_extension": ".py",
   "mimetype": "text/x-python",
   "name": "python",
   "nbconvert_exporter": "python",
   "pygments_lexer": "ipython3",
   "version": "3.10.0"
  }
 },
 "nbformat": 4,
 "nbformat_minor": 2
}
